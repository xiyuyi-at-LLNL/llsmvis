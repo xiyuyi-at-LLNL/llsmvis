{
 "cells": [
  {
   "cell_type": "markdown",
   "id": "bfc1910e",
   "metadata": {},
   "source": [
    "# Download and inspect the anlaysis result\n",
    "\n",
    "In this notebook, we will download the datasets with only the visualization elements (the \"lean\" datasets without the *.tif movie files), and *.html files ( web page files) for you to browse the results efficiently. The files will be downloaded from the figshare data repository and unzipped to restore the original hierarchy of the files. This is to ensure that the visualization elements are loaded into the *.html files correctly. You can double click a *.html file and it will be opened in a web browser.\n",
    "\n",
    "We will create a folder called \"data-inspection\" at the home directory to store the visualiztion elemments and the html files. You can also specify the output path as shwon below under step 2."
   ]
  },
  {
   "cell_type": "markdown",
   "id": "2d0825fe",
   "metadata": {},
   "source": [
    "### Step 1, import and define some tools to be used"
   ]
  },
  {
   "cell_type": "code",
   "execution_count": 1,
   "id": "18f00a7c",
   "metadata": {},
   "outputs": [
    {
     "name": "stderr",
     "output_type": "stream",
     "text": [
      "/Users/yi10/anaconda3/envs/llsmvis/lib/python3.7/site-packages/requests/__init__.py:91: RequestsDependencyWarning: urllib3 (1.26.9) or chardet (3.0.4) doesn't match a supported version!\n",
      "  RequestsDependencyWarning)\n"
     ]
    }
   ],
   "source": [
    "# define tools\n",
    "from tqdm import tqdm\n",
    "import requests\n",
    "import zipfile\n",
    "import os\n",
    "import shutil\n",
    "import numpy as np\n",
    "import datetime\n",
    "\n",
    "def download_data(url, output):\n",
    "    # Streaming, so we can iterate over the response.\n",
    "    response = requests.get(url, stream=True)\n",
    "    total_size_in_bytes= int(response.headers.get('content-length', 0))\n",
    "    block_size = 1024 #1 Kibibyte\n",
    "    progress_bar = tqdm(total=total_size_in_bytes, unit='iB', unit_scale=True)\n",
    "    with open(output, 'wb') as file:\n",
    "        for data in response.iter_content(block_size):\n",
    "            progress_bar.update(len(data))\n",
    "            file.write(data)\n",
    "    progress_bar.close()\n",
    "    if total_size_in_bytes != 0 and progress_bar.n != total_size_in_bytes:\n",
    "        print(\"ERROR, the file size do not match, downloaded file may be damaged.\")\n",
    "\n",
    "def unzip_file(unzippath, target):\n",
    "    try:\n",
    "        os.mkdir(target)\n",
    "    except:\n",
    "        pass\n",
    "    with zipfile.ZipFile(target) as zf:\n",
    "        for member in tqdm(zf.infolist(), desc='Extracting '):\n",
    "            try:\n",
    "                 zf.extract(member, unzippath)\n",
    "            except zipfile.error as e:\n",
    "                 pass"
   ]
  },
  {
   "cell_type": "markdown",
   "id": "dc8115c8",
   "metadata": {},
   "source": [
    "### Step 2, define the urls of the datsets to be downloaded\n",
    "\n",
    "The following files from the figshare data repository ([link](https://figshare.com/articles/journal_contribution/Datasets_for_the_manuscript_titled_A_Tailored_Approach_to_Study_Legionella_Infection_Using_Lattice_Light_Sheet_Microscope_LLSM_/19694809)) will be downloaded and organized for local browsing. These files contain the visualization elemnts only.\n",
    "\n",
    "1. lean-2021-09-pack.zip\n",
    "2. lean-2021-10-pack1.zip\n",
    "3. lean-2021-10-pack2.zip\n",
    "4. lean-2021-10-pack3.zip\n",
    "5. lean-2021-11-pack1.zip\n",
    "6. lean-2021-11-pack2.zip\n",
    "7. htmls.zip\n"
   ]
  },
  {
   "cell_type": "code",
   "execution_count": 2,
   "id": "511ab4e5",
   "metadata": {},
   "outputs": [],
   "source": [
    "# define lists of items for each dataset\n",
    "zipnames=[]\n",
    "urls=[]\n",
    "download_paths=[]\n",
    "unzipped_paths=[]\n",
    "\n",
    "# define the output path you want (you can chagne it to a desired path)\n",
    "output_path=os.path.join(os.path.expanduser('~'),'data-inspection')\n",
    "\n",
    "# create the directories\n",
    "try:\n",
    "    os.mkdir(output_path)\n",
    "except:\n",
    "    pass\n",
    "\n",
    "try:\n",
    "    os.mkdir(os.path.join(output_path, 'hp3d'))\n",
    "except:\n",
    "    pass\n",
    "\n",
    "# Add the information of the files to be downloaded to the lists.\n",
    "# configure for lean-2021-09-pack.zip:\n",
    "zipnames.append('lean-2021-09-pack.zip')\n",
    "urls.append('https://figshare.com/ndownloader/files/34982371')\n",
    "download_paths.append(os.path.join(output_path, 'lean-2021-09-pack.zip'))\n",
    "unzipped_paths.append(os.path.join(output_path, 'lean-2021-09-pack'))\n",
    "\n",
    "# configure for lean-2021-10-pack1.zip           \n",
    "zipnames.append('lean-2021-10-pack1.zip')\n",
    "urls.append('https://figshare.com/ndownloader/files/34982374')\n",
    "download_paths.append(os.path.join(output_path, 'lean-2021-10-pack1.zip'))\n",
    "unzipped_paths.append(os.path.join(output_path, 'lean-2021-10-pack1'))\n",
    "\n",
    "# configure for lean-2021-10-pack2.zip\n",
    "zipnames.append('lean-2021-10-pack2.zip')\n",
    "urls.append('https://figshare.com/ndownloader/files/34982377')\n",
    "download_paths.append(os.path.join(output_path, 'lean-2021-10-pack2.zip'))\n",
    "unzipped_paths.append(os.path.join(output_path, 'lean-2021-10-pack2'))\n",
    "\n",
    "# configure for lean-2021-10-pack3.zip\n",
    "zipnames.append('lean-2021-10-pack3.zip')\n",
    "urls.append('https://figshare.com/ndownloader/files/34982380')\n",
    "download_paths.append(os.path.join(output_path, 'lean-2021-10-pack3.zip'))\n",
    "unzipped_paths.append(os.path.join(output_path, 'lean-2021-10-pack3'))\n",
    "\n",
    "# configure for lean-2021-11-pack1.zip             \n",
    "zipnames.append('lean-2021-11-pack1.zip')\n",
    "urls.append('https://figshare.com/ndownloader/files/34982395')\n",
    "download_paths.append(os.path.join(output_path, 'ean-2021-11-pack1.zip'))\n",
    "unzipped_paths.append(os.path.join(output_path, 'ean-2021-11-pack1'))\n",
    "\n",
    "# configure for lean-2021-11-pack2.zip             \n",
    "zipnames.append('lean-2021-11-pack2.zip')\n",
    "urls.append('https://figshare.com/ndownloader/files/34982428')\n",
    "download_paths.append(os.path.join(output_path, 'lean-2021-11-pack2.zip'))\n",
    "unzipped_paths.append(os.path.join(output_path, 'lean-2021-11-pack2'))\n",
    "\n",
    "# configure for htmls.zip             \n",
    "zipnames.append('htmls.zip')\n",
    "urls.append('https://figshare.com/ndownloader/files/35008384')\n",
    "download_paths.append(os.path.join(output_path, 'htmls.zip'))\n",
    "unzipped_paths.append(os.path.join(output_path, 'htmls'))\n",
    "\n",
    "\n",
    "\n"
   ]
  },
  {
   "cell_type": "markdown",
   "id": "7f4165c2",
   "metadata": {},
   "source": [
    "### Step 3, download the datasets, and organize them into a local folde named \"data_inspection\" for browsing."
   ]
  },
  {
   "cell_type": "code",
   "execution_count": 3,
   "id": "4590a174",
   "metadata": {},
   "outputs": [
    {
     "name": "stdout",
     "output_type": "stream",
     "text": [
      "Current time: \n",
      "2022-05-04 14:02:11.467911\n",
      "Start ...\n",
      "downloading lean-2021-09-pack.zip\n"
     ]
    },
    {
     "name": "stderr",
     "output_type": "stream",
     "text": [
      "100%|██████████| 2.37G/2.37G [11:06<00:00, 3.56MiB/s] \n"
     ]
    },
    {
     "name": "stdout",
     "output_type": "stream",
     "text": [
      "unzipping lean-2021-09-pack.zip\n"
     ]
    },
    {
     "name": "stderr",
     "output_type": "stream",
     "text": [
      "Extracting : 100%|██████████| 2901/2901 [00:46<00:00, 61.84it/s] \n"
     ]
    },
    {
     "name": "stdout",
     "output_type": "stream",
     "text": [
      "organizing result from lean-2021-09-pack.zip\n",
      "Finished at: \n",
      "2022-05-04 14:14:06.819986\n",
      "downloading lean-2021-10-pack1.zip\n"
     ]
    },
    {
     "name": "stderr",
     "output_type": "stream",
     "text": [
      "100%|██████████| 1.52G/1.52G [09:07<00:00, 2.77MiB/s] \n"
     ]
    },
    {
     "name": "stdout",
     "output_type": "stream",
     "text": [
      "unzipping lean-2021-10-pack1.zip\n"
     ]
    },
    {
     "name": "stderr",
     "output_type": "stream",
     "text": [
      "Extracting : 100%|██████████| 1801/1801 [00:28<00:00, 62.76it/s] \n"
     ]
    },
    {
     "name": "stdout",
     "output_type": "stream",
     "text": [
      "organizing result from lean-2021-10-pack1.zip\n",
      "Finished at: \n",
      "2022-05-04 14:23:45.084359\n",
      "downloading lean-2021-10-pack2.zip\n"
     ]
    },
    {
     "name": "stderr",
     "output_type": "stream",
     "text": [
      "100%|██████████| 1.49G/1.49G [07:42<00:00, 3.22MiB/s]  \n"
     ]
    },
    {
     "name": "stdout",
     "output_type": "stream",
     "text": [
      "unzipping lean-2021-10-pack2.zip\n"
     ]
    },
    {
     "name": "stderr",
     "output_type": "stream",
     "text": [
      "Extracting : 100%|██████████| 1851/1851 [00:29<00:00, 63.39it/s]\n"
     ]
    },
    {
     "name": "stdout",
     "output_type": "stream",
     "text": [
      "organizing result from lean-2021-10-pack2.zip\n",
      "Finished at: \n",
      "2022-05-04 14:31:58.649459\n",
      "downloading lean-2021-10-pack3.zip\n"
     ]
    },
    {
     "name": "stderr",
     "output_type": "stream",
     "text": [
      "100%|██████████| 408M/408M [01:41<00:00, 4.03MiB/s] \n"
     ]
    },
    {
     "name": "stdout",
     "output_type": "stream",
     "text": [
      "unzipping lean-2021-10-pack3.zip\n"
     ]
    },
    {
     "name": "stderr",
     "output_type": "stream",
     "text": [
      "Extracting : 100%|██████████| 551/551 [00:07<00:00, 69.35it/s] \n"
     ]
    },
    {
     "name": "stdout",
     "output_type": "stream",
     "text": [
      "organizing result from lean-2021-10-pack3.zip\n",
      "Finished at: \n",
      "2022-05-04 14:33:49.487139\n",
      "downloading lean-2021-11-pack1.zip\n"
     ]
    },
    {
     "name": "stderr",
     "output_type": "stream",
     "text": [
      "100%|██████████| 1.44G/1.44G [06:34<00:00, 3.64MiB/s]  \n"
     ]
    },
    {
     "name": "stdout",
     "output_type": "stream",
     "text": [
      "unzipping lean-2021-11-pack1.zip\n"
     ]
    },
    {
     "name": "stderr",
     "output_type": "stream",
     "text": [
      "Extracting : 100%|██████████| 1901/1901 [00:31<00:00, 61.03it/s] \n"
     ]
    },
    {
     "name": "stdout",
     "output_type": "stream",
     "text": [
      "organizing result from lean-2021-11-pack1.zip\n",
      "Finished at: \n",
      "2022-05-04 14:40:57.166572\n",
      "downloading lean-2021-11-pack2.zip\n"
     ]
    },
    {
     "name": "stderr",
     "output_type": "stream",
     "text": [
      "100%|██████████| 1.93G/1.93G [08:27<00:00, 3.80MiB/s] \n"
     ]
    },
    {
     "name": "stdout",
     "output_type": "stream",
     "text": [
      "unzipping lean-2021-11-pack2.zip\n"
     ]
    },
    {
     "name": "stderr",
     "output_type": "stream",
     "text": [
      "Extracting : 100%|██████████| 2601/2601 [00:37<00:00, 68.67it/s] \n"
     ]
    },
    {
     "name": "stdout",
     "output_type": "stream",
     "text": [
      "organizing result from lean-2021-11-pack2.zip\n",
      "Finished at: \n",
      "2022-05-04 14:50:03.893827\n",
      "downloading htmls.zip\n"
     ]
    },
    {
     "name": "stderr",
     "output_type": "stream",
     "text": [
      "100%|██████████| 45.6k/45.6k [00:00<00:00, 277kiB/s]\n"
     ]
    },
    {
     "name": "stdout",
     "output_type": "stream",
     "text": [
      "unzipping htmls.zip\n"
     ]
    },
    {
     "name": "stderr",
     "output_type": "stream",
     "text": [
      "Extracting : 100%|██████████| 25/25 [00:00<00:00, 1329.30it/s]\n"
     ]
    },
    {
     "name": "stdout",
     "output_type": "stream",
     "text": [
      "organizing result from htmls.zip\n",
      "Finished at: \n",
      "2022-05-04 14:50:05.622262\n",
      "\n",
      " Ended.\n",
      "\n"
     ]
    }
   ],
   "source": [
    "now = datetime.datetime.now()\n",
    "print('Current time: ')\n",
    "print(now)\n",
    "print('Start ...')\n",
    "\n",
    "for ind in np.arange(6):\n",
    "    print('downloading ' + zipnames[ind])\n",
    "    download_data(urls[ind],download_paths[ind])\n",
    "    print('unzipping ' + zipnames[ind])\n",
    "    unzip_file(target=download_paths[ind], unzippath=unzipped_paths[ind])\n",
    "    print('organizing result from ' + zipnames[ind])\n",
    "    mvfilestr='mv '+unzipped_paths[ind]+'/'+os.listdir(unzipped_paths[ind])[0]+'/* ' + os.path.join(output_path, 'hp3d')+'/.'\n",
    "    os.system(mvfilestr)\n",
    "    print('Finished at: ')\n",
    "    now = datetime.datetime.now()\n",
    "    print(now)\n",
    "    \n",
    "ind=6\n",
    "print('downloading ' + zipnames[ind])\n",
    "download_data(urls[ind],download_paths[ind])\n",
    "print('unzipping ' + zipnames[ind])\n",
    "unzip_file(target=download_paths[ind], unzippath=unzipped_paths[ind])\n",
    "print('organizing result from ' + zipnames[ind])\n",
    "mvfilestr='mv '+unzipped_paths[ind]+'/'+os.listdir(unzipped_paths[ind])[0]+'/* ' + output_path +'/.'\n",
    "os.system(mvfilestr)\n",
    "\n",
    "print('Finished at: ')\n",
    "now = datetime.datetime.now()\n",
    "print(now)\n",
    "\n",
    "print('\\n Ended.')\n",
    "\n",
    "print('')"
   ]
  },
  {
   "cell_type": "markdown",
   "id": "1539d21f",
   "metadata": {},
   "source": [
    "### Step 4. Browse the results\n",
    "Now you can brose the results by double-clicking the *.html files stored in a folder called \"data-inspection\" either in your home directory or the \"output_path\" path you specified under Step 2. The *.html files will be opened in your web browser (for example,Chrome)."
   ]
  },
  {
   "cell_type": "code",
   "execution_count": null,
   "id": "2f520b2d",
   "metadata": {},
   "outputs": [],
   "source": []
  }
 ],
 "metadata": {
  "kernelspec": {
   "display_name": "llsmvis",
   "language": "python",
   "name": "llsmvis"
  },
  "language_info": {
   "codemirror_mode": {
    "name": "ipython",
    "version": 3
   },
   "file_extension": ".py",
   "mimetype": "text/x-python",
   "name": "python",
   "nbconvert_exporter": "python",
   "pygments_lexer": "ipython3",
   "version": "3.7.3"
  }
 },
 "nbformat": 4,
 "nbformat_minor": 5
}
