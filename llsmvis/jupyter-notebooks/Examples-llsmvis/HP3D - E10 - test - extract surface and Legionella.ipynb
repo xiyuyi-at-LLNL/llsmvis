{
 "cells": [
  {
   "cell_type": "code",
   "execution_count": 1,
   "metadata": {},
   "outputs": [
    {
     "data": {
      "text/html": [
       "<style>.container { width:90% !important; }</style>"
      ],
      "text/plain": [
       "<IPython.core.display.HTML object>"
      ]
     },
     "metadata": {},
     "output_type": "display_data"
    },
    {
     "data": {
      "text/html": [
       "\n",
       "    <div class=\"bk-root\">\n",
       "        <a href=\"https://bokeh.org\" target=\"_blank\" class=\"bk-logo bk-logo-small bk-logo-notebook\"></a>\n",
       "        <span id=\"1002\">Loading BokehJS ...</span>\n",
       "    </div>"
      ]
     },
     "metadata": {},
     "output_type": "display_data"
    },
    {
     "data": {
      "application/javascript": [
       "\n",
       "(function(root) {\n",
       "  function now() {\n",
       "    return new Date();\n",
       "  }\n",
       "\n",
       "  var force = true;\n",
       "\n",
       "  if (typeof root._bokeh_onload_callbacks === \"undefined\" || force === true) {\n",
       "    root._bokeh_onload_callbacks = [];\n",
       "    root._bokeh_is_loading = undefined;\n",
       "  }\n",
       "\n",
       "  var JS_MIME_TYPE = 'application/javascript';\n",
       "  var HTML_MIME_TYPE = 'text/html';\n",
       "  var EXEC_MIME_TYPE = 'application/vnd.bokehjs_exec.v0+json';\n",
       "  var CLASS_NAME = 'output_bokeh rendered_html';\n",
       "\n",
       "  /**\n",
       "   * Render data to the DOM node\n",
       "   */\n",
       "  function render(props, node) {\n",
       "    var script = document.createElement(\"script\");\n",
       "    node.appendChild(script);\n",
       "  }\n",
       "\n",
       "  /**\n",
       "   * Handle when an output is cleared or removed\n",
       "   */\n",
       "  function handleClearOutput(event, handle) {\n",
       "    var cell = handle.cell;\n",
       "\n",
       "    var id = cell.output_area._bokeh_element_id;\n",
       "    var server_id = cell.output_area._bokeh_server_id;\n",
       "    // Clean up Bokeh references\n",
       "    if (id != null && id in Bokeh.index) {\n",
       "      Bokeh.index[id].model.document.clear();\n",
       "      delete Bokeh.index[id];\n",
       "    }\n",
       "\n",
       "    if (server_id !== undefined) {\n",
       "      // Clean up Bokeh references\n",
       "      var cmd = \"from bokeh.io.state import curstate; print(curstate().uuid_to_server['\" + server_id + \"'].get_sessions()[0].document.roots[0]._id)\";\n",
       "      cell.notebook.kernel.execute(cmd, {\n",
       "        iopub: {\n",
       "          output: function(msg) {\n",
       "            var id = msg.content.text.trim();\n",
       "            if (id in Bokeh.index) {\n",
       "              Bokeh.index[id].model.document.clear();\n",
       "              delete Bokeh.index[id];\n",
       "            }\n",
       "          }\n",
       "        }\n",
       "      });\n",
       "      // Destroy server and session\n",
       "      var cmd = \"import bokeh.io.notebook as ion; ion.destroy_server('\" + server_id + \"')\";\n",
       "      cell.notebook.kernel.execute(cmd);\n",
       "    }\n",
       "  }\n",
       "\n",
       "  /**\n",
       "   * Handle when a new output is added\n",
       "   */\n",
       "  function handleAddOutput(event, handle) {\n",
       "    var output_area = handle.output_area;\n",
       "    var output = handle.output;\n",
       "\n",
       "    // limit handleAddOutput to display_data with EXEC_MIME_TYPE content only\n",
       "    if ((output.output_type != \"display_data\") || (!Object.prototype.hasOwnProperty.call(output.data, EXEC_MIME_TYPE))) {\n",
       "      return\n",
       "    }\n",
       "\n",
       "    var toinsert = output_area.element.find(\".\" + CLASS_NAME.split(' ')[0]);\n",
       "\n",
       "    if (output.metadata[EXEC_MIME_TYPE][\"id\"] !== undefined) {\n",
       "      toinsert[toinsert.length - 1].firstChild.textContent = output.data[JS_MIME_TYPE];\n",
       "      // store reference to embed id on output_area\n",
       "      output_area._bokeh_element_id = output.metadata[EXEC_MIME_TYPE][\"id\"];\n",
       "    }\n",
       "    if (output.metadata[EXEC_MIME_TYPE][\"server_id\"] !== undefined) {\n",
       "      var bk_div = document.createElement(\"div\");\n",
       "      bk_div.innerHTML = output.data[HTML_MIME_TYPE];\n",
       "      var script_attrs = bk_div.children[0].attributes;\n",
       "      for (var i = 0; i < script_attrs.length; i++) {\n",
       "        toinsert[toinsert.length - 1].firstChild.setAttribute(script_attrs[i].name, script_attrs[i].value);\n",
       "        toinsert[toinsert.length - 1].firstChild.textContent = bk_div.children[0].textContent\n",
       "      }\n",
       "      // store reference to server id on output_area\n",
       "      output_area._bokeh_server_id = output.metadata[EXEC_MIME_TYPE][\"server_id\"];\n",
       "    }\n",
       "  }\n",
       "\n",
       "  function register_renderer(events, OutputArea) {\n",
       "\n",
       "    function append_mime(data, metadata, element) {\n",
       "      // create a DOM node to render to\n",
       "      var toinsert = this.create_output_subarea(\n",
       "        metadata,\n",
       "        CLASS_NAME,\n",
       "        EXEC_MIME_TYPE\n",
       "      );\n",
       "      this.keyboard_manager.register_events(toinsert);\n",
       "      // Render to node\n",
       "      var props = {data: data, metadata: metadata[EXEC_MIME_TYPE]};\n",
       "      render(props, toinsert[toinsert.length - 1]);\n",
       "      element.append(toinsert);\n",
       "      return toinsert\n",
       "    }\n",
       "\n",
       "    /* Handle when an output is cleared or removed */\n",
       "    events.on('clear_output.CodeCell', handleClearOutput);\n",
       "    events.on('delete.Cell', handleClearOutput);\n",
       "\n",
       "    /* Handle when a new output is added */\n",
       "    events.on('output_added.OutputArea', handleAddOutput);\n",
       "\n",
       "    /**\n",
       "     * Register the mime type and append_mime function with output_area\n",
       "     */\n",
       "    OutputArea.prototype.register_mime_type(EXEC_MIME_TYPE, append_mime, {\n",
       "      /* Is output safe? */\n",
       "      safe: true,\n",
       "      /* Index of renderer in `output_area.display_order` */\n",
       "      index: 0\n",
       "    });\n",
       "  }\n",
       "\n",
       "  // register the mime type if in Jupyter Notebook environment and previously unregistered\n",
       "  if (root.Jupyter !== undefined) {\n",
       "    var events = require('base/js/events');\n",
       "    var OutputArea = require('notebook/js/outputarea').OutputArea;\n",
       "\n",
       "    if (OutputArea.prototype.mime_types().indexOf(EXEC_MIME_TYPE) == -1) {\n",
       "      register_renderer(events, OutputArea);\n",
       "    }\n",
       "  }\n",
       "\n",
       "  \n",
       "  if (typeof (root._bokeh_timeout) === \"undefined\" || force === true) {\n",
       "    root._bokeh_timeout = Date.now() + 5000;\n",
       "    root._bokeh_failed_load = false;\n",
       "  }\n",
       "\n",
       "  var NB_LOAD_WARNING = {'data': {'text/html':\n",
       "     \"<div style='background-color: #fdd'>\\n\"+\n",
       "     \"<p>\\n\"+\n",
       "     \"BokehJS does not appear to have successfully loaded. If loading BokehJS from CDN, this \\n\"+\n",
       "     \"may be due to a slow or bad network connection. Possible fixes:\\n\"+\n",
       "     \"</p>\\n\"+\n",
       "     \"<ul>\\n\"+\n",
       "     \"<li>re-rerun `output_notebook()` to attempt to load from CDN again, or</li>\\n\"+\n",
       "     \"<li>use INLINE resources instead, as so:</li>\\n\"+\n",
       "     \"</ul>\\n\"+\n",
       "     \"<code>\\n\"+\n",
       "     \"from bokeh.resources import INLINE\\n\"+\n",
       "     \"output_notebook(resources=INLINE)\\n\"+\n",
       "     \"</code>\\n\"+\n",
       "     \"</div>\"}};\n",
       "\n",
       "  function display_loaded() {\n",
       "    var el = document.getElementById(\"1002\");\n",
       "    if (el != null) {\n",
       "      el.textContent = \"BokehJS is loading...\";\n",
       "    }\n",
       "    if (root.Bokeh !== undefined) {\n",
       "      if (el != null) {\n",
       "        el.textContent = \"BokehJS \" + root.Bokeh.version + \" successfully loaded.\";\n",
       "      }\n",
       "    } else if (Date.now() < root._bokeh_timeout) {\n",
       "      setTimeout(display_loaded, 100)\n",
       "    }\n",
       "  }\n",
       "\n",
       "\n",
       "  function run_callbacks() {\n",
       "    try {\n",
       "      root._bokeh_onload_callbacks.forEach(function(callback) {\n",
       "        if (callback != null)\n",
       "          callback();\n",
       "      });\n",
       "    } finally {\n",
       "      delete root._bokeh_onload_callbacks\n",
       "    }\n",
       "    console.debug(\"Bokeh: all callbacks have finished\");\n",
       "  }\n",
       "\n",
       "  function load_libs(css_urls, js_urls, callback) {\n",
       "    if (css_urls == null) css_urls = [];\n",
       "    if (js_urls == null) js_urls = [];\n",
       "\n",
       "    root._bokeh_onload_callbacks.push(callback);\n",
       "    if (root._bokeh_is_loading > 0) {\n",
       "      console.debug(\"Bokeh: BokehJS is being loaded, scheduling callback at\", now());\n",
       "      return null;\n",
       "    }\n",
       "    if (js_urls == null || js_urls.length === 0) {\n",
       "      run_callbacks();\n",
       "      return null;\n",
       "    }\n",
       "    console.debug(\"Bokeh: BokehJS not loaded, scheduling load and callback at\", now());\n",
       "    root._bokeh_is_loading = css_urls.length + js_urls.length;\n",
       "\n",
       "    function on_load() {\n",
       "      root._bokeh_is_loading--;\n",
       "      if (root._bokeh_is_loading === 0) {\n",
       "        console.debug(\"Bokeh: all BokehJS libraries/stylesheets loaded\");\n",
       "        run_callbacks()\n",
       "      }\n",
       "    }\n",
       "\n",
       "    function on_error(url) {\n",
       "      console.error(\"failed to load \" + url);\n",
       "    }\n",
       "\n",
       "    for (let i = 0; i < css_urls.length; i++) {\n",
       "      const url = css_urls[i];\n",
       "      const element = document.createElement(\"link\");\n",
       "      element.onload = on_load;\n",
       "      element.onerror = on_error.bind(null, url);\n",
       "      element.rel = \"stylesheet\";\n",
       "      element.type = \"text/css\";\n",
       "      element.href = url;\n",
       "      console.debug(\"Bokeh: injecting link tag for BokehJS stylesheet: \", url);\n",
       "      document.body.appendChild(element);\n",
       "    }\n",
       "\n",
       "    const hashes = {\"https://cdn.bokeh.org/bokeh/release/bokeh-2.3.3.min.js\": \"dM3QQsP+wXdHg42wTqW85BjZQdLNNIXqlPw/BgKoExPmTG7ZLML4EGqLMfqHT6ON\", \"https://cdn.bokeh.org/bokeh/release/bokeh-tables-2.3.3.min.js\": \"8x57I4YuIfu8XyZfFo0XVr2WAT8EK4rh/uDe3wF7YuW2FNUSNEpJbsPaB1nJ2fz2\", \"https://cdn.bokeh.org/bokeh/release/bokeh-widgets-2.3.3.min.js\": \"3QTqdz9LyAm2i0sG5XTePsHec3UHWwVsrOL68SYRoAXsafvfAyqtQ+h440+qIBhS\"};\n",
       "\n",
       "    for (let i = 0; i < js_urls.length; i++) {\n",
       "      const url = js_urls[i];\n",
       "      const element = document.createElement('script');\n",
       "      element.onload = on_load;\n",
       "      element.onerror = on_error.bind(null, url);\n",
       "      element.async = false;\n",
       "      element.src = url;\n",
       "      if (url in hashes) {\n",
       "        element.crossOrigin = \"anonymous\";\n",
       "        element.integrity = \"sha384-\" + hashes[url];\n",
       "      }\n",
       "      console.debug(\"Bokeh: injecting script tag for BokehJS library: \", url);\n",
       "      document.head.appendChild(element);\n",
       "    }\n",
       "  };\n",
       "\n",
       "  function inject_raw_css(css) {\n",
       "    const element = document.createElement(\"style\");\n",
       "    element.appendChild(document.createTextNode(css));\n",
       "    document.body.appendChild(element);\n",
       "  }\n",
       "\n",
       "  \n",
       "  var js_urls = [\"https://cdn.bokeh.org/bokeh/release/bokeh-2.3.3.min.js\", \"https://cdn.bokeh.org/bokeh/release/bokeh-widgets-2.3.3.min.js\", \"https://cdn.bokeh.org/bokeh/release/bokeh-tables-2.3.3.min.js\"];\n",
       "  var css_urls = [];\n",
       "  \n",
       "\n",
       "  var inline_js = [\n",
       "    function(Bokeh) {\n",
       "      Bokeh.set_log_level(\"info\");\n",
       "    },\n",
       "    function(Bokeh) {\n",
       "    \n",
       "    \n",
       "    }\n",
       "  ];\n",
       "\n",
       "  function run_inline_js() {\n",
       "    \n",
       "    if (root.Bokeh !== undefined || force === true) {\n",
       "      \n",
       "    for (var i = 0; i < inline_js.length; i++) {\n",
       "      inline_js[i].call(root, root.Bokeh);\n",
       "    }\n",
       "    if (force === true) {\n",
       "        display_loaded();\n",
       "      }} else if (Date.now() < root._bokeh_timeout) {\n",
       "      setTimeout(run_inline_js, 100);\n",
       "    } else if (!root._bokeh_failed_load) {\n",
       "      console.log(\"Bokeh: BokehJS failed to load within specified timeout.\");\n",
       "      root._bokeh_failed_load = true;\n",
       "    } else if (force !== true) {\n",
       "      var cell = $(document.getElementById(\"1002\")).parents('.cell').data().cell;\n",
       "      cell.output_area.append_execute_result(NB_LOAD_WARNING)\n",
       "    }\n",
       "\n",
       "  }\n",
       "\n",
       "  if (root._bokeh_is_loading === 0) {\n",
       "    console.debug(\"Bokeh: BokehJS loaded, going straight to plotting\");\n",
       "    run_inline_js();\n",
       "  } else {\n",
       "    load_libs(css_urls, js_urls, function() {\n",
       "      console.debug(\"Bokeh: BokehJS plotting callback run at\", now());\n",
       "      run_inline_js();\n",
       "    });\n",
       "  }\n",
       "}(window));"
      ],
      "application/vnd.bokehjs_load.v0+json": "\n(function(root) {\n  function now() {\n    return new Date();\n  }\n\n  var force = true;\n\n  if (typeof root._bokeh_onload_callbacks === \"undefined\" || force === true) {\n    root._bokeh_onload_callbacks = [];\n    root._bokeh_is_loading = undefined;\n  }\n\n  \n\n  \n  if (typeof (root._bokeh_timeout) === \"undefined\" || force === true) {\n    root._bokeh_timeout = Date.now() + 5000;\n    root._bokeh_failed_load = false;\n  }\n\n  var NB_LOAD_WARNING = {'data': {'text/html':\n     \"<div style='background-color: #fdd'>\\n\"+\n     \"<p>\\n\"+\n     \"BokehJS does not appear to have successfully loaded. If loading BokehJS from CDN, this \\n\"+\n     \"may be due to a slow or bad network connection. Possible fixes:\\n\"+\n     \"</p>\\n\"+\n     \"<ul>\\n\"+\n     \"<li>re-rerun `output_notebook()` to attempt to load from CDN again, or</li>\\n\"+\n     \"<li>use INLINE resources instead, as so:</li>\\n\"+\n     \"</ul>\\n\"+\n     \"<code>\\n\"+\n     \"from bokeh.resources import INLINE\\n\"+\n     \"output_notebook(resources=INLINE)\\n\"+\n     \"</code>\\n\"+\n     \"</div>\"}};\n\n  function display_loaded() {\n    var el = document.getElementById(\"1002\");\n    if (el != null) {\n      el.textContent = \"BokehJS is loading...\";\n    }\n    if (root.Bokeh !== undefined) {\n      if (el != null) {\n        el.textContent = \"BokehJS \" + root.Bokeh.version + \" successfully loaded.\";\n      }\n    } else if (Date.now() < root._bokeh_timeout) {\n      setTimeout(display_loaded, 100)\n    }\n  }\n\n\n  function run_callbacks() {\n    try {\n      root._bokeh_onload_callbacks.forEach(function(callback) {\n        if (callback != null)\n          callback();\n      });\n    } finally {\n      delete root._bokeh_onload_callbacks\n    }\n    console.debug(\"Bokeh: all callbacks have finished\");\n  }\n\n  function load_libs(css_urls, js_urls, callback) {\n    if (css_urls == null) css_urls = [];\n    if (js_urls == null) js_urls = [];\n\n    root._bokeh_onload_callbacks.push(callback);\n    if (root._bokeh_is_loading > 0) {\n      console.debug(\"Bokeh: BokehJS is being loaded, scheduling callback at\", now());\n      return null;\n    }\n    if (js_urls == null || js_urls.length === 0) {\n      run_callbacks();\n      return null;\n    }\n    console.debug(\"Bokeh: BokehJS not loaded, scheduling load and callback at\", now());\n    root._bokeh_is_loading = css_urls.length + js_urls.length;\n\n    function on_load() {\n      root._bokeh_is_loading--;\n      if (root._bokeh_is_loading === 0) {\n        console.debug(\"Bokeh: all BokehJS libraries/stylesheets loaded\");\n        run_callbacks()\n      }\n    }\n\n    function on_error(url) {\n      console.error(\"failed to load \" + url);\n    }\n\n    for (let i = 0; i < css_urls.length; i++) {\n      const url = css_urls[i];\n      const element = document.createElement(\"link\");\n      element.onload = on_load;\n      element.onerror = on_error.bind(null, url);\n      element.rel = \"stylesheet\";\n      element.type = \"text/css\";\n      element.href = url;\n      console.debug(\"Bokeh: injecting link tag for BokehJS stylesheet: \", url);\n      document.body.appendChild(element);\n    }\n\n    const hashes = {\"https://cdn.bokeh.org/bokeh/release/bokeh-2.3.3.min.js\": \"dM3QQsP+wXdHg42wTqW85BjZQdLNNIXqlPw/BgKoExPmTG7ZLML4EGqLMfqHT6ON\", \"https://cdn.bokeh.org/bokeh/release/bokeh-tables-2.3.3.min.js\": \"8x57I4YuIfu8XyZfFo0XVr2WAT8EK4rh/uDe3wF7YuW2FNUSNEpJbsPaB1nJ2fz2\", \"https://cdn.bokeh.org/bokeh/release/bokeh-widgets-2.3.3.min.js\": \"3QTqdz9LyAm2i0sG5XTePsHec3UHWwVsrOL68SYRoAXsafvfAyqtQ+h440+qIBhS\"};\n\n    for (let i = 0; i < js_urls.length; i++) {\n      const url = js_urls[i];\n      const element = document.createElement('script');\n      element.onload = on_load;\n      element.onerror = on_error.bind(null, url);\n      element.async = false;\n      element.src = url;\n      if (url in hashes) {\n        element.crossOrigin = \"anonymous\";\n        element.integrity = \"sha384-\" + hashes[url];\n      }\n      console.debug(\"Bokeh: injecting script tag for BokehJS library: \", url);\n      document.head.appendChild(element);\n    }\n  };\n\n  function inject_raw_css(css) {\n    const element = document.createElement(\"style\");\n    element.appendChild(document.createTextNode(css));\n    document.body.appendChild(element);\n  }\n\n  \n  var js_urls = [\"https://cdn.bokeh.org/bokeh/release/bokeh-2.3.3.min.js\", \"https://cdn.bokeh.org/bokeh/release/bokeh-widgets-2.3.3.min.js\", \"https://cdn.bokeh.org/bokeh/release/bokeh-tables-2.3.3.min.js\"];\n  var css_urls = [];\n  \n\n  var inline_js = [\n    function(Bokeh) {\n      Bokeh.set_log_level(\"info\");\n    },\n    function(Bokeh) {\n    \n    \n    }\n  ];\n\n  function run_inline_js() {\n    \n    if (root.Bokeh !== undefined || force === true) {\n      \n    for (var i = 0; i < inline_js.length; i++) {\n      inline_js[i].call(root, root.Bokeh);\n    }\n    if (force === true) {\n        display_loaded();\n      }} else if (Date.now() < root._bokeh_timeout) {\n      setTimeout(run_inline_js, 100);\n    } else if (!root._bokeh_failed_load) {\n      console.log(\"Bokeh: BokehJS failed to load within specified timeout.\");\n      root._bokeh_failed_load = true;\n    } else if (force !== true) {\n      var cell = $(document.getElementById(\"1002\")).parents('.cell').data().cell;\n      cell.output_area.append_execute_result(NB_LOAD_WARNING)\n    }\n\n  }\n\n  if (root._bokeh_is_loading === 0) {\n    console.debug(\"Bokeh: BokehJS loaded, going straight to plotting\");\n    run_inline_js();\n  } else {\n    load_libs(css_urls, js_urls, function() {\n      console.debug(\"Bokeh: BokehJS plotting callback run at\", now());\n      run_inline_js();\n    });\n  }\n}(window));"
     },
     "metadata": {},
     "output_type": "display_data"
    }
   ],
   "source": [
    "import sys\n",
    "sys.path.append('/g/g92/miao1/Development/llsmvis')\n",
    "sys.path.append('/Users/yi10/Desktop/Research/Software/T-llsmvis/')\n",
    "sys.path.append('/g/g92/yi10')\n",
    "import llsmvis\n",
    "from llsmvis.extensions import hp3d\n",
    "from llsmvis.extensions.hp3d import surface_morphometrics\n",
    "import os\n",
    "from skimage import io\n",
    "import numpy as np\n",
    "import matplotlib.pyplot as plt\n",
    "import copy"
   ]
  },
  {
   "cell_type": "code",
   "execution_count": 2,
   "metadata": {},
   "outputs": [],
   "source": [
    "# ticket information (the output files from the interactive trimming results, see E1 for details)\n",
    "tpath='/p/lscratchh/yi10/hp3d/CroppingData'\n",
    "thead='2021-10-29-cell3'  \n",
    "tlist=hp3d.croproi3d.get_trimmed_tiff_list(tpath, thead)\n"
   ]
  },
  {
   "cell_type": "code",
   "execution_count": 3,
   "metadata": {},
   "outputs": [],
   "source": [
    "# h5fname='/p/lscratchh/yi10/hp3d/2021-10-29-cell3/hp3ddata_2021-10-29-cell3.hdf5'\n",
    "\n",
    "hp3ddata_path='/p/lscratchh/yi10/hp3d/'+thead\n",
    "d=hp3d.hp3ddata.HP3Ddata(fpath=hp3ddata_path,dfnamehead='hp3ddata_'+thead,initialize=False,verbose=False)\n"
   ]
  },
  {
   "cell_type": "code",
   "execution_count": 4,
   "metadata": {},
   "outputs": [
    {
     "name": "stdout",
     "output_type": "stream",
     "text": [
      "[D10] volume values\n",
      "[D11] surface area values\n",
      "[D12] sphere radius with equi volume\n",
      "[D13] sphere radius with equi surface area\n",
      "[D14] polarity vector amplitudes\n",
      "[D15] polarity based on volume - negative volume std\n",
      "[D16] polarity based on volume - positive volume std\n",
      "[D17] polarity based on volume - sum of negative delta volumes\n",
      "[D18] polarity based on volume - sum of positive delta volumes\n",
      "[D19] polarity based on roughness - maxima N\n",
      "[D1] mass centers\n",
      "[D20] polarity based on roughness - minima N\n",
      "[D2] threshold saddle point\n",
      "[D3] threshold saddle point index\n",
      "[D4] threshold upper bound\n",
      "[D5] threshold upper bound index\n",
      "[D6] threshold lower bound\n",
      "[D7] threshold lower bound index\n",
      "[D8] threshold cell peripheral lower bound\n",
      "[D9] volume centers\n",
      "[G01] voxel value bin centers\n",
      "[G02] voxel value histogram counts\n",
      "[G03] stack XY mips before cropping\n",
      "[G04] stack YZ mips before cropping\n",
      "[G05] stack XZ mips before cropping\n",
      "[G06] stack XY mips after cropping - saddle point to upper bound\n",
      "[G07] stack YZ mips after cropping - saddle point to upper bound\n",
      "[G08] stack XZ mips after cropping - saddle point to upper bound\n",
      "[G09] stack XY mips after cropping - lower bound to saddle point\n",
      "[G10] stack YZ mips after cropping - lower bound to saddle point\n",
      "[G11] stack XZ mips after cropping - lower bound to saddle point\n",
      "[G12] stack XY mips after cropping - zero to saddle point\n",
      "[G13] stack YZ mips after cropping - zero to saddle point\n",
      "[G14] stack XZ mips after cropping - zero to saddle point\n",
      "[G15] stack XY mips after cropping - peripheral lb to saddle point\n",
      "[G16] stack YZ mips after cropping - peripheral lb to saddle point\n",
      "[G17] stack XZ mips after cropping - peripheral lb to saddle point\n"
     ]
    },
    {
     "data": {
      "text/plain": [
       "0"
      ]
     },
     "execution_count": 4,
     "metadata": {},
     "output_type": "execute_result"
    }
   ],
   "source": [
    "d.show_data_structure()\n"
   ]
  },
  {
   "cell_type": "code",
   "execution_count": 5,
   "metadata": {},
   "outputs": [],
   "source": [
    "lginds=[np.nan]*50\n",
    "lgs=[0]*50\n"
   ]
  },
  {
   "cell_type": "code",
   "execution_count": 6,
   "metadata": {},
   "outputs": [],
   "source": [
    "lgs[0]=1458\n",
    "lgs[10]=1270\n",
    "lgs[20]=1070\n",
    "lgs[30]=860\n",
    "lgs[35]=786\n",
    "lgs[45]=700\n",
    "lgs[49]=658\n",
    "lgs[1:10]=np.linspace(lgs[0],lgs[10],9)\n",
    "lgs[11:20]=np.linspace(lgs[10],lgs[20],9)\n",
    "lgs[21:30]=np.linspace(lgs[20],lgs[30],9)\n",
    "lgs[31:35]=np.linspace(lgs[30],lgs[35],4)\n",
    "lgs[36:45]=np.linspace(lgs[35],lgs[45],9)\n",
    "lgs[46:49]=np.linspace(lgs[45],lgs[49],3)\n"
   ]
  },
  {
   "cell_type": "code",
   "execution_count": 7,
   "metadata": {},
   "outputs": [
    {
     "data": {
      "text/plain": [
       "[<matplotlib.lines.Line2D at 0x2aab005cf3d0>]"
      ]
     },
     "execution_count": 7,
     "metadata": {},
     "output_type": "execute_result"
    },
    {
     "data": {
      "text/plain": [
       "[<matplotlib.lines.Line2D at 0x2aab005cf790>]"
      ]
     },
     "execution_count": 7,
     "metadata": {},
     "output_type": "execute_result"
    },
    {
     "data": {
      "text/plain": [
       "[<matplotlib.lines.Line2D at 0x2aab005cfd90>]"
      ]
     },
     "execution_count": 7,
     "metadata": {},
     "output_type": "execute_result"
    },
    {
     "data": {
      "text/plain": [
       "[<matplotlib.lines.Line2D at 0x2aab005e0210>]"
      ]
     },
     "execution_count": 7,
     "metadata": {},
     "output_type": "execute_result"
    },
    {
     "data": {
      "text/plain": [
       "[<matplotlib.lines.Line2D at 0x2aab005e07d0>]"
      ]
     },
     "execution_count": 7,
     "metadata": {},
     "output_type": "execute_result"
    },
    {
     "data": {
      "text/plain": [
       "[<matplotlib.lines.Line2D at 0x2aab005e0b50>]"
      ]
     },
     "execution_count": 7,
     "metadata": {},
     "output_type": "execute_result"
    },
    {
     "data": {
      "text/plain": [
       "[<matplotlib.lines.Line2D at 0x2aab005f9190>]"
      ]
     },
     "execution_count": 7,
     "metadata": {},
     "output_type": "execute_result"
    },
    {
     "data": {
      "text/plain": [
       "[<matplotlib.lines.Line2D at 0x2aab005f94d0>]"
      ]
     },
     "execution_count": 7,
     "metadata": {},
     "output_type": "execute_result"
    },
    {
     "data": {
      "text/plain": [
       "[<matplotlib.lines.Line2D at 0x2aab005f9910>]"
      ]
     },
     "execution_count": 7,
     "metadata": {},
     "output_type": "execute_result"
    },
    {
     "data": {
      "text/plain": [
       "[<matplotlib.lines.Line2D at 0x2aab005f9d90>]"
      ]
     },
     "execution_count": 7,
     "metadata": {},
     "output_type": "execute_result"
    },
    {
     "data": {
      "text/plain": [
       "[<matplotlib.lines.Line2D at 0x2aab005f5250>]"
      ]
     },
     "execution_count": 7,
     "metadata": {},
     "output_type": "execute_result"
    },
    {
     "data": {
      "text/plain": [
       "[<matplotlib.lines.Line2D at 0x2aab005f56d0>]"
      ]
     },
     "execution_count": 7,
     "metadata": {},
     "output_type": "execute_result"
    },
    {
     "data": {
      "text/plain": [
       "[<matplotlib.lines.Line2D at 0x2aab005f5bd0>]"
      ]
     },
     "execution_count": 7,
     "metadata": {},
     "output_type": "execute_result"
    },
    {
     "data": {
      "text/plain": [
       "[<matplotlib.lines.Line2D at 0x2aab00602210>]"
      ]
     },
     "execution_count": 7,
     "metadata": {},
     "output_type": "execute_result"
    },
    {
     "data": {
      "text/plain": [
       "[<matplotlib.lines.Line2D at 0x2aab00602450>]"
      ]
     },
     "execution_count": 7,
     "metadata": {},
     "output_type": "execute_result"
    },
    {
     "data": {
      "text/plain": [
       "[<matplotlib.lines.Line2D at 0x2aab00602950>]"
      ]
     },
     "execution_count": 7,
     "metadata": {},
     "output_type": "execute_result"
    },
    {
     "data": {
      "text/plain": [
       "[<matplotlib.lines.Line2D at 0x2aab00602dd0>]"
      ]
     },
     "execution_count": 7,
     "metadata": {},
     "output_type": "execute_result"
    },
    {
     "data": {
      "text/plain": [
       "[<matplotlib.lines.Line2D at 0x2aab0060a2d0>]"
      ]
     },
     "execution_count": 7,
     "metadata": {},
     "output_type": "execute_result"
    },
    {
     "data": {
      "text/plain": [
       "[<matplotlib.lines.Line2D at 0x2aab0060a790>]"
      ]
     },
     "execution_count": 7,
     "metadata": {},
     "output_type": "execute_result"
    },
    {
     "data": {
      "text/plain": [
       "[<matplotlib.lines.Line2D at 0x2aab0060abd0>]"
      ]
     },
     "execution_count": 7,
     "metadata": {},
     "output_type": "execute_result"
    },
    {
     "data": {
      "text/plain": [
       "[<matplotlib.lines.Line2D at 0x2aab00613110>]"
      ]
     },
     "execution_count": 7,
     "metadata": {},
     "output_type": "execute_result"
    },
    {
     "data": {
      "text/plain": [
       "[<matplotlib.lines.Line2D at 0x2aab00613550>]"
      ]
     },
     "execution_count": 7,
     "metadata": {},
     "output_type": "execute_result"
    },
    {
     "data": {
      "text/plain": [
       "[<matplotlib.lines.Line2D at 0x2aab00613a90>]"
      ]
     },
     "execution_count": 7,
     "metadata": {},
     "output_type": "execute_result"
    },
    {
     "data": {
      "text/plain": [
       "[<matplotlib.lines.Line2D at 0x2aab00613e90>]"
      ]
     },
     "execution_count": 7,
     "metadata": {},
     "output_type": "execute_result"
    },
    {
     "data": {
      "text/plain": [
       "[<matplotlib.lines.Line2D at 0x2aab00629310>]"
      ]
     },
     "execution_count": 7,
     "metadata": {},
     "output_type": "execute_result"
    },
    {
     "data": {
      "text/plain": [
       "[<matplotlib.lines.Line2D at 0x2aab006297d0>]"
      ]
     },
     "execution_count": 7,
     "metadata": {},
     "output_type": "execute_result"
    },
    {
     "data": {
      "text/plain": [
       "[<matplotlib.lines.Line2D at 0x2aab00629c50>]"
      ]
     },
     "execution_count": 7,
     "metadata": {},
     "output_type": "execute_result"
    },
    {
     "data": {
      "text/plain": [
       "[<matplotlib.lines.Line2D at 0x2aab006361d0>]"
      ]
     },
     "execution_count": 7,
     "metadata": {},
     "output_type": "execute_result"
    },
    {
     "data": {
      "text/plain": [
       "[<matplotlib.lines.Line2D at 0x2aab00636590>]"
      ]
     },
     "execution_count": 7,
     "metadata": {},
     "output_type": "execute_result"
    },
    {
     "data": {
      "text/plain": [
       "[<matplotlib.lines.Line2D at 0x2aab00636a50>]"
      ]
     },
     "execution_count": 7,
     "metadata": {},
     "output_type": "execute_result"
    },
    {
     "data": {
      "text/plain": [
       "[<matplotlib.lines.Line2D at 0x2aab00636ed0>]"
      ]
     },
     "execution_count": 7,
     "metadata": {},
     "output_type": "execute_result"
    },
    {
     "data": {
      "text/plain": [
       "[<matplotlib.lines.Line2D at 0x2aab00631490>]"
      ]
     },
     "execution_count": 7,
     "metadata": {},
     "output_type": "execute_result"
    },
    {
     "data": {
      "text/plain": [
       "[<matplotlib.lines.Line2D at 0x2aab00631890>]"
      ]
     },
     "execution_count": 7,
     "metadata": {},
     "output_type": "execute_result"
    },
    {
     "data": {
      "text/plain": [
       "[<matplotlib.lines.Line2D at 0x2aab00631cd0>]"
      ]
     },
     "execution_count": 7,
     "metadata": {},
     "output_type": "execute_result"
    },
    {
     "data": {
      "text/plain": [
       "[<matplotlib.lines.Line2D at 0x2aab0063f150>]"
      ]
     },
     "execution_count": 7,
     "metadata": {},
     "output_type": "execute_result"
    },
    {
     "data": {
      "text/plain": [
       "[<matplotlib.lines.Line2D at 0x2aab0063f610>]"
      ]
     },
     "execution_count": 7,
     "metadata": {},
     "output_type": "execute_result"
    },
    {
     "data": {
      "text/plain": [
       "[<matplotlib.lines.Line2D at 0x2aab0063fa90>]"
      ]
     },
     "execution_count": 7,
     "metadata": {},
     "output_type": "execute_result"
    },
    {
     "data": {
      "text/plain": [
       "[<matplotlib.lines.Line2D at 0x2aab00653050>]"
      ]
     },
     "execution_count": 7,
     "metadata": {},
     "output_type": "execute_result"
    },
    {
     "data": {
      "text/plain": [
       "[<matplotlib.lines.Line2D at 0x2aab00653410>]"
      ]
     },
     "execution_count": 7,
     "metadata": {},
     "output_type": "execute_result"
    },
    {
     "data": {
      "text/plain": [
       "[<matplotlib.lines.Line2D at 0x2aab00653890>]"
      ]
     },
     "execution_count": 7,
     "metadata": {},
     "output_type": "execute_result"
    },
    {
     "data": {
      "text/plain": [
       "[<matplotlib.lines.Line2D at 0x2aab00613150>]"
      ]
     },
     "execution_count": 7,
     "metadata": {},
     "output_type": "execute_result"
    },
    {
     "data": {
      "text/plain": [
       "[<matplotlib.lines.Line2D at 0x2aab0065e190>]"
      ]
     },
     "execution_count": 7,
     "metadata": {},
     "output_type": "execute_result"
    },
    {
     "data": {
      "text/plain": [
       "[<matplotlib.lines.Line2D at 0x2aab0065e690>]"
      ]
     },
     "execution_count": 7,
     "metadata": {},
     "output_type": "execute_result"
    },
    {
     "data": {
      "text/plain": [
       "[<matplotlib.lines.Line2D at 0x2aab0065ead0>]"
      ]
     },
     "execution_count": 7,
     "metadata": {},
     "output_type": "execute_result"
    },
    {
     "data": {
      "text/plain": [
       "[<matplotlib.lines.Line2D at 0x2aab0065efd0>]"
      ]
     },
     "execution_count": 7,
     "metadata": {},
     "output_type": "execute_result"
    },
    {
     "data": {
      "text/plain": [
       "[<matplotlib.lines.Line2D at 0x2aab00667410>]"
      ]
     },
     "execution_count": 7,
     "metadata": {},
     "output_type": "execute_result"
    },
    {
     "data": {
      "text/plain": [
       "[<matplotlib.lines.Line2D at 0x2aab006678d0>]"
      ]
     },
     "execution_count": 7,
     "metadata": {},
     "output_type": "execute_result"
    },
    {
     "data": {
      "text/plain": [
       "[<matplotlib.lines.Line2D at 0x2aab00667d90>]"
      ]
     },
     "execution_count": 7,
     "metadata": {},
     "output_type": "execute_result"
    },
    {
     "data": {
      "text/plain": [
       "[<matplotlib.lines.Line2D at 0x2aab00663210>]"
      ]
     },
     "execution_count": 7,
     "metadata": {},
     "output_type": "execute_result"
    },
    {
     "data": {
      "text/plain": [
       "[<matplotlib.lines.Line2D at 0x2aab00663690>]"
      ]
     },
     "execution_count": 7,
     "metadata": {},
     "output_type": "execute_result"
    },
    {
     "data": {
      "text/plain": [
       "[<matplotlib.lines.Line2D at 0x2aab0058f890>]"
      ]
     },
     "execution_count": 7,
     "metadata": {},
     "output_type": "execute_result"
    },
    {
     "data": {
      "text/plain": [
       "[<matplotlib.lines.Line2D at 0x2aab0067b0d0>]"
      ]
     },
     "execution_count": 7,
     "metadata": {},
     "output_type": "execute_result"
    },
    {
     "data": {
      "text/plain": [
       "[<matplotlib.lines.Line2D at 0x2aab0067b4d0>]"
      ]
     },
     "execution_count": 7,
     "metadata": {},
     "output_type": "execute_result"
    },
    {
     "data": {
      "text/plain": [
       "[<matplotlib.lines.Line2D at 0x2aab0067ba90>]"
      ]
     },
     "execution_count": 7,
     "metadata": {},
     "output_type": "execute_result"
    },
    {
     "data": {
      "text/plain": [
       "[<matplotlib.lines.Line2D at 0x2aab0067bd10>]"
      ]
     },
     "execution_count": 7,
     "metadata": {},
     "output_type": "execute_result"
    },
    {
     "data": {
      "text/plain": [
       "[<matplotlib.lines.Line2D at 0x2aab0067a210>]"
      ]
     },
     "execution_count": 7,
     "metadata": {},
     "output_type": "execute_result"
    },
    {
     "data": {
      "text/plain": [
       "[<matplotlib.lines.Line2D at 0x2aab0067a6d0>]"
      ]
     },
     "execution_count": 7,
     "metadata": {},
     "output_type": "execute_result"
    },
    {
     "data": {
      "text/plain": [
       "[<matplotlib.lines.Line2D at 0x2aab0067abd0>]"
      ]
     },
     "execution_count": 7,
     "metadata": {},
     "output_type": "execute_result"
    },
    {
     "data": {
      "text/plain": [
       "[<matplotlib.lines.Line2D at 0x2aab00690190>]"
      ]
     },
     "execution_count": 7,
     "metadata": {},
     "output_type": "execute_result"
    },
    {
     "data": {
      "text/plain": [
       "[<matplotlib.lines.Line2D at 0x2aab00690450>]"
      ]
     },
     "execution_count": 7,
     "metadata": {},
     "output_type": "execute_result"
    },
    {
     "data": {
      "text/plain": [
       "[<matplotlib.lines.Line2D at 0x2aab00690910>]"
      ]
     },
     "execution_count": 7,
     "metadata": {},
     "output_type": "execute_result"
    },
    {
     "data": {
      "text/plain": [
       "[<matplotlib.lines.Line2D at 0x2aab00690d90>]"
      ]
     },
     "execution_count": 7,
     "metadata": {},
     "output_type": "execute_result"
    },
    {
     "data": {
      "text/plain": [
       "[<matplotlib.lines.Line2D at 0x2aab0068d310>]"
      ]
     },
     "execution_count": 7,
     "metadata": {},
     "output_type": "execute_result"
    },
    {
     "data": {
      "text/plain": [
       "[<matplotlib.lines.Line2D at 0x2aab0068d750>]"
      ]
     },
     "execution_count": 7,
     "metadata": {},
     "output_type": "execute_result"
    },
    {
     "data": {
      "text/plain": [
       "[<matplotlib.lines.Line2D at 0x2aab0068dd10>]"
      ]
     },
     "execution_count": 7,
     "metadata": {},
     "output_type": "execute_result"
    },
    {
     "data": {
      "text/plain": [
       "[<matplotlib.lines.Line2D at 0x2aab006960d0>]"
      ]
     },
     "execution_count": 7,
     "metadata": {},
     "output_type": "execute_result"
    },
    {
     "data": {
      "text/plain": [
       "[<matplotlib.lines.Line2D at 0x2aab006964d0>]"
      ]
     },
     "execution_count": 7,
     "metadata": {},
     "output_type": "execute_result"
    },
    {
     "data": {
      "text/plain": [
       "[<matplotlib.lines.Line2D at 0x2aab00696a10>]"
      ]
     },
     "execution_count": 7,
     "metadata": {},
     "output_type": "execute_result"
    },
    {
     "data": {
      "text/plain": [
       "[<matplotlib.lines.Line2D at 0x2aab00696e10>]"
      ]
     },
     "execution_count": 7,
     "metadata": {},
     "output_type": "execute_result"
    },
    {
     "data": {
      "text/plain": [
       "[<matplotlib.lines.Line2D at 0x2aab006ab2d0>]"
      ]
     },
     "execution_count": 7,
     "metadata": {},
     "output_type": "execute_result"
    },
    {
     "data": {
      "text/plain": [
       "[<matplotlib.lines.Line2D at 0x2aab006ab750>]"
      ]
     },
     "execution_count": 7,
     "metadata": {},
     "output_type": "execute_result"
    },
    {
     "data": {
      "text/plain": [
       "[<matplotlib.lines.Line2D at 0x2aab006abbd0>]"
      ]
     },
     "execution_count": 7,
     "metadata": {},
     "output_type": "execute_result"
    },
    {
     "data": {
      "text/plain": [
       "[<matplotlib.lines.Line2D at 0x2aab006b8150>]"
      ]
     },
     "execution_count": 7,
     "metadata": {},
     "output_type": "execute_result"
    },
    {
     "data": {
      "text/plain": [
       "[<matplotlib.lines.Line2D at 0x2aab006b8550>]"
      ]
     },
     "execution_count": 7,
     "metadata": {},
     "output_type": "execute_result"
    },
    {
     "data": {
      "text/plain": [
       "[<matplotlib.lines.Line2D at 0x2aab006b8990>]"
      ]
     },
     "execution_count": 7,
     "metadata": {},
     "output_type": "execute_result"
    },
    {
     "data": {
      "text/plain": [
       "[<matplotlib.lines.Line2D at 0x2aab006b8e50>]"
      ]
     },
     "execution_count": 7,
     "metadata": {},
     "output_type": "execute_result"
    },
    {
     "data": {
      "text/plain": [
       "[<matplotlib.lines.Line2D at 0x2aab006b7310>]"
      ]
     },
     "execution_count": 7,
     "metadata": {},
     "output_type": "execute_result"
    },
    {
     "data": {
      "text/plain": [
       "[<matplotlib.lines.Line2D at 0x2aab006b7810>]"
      ]
     },
     "execution_count": 7,
     "metadata": {},
     "output_type": "execute_result"
    },
    {
     "data": {
      "text/plain": [
       "[<matplotlib.lines.Line2D at 0x2aab006b7c50>]"
      ]
     },
     "execution_count": 7,
     "metadata": {},
     "output_type": "execute_result"
    },
    {
     "data": {
      "text/plain": [
       "[<matplotlib.lines.Line2D at 0x2aab006bf0d0>]"
      ]
     },
     "execution_count": 7,
     "metadata": {},
     "output_type": "execute_result"
    },
    {
     "data": {
      "text/plain": [
       "[<matplotlib.lines.Line2D at 0x2aab006bf590>]"
      ]
     },
     "execution_count": 7,
     "metadata": {},
     "output_type": "execute_result"
    },
    {
     "data": {
      "text/plain": [
       "[<matplotlib.lines.Line2D at 0x2aab006bfa10>]"
      ]
     },
     "execution_count": 7,
     "metadata": {},
     "output_type": "execute_result"
    },
    {
     "data": {
      "text/plain": [
       "[<matplotlib.lines.Line2D at 0x2aab006bff90>]"
      ]
     },
     "execution_count": 7,
     "metadata": {},
     "output_type": "execute_result"
    },
    {
     "data": {
      "text/plain": [
       "[<matplotlib.lines.Line2D at 0x2aab006c7390>]"
      ]
     },
     "execution_count": 7,
     "metadata": {},
     "output_type": "execute_result"
    },
    {
     "data": {
      "text/plain": [
       "[<matplotlib.lines.Line2D at 0x2aab006c77d0>]"
      ]
     },
     "execution_count": 7,
     "metadata": {},
     "output_type": "execute_result"
    },
    {
     "data": {
      "text/plain": [
       "[<matplotlib.lines.Line2D at 0x2aab006c7c90>]"
      ]
     },
     "execution_count": 7,
     "metadata": {},
     "output_type": "execute_result"
    },
    {
     "data": {
      "text/plain": [
       "[<matplotlib.lines.Line2D at 0x2aab006e0150>]"
      ]
     },
     "execution_count": 7,
     "metadata": {},
     "output_type": "execute_result"
    },
    {
     "data": {
      "text/plain": [
       "[<matplotlib.lines.Line2D at 0x2aab006e0650>]"
      ]
     },
     "execution_count": 7,
     "metadata": {},
     "output_type": "execute_result"
    },
    {
     "data": {
      "text/plain": [
       "[<matplotlib.lines.Line2D at 0x2aab006e0a90>]"
      ]
     },
     "execution_count": 7,
     "metadata": {},
     "output_type": "execute_result"
    },
    {
     "data": {
      "text/plain": [
       "[<matplotlib.lines.Line2D at 0x2aab006e0f90>]"
      ]
     },
     "execution_count": 7,
     "metadata": {},
     "output_type": "execute_result"
    },
    {
     "data": {
      "text/plain": [
       "[<matplotlib.lines.Line2D at 0x2aab006dc3d0>]"
      ]
     },
     "execution_count": 7,
     "metadata": {},
     "output_type": "execute_result"
    },
    {
     "data": {
      "text/plain": [
       "[<matplotlib.lines.Line2D at 0x2aab006dc850>]"
      ]
     },
     "execution_count": 7,
     "metadata": {},
     "output_type": "execute_result"
    },
    {
     "data": {
      "text/plain": [
       "[<matplotlib.lines.Line2D at 0x2aab006dcd50>]"
      ]
     },
     "execution_count": 7,
     "metadata": {},
     "output_type": "execute_result"
    },
    {
     "data": {
      "text/plain": [
       "[<matplotlib.lines.Line2D at 0x2aab006e7210>]"
      ]
     },
     "execution_count": 7,
     "metadata": {},
     "output_type": "execute_result"
    },
    {
     "data": {
      "text/plain": [
       "[<matplotlib.lines.Line2D at 0x2aab006e7610>]"
      ]
     },
     "execution_count": 7,
     "metadata": {},
     "output_type": "execute_result"
    },
    {
     "data": {
      "text/plain": [
       "[<matplotlib.lines.Line2D at 0x2aab006e7ad0>]"
      ]
     },
     "execution_count": 7,
     "metadata": {},
     "output_type": "execute_result"
    },
    {
     "data": {
      "text/plain": [
       "[<matplotlib.lines.Line2D at 0x2aab006fc0d0>]"
      ]
     },
     "execution_count": 7,
     "metadata": {},
     "output_type": "execute_result"
    },
    {
     "data": {
      "text/plain": [
       "[<matplotlib.lines.Line2D at 0x2aab006fc4d0>]"
      ]
     },
     "execution_count": 7,
     "metadata": {},
     "output_type": "execute_result"
    },
    {
     "data": {
      "text/plain": [
       "[<matplotlib.lines.Line2D at 0x2aab006fc8d0>]"
      ]
     },
     "execution_count": 7,
     "metadata": {},
     "output_type": "execute_result"
    },
    {
     "data": {
      "text/plain": [
       "[<matplotlib.lines.Line2D at 0x2aab006fcd50>]"
      ]
     },
     "execution_count": 7,
     "metadata": {},
     "output_type": "execute_result"
    },
    {
     "data": {
      "text/plain": [
       "[<matplotlib.lines.Line2D at 0x2aab006fd210>]"
      ]
     },
     "execution_count": 7,
     "metadata": {},
     "output_type": "execute_result"
    },
    {
     "data": {
      "text/plain": [
       "[<matplotlib.lines.Line2D at 0x2aab006fd690>]"
      ]
     },
     "execution_count": 7,
     "metadata": {},
     "output_type": "execute_result"
    },
    {
     "data": {
      "text/plain": [
       "[<matplotlib.lines.Line2D at 0x2aab006fdbd0>]"
      ]
     },
     "execution_count": 7,
     "metadata": {},
     "output_type": "execute_result"
    },
    {
     "data": {
      "text/plain": [
       "[<matplotlib.lines.Line2D at 0x2aab007111d0>]"
      ]
     },
     "execution_count": 7,
     "metadata": {},
     "output_type": "execute_result"
    },
    {
     "data": {
      "text/plain": [
       "[<matplotlib.lines.Line2D at 0x2aab00711490>]"
      ]
     },
     "execution_count": 7,
     "metadata": {},
     "output_type": "execute_result"
    },
    {
     "data": {
      "text/plain": [
       "[<matplotlib.lines.Line2D at 0x2aab00711910>]"
      ]
     },
     "execution_count": 7,
     "metadata": {},
     "output_type": "execute_result"
    },
    {
     "data": {
      "text/plain": [
       "[<matplotlib.lines.Line2D at 0x2aab00711d90>]"
      ]
     },
     "execution_count": 7,
     "metadata": {},
     "output_type": "execute_result"
    },
    {
     "data": {
      "text/plain": [
       "[<matplotlib.lines.Line2D at 0x2aab0070d2d0>]"
      ]
     },
     "execution_count": 7,
     "metadata": {},
     "output_type": "execute_result"
    },
    {
     "data": {
      "text/plain": [
       "[<matplotlib.lines.Line2D at 0x2aab0070d750>]"
      ]
     },
     "execution_count": 7,
     "metadata": {},
     "output_type": "execute_result"
    },
    {
     "data": {
      "text/plain": [
       "[<matplotlib.lines.Line2D at 0x2aab0070db50>]"
      ]
     },
     "execution_count": 7,
     "metadata": {},
     "output_type": "execute_result"
    },
    {
     "data": {
      "text/plain": [
       "[<matplotlib.lines.Line2D at 0x2aab007180d0>]"
      ]
     },
     "execution_count": 7,
     "metadata": {},
     "output_type": "execute_result"
    },
    {
     "data": {
      "text/plain": [
       "[<matplotlib.lines.Line2D at 0x2aab007184d0>]"
      ]
     },
     "execution_count": 7,
     "metadata": {},
     "output_type": "execute_result"
    },
    {
     "data": {
      "text/plain": [
       "[<matplotlib.lines.Line2D at 0x2aab00718a10>]"
      ]
     },
     "execution_count": 7,
     "metadata": {},
     "output_type": "execute_result"
    },
    {
     "data": {
      "text/plain": [
       "[<matplotlib.lines.Line2D at 0x2aab00718e10>]"
      ]
     },
     "execution_count": 7,
     "metadata": {},
     "output_type": "execute_result"
    },
    {
     "data": {
      "text/plain": [
       "[<matplotlib.lines.Line2D at 0x2aab0072c290>]"
      ]
     },
     "execution_count": 7,
     "metadata": {},
     "output_type": "execute_result"
    },
    {
     "data": {
      "text/plain": [
       "[<matplotlib.lines.Line2D at 0x2aab0072c750>]"
      ]
     },
     "execution_count": 7,
     "metadata": {},
     "output_type": "execute_result"
    },
    {
     "data": {
      "text/plain": [
       "[<matplotlib.lines.Line2D at 0x2aab0072cbd0>]"
      ]
     },
     "execution_count": 7,
     "metadata": {},
     "output_type": "execute_result"
    },
    {
     "data": {
      "text/plain": [
       "[<matplotlib.lines.Line2D at 0x2aab0072f190>]"
      ]
     },
     "execution_count": 7,
     "metadata": {},
     "output_type": "execute_result"
    },
    {
     "data": {
      "text/plain": [
       "[<matplotlib.lines.Line2D at 0x2aab0072f590>]"
      ]
     },
     "execution_count": 7,
     "metadata": {},
     "output_type": "execute_result"
    },
    {
     "data": {
      "text/plain": [
       "[<matplotlib.lines.Line2D at 0x2aab0072f9d0>]"
      ]
     },
     "execution_count": 7,
     "metadata": {},
     "output_type": "execute_result"
    },
    {
     "data": {
      "text/plain": [
       "[<matplotlib.lines.Line2D at 0x2aab0072fe50>]"
      ]
     },
     "execution_count": 7,
     "metadata": {},
     "output_type": "execute_result"
    },
    {
     "data": {
      "text/plain": [
       "[<matplotlib.lines.Line2D at 0x2aab00736310>]"
      ]
     },
     "execution_count": 7,
     "metadata": {},
     "output_type": "execute_result"
    },
    {
     "data": {
      "text/plain": [
       "[<matplotlib.lines.Line2D at 0x2aab00736810>]"
      ]
     },
     "execution_count": 7,
     "metadata": {},
     "output_type": "execute_result"
    },
    {
     "data": {
      "text/plain": [
       "[<matplotlib.lines.Line2D at 0x2aab00736c50>]"
      ]
     },
     "execution_count": 7,
     "metadata": {},
     "output_type": "execute_result"
    },
    {
     "data": {
      "text/plain": [
       "[<matplotlib.lines.Line2D at 0x2aab007430d0>]"
      ]
     },
     "execution_count": 7,
     "metadata": {},
     "output_type": "execute_result"
    },
    {
     "data": {
      "text/plain": [
       "[<matplotlib.lines.Line2D at 0x2aab00743590>]"
      ]
     },
     "execution_count": 7,
     "metadata": {},
     "output_type": "execute_result"
    },
    {
     "data": {
      "text/plain": [
       "[<matplotlib.lines.Line2D at 0x2aab00743a10>]"
      ]
     },
     "execution_count": 7,
     "metadata": {},
     "output_type": "execute_result"
    },
    {
     "data": {
      "text/plain": [
       "[<matplotlib.lines.Line2D at 0x2aab00743f90>]"
      ]
     },
     "execution_count": 7,
     "metadata": {},
     "output_type": "execute_result"
    },
    {
     "data": {
      "text/plain": [
       "[<matplotlib.lines.Line2D at 0x2aab00757390>]"
      ]
     },
     "execution_count": 7,
     "metadata": {},
     "output_type": "execute_result"
    },
    {
     "data": {
      "text/plain": [
       "[<matplotlib.lines.Line2D at 0x2aab007577d0>]"
      ]
     },
     "execution_count": 7,
     "metadata": {},
     "output_type": "execute_result"
    },
    {
     "data": {
      "text/plain": [
       "[<matplotlib.lines.Line2D at 0x2aab00757c90>]"
      ]
     },
     "execution_count": 7,
     "metadata": {},
     "output_type": "execute_result"
    },
    {
     "data": {
      "text/plain": [
       "[<matplotlib.lines.Line2D at 0x2aab00762190>]"
      ]
     },
     "execution_count": 7,
     "metadata": {},
     "output_type": "execute_result"
    },
    {
     "data": {
      "text/plain": [
       "[<matplotlib.lines.Line2D at 0x2aab00762650>]"
      ]
     },
     "execution_count": 7,
     "metadata": {},
     "output_type": "execute_result"
    },
    {
     "data": {
      "text/plain": [
       "[<matplotlib.lines.Line2D at 0x2aab00762a90>]"
      ]
     },
     "execution_count": 7,
     "metadata": {},
     "output_type": "execute_result"
    },
    {
     "data": {
      "text/plain": [
       "[<matplotlib.lines.Line2D at 0x2aab00762f90>]"
      ]
     },
     "execution_count": 7,
     "metadata": {},
     "output_type": "execute_result"
    },
    {
     "data": {
      "text/plain": [
       "[<matplotlib.lines.Line2D at 0x2aab0075d3d0>]"
      ]
     },
     "execution_count": 7,
     "metadata": {},
     "output_type": "execute_result"
    },
    {
     "data": {
      "text/plain": [
       "[<matplotlib.lines.Line2D at 0x2aab0075d850>]"
      ]
     },
     "execution_count": 7,
     "metadata": {},
     "output_type": "execute_result"
    },
    {
     "data": {
      "text/plain": [
       "[<matplotlib.lines.Line2D at 0x2aab0075dd50>]"
      ]
     },
     "execution_count": 7,
     "metadata": {},
     "output_type": "execute_result"
    },
    {
     "data": {
      "text/plain": [
       "[<matplotlib.lines.Line2D at 0x2aab007691d0>]"
      ]
     },
     "execution_count": 7,
     "metadata": {},
     "output_type": "execute_result"
    },
    {
     "data": {
      "text/plain": [
       "[<matplotlib.lines.Line2D at 0x2aab00769610>]"
      ]
     },
     "execution_count": 7,
     "metadata": {},
     "output_type": "execute_result"
    },
    {
     "data": {
      "text/plain": [
       "[<matplotlib.lines.Line2D at 0x2aab00769b50>]"
      ]
     },
     "execution_count": 7,
     "metadata": {},
     "output_type": "execute_result"
    },
    {
     "data": {
      "text/plain": [
       "[<matplotlib.lines.Line2D at 0x2aab00770050>]"
      ]
     },
     "execution_count": 7,
     "metadata": {},
     "output_type": "execute_result"
    },
    {
     "data": {
      "text/plain": [
       "[<matplotlib.lines.Line2D at 0x2aab00770490>]"
      ]
     },
     "execution_count": 7,
     "metadata": {},
     "output_type": "execute_result"
    },
    {
     "data": {
      "text/plain": [
       "[<matplotlib.lines.Line2D at 0x2aab00770890>]"
      ]
     },
     "execution_count": 7,
     "metadata": {},
     "output_type": "execute_result"
    },
    {
     "data": {
      "text/plain": [
       "[<matplotlib.lines.Line2D at 0x2aab00770d10>]"
      ]
     },
     "execution_count": 7,
     "metadata": {},
     "output_type": "execute_result"
    },
    {
     "data": {
      "text/plain": [
       "[<matplotlib.lines.Line2D at 0x2aab0077f210>]"
      ]
     },
     "execution_count": 7,
     "metadata": {},
     "output_type": "execute_result"
    },
    {
     "data": {
      "text/plain": [
       "[<matplotlib.lines.Line2D at 0x2aab0077f690>]"
      ]
     },
     "execution_count": 7,
     "metadata": {},
     "output_type": "execute_result"
    },
    {
     "data": {
      "text/plain": [
       "[<matplotlib.lines.Line2D at 0x2aab0077fbd0>]"
      ]
     },
     "execution_count": 7,
     "metadata": {},
     "output_type": "execute_result"
    },
    {
     "data": {
      "text/plain": [
       "[<matplotlib.lines.Line2D at 0x2aab00791090>]"
      ]
     },
     "execution_count": 7,
     "metadata": {},
     "output_type": "execute_result"
    },
    {
     "data": {
      "text/plain": [
       "[<matplotlib.lines.Line2D at 0x2aab00791450>]"
      ]
     },
     "execution_count": 7,
     "metadata": {},
     "output_type": "execute_result"
    },
    {
     "data": {
      "text/plain": [
       "[<matplotlib.lines.Line2D at 0x2aab00791910>]"
      ]
     },
     "execution_count": 7,
     "metadata": {},
     "output_type": "execute_result"
    },
    {
     "data": {
      "text/plain": [
       "[<matplotlib.lines.Line2D at 0x2aab00791dd0>]"
      ]
     },
     "execution_count": 7,
     "metadata": {},
     "output_type": "execute_result"
    },
    {
     "data": {
      "text/plain": [
       "[<matplotlib.lines.Line2D at 0x2aab00792310>]"
      ]
     },
     "execution_count": 7,
     "metadata": {},
     "output_type": "execute_result"
    },
    {
     "data": {
      "text/plain": [
       "[<matplotlib.lines.Line2D at 0x2aab00792750>]"
      ]
     },
     "execution_count": 7,
     "metadata": {},
     "output_type": "execute_result"
    },
    {
     "data": {
      "text/plain": [
       "[<matplotlib.lines.Line2D at 0x2aab00792b50>]"
      ]
     },
     "execution_count": 7,
     "metadata": {},
     "output_type": "execute_result"
    },
    {
     "data": {
      "text/plain": [
       "[<matplotlib.lines.Line2D at 0x2aab007990d0>]"
      ]
     },
     "execution_count": 7,
     "metadata": {},
     "output_type": "execute_result"
    },
    {
     "data": {
      "text/plain": [
       "[<matplotlib.lines.Line2D at 0x2aab007994d0>]"
      ]
     },
     "execution_count": 7,
     "metadata": {},
     "output_type": "execute_result"
    },
    {
     "data": {
      "text/plain": [
       "[<matplotlib.lines.Line2D at 0x2aab00799a10>]"
      ]
     },
     "execution_count": 7,
     "metadata": {},
     "output_type": "execute_result"
    },
    {
     "data": {
      "text/plain": [
       "[<matplotlib.lines.Line2D at 0x2aab00799fd0>]"
      ]
     },
     "execution_count": 7,
     "metadata": {},
     "output_type": "execute_result"
    },
    {
     "data": {
      "text/plain": [
       "[<matplotlib.lines.Line2D at 0x2aab007a4290>]"
      ]
     },
     "execution_count": 7,
     "metadata": {},
     "output_type": "execute_result"
    },
    {
     "data": {
      "text/plain": [
       "[<matplotlib.lines.Line2D at 0x2aab007a4750>]"
      ]
     },
     "execution_count": 7,
     "metadata": {},
     "output_type": "execute_result"
    },
    {
     "data": {
      "text/plain": [
       "[<matplotlib.lines.Line2D at 0x2aab007a4bd0>]"
      ]
     },
     "execution_count": 7,
     "metadata": {},
     "output_type": "execute_result"
    },
    {
     "data": {
      "text/plain": [
       "[<matplotlib.lines.Line2D at 0x2aab007bc150>]"
      ]
     },
     "execution_count": 7,
     "metadata": {},
     "output_type": "execute_result"
    },
    {
     "data": {
      "text/plain": [
       "[<matplotlib.lines.Line2D at 0x2aab007bc550>]"
      ]
     },
     "execution_count": 7,
     "metadata": {},
     "output_type": "execute_result"
    },
    {
     "data": {
      "text/plain": [
       "[<matplotlib.lines.Line2D at 0x2aab007bc9d0>]"
      ]
     },
     "execution_count": 7,
     "metadata": {},
     "output_type": "execute_result"
    },
    {
     "data": {
      "text/plain": [
       "[<matplotlib.lines.Line2D at 0x2aab007bce50>]"
      ]
     },
     "execution_count": 7,
     "metadata": {},
     "output_type": "execute_result"
    },
    {
     "data": {
      "text/plain": [
       "[<matplotlib.lines.Line2D at 0x2aab007b7410>]"
      ]
     },
     "execution_count": 7,
     "metadata": {},
     "output_type": "execute_result"
    },
    {
     "data": {
      "text/plain": [
       "[<matplotlib.lines.Line2D at 0x2aab007b7850>]"
      ]
     },
     "execution_count": 7,
     "metadata": {},
     "output_type": "execute_result"
    },
    {
     "data": {
      "text/plain": [
       "[<matplotlib.lines.Line2D at 0x2aab007b7c90>]"
      ]
     },
     "execution_count": 7,
     "metadata": {},
     "output_type": "execute_result"
    },
    {
     "data": {
      "text/plain": [
       "[<matplotlib.lines.Line2D at 0x2aab007c30d0>]"
      ]
     },
     "execution_count": 7,
     "metadata": {},
     "output_type": "execute_result"
    },
    {
     "data": {
      "text/plain": [
       "[<matplotlib.lines.Line2D at 0x2aab007c3590>]"
      ]
     },
     "execution_count": 7,
     "metadata": {},
     "output_type": "execute_result"
    },
    {
     "data": {
      "text/plain": [
       "[<matplotlib.lines.Line2D at 0x2aab007c3b10>]"
      ]
     },
     "execution_count": 7,
     "metadata": {},
     "output_type": "execute_result"
    },
    {
     "data": {
      "text/plain": [
       "[<matplotlib.lines.Line2D at 0x2aab007c3fd0>]"
      ]
     },
     "execution_count": 7,
     "metadata": {},
     "output_type": "execute_result"
    },
    {
     "data": {
      "text/plain": [
       "[<matplotlib.lines.Line2D at 0x2aab007d73d0>]"
      ]
     },
     "execution_count": 7,
     "metadata": {},
     "output_type": "execute_result"
    },
    {
     "data": {
      "text/plain": [
       "[<matplotlib.lines.Line2D at 0x2aab007d77d0>]"
      ]
     },
     "execution_count": 7,
     "metadata": {},
     "output_type": "execute_result"
    },
    {
     "data": {
      "text/plain": [
       "[<matplotlib.lines.Line2D at 0x2aab007d7c90>]"
      ]
     },
     "execution_count": 7,
     "metadata": {},
     "output_type": "execute_result"
    },
    {
     "data": {
      "text/plain": [
       "[<matplotlib.lines.Line2D at 0x2aab007e3150>]"
      ]
     },
     "execution_count": 7,
     "metadata": {},
     "output_type": "execute_result"
    },
    {
     "data": {
      "text/plain": [
       "[<matplotlib.lines.Line2D at 0x2aab007e3690>]"
      ]
     },
     "execution_count": 7,
     "metadata": {},
     "output_type": "execute_result"
    },
    {
     "data": {
      "text/plain": [
       "[<matplotlib.lines.Line2D at 0x2aab007e3c50>]"
      ]
     },
     "execution_count": 7,
     "metadata": {},
     "output_type": "execute_result"
    },
    {
     "data": {
      "text/plain": [
       "[<matplotlib.lines.Line2D at 0x2aab007e3f90>]"
      ]
     },
     "execution_count": 7,
     "metadata": {},
     "output_type": "execute_result"
    },
    {
     "data": {
      "text/plain": [
       "[<matplotlib.lines.Line2D at 0x2aab007de3d0>]"
      ]
     },
     "execution_count": 7,
     "metadata": {},
     "output_type": "execute_result"
    },
    {
     "data": {
      "text/plain": [
       "[<matplotlib.lines.Line2D at 0x2aab007de850>]"
      ]
     },
     "execution_count": 7,
     "metadata": {},
     "output_type": "execute_result"
    },
    {
     "data": {
      "text/plain": [
       "[<matplotlib.lines.Line2D at 0x2aab007ded50>]"
      ]
     },
     "execution_count": 7,
     "metadata": {},
     "output_type": "execute_result"
    },
    {
     "data": {
      "text/plain": [
       "[<matplotlib.lines.Line2D at 0x2aab007e51d0>]"
      ]
     },
     "execution_count": 7,
     "metadata": {},
     "output_type": "execute_result"
    },
    {
     "data": {
      "text/plain": [
       "[<matplotlib.lines.Line2D at 0x2aab007e5650>]"
      ]
     },
     "execution_count": 7,
     "metadata": {},
     "output_type": "execute_result"
    },
    {
     "data": {
      "text/plain": [
       "[<matplotlib.lines.Line2D at 0x2aab007e5ad0>]"
      ]
     },
     "execution_count": 7,
     "metadata": {},
     "output_type": "execute_result"
    },
    {
     "data": {
      "text/plain": [
       "[<matplotlib.lines.Line2D at 0x2aab008010d0>]"
      ]
     },
     "execution_count": 7,
     "metadata": {},
     "output_type": "execute_result"
    },
    {
     "data": {
      "text/plain": [
       "[<matplotlib.lines.Line2D at 0x2aab00801490>]"
      ]
     },
     "execution_count": 7,
     "metadata": {},
     "output_type": "execute_result"
    },
    {
     "data": {
      "text/plain": [
       "[<matplotlib.lines.Line2D at 0x2aab00801910>]"
      ]
     },
     "execution_count": 7,
     "metadata": {},
     "output_type": "execute_result"
    },
    {
     "data": {
      "text/plain": [
       "[<matplotlib.lines.Line2D at 0x2aab00801d10>]"
      ]
     },
     "execution_count": 7,
     "metadata": {},
     "output_type": "execute_result"
    },
    {
     "data": {
      "text/plain": [
       "[<matplotlib.lines.Line2D at 0x2aab007fe210>]"
      ]
     },
     "execution_count": 7,
     "metadata": {},
     "output_type": "execute_result"
    },
    {
     "data": {
      "text/plain": [
       "[<matplotlib.lines.Line2D at 0x2aab007fe690>]"
      ]
     },
     "execution_count": 7,
     "metadata": {},
     "output_type": "execute_result"
    },
    {
     "data": {
      "text/plain": [
       "[<matplotlib.lines.Line2D at 0x2aab007feb90>]"
      ]
     },
     "execution_count": 7,
     "metadata": {},
     "output_type": "execute_result"
    },
    {
     "data": {
      "text/plain": [
       "[<matplotlib.lines.Line2D at 0x2aab00814050>]"
      ]
     },
     "execution_count": 7,
     "metadata": {},
     "output_type": "execute_result"
    },
    {
     "data": {
      "text/plain": [
       "[<matplotlib.lines.Line2D at 0x2aab00814450>]"
      ]
     },
     "execution_count": 7,
     "metadata": {},
     "output_type": "execute_result"
    },
    {
     "data": {
      "text/plain": [
       "[<matplotlib.lines.Line2D at 0x2aab00814910>]"
      ]
     },
     "execution_count": 7,
     "metadata": {},
     "output_type": "execute_result"
    },
    {
     "data": {
      "text/plain": [
       "[<matplotlib.lines.Line2D at 0x2aab00814d90>]"
      ]
     },
     "execution_count": 7,
     "metadata": {},
     "output_type": "execute_result"
    },
    {
     "data": {
      "text/plain": [
       "[<matplotlib.lines.Line2D at 0x2aab008102d0>]"
      ]
     },
     "execution_count": 7,
     "metadata": {},
     "output_type": "execute_result"
    },
    {
     "data": {
      "text/plain": [
       "[<matplotlib.lines.Line2D at 0x2aab00810750>]"
      ]
     },
     "execution_count": 7,
     "metadata": {},
     "output_type": "execute_result"
    },
    {
     "data": {
      "text/plain": [
       "[<matplotlib.lines.Line2D at 0x2aab00810b50>]"
      ]
     },
     "execution_count": 7,
     "metadata": {},
     "output_type": "execute_result"
    },
    {
     "data": {
      "text/plain": [
       "[<matplotlib.lines.Line2D at 0x2aab008280d0>]"
      ]
     },
     "execution_count": 7,
     "metadata": {},
     "output_type": "execute_result"
    },
    {
     "data": {
      "text/plain": [
       "[<matplotlib.lines.Line2D at 0x2aab008285d0>]"
      ]
     },
     "execution_count": 7,
     "metadata": {},
     "output_type": "execute_result"
    },
    {
     "data": {
      "text/plain": [
       "[<matplotlib.lines.Line2D at 0x2aab008289d0>]"
      ]
     },
     "execution_count": 7,
     "metadata": {},
     "output_type": "execute_result"
    },
    {
     "data": {
      "text/plain": [
       "[<matplotlib.lines.Line2D at 0x2aab00828e50>]"
      ]
     },
     "execution_count": 7,
     "metadata": {},
     "output_type": "execute_result"
    },
    {
     "data": {
      "text/plain": [
       "[<matplotlib.lines.Line2D at 0x2aab00825450>]"
      ]
     },
     "execution_count": 7,
     "metadata": {},
     "output_type": "execute_result"
    },
    {
     "data": {
      "text/plain": [
       "[<matplotlib.lines.Line2D at 0x2aab00825750>]"
      ]
     },
     "execution_count": 7,
     "metadata": {},
     "output_type": "execute_result"
    },
    {
     "data": {
      "text/plain": [
       "[<matplotlib.lines.Line2D at 0x2aab00825cd0>]"
      ]
     },
     "execution_count": 7,
     "metadata": {},
     "output_type": "execute_result"
    },
    {
     "data": {
      "text/plain": [
       "[<matplotlib.lines.Line2D at 0x2aab0083c150>]"
      ]
     },
     "execution_count": 7,
     "metadata": {},
     "output_type": "execute_result"
    },
    {
     "data": {
      "text/plain": [
       "[<matplotlib.lines.Line2D at 0x2aab0083c550>]"
      ]
     },
     "execution_count": 7,
     "metadata": {},
     "output_type": "execute_result"
    },
    {
     "data": {
      "text/plain": [
       "[<matplotlib.lines.Line2D at 0x2aab0083c990>]"
      ]
     },
     "execution_count": 7,
     "metadata": {},
     "output_type": "execute_result"
    },
    {
     "data": {
      "text/plain": [
       "[<matplotlib.lines.Line2D at 0x2aab0083ce50>]"
      ]
     },
     "execution_count": 7,
     "metadata": {},
     "output_type": "execute_result"
    },
    {
     "data": {
      "text/plain": [
       "[<matplotlib.lines.Line2D at 0x2aab00845310>]"
      ]
     },
     "execution_count": 7,
     "metadata": {},
     "output_type": "execute_result"
    },
    {
     "data": {
      "text/plain": [
       "[<matplotlib.lines.Line2D at 0x2aab00845810>]"
      ]
     },
     "execution_count": 7,
     "metadata": {},
     "output_type": "execute_result"
    },
    {
     "data": {
      "text/plain": [
       "[<matplotlib.lines.Line2D at 0x2aab00845c50>]"
      ]
     },
     "execution_count": 7,
     "metadata": {},
     "output_type": "execute_result"
    },
    {
     "data": {
      "text/plain": [
       "[<matplotlib.lines.Line2D at 0x2aab00850110>]"
      ]
     },
     "execution_count": 7,
     "metadata": {},
     "output_type": "execute_result"
    },
    {
     "data": {
      "text/plain": [
       "[<matplotlib.lines.Line2D at 0x2aab00850590>]"
      ]
     },
     "execution_count": 7,
     "metadata": {},
     "output_type": "execute_result"
    },
    {
     "data": {
      "text/plain": [
       "[<matplotlib.lines.Line2D at 0x2aab00850a10>]"
      ]
     },
     "execution_count": 7,
     "metadata": {},
     "output_type": "execute_result"
    },
    {
     "data": {
      "text/plain": [
       "[<matplotlib.lines.Line2D at 0x2aab00850f90>]"
      ]
     },
     "execution_count": 7,
     "metadata": {},
     "output_type": "execute_result"
    },
    {
     "data": {
      "text/plain": [
       "[<matplotlib.lines.Line2D at 0x2aab0084e3d0>]"
      ]
     },
     "execution_count": 7,
     "metadata": {},
     "output_type": "execute_result"
    },
    {
     "data": {
      "text/plain": [
       "[<matplotlib.lines.Line2D at 0x2aab0084e7d0>]"
      ]
     },
     "execution_count": 7,
     "metadata": {},
     "output_type": "execute_result"
    },
    {
     "data": {
      "text/plain": [
       "[<matplotlib.lines.Line2D at 0x2aab0084ec90>]"
      ]
     },
     "execution_count": 7,
     "metadata": {},
     "output_type": "execute_result"
    },
    {
     "data": {
      "text/plain": [
       "[<matplotlib.lines.Line2D at 0x2aab00864150>]"
      ]
     },
     "execution_count": 7,
     "metadata": {},
     "output_type": "execute_result"
    },
    {
     "data": {
      "text/plain": [
       "[<matplotlib.lines.Line2D at 0x2aab00864690>]"
      ]
     },
     "execution_count": 7,
     "metadata": {},
     "output_type": "execute_result"
    },
    {
     "data": {
      "text/plain": [
       "[<matplotlib.lines.Line2D at 0x2aab00864ad0>]"
      ]
     },
     "execution_count": 7,
     "metadata": {},
     "output_type": "execute_result"
    },
    {
     "data": {
      "text/plain": [
       "[<matplotlib.lines.Line2D at 0x2aab00864f50>]"
      ]
     },
     "execution_count": 7,
     "metadata": {},
     "output_type": "execute_result"
    },
    {
     "data": {
      "text/plain": [
       "[<matplotlib.lines.Line2D at 0x2aab0086d3d0>]"
      ]
     },
     "execution_count": 7,
     "metadata": {},
     "output_type": "execute_result"
    },
    {
     "data": {
      "text/plain": [
       "[<matplotlib.lines.Line2D at 0x2aab0086d890>]"
      ]
     },
     "execution_count": 7,
     "metadata": {},
     "output_type": "execute_result"
    },
    {
     "data": {
      "text/plain": [
       "[<matplotlib.lines.Line2D at 0x2aab0086dd50>]"
      ]
     },
     "execution_count": 7,
     "metadata": {},
     "output_type": "execute_result"
    },
    {
     "data": {
      "text/plain": [
       "[<matplotlib.lines.Line2D at 0x2aab0086c1d0>]"
      ]
     },
     "execution_count": 7,
     "metadata": {},
     "output_type": "execute_result"
    },
    {
     "data": {
      "text/plain": [
       "[<matplotlib.lines.Line2D at 0x2aab0086c650>]"
      ]
     },
     "execution_count": 7,
     "metadata": {},
     "output_type": "execute_result"
    },
    {
     "data": {
      "text/plain": [
       "[<matplotlib.lines.Line2D at 0x2aab0086cad0>]"
      ]
     },
     "execution_count": 7,
     "metadata": {},
     "output_type": "execute_result"
    },
    {
     "data": {
      "text/plain": [
       "[<matplotlib.lines.Line2D at 0x2aab008810d0>]"
      ]
     },
     "execution_count": 7,
     "metadata": {},
     "output_type": "execute_result"
    },
    {
     "data": {
      "text/plain": [
       "[<matplotlib.lines.Line2D at 0x2aab00881490>]"
      ]
     },
     "execution_count": 7,
     "metadata": {},
     "output_type": "execute_result"
    },
    {
     "data": {
      "text/plain": [
       "[<matplotlib.lines.Line2D at 0x2aab00881a90>]"
      ]
     },
     "execution_count": 7,
     "metadata": {},
     "output_type": "execute_result"
    },
    {
     "data": {
      "text/plain": [
       "[<matplotlib.lines.Line2D at 0x2aab00881d10>]"
      ]
     },
     "execution_count": 7,
     "metadata": {},
     "output_type": "execute_result"
    },
    {
     "data": {
      "text/plain": [
       "[<matplotlib.lines.Line2D at 0x2aab00880210>]"
      ]
     },
     "execution_count": 7,
     "metadata": {},
     "output_type": "execute_result"
    },
    {
     "data": {
      "text/plain": [
       "[<matplotlib.lines.Line2D at 0x2aab00880690>]"
      ]
     },
     "execution_count": 7,
     "metadata": {},
     "output_type": "execute_result"
    },
    {
     "data": {
      "text/plain": [
       "[<matplotlib.lines.Line2D at 0x2aab00880b90>]"
      ]
     },
     "execution_count": 7,
     "metadata": {},
     "output_type": "execute_result"
    },
    {
     "data": {
      "text/plain": [
       "[<matplotlib.lines.Line2D at 0x2aab008951d0>]"
      ]
     },
     "execution_count": 7,
     "metadata": {},
     "output_type": "execute_result"
    },
    {
     "data": {
      "text/plain": [
       "[<matplotlib.lines.Line2D at 0x2aab00895450>]"
      ]
     },
     "execution_count": 7,
     "metadata": {},
     "output_type": "execute_result"
    },
    {
     "data": {
      "text/plain": [
       "[<matplotlib.lines.Line2D at 0x2aab00895910>]"
      ]
     },
     "execution_count": 7,
     "metadata": {},
     "output_type": "execute_result"
    },
    {
     "data": {
      "text/plain": [
       "[<matplotlib.lines.Line2D at 0x2aab00895dd0>]"
      ]
     },
     "execution_count": 7,
     "metadata": {},
     "output_type": "execute_result"
    },
    {
     "data": {
      "text/plain": [
       "[<matplotlib.lines.Line2D at 0x2aab00893310>]"
      ]
     },
     "execution_count": 7,
     "metadata": {},
     "output_type": "execute_result"
    },
    {
     "data": {
      "text/plain": [
       "[<matplotlib.lines.Line2D at 0x2aab00893750>]"
      ]
     },
     "execution_count": 7,
     "metadata": {},
     "output_type": "execute_result"
    },
    {
     "data": {
      "text/plain": [
       "[<matplotlib.lines.Line2D at 0x2aab00893b50>]"
      ]
     },
     "execution_count": 7,
     "metadata": {},
     "output_type": "execute_result"
    },
    {
     "data": {
      "text/plain": [
       "[<matplotlib.lines.Line2D at 0x2aab008a00d0>]"
      ]
     },
     "execution_count": 7,
     "metadata": {},
     "output_type": "execute_result"
    },
    {
     "data": {
      "text/plain": [
       "[<matplotlib.lines.Line2D at 0x2aab008a04d0>]"
      ]
     },
     "execution_count": 7,
     "metadata": {},
     "output_type": "execute_result"
    },
    {
     "data": {
      "text/plain": [
       "[<matplotlib.lines.Line2D at 0x2aab008a09d0>]"
      ]
     },
     "execution_count": 7,
     "metadata": {},
     "output_type": "execute_result"
    },
    {
     "data": {
      "text/plain": [
       "[<matplotlib.lines.Line2D at 0x2aab008a0e10>]"
      ]
     },
     "execution_count": 7,
     "metadata": {},
     "output_type": "execute_result"
    },
    {
     "data": {
      "text/plain": [
       "[<matplotlib.lines.Line2D at 0x2aab008a7290>]"
      ]
     },
     "execution_count": 7,
     "metadata": {},
     "output_type": "execute_result"
    },
    {
     "data": {
      "image/png": "[encoded data removed]",
      "text/plain": [
       "<Figure size 432x288 with 1 Axes>"
      ]
     },
     "metadata": {
      "needs_background": "light"
     },
     "output_type": "display_data"
    }
   ],
   "source": [
    "for tind in np.arange(50):\n",
    "    hs=np.asarray(d.h5f['[G02] voxel value histogram counts/T'+str(tind)])\n",
    "    lbind=np.int(d.h5f['[D7] threshold lower bound index'][tind])\n",
    "    spind=np.int(d.h5f['[D3] threshold saddle point index'][tind])\n",
    "    ubind=np.int(d.h5f['[D5] threshold upper bound index'][tind])\n",
    "    bc=np.asarray(d.h5f['[G01] voxel value bin centers/T'+str(tind)])\n",
    "    plt.plot(bc,(hs+1)**0.01+tind*0.01)\n",
    "    lgind=np.where(bc>=lgs[tind])[0][0]\n",
    "    plt.plot(bc[lbind], (hs[lbind]+1)**0.01+tind*0.01,'ro')\n",
    "    plt.plot(bc[spind], (hs[spind]+1)**0.01+tind*0.01,'bo')\n",
    "    plt.plot(bc[ubind], (hs[ubind]+1)**0.01+tind*0.01,'go')\n",
    "    plt.plot(bc[lgind], (hs[lgind]+1)**0.01+tind*0.01,'mo')"
   ]
  },
  {
   "cell_type": "code",
   "execution_count": 8,
   "metadata": {
    "scrolled": true
   },
   "outputs": [
    {
     "data": {
      "text/plain": [
       "<Figure size 432x288 with 0 Axes>"
      ]
     },
     "execution_count": 8,
     "metadata": {},
     "output_type": "execute_result"
    },
    {
     "data": {
      "text/plain": [
       "<matplotlib.image.AxesImage at 0x2aab03c18850>"
      ]
     },
     "execution_count": 8,
     "metadata": {},
     "output_type": "execute_result"
    },
    {
     "name": "stdout",
     "output_type": "stream",
     "text": [
      "EXTRACT SURFACE  Trimmed_cell3_Iter_ch0_stack0000_3nm_0000000msec_0260029666msecAbs\n",
      "input file is /p/lscratchh/yi10/llsm-data/2021-10-29-find-engulfed-Legionella/results_dsk/cell3_Iter_deskewed/trimmed_stacks/Trimmed_cell3_Iter_ch0_stack0000_3nm_0000000msec_0260029666msecAbs.tif\n",
      "create binary mask with threshold 1458.0\n",
      "kernel size for morphological operation is 3\n",
      "Apply closing operation\n",
      "Apply opening operation\n",
      "Apply marching cubes\n",
      "Get the largest connected component\n",
      "smooth surface with laplacian filter with 10 steps and relaxation factor 0.1\n",
      "save surface to /p/lscratchh/yi10/test\n",
      "EXTRACT SURFACE  Trimmed_cell3_Iter_ch0_stack0000_3nm_0000000msec_0260029666msecAbs\n",
      "input file is /p/lscratchh/yi10/llsm-data/2021-10-29-find-engulfed-Legionella/results_dsk/cell3_Iter_deskewed/trimmed_stacks/Trimmed_cell3_Iter_ch0_stack0000_3nm_0000000msec_0260029666msecAbs.tif\n",
      "create binary mask with threshold [386.]\n",
      "kernel size for morphological operation is 3\n",
      "Apply closing operation\n",
      "Apply opening operation\n",
      "Apply marching cubes\n",
      "Get the largest connected component\n",
      "smooth surface with laplacian filter with 10 steps and relaxation factor 0.1\n",
      "save surface to /p/lscratchh/yi10/test\n"
     ]
    },
    {
     "data": {
      "text/plain": [
       "<Figure size 432x288 with 0 Axes>"
      ]
     },
     "execution_count": 8,
     "metadata": {},
     "output_type": "execute_result"
    },
    {
     "data": {
      "text/plain": [
       "<matplotlib.image.AxesImage at 0x2aab03c608d0>"
      ]
     },
     "execution_count": 8,
     "metadata": {},
     "output_type": "execute_result"
    },
    {
     "name": "stdout",
     "output_type": "stream",
     "text": [
      "EXTRACT SURFACE  Trimmed_cell3_Iter_ch0_stack0001_3nm_0031044msec_0260060710msecAbs\n",
      "input file is /p/lscratchh/yi10/llsm-data/2021-10-29-find-engulfed-Legionella/results_dsk/cell3_Iter_deskewed/trimmed_stacks/Trimmed_cell3_Iter_ch0_stack0001_3nm_0031044msec_0260060710msecAbs.tif\n",
      "create binary mask with threshold 1469.5\n",
      "kernel size for morphological operation is 3\n",
      "Apply closing operation\n",
      "Apply opening operation\n",
      "Apply marching cubes\n",
      "Get the largest connected component\n",
      "smooth surface with laplacian filter with 10 steps and relaxation factor 0.1\n",
      "save surface to /p/lscratchh/yi10/test\n",
      "EXTRACT SURFACE  Trimmed_cell3_Iter_ch0_stack0001_3nm_0031044msec_0260060710msecAbs\n",
      "input file is /p/lscratchh/yi10/llsm-data/2021-10-29-find-engulfed-Legionella/results_dsk/cell3_Iter_deskewed/trimmed_stacks/Trimmed_cell3_Iter_ch0_stack0001_3nm_0031044msec_0260060710msecAbs.tif\n",
      "create binary mask with threshold [377.5]\n",
      "kernel size for morphological operation is 3\n",
      "Apply closing operation\n",
      "Apply opening operation\n",
      "Apply marching cubes\n",
      "Get the largest connected component\n",
      "smooth surface with laplacian filter with 10 steps and relaxation factor 0.1\n",
      "save surface to /p/lscratchh/yi10/test\n"
     ]
    },
    {
     "data": {
      "text/plain": [
       "<Figure size 432x288 with 0 Axes>"
      ]
     },
     "execution_count": 8,
     "metadata": {},
     "output_type": "execute_result"
    },
    {
     "data": {
      "text/plain": [
       "<matplotlib.image.AxesImage at 0x2aab03ea4a10>"
      ]
     },
     "execution_count": 8,
     "metadata": {},
     "output_type": "execute_result"
    },
    {
     "name": "stdout",
     "output_type": "stream",
     "text": [
      "EXTRACT SURFACE  Trimmed_cell3_Iter_ch0_stack0002_3nm_0062128msec_0260091794msecAbs\n",
      "input file is /p/lscratchh/yi10/llsm-data/2021-10-29-find-engulfed-Legionella/results_dsk/cell3_Iter_deskewed/trimmed_stacks/Trimmed_cell3_Iter_ch0_stack0002_3nm_0062128msec_0260091794msecAbs.tif\n",
      "create binary mask with threshold 1442.0\n",
      "kernel size for morphological operation is 3\n",
      "Apply closing operation\n",
      "Apply opening operation\n",
      "Apply marching cubes\n",
      "Get the largest connected component\n",
      "smooth surface with laplacian filter with 10 steps and relaxation factor 0.1\n",
      "save surface to /p/lscratchh/yi10/test\n",
      "EXTRACT SURFACE  Trimmed_cell3_Iter_ch0_stack0002_3nm_0062128msec_0260091794msecAbs\n",
      "input file is /p/lscratchh/yi10/llsm-data/2021-10-29-find-engulfed-Legionella/results_dsk/cell3_Iter_deskewed/trimmed_stacks/Trimmed_cell3_Iter_ch0_stack0002_3nm_0062128msec_0260091794msecAbs.tif\n",
      "create binary mask with threshold [370.]\n",
      "kernel size for morphological operation is 3\n",
      "Apply closing operation\n",
      "Apply opening operation\n",
      "Apply marching cubes\n",
      "Get the largest connected component\n",
      "smooth surface with laplacian filter with 10 steps and relaxation factor 0.1\n",
      "save surface to /p/lscratchh/yi10/test\n"
     ]
    },
    {
     "data": {
      "text/plain": [
       "<Figure size 432x288 with 0 Axes>"
      ]
     },
     "execution_count": 8,
     "metadata": {},
     "output_type": "execute_result"
    },
    {
     "data": {
      "text/plain": [
       "<matplotlib.image.AxesImage at 0x2aab011b6b50>"
      ]
     },
     "execution_count": 8,
     "metadata": {},
     "output_type": "execute_result"
    },
    {
     "name": "stdout",
     "output_type": "stream",
     "text": [
      "EXTRACT SURFACE  Trimmed_cell3_Iter_ch0_stack0003_3nm_0093192msec_0260122858msecAbs\n",
      "input file is /p/lscratchh/yi10/llsm-data/2021-10-29-find-engulfed-Legionella/results_dsk/cell3_Iter_deskewed/trimmed_stacks/Trimmed_cell3_Iter_ch0_stack0003_3nm_0093192msec_0260122858msecAbs.tif\n",
      "create binary mask with threshold 1427.0\n",
      "kernel size for morphological operation is 3\n",
      "Apply closing operation\n",
      "Apply opening operation\n",
      "Apply marching cubes\n",
      "Get the largest connected component\n",
      "smooth surface with laplacian filter with 10 steps and relaxation factor 0.1\n",
      "save surface to /p/lscratchh/yi10/test\n",
      "EXTRACT SURFACE  Trimmed_cell3_Iter_ch0_stack0003_3nm_0093192msec_0260122858msecAbs\n",
      "input file is /p/lscratchh/yi10/llsm-data/2021-10-29-find-engulfed-Legionella/results_dsk/cell3_Iter_deskewed/trimmed_stacks/Trimmed_cell3_Iter_ch0_stack0003_3nm_0093192msec_0260122858msecAbs.tif\n",
      "create binary mask with threshold [361.]\n",
      "kernel size for morphological operation is 3\n",
      "Apply closing operation\n",
      "Apply opening operation\n",
      "Apply marching cubes\n",
      "Get the largest connected component\n",
      "smooth surface with laplacian filter with 10 steps and relaxation factor 0.1\n",
      "save surface to /p/lscratchh/yi10/test\n"
     ]
    },
    {
     "data": {
      "text/plain": [
       "<Figure size 432x288 with 0 Axes>"
      ]
     },
     "execution_count": 8,
     "metadata": {},
     "output_type": "execute_result"
    },
    {
     "data": {
      "text/plain": [
       "<matplotlib.image.AxesImage at 0x2aab011fbcd0>"
      ]
     },
     "execution_count": 8,
     "metadata": {},
     "output_type": "execute_result"
    },
    {
     "name": "stdout",
     "output_type": "stream",
     "text": [
      "EXTRACT SURFACE  Trimmed_cell3_Iter_ch0_stack0004_3nm_0124298msec_0260153964msecAbs\n",
      "input file is /p/lscratchh/yi10/llsm-data/2021-10-29-find-engulfed-Legionella/results_dsk/cell3_Iter_deskewed/trimmed_stacks/Trimmed_cell3_Iter_ch0_stack0004_3nm_0124298msec_0260153964msecAbs.tif\n",
      "create binary mask with threshold 1394.0\n",
      "kernel size for morphological operation is 3\n",
      "Apply closing operation\n",
      "Apply opening operation\n",
      "Apply marching cubes\n",
      "Get the largest connected component\n",
      "smooth surface with laplacian filter with 10 steps and relaxation factor 0.1\n",
      "save surface to /p/lscratchh/yi10/test\n",
      "EXTRACT SURFACE  Trimmed_cell3_Iter_ch0_stack0004_3nm_0124298msec_0260153964msecAbs\n",
      "input file is /p/lscratchh/yi10/llsm-data/2021-10-29-find-engulfed-Legionella/results_dsk/cell3_Iter_deskewed/trimmed_stacks/Trimmed_cell3_Iter_ch0_stack0004_3nm_0124298msec_0260153964msecAbs.tif\n",
      "create binary mask with threshold [370.]\n",
      "kernel size for morphological operation is 3\n",
      "Apply closing operation\n",
      "Apply opening operation\n",
      "Apply marching cubes\n",
      "Get the largest connected component\n",
      "smooth surface with laplacian filter with 10 steps and relaxation factor 0.1\n",
      "save surface to /p/lscratchh/yi10/test\n"
     ]
    },
    {
     "data": {
      "text/plain": [
       "<Figure size 432x288 with 0 Axes>"
      ]
     },
     "execution_count": 8,
     "metadata": {},
     "output_type": "execute_result"
    },
    {
     "data": {
      "text/plain": [
       "<matplotlib.image.AxesImage at 0x2aab0057b890>"
      ]
     },
     "execution_count": 8,
     "metadata": {},
     "output_type": "execute_result"
    },
    {
     "name": "stdout",
     "output_type": "stream",
     "text": [
      "EXTRACT SURFACE  Trimmed_cell3_Iter_ch0_stack0005_3nm_0155401msec_0260185067msecAbs\n",
      "input file is /p/lscratchh/yi10/llsm-data/2021-10-29-find-engulfed-Legionella/results_dsk/cell3_Iter_deskewed/trimmed_stacks/Trimmed_cell3_Iter_ch0_stack0005_3nm_0155401msec_0260185067msecAbs.tif\n",
      "create binary mask with threshold 1364.5\n",
      "kernel size for morphological operation is 3\n",
      "Apply closing operation\n",
      "Apply opening operation\n",
      "Apply marching cubes\n",
      "Get the largest connected component\n",
      "smooth surface with laplacian filter with 10 steps and relaxation factor 0.1\n",
      "save surface to /p/lscratchh/yi10/test\n",
      "EXTRACT SURFACE  Trimmed_cell3_Iter_ch0_stack0005_3nm_0155401msec_0260185067msecAbs\n",
      "input file is /p/lscratchh/yi10/llsm-data/2021-10-29-find-engulfed-Legionella/results_dsk/cell3_Iter_deskewed/trimmed_stacks/Trimmed_cell3_Iter_ch0_stack0005_3nm_0155401msec_0260185067msecAbs.tif\n",
      "create binary mask with threshold [377.5]\n",
      "kernel size for morphological operation is 3\n",
      "Apply closing operation\n",
      "Apply opening operation\n",
      "Apply marching cubes\n",
      "Get the largest connected component\n",
      "smooth surface with laplacian filter with 10 steps and relaxation factor 0.1\n",
      "save surface to /p/lscratchh/yi10/test\n"
     ]
    },
    {
     "data": {
      "text/plain": [
       "<Figure size 432x288 with 0 Axes>"
      ]
     },
     "execution_count": 8,
     "metadata": {},
     "output_type": "execute_result"
    },
    {
     "data": {
      "text/plain": [
       "<matplotlib.image.AxesImage at 0x2aab0119e710>"
      ]
     },
     "execution_count": 8,
     "metadata": {},
     "output_type": "execute_result"
    },
    {
     "name": "stdout",
     "output_type": "stream",
     "text": [
      "EXTRACT SURFACE  Trimmed_cell3_Iter_ch0_stack0006_3nm_0186502msec_0260216168msecAbs\n",
      "input file is /p/lscratchh/yi10/llsm-data/2021-10-29-find-engulfed-Legionella/results_dsk/cell3_Iter_deskewed/trimmed_stacks/Trimmed_cell3_Iter_ch0_stack0006_3nm_0186502msec_0260216168msecAbs.tif\n",
      "create binary mask with threshold 1343.5\n",
      "kernel size for morphological operation is 3\n",
      "Apply closing operation\n",
      "Apply opening operation\n",
      "Apply marching cubes\n",
      "Get the largest connected component\n",
      "smooth surface with laplacian filter with 10 steps and relaxation factor 0.1\n",
      "save surface to /p/lscratchh/yi10/test\n",
      "EXTRACT SURFACE  Trimmed_cell3_Iter_ch0_stack0006_3nm_0186502msec_0260216168msecAbs\n",
      "input file is /p/lscratchh/yi10/llsm-data/2021-10-29-find-engulfed-Legionella/results_dsk/cell3_Iter_deskewed/trimmed_stacks/Trimmed_cell3_Iter_ch0_stack0006_3nm_0186502msec_0260216168msecAbs.tif\n",
      "create binary mask with threshold [356.5]\n",
      "kernel size for morphological operation is 3\n",
      "Apply closing operation\n",
      "Apply opening operation\n",
      "Apply marching cubes\n",
      "Get the largest connected component\n",
      "smooth surface with laplacian filter with 10 steps and relaxation factor 0.1\n",
      "save surface to /p/lscratchh/yi10/test\n"
     ]
    },
    {
     "data": {
      "text/plain": [
       "<Figure size 432x288 with 0 Axes>"
      ]
     },
     "execution_count": 8,
     "metadata": {},
     "output_type": "execute_result"
    },
    {
     "data": {
      "text/plain": [
       "<matplotlib.image.AxesImage at 0x2aab012bad90>"
      ]
     },
     "execution_count": 8,
     "metadata": {},
     "output_type": "execute_result"
    },
    {
     "name": "stdout",
     "output_type": "stream",
     "text": [
      "EXTRACT SURFACE  Trimmed_cell3_Iter_ch0_stack0007_3nm_0217616msec_0260247282msecAbs\n",
      "input file is /p/lscratchh/yi10/llsm-data/2021-10-29-find-engulfed-Legionella/results_dsk/cell3_Iter_deskewed/trimmed_stacks/Trimmed_cell3_Iter_ch0_stack0007_3nm_0217616msec_0260247282msecAbs.tif\n",
      "create binary mask with threshold 1322.5\n",
      "kernel size for morphological operation is 3\n",
      "Apply closing operation\n",
      "Apply opening operation\n",
      "Apply marching cubes\n",
      "Get the largest connected component\n",
      "smooth surface with laplacian filter with 10 steps and relaxation factor 0.1\n",
      "save surface to /p/lscratchh/yi10/test\n",
      "EXTRACT SURFACE  Trimmed_cell3_Iter_ch0_stack0007_3nm_0217616msec_0260247282msecAbs\n",
      "input file is /p/lscratchh/yi10/llsm-data/2021-10-29-find-engulfed-Legionella/results_dsk/cell3_Iter_deskewed/trimmed_stacks/Trimmed_cell3_Iter_ch0_stack0007_3nm_0217616msec_0260247282msecAbs.tif\n",
      "create binary mask with threshold [356.5]\n",
      "kernel size for morphological operation is 3\n",
      "Apply closing operation\n",
      "Apply opening operation\n",
      "Apply marching cubes\n",
      "Get the largest connected component\n",
      "smooth surface with laplacian filter with 10 steps and relaxation factor 0.1\n",
      "save surface to /p/lscratchh/yi10/test\n"
     ]
    },
    {
     "data": {
      "text/plain": [
       "<Figure size 432x288 with 0 Axes>"
      ]
     },
     "execution_count": 8,
     "metadata": {},
     "output_type": "execute_result"
    },
    {
     "data": {
      "text/plain": [
       "<matplotlib.image.AxesImage at 0x2aab012fce90>"
      ]
     },
     "execution_count": 8,
     "metadata": {},
     "output_type": "execute_result"
    },
    {
     "name": "stdout",
     "output_type": "stream",
     "text": [
      "EXTRACT SURFACE  Trimmed_cell3_Iter_ch0_stack0008_3nm_0248721msec_0260278387msecAbs\n",
      "input file is /p/lscratchh/yi10/llsm-data/2021-10-29-find-engulfed-Legionella/results_dsk/cell3_Iter_deskewed/trimmed_stacks/Trimmed_cell3_Iter_ch0_stack0008_3nm_0248721msec_0260278387msecAbs.tif\n",
      "create binary mask with threshold 1301.5\n",
      "kernel size for morphological operation is 3\n",
      "Apply closing operation\n",
      "Apply opening operation\n",
      "Apply marching cubes\n",
      "Get the largest connected component\n",
      "smooth surface with laplacian filter with 10 steps and relaxation factor 0.1\n",
      "save surface to /p/lscratchh/yi10/test\n",
      "EXTRACT SURFACE  Trimmed_cell3_Iter_ch0_stack0008_3nm_0248721msec_0260278387msecAbs\n",
      "input file is /p/lscratchh/yi10/llsm-data/2021-10-29-find-engulfed-Legionella/results_dsk/cell3_Iter_deskewed/trimmed_stacks/Trimmed_cell3_Iter_ch0_stack0008_3nm_0248721msec_0260278387msecAbs.tif\n",
      "create binary mask with threshold [356.5]\n",
      "kernel size for morphological operation is 3\n",
      "Apply closing operation\n",
      "Apply opening operation\n",
      "Apply marching cubes\n",
      "Get the largest connected component\n",
      "smooth surface with laplacian filter with 10 steps and relaxation factor 0.1\n",
      "save surface to /p/lscratchh/yi10/test\n"
     ]
    },
    {
     "data": {
      "text/plain": [
       "<Figure size 432x288 with 0 Axes>"
      ]
     },
     "execution_count": 8,
     "metadata": {},
     "output_type": "execute_result"
    },
    {
     "data": {
      "text/plain": [
       "<matplotlib.image.AxesImage at 0x2aab01340fd0>"
      ]
     },
     "execution_count": 8,
     "metadata": {},
     "output_type": "execute_result"
    },
    {
     "name": "stdout",
     "output_type": "stream",
     "text": [
      "EXTRACT SURFACE  Trimmed_cell3_Iter_ch0_stack0009_3nm_0279832msec_0260309498msecAbs\n",
      "input file is /p/lscratchh/yi10/llsm-data/2021-10-29-find-engulfed-Legionella/results_dsk/cell3_Iter_deskewed/trimmed_stacks/Trimmed_cell3_Iter_ch0_stack0009_3nm_0279832msec_0260309498msecAbs.tif\n",
      "create binary mask with threshold 1280.5\n",
      "kernel size for morphological operation is 3\n",
      "Apply closing operation\n",
      "Apply opening operation\n",
      "Apply marching cubes\n",
      "Get the largest connected component\n",
      "smooth surface with laplacian filter with 10 steps and relaxation factor 0.1\n",
      "save surface to /p/lscratchh/yi10/test\n",
      "EXTRACT SURFACE  Trimmed_cell3_Iter_ch0_stack0009_3nm_0279832msec_0260309498msecAbs\n",
      "input file is /p/lscratchh/yi10/llsm-data/2021-10-29-find-engulfed-Legionella/results_dsk/cell3_Iter_deskewed/trimmed_stacks/Trimmed_cell3_Iter_ch0_stack0009_3nm_0279832msec_0260309498msecAbs.tif\n",
      "create binary mask with threshold [335.5]\n",
      "kernel size for morphological operation is 3\n",
      "Apply closing operation\n",
      "Apply opening operation\n",
      "Apply marching cubes\n",
      "Get the largest connected component\n",
      "smooth surface with laplacian filter with 10 steps and relaxation factor 0.1\n",
      "save surface to /p/lscratchh/yi10/test\n"
     ]
    },
    {
     "data": {
      "text/plain": [
       "<Figure size 432x288 with 0 Axes>"
      ]
     },
     "execution_count": 8,
     "metadata": {},
     "output_type": "execute_result"
    },
    {
     "data": {
      "text/plain": [
       "<matplotlib.image.AxesImage at 0x2aab0137ab50>"
      ]
     },
     "execution_count": 8,
     "metadata": {},
     "output_type": "execute_result"
    },
    {
     "name": "stdout",
     "output_type": "stream",
     "text": [
      "EXTRACT SURFACE  Trimmed_cell3_Iter_ch0_stack0010_3nm_0310942msec_0260340608msecAbs\n",
      "input file is /p/lscratchh/yi10/llsm-data/2021-10-29-find-engulfed-Legionella/results_dsk/cell3_Iter_deskewed/trimmed_stacks/Trimmed_cell3_Iter_ch0_stack0010_3nm_0310942msec_0260340608msecAbs.tif\n",
      "create binary mask with threshold 1280.5\n",
      "kernel size for morphological operation is 3\n",
      "Apply closing operation\n",
      "Apply opening operation\n",
      "Apply marching cubes\n",
      "Get the largest connected component\n",
      "smooth surface with laplacian filter with 10 steps and relaxation factor 0.1\n",
      "save surface to /p/lscratchh/yi10/test\n",
      "EXTRACT SURFACE  Trimmed_cell3_Iter_ch0_stack0010_3nm_0310942msec_0260340608msecAbs\n",
      "input file is /p/lscratchh/yi10/llsm-data/2021-10-29-find-engulfed-Legionella/results_dsk/cell3_Iter_deskewed/trimmed_stacks/Trimmed_cell3_Iter_ch0_stack0010_3nm_0310942msec_0260340608msecAbs.tif\n",
      "create binary mask with threshold [335.5]\n",
      "kernel size for morphological operation is 3\n",
      "Apply closing operation\n",
      "Apply opening operation\n",
      "Apply marching cubes\n",
      "Get the largest connected component\n",
      "smooth surface with laplacian filter with 10 steps and relaxation factor 0.1\n",
      "save surface to /p/lscratchh/yi10/test\n"
     ]
    },
    {
     "data": {
      "text/plain": [
       "<Figure size 432x288 with 0 Axes>"
      ]
     },
     "execution_count": 8,
     "metadata": {},
     "output_type": "execute_result"
    },
    {
     "data": {
      "text/plain": [
       "<matplotlib.image.AxesImage at 0x2aab013d5f90>"
      ]
     },
     "execution_count": 8,
     "metadata": {},
     "output_type": "execute_result"
    },
    {
     "name": "stdout",
     "output_type": "stream",
     "text": [
      "EXTRACT SURFACE  Trimmed_cell3_Iter_ch0_stack0011_3nm_0342070msec_0260371736msecAbs\n",
      "input file is /p/lscratchh/yi10/llsm-data/2021-10-29-find-engulfed-Legionella/results_dsk/cell3_Iter_deskewed/trimmed_stacks/Trimmed_cell3_Iter_ch0_stack0011_3nm_0342070msec_0260371736msecAbs.tif\n",
      "create binary mask with threshold 1280.5\n",
      "kernel size for morphological operation is 3\n",
      "Apply closing operation\n",
      "Apply opening operation\n",
      "Apply marching cubes\n",
      "Get the largest connected component\n",
      "smooth surface with laplacian filter with 10 steps and relaxation factor 0.1\n",
      "save surface to /p/lscratchh/yi10/test\n",
      "EXTRACT SURFACE  Trimmed_cell3_Iter_ch0_stack0011_3nm_0342070msec_0260371736msecAbs\n",
      "input file is /p/lscratchh/yi10/llsm-data/2021-10-29-find-engulfed-Legionella/results_dsk/cell3_Iter_deskewed/trimmed_stacks/Trimmed_cell3_Iter_ch0_stack0011_3nm_0342070msec_0260371736msecAbs.tif\n",
      "create binary mask with threshold [335.5]\n",
      "kernel size for morphological operation is 3\n",
      "Apply closing operation\n",
      "Apply opening operation\n",
      "Apply marching cubes\n",
      "Get the largest connected component\n",
      "smooth surface with laplacian filter with 10 steps and relaxation factor 0.1\n",
      "save surface to /p/lscratchh/yi10/test\n"
     ]
    },
    {
     "data": {
      "text/plain": [
       "<Figure size 432x288 with 0 Axes>"
      ]
     },
     "execution_count": 8,
     "metadata": {},
     "output_type": "execute_result"
    },
    {
     "data": {
      "text/plain": [
       "<matplotlib.image.AxesImage at 0x2aab0141c3d0>"
      ]
     },
     "execution_count": 8,
     "metadata": {},
     "output_type": "execute_result"
    },
    {
     "name": "stdout",
     "output_type": "stream",
     "text": [
      "EXTRACT SURFACE  Trimmed_cell3_Iter_ch0_stack0012_3nm_0373191msec_0260402857msecAbs\n",
      "input file is /p/lscratchh/yi10/llsm-data/2021-10-29-find-engulfed-Legionella/results_dsk/cell3_Iter_deskewed/trimmed_stacks/Trimmed_cell3_Iter_ch0_stack0012_3nm_0373191msec_0260402857msecAbs.tif\n",
      "create binary mask with threshold 1259.5\n",
      "kernel size for morphological operation is 3\n",
      "Apply closing operation\n",
      "Apply opening operation\n",
      "Apply marching cubes\n",
      "Get the largest connected component\n",
      "smooth surface with laplacian filter with 10 steps and relaxation factor 0.1\n",
      "save surface to /p/lscratchh/yi10/test\n",
      "EXTRACT SURFACE  Trimmed_cell3_Iter_ch0_stack0012_3nm_0373191msec_0260402857msecAbs\n",
      "input file is /p/lscratchh/yi10/llsm-data/2021-10-29-find-engulfed-Legionella/results_dsk/cell3_Iter_deskewed/trimmed_stacks/Trimmed_cell3_Iter_ch0_stack0012_3nm_0373191msec_0260402857msecAbs.tif\n",
      "create binary mask with threshold [335.5]\n",
      "kernel size for morphological operation is 3\n",
      "Apply closing operation\n",
      "Apply opening operation\n",
      "Apply marching cubes\n",
      "Get the largest connected component\n",
      "smooth surface with laplacian filter with 10 steps and relaxation factor 0.1\n",
      "save surface to /p/lscratchh/yi10/test\n"
     ]
    },
    {
     "data": {
      "text/plain": [
       "<Figure size 432x288 with 0 Axes>"
      ]
     },
     "execution_count": 8,
     "metadata": {},
     "output_type": "execute_result"
    },
    {
     "data": {
      "text/plain": [
       "<matplotlib.image.AxesImage at 0x2aab0145f510>"
      ]
     },
     "execution_count": 8,
     "metadata": {},
     "output_type": "execute_result"
    },
    {
     "name": "stdout",
     "output_type": "stream",
     "text": [
      "EXTRACT SURFACE  Trimmed_cell3_Iter_ch0_stack0013_3nm_0404315msec_0260433981msecAbs\n",
      "input file is /p/lscratchh/yi10/llsm-data/2021-10-29-find-engulfed-Legionella/results_dsk/cell3_Iter_deskewed/trimmed_stacks/Trimmed_cell3_Iter_ch0_stack0013_3nm_0404315msec_0260433981msecAbs.tif\n",
      "create binary mask with threshold 1238.5\n",
      "kernel size for morphological operation is 3\n",
      "Apply closing operation\n",
      "Apply opening operation\n",
      "Apply marching cubes\n",
      "Get the largest connected component\n",
      "smooth surface with laplacian filter with 10 steps and relaxation factor 0.1\n",
      "save surface to /p/lscratchh/yi10/test\n",
      "EXTRACT SURFACE  Trimmed_cell3_Iter_ch0_stack0013_3nm_0404315msec_0260433981msecAbs\n",
      "input file is /p/lscratchh/yi10/llsm-data/2021-10-29-find-engulfed-Legionella/results_dsk/cell3_Iter_deskewed/trimmed_stacks/Trimmed_cell3_Iter_ch0_stack0013_3nm_0404315msec_0260433981msecAbs.tif\n",
      "create binary mask with threshold [335.5]\n",
      "kernel size for morphological operation is 3\n",
      "Apply closing operation\n",
      "Apply opening operation\n",
      "Apply marching cubes\n",
      "Get the largest connected component\n",
      "smooth surface with laplacian filter with 10 steps and relaxation factor 0.1\n",
      "save surface to /p/lscratchh/yi10/test\n"
     ]
    },
    {
     "data": {
      "text/plain": [
       "<Figure size 432x288 with 0 Axes>"
      ]
     },
     "execution_count": 8,
     "metadata": {},
     "output_type": "execute_result"
    },
    {
     "data": {
      "text/plain": [
       "<matplotlib.image.AxesImage at 0x2aab014a2650>"
      ]
     },
     "execution_count": 8,
     "metadata": {},
     "output_type": "execute_result"
    },
    {
     "name": "stdout",
     "output_type": "stream",
     "text": [
      "EXTRACT SURFACE  Trimmed_cell3_Iter_ch0_stack0014_3nm_0435447msec_0260465113msecAbs\n",
      "input file is /p/lscratchh/yi10/llsm-data/2021-10-29-find-engulfed-Legionella/results_dsk/cell3_Iter_deskewed/trimmed_stacks/Trimmed_cell3_Iter_ch0_stack0014_3nm_0435447msec_0260465113msecAbs.tif\n",
      "create binary mask with threshold 1202.0\n",
      "kernel size for morphological operation is 3\n",
      "Apply closing operation\n",
      "Apply opening operation\n",
      "Apply marching cubes\n",
      "Get the largest connected component\n",
      "smooth surface with laplacian filter with 10 steps and relaxation factor 0.1\n",
      "save surface to /p/lscratchh/yi10/test\n",
      "EXTRACT SURFACE  Trimmed_cell3_Iter_ch0_stack0014_3nm_0435447msec_0260465113msecAbs\n",
      "input file is /p/lscratchh/yi10/llsm-data/2021-10-29-find-engulfed-Legionella/results_dsk/cell3_Iter_deskewed/trimmed_stacks/Trimmed_cell3_Iter_ch0_stack0014_3nm_0435447msec_0260465113msecAbs.tif\n",
      "create binary mask with threshold [338.]\n",
      "kernel size for morphological operation is 3\n",
      "Apply closing operation\n",
      "Apply opening operation\n",
      "Apply marching cubes\n",
      "Get the largest connected component\n",
      "smooth surface with laplacian filter with 10 steps and relaxation factor 0.1\n",
      "save surface to /p/lscratchh/yi10/test\n"
     ]
    },
    {
     "data": {
      "text/plain": [
       "<Figure size 432x288 with 0 Axes>"
      ]
     },
     "execution_count": 8,
     "metadata": {},
     "output_type": "execute_result"
    },
    {
     "data": {
      "text/plain": [
       "<matplotlib.image.AxesImage at 0x2aab014e6790>"
      ]
     },
     "execution_count": 8,
     "metadata": {},
     "output_type": "execute_result"
    },
    {
     "name": "stdout",
     "output_type": "stream",
     "text": [
      "EXTRACT SURFACE  Trimmed_cell3_Iter_ch0_stack0015_3nm_0466556msec_0260496222msecAbs\n",
      "input file is /p/lscratchh/yi10/llsm-data/2021-10-29-find-engulfed-Legionella/results_dsk/cell3_Iter_deskewed/trimmed_stacks/Trimmed_cell3_Iter_ch0_stack0015_3nm_0466556msec_0260496222msecAbs.tif\n",
      "create binary mask with threshold 1170.0\n",
      "kernel size for morphological operation is 3\n",
      "Apply closing operation\n",
      "Apply opening operation\n",
      "Apply marching cubes\n",
      "Get the largest connected component\n",
      "smooth surface with laplacian filter with 10 steps and relaxation factor 0.1\n",
      "save surface to /p/lscratchh/yi10/test\n",
      "EXTRACT SURFACE  Trimmed_cell3_Iter_ch0_stack0015_3nm_0466556msec_0260496222msecAbs\n",
      "input file is /p/lscratchh/yi10/llsm-data/2021-10-29-find-engulfed-Legionella/results_dsk/cell3_Iter_deskewed/trimmed_stacks/Trimmed_cell3_Iter_ch0_stack0015_3nm_0466556msec_0260496222msecAbs.tif\n",
      "create binary mask with threshold [338.]\n",
      "kernel size for morphological operation is 3\n",
      "Apply closing operation\n",
      "Apply opening operation\n",
      "Apply marching cubes\n",
      "Get the largest connected component\n",
      "smooth surface with laplacian filter with 10 steps and relaxation factor 0.1\n",
      "save surface to /p/lscratchh/yi10/test\n"
     ]
    },
    {
     "data": {
      "text/plain": [
       "<Figure size 432x288 with 0 Axes>"
      ]
     },
     "execution_count": 8,
     "metadata": {},
     "output_type": "execute_result"
    },
    {
     "data": {
      "text/plain": [
       "<matplotlib.image.AxesImage at 0x2aab015298d0>"
      ]
     },
     "execution_count": 8,
     "metadata": {},
     "output_type": "execute_result"
    },
    {
     "name": "stdout",
     "output_type": "stream",
     "text": [
      "EXTRACT SURFACE  Trimmed_cell3_Iter_ch0_stack0016_3nm_0497675msec_0260527341msecAbs\n",
      "input file is /p/lscratchh/yi10/llsm-data/2021-10-29-find-engulfed-Legionella/results_dsk/cell3_Iter_deskewed/trimmed_stacks/Trimmed_cell3_Iter_ch0_stack0016_3nm_0497675msec_0260527341msecAbs.tif\n",
      "create binary mask with threshold 1154.5\n",
      "kernel size for morphological operation is 3\n",
      "Apply closing operation\n",
      "Apply opening operation\n",
      "Apply marching cubes\n",
      "Get the largest connected component\n",
      "smooth surface with laplacian filter with 10 steps and relaxation factor 0.1\n",
      "save surface to /p/lscratchh/yi10/test\n",
      "EXTRACT SURFACE  Trimmed_cell3_Iter_ch0_stack0016_3nm_0497675msec_0260527341msecAbs\n",
      "input file is /p/lscratchh/yi10/llsm-data/2021-10-29-find-engulfed-Legionella/results_dsk/cell3_Iter_deskewed/trimmed_stacks/Trimmed_cell3_Iter_ch0_stack0016_3nm_0497675msec_0260527341msecAbs.tif\n",
      "create binary mask with threshold [335.5]\n",
      "kernel size for morphological operation is 3\n",
      "Apply closing operation\n",
      "Apply opening operation\n",
      "Apply marching cubes\n",
      "Get the largest connected component\n",
      "smooth surface with laplacian filter with 10 steps and relaxation factor 0.1\n",
      "save surface to /p/lscratchh/yi10/test\n"
     ]
    },
    {
     "data": {
      "text/plain": [
       "<Figure size 432x288 with 0 Axes>"
      ]
     },
     "execution_count": 8,
     "metadata": {},
     "output_type": "execute_result"
    },
    {
     "data": {
      "text/plain": [
       "<matplotlib.image.AxesImage at 0x2aab0156ca10>"
      ]
     },
     "execution_count": 8,
     "metadata": {},
     "output_type": "execute_result"
    },
    {
     "name": "stdout",
     "output_type": "stream",
     "text": [
      "EXTRACT SURFACE  Trimmed_cell3_Iter_ch0_stack0017_3nm_0528762msec_0260558428msecAbs\n",
      "input file is /p/lscratchh/yi10/llsm-data/2021-10-29-find-engulfed-Legionella/results_dsk/cell3_Iter_deskewed/trimmed_stacks/Trimmed_cell3_Iter_ch0_stack0017_3nm_0528762msec_0260558428msecAbs.tif\n",
      "create binary mask with threshold 1122.0\n",
      "kernel size for morphological operation is 3\n",
      "Apply closing operation\n",
      "Apply opening operation\n",
      "Apply marching cubes\n",
      "Get the largest connected component\n",
      "smooth surface with laplacian filter with 10 steps and relaxation factor 0.1\n",
      "save surface to /p/lscratchh/yi10/test\n",
      "EXTRACT SURFACE  Trimmed_cell3_Iter_ch0_stack0017_3nm_0528762msec_0260558428msecAbs\n",
      "input file is /p/lscratchh/yi10/llsm-data/2021-10-29-find-engulfed-Legionella/results_dsk/cell3_Iter_deskewed/trimmed_stacks/Trimmed_cell3_Iter_ch0_stack0017_3nm_0528762msec_0260558428msecAbs.tif\n",
      "create binary mask with threshold [338.]\n",
      "kernel size for morphological operation is 3\n",
      "Apply closing operation\n",
      "Apply opening operation\n",
      "Apply marching cubes\n",
      "Get the largest connected component\n",
      "smooth surface with laplacian filter with 10 steps and relaxation factor 0.1\n",
      "save surface to /p/lscratchh/yi10/test\n"
     ]
    },
    {
     "data": {
      "text/plain": [
       "<Figure size 432x288 with 0 Axes>"
      ]
     },
     "execution_count": 8,
     "metadata": {},
     "output_type": "execute_result"
    },
    {
     "data": {
      "text/plain": [
       "<matplotlib.image.AxesImage at 0x2aab015b0b50>"
      ]
     },
     "execution_count": 8,
     "metadata": {},
     "output_type": "execute_result"
    },
    {
     "name": "stdout",
     "output_type": "stream",
     "text": [
      "EXTRACT SURFACE  Trimmed_cell3_Iter_ch0_stack0018_3nm_0559873msec_0260589539msecAbs\n",
      "input file is /p/lscratchh/yi10/llsm-data/2021-10-29-find-engulfed-Legionella/results_dsk/cell3_Iter_deskewed/trimmed_stacks/Trimmed_cell3_Iter_ch0_stack0018_3nm_0559873msec_0260589539msecAbs.tif\n",
      "create binary mask with threshold 1106.0\n",
      "kernel size for morphological operation is 3\n",
      "Apply closing operation\n",
      "Apply opening operation\n",
      "Apply marching cubes\n",
      "Get the largest connected component\n",
      "smooth surface with laplacian filter with 10 steps and relaxation factor 0.1\n",
      "save surface to /p/lscratchh/yi10/test\n",
      "EXTRACT SURFACE  Trimmed_cell3_Iter_ch0_stack0018_3nm_0559873msec_0260589539msecAbs\n",
      "input file is /p/lscratchh/yi10/llsm-data/2021-10-29-find-engulfed-Legionella/results_dsk/cell3_Iter_deskewed/trimmed_stacks/Trimmed_cell3_Iter_ch0_stack0018_3nm_0559873msec_0260589539msecAbs.tif\n",
      "create binary mask with threshold [338.]\n",
      "kernel size for morphological operation is 3\n",
      "Apply closing operation\n",
      "Apply opening operation\n",
      "Apply marching cubes\n",
      "Get the largest connected component\n",
      "smooth surface with laplacian filter with 10 steps and relaxation factor 0.1\n",
      "save surface to /p/lscratchh/yi10/test\n"
     ]
    },
    {
     "data": {
      "text/plain": [
       "<Figure size 432x288 with 0 Axes>"
      ]
     },
     "execution_count": 8,
     "metadata": {},
     "output_type": "execute_result"
    },
    {
     "data": {
      "text/plain": [
       "<matplotlib.image.AxesImage at 0x2aab015f6c90>"
      ]
     },
     "execution_count": 8,
     "metadata": {},
     "output_type": "execute_result"
    },
    {
     "name": "stdout",
     "output_type": "stream",
     "text": [
      "EXTRACT SURFACE  Trimmed_cell3_Iter_ch0_stack0019_3nm_0590998msec_0260620664msecAbs\n",
      "input file is /p/lscratchh/yi10/llsm-data/2021-10-29-find-engulfed-Legionella/results_dsk/cell3_Iter_deskewed/trimmed_stacks/Trimmed_cell3_Iter_ch0_stack0019_3nm_0590998msec_0260620664msecAbs.tif\n",
      "create binary mask with threshold 1074.0\n",
      "kernel size for morphological operation is 3\n",
      "Apply closing operation\n",
      "Apply opening operation\n",
      "Apply marching cubes\n",
      "Get the largest connected component\n",
      "smooth surface with laplacian filter with 10 steps and relaxation factor 0.1\n",
      "save surface to /p/lscratchh/yi10/test\n",
      "EXTRACT SURFACE  Trimmed_cell3_Iter_ch0_stack0019_3nm_0590998msec_0260620664msecAbs\n",
      "input file is /p/lscratchh/yi10/llsm-data/2021-10-29-find-engulfed-Legionella/results_dsk/cell3_Iter_deskewed/trimmed_stacks/Trimmed_cell3_Iter_ch0_stack0019_3nm_0590998msec_0260620664msecAbs.tif\n",
      "create binary mask with threshold [322.]\n",
      "kernel size for morphological operation is 3\n",
      "Apply closing operation\n",
      "Apply opening operation\n",
      "Apply marching cubes\n",
      "Get the largest connected component\n",
      "smooth surface with laplacian filter with 10 steps and relaxation factor 0.1\n",
      "save surface to /p/lscratchh/yi10/test\n"
     ]
    },
    {
     "name": "stderr",
     "output_type": "stream",
     "text": [
      "/g/g92/yi10/.local/lib/python3.7/site-packages/ipykernel_launcher.py:22: RuntimeWarning: More than 20 figures have been opened. Figures created through the pyplot interface (`matplotlib.pyplot.figure`) are retained until explicitly closed and may consume too much memory. (To control this warning, see the rcParam `figure.max_open_warning`).\n"
     ]
    },
    {
     "data": {
      "text/plain": [
       "<Figure size 432x288 with 0 Axes>"
      ]
     },
     "execution_count": 8,
     "metadata": {},
     "output_type": "execute_result"
    },
    {
     "data": {
      "text/plain": [
       "<matplotlib.image.AxesImage at 0x2aab0364ae10>"
      ]
     },
     "execution_count": 8,
     "metadata": {},
     "output_type": "execute_result"
    },
    {
     "name": "stdout",
     "output_type": "stream",
     "text": [
      "EXTRACT SURFACE  Trimmed_cell3_Iter_ch0_stack0020_3nm_0622109msec_0260651775msecAbs\n",
      "input file is /p/lscratchh/yi10/llsm-data/2021-10-29-find-engulfed-Legionella/results_dsk/cell3_Iter_deskewed/trimmed_stacks/Trimmed_cell3_Iter_ch0_stack0020_3nm_0622109msec_0260651775msecAbs.tif\n",
      "create binary mask with threshold 1070.5\n",
      "kernel size for morphological operation is 3\n",
      "Apply closing operation\n",
      "Apply opening operation\n",
      "Apply marching cubes\n",
      "Get the largest connected component\n",
      "smooth surface with laplacian filter with 10 steps and relaxation factor 0.1\n",
      "save surface to /p/lscratchh/yi10/test\n",
      "EXTRACT SURFACE  Trimmed_cell3_Iter_ch0_stack0020_3nm_0622109msec_0260651775msecAbs\n",
      "input file is /p/lscratchh/yi10/llsm-data/2021-10-29-find-engulfed-Legionella/results_dsk/cell3_Iter_deskewed/trimmed_stacks/Trimmed_cell3_Iter_ch0_stack0020_3nm_0622109msec_0260651775msecAbs.tif\n",
      "create binary mask with threshold [314.5]\n",
      "kernel size for morphological operation is 3\n",
      "Apply closing operation\n",
      "Apply opening operation\n",
      "Apply marching cubes\n",
      "Get the largest connected component\n",
      "smooth surface with laplacian filter with 10 steps and relaxation factor 0.1\n",
      "save surface to /p/lscratchh/yi10/test\n"
     ]
    },
    {
     "data": {
      "text/plain": [
       "<Figure size 432x288 with 0 Axes>"
      ]
     },
     "execution_count": 8,
     "metadata": {},
     "output_type": "execute_result"
    },
    {
     "data": {
      "text/plain": [
       "<matplotlib.image.AxesImage at 0x2aab0368ef90>"
      ]
     },
     "execution_count": 8,
     "metadata": {},
     "output_type": "execute_result"
    },
    {
     "name": "stdout",
     "output_type": "stream",
     "text": [
      "EXTRACT SURFACE  Trimmed_cell3_Iter_ch0_stack0021_3nm_0653241msec_0260682907msecAbs\n",
      "input file is /p/lscratchh/yi10/llsm-data/2021-10-29-find-engulfed-Legionella/results_dsk/cell3_Iter_deskewed/trimmed_stacks/Trimmed_cell3_Iter_ch0_stack0021_3nm_0653241msec_0260682907msecAbs.tif\n",
      "create binary mask with threshold 1074.0\n",
      "kernel size for morphological operation is 3\n",
      "Apply closing operation\n",
      "Apply opening operation\n",
      "Apply marching cubes\n",
      "Get the largest connected component\n",
      "smooth surface with laplacian filter with 10 steps and relaxation factor 0.1\n",
      "save surface to /p/lscratchh/yi10/test\n",
      "EXTRACT SURFACE  Trimmed_cell3_Iter_ch0_stack0021_3nm_0653241msec_0260682907msecAbs\n",
      "input file is /p/lscratchh/yi10/llsm-data/2021-10-29-find-engulfed-Legionella/results_dsk/cell3_Iter_deskewed/trimmed_stacks/Trimmed_cell3_Iter_ch0_stack0021_3nm_0653241msec_0260682907msecAbs.tif\n",
      "create binary mask with threshold [322.]\n",
      "kernel size for morphological operation is 3\n",
      "Apply closing operation\n",
      "Apply opening operation\n",
      "Apply marching cubes\n",
      "Get the largest connected component\n",
      "smooth surface with laplacian filter with 10 steps and relaxation factor 0.1\n",
      "save surface to /p/lscratchh/yi10/test\n"
     ]
    },
    {
     "data": {
      "text/plain": [
       "<Figure size 432x288 with 0 Axes>"
      ]
     },
     "execution_count": 8,
     "metadata": {},
     "output_type": "execute_result"
    },
    {
     "data": {
      "text/plain": [
       "<matplotlib.image.AxesImage at 0x2aab036c7b10>"
      ]
     },
     "execution_count": 8,
     "metadata": {},
     "output_type": "execute_result"
    },
    {
     "name": "stdout",
     "output_type": "stream",
     "text": [
      "EXTRACT SURFACE  Trimmed_cell3_Iter_ch0_stack0022_3nm_0684376msec_0260714042msecAbs\n",
      "input file is /p/lscratchh/yi10/llsm-data/2021-10-29-find-engulfed-Legionella/results_dsk/cell3_Iter_deskewed/trimmed_stacks/Trimmed_cell3_Iter_ch0_stack0022_3nm_0684376msec_0260714042msecAbs.tif\n",
      "create binary mask with threshold 1058.0\n",
      "kernel size for morphological operation is 3\n",
      "Apply closing operation\n",
      "Apply opening operation\n",
      "Apply marching cubes\n",
      "Get the largest connected component\n",
      "smooth surface with laplacian filter with 10 steps and relaxation factor 0.1\n",
      "save surface to /p/lscratchh/yi10/test\n",
      "EXTRACT SURFACE  Trimmed_cell3_Iter_ch0_stack0022_3nm_0684376msec_0260714042msecAbs\n",
      "input file is /p/lscratchh/yi10/llsm-data/2021-10-29-find-engulfed-Legionella/results_dsk/cell3_Iter_deskewed/trimmed_stacks/Trimmed_cell3_Iter_ch0_stack0022_3nm_0684376msec_0260714042msecAbs.tif\n",
      "create binary mask with threshold [322.]\n",
      "kernel size for morphological operation is 3\n",
      "Apply closing operation\n",
      "Apply opening operation\n",
      "Apply marching cubes\n",
      "Get the largest connected component\n",
      "smooth surface with laplacian filter with 10 steps and relaxation factor 0.1\n",
      "save surface to /p/lscratchh/yi10/test\n"
     ]
    },
    {
     "data": {
      "text/plain": [
       "<Figure size 432x288 with 0 Axes>"
      ]
     },
     "execution_count": 8,
     "metadata": {},
     "output_type": "execute_result"
    },
    {
     "data": {
      "text/plain": [
       "<matplotlib.image.AxesImage at 0x2aab03722f50>"
      ]
     },
     "execution_count": 8,
     "metadata": {},
     "output_type": "execute_result"
    },
    {
     "name": "stdout",
     "output_type": "stream",
     "text": [
      "EXTRACT SURFACE  Trimmed_cell3_Iter_ch0_stack0023_3nm_0715496msec_0260745162msecAbs\n",
      "input file is /p/lscratchh/yi10/llsm-data/2021-10-29-find-engulfed-Legionella/results_dsk/cell3_Iter_deskewed/trimmed_stacks/Trimmed_cell3_Iter_ch0_stack0023_3nm_0715496msec_0260745162msecAbs.tif\n",
      "create binary mask with threshold 1028.5\n",
      "kernel size for morphological operation is 3\n",
      "Apply closing operation\n",
      "Apply opening operation\n",
      "Apply marching cubes\n",
      "Get the largest connected component\n",
      "smooth surface with laplacian filter with 10 steps and relaxation factor 0.1\n",
      "save surface to /p/lscratchh/yi10/test\n",
      "EXTRACT SURFACE  Trimmed_cell3_Iter_ch0_stack0023_3nm_0715496msec_0260745162msecAbs\n",
      "input file is /p/lscratchh/yi10/llsm-data/2021-10-29-find-engulfed-Legionella/results_dsk/cell3_Iter_deskewed/trimmed_stacks/Trimmed_cell3_Iter_ch0_stack0023_3nm_0715496msec_0260745162msecAbs.tif\n",
      "create binary mask with threshold [314.5]\n",
      "kernel size for morphological operation is 3\n",
      "Apply closing operation\n",
      "Apply opening operation\n",
      "Apply marching cubes\n",
      "Get the largest connected component\n",
      "smooth surface with laplacian filter with 10 steps and relaxation factor 0.1\n",
      "save surface to /p/lscratchh/yi10/test\n"
     ]
    },
    {
     "data": {
      "text/plain": [
       "<Figure size 432x288 with 0 Axes>"
      ]
     },
     "execution_count": 8,
     "metadata": {},
     "output_type": "execute_result"
    },
    {
     "data": {
      "text/plain": [
       "<matplotlib.image.AxesImage at 0x2aab03766390>"
      ]
     },
     "execution_count": 8,
     "metadata": {},
     "output_type": "execute_result"
    },
    {
     "name": "stdout",
     "output_type": "stream",
     "text": [
      "EXTRACT SURFACE  Trimmed_cell3_Iter_ch0_stack0024_3nm_0746606msec_0260776272msecAbs\n",
      "input file is /p/lscratchh/yi10/llsm-data/2021-10-29-find-engulfed-Legionella/results_dsk/cell3_Iter_deskewed/trimmed_stacks/Trimmed_cell3_Iter_ch0_stack0024_3nm_0746606msec_0260776272msecAbs.tif\n",
      "create binary mask with threshold 1007.5\n",
      "kernel size for morphological operation is 3\n",
      "Apply closing operation\n",
      "Apply opening operation\n",
      "Apply marching cubes\n",
      "Get the largest connected component\n",
      "smooth surface with laplacian filter with 10 steps and relaxation factor 0.1\n",
      "save surface to /p/lscratchh/yi10/test\n",
      "EXTRACT SURFACE  Trimmed_cell3_Iter_ch0_stack0024_3nm_0746606msec_0260776272msecAbs\n",
      "input file is /p/lscratchh/yi10/llsm-data/2021-10-29-find-engulfed-Legionella/results_dsk/cell3_Iter_deskewed/trimmed_stacks/Trimmed_cell3_Iter_ch0_stack0024_3nm_0746606msec_0260776272msecAbs.tif\n",
      "create binary mask with threshold [314.5]\n",
      "kernel size for morphological operation is 3\n",
      "Apply closing operation\n",
      "Apply opening operation\n",
      "Apply marching cubes\n",
      "Get the largest connected component\n",
      "smooth surface with laplacian filter with 10 steps and relaxation factor 0.1\n",
      "save surface to /p/lscratchh/yi10/test\n"
     ]
    },
    {
     "data": {
      "text/plain": [
       "<Figure size 432x288 with 0 Axes>"
      ]
     },
     "execution_count": 8,
     "metadata": {},
     "output_type": "execute_result"
    },
    {
     "data": {
      "text/plain": [
       "<matplotlib.image.AxesImage at 0x2aab03793cd0>"
      ]
     },
     "execution_count": 8,
     "metadata": {},
     "output_type": "execute_result"
    },
    {
     "name": "stdout",
     "output_type": "stream",
     "text": [
      "EXTRACT SURFACE  Trimmed_cell3_Iter_ch0_stack0025_3nm_0777718msec_0260807384msecAbs\n",
      "input file is /p/lscratchh/yi10/llsm-data/2021-10-29-find-engulfed-Legionella/results_dsk/cell3_Iter_deskewed/trimmed_stacks/Trimmed_cell3_Iter_ch0_stack0025_3nm_0777718msec_0260807384msecAbs.tif\n",
      "create binary mask with threshold 978.0\n",
      "kernel size for morphological operation is 3\n",
      "Apply closing operation\n",
      "Apply opening operation\n",
      "Apply marching cubes\n",
      "Get the largest connected component\n",
      "smooth surface with laplacian filter with 10 steps and relaxation factor 0.1\n",
      "save surface to /p/lscratchh/yi10/test\n",
      "EXTRACT SURFACE  Trimmed_cell3_Iter_ch0_stack0025_3nm_0777718msec_0260807384msecAbs\n",
      "input file is /p/lscratchh/yi10/llsm-data/2021-10-29-find-engulfed-Legionella/results_dsk/cell3_Iter_deskewed/trimmed_stacks/Trimmed_cell3_Iter_ch0_stack0025_3nm_0777718msec_0260807384msecAbs.tif\n",
      "create binary mask with threshold [322.]\n",
      "kernel size for morphological operation is 3\n",
      "Apply closing operation\n",
      "Apply opening operation\n",
      "Apply marching cubes\n",
      "Get the largest connected component\n",
      "smooth surface with laplacian filter with 10 steps and relaxation factor 0.1\n",
      "save surface to /p/lscratchh/yi10/test\n"
     ]
    },
    {
     "data": {
      "text/plain": [
       "<Figure size 432x288 with 0 Axes>"
      ]
     },
     "execution_count": 8,
     "metadata": {},
     "output_type": "execute_result"
    },
    {
     "data": {
      "text/plain": [
       "<matplotlib.image.AxesImage at 0x2aab037e98d0>"
      ]
     },
     "execution_count": 8,
     "metadata": {},
     "output_type": "execute_result"
    },
    {
     "name": "stdout",
     "output_type": "stream",
     "text": [
      "EXTRACT SURFACE  Trimmed_cell3_Iter_ch0_stack0026_3nm_0808855msec_0260838521msecAbs\n",
      "input file is /p/lscratchh/yi10/llsm-data/2021-10-29-find-engulfed-Legionella/results_dsk/cell3_Iter_deskewed/trimmed_stacks/Trimmed_cell3_Iter_ch0_stack0026_3nm_0808855msec_0260838521msecAbs.tif\n",
      "create binary mask with threshold 944.5\n",
      "kernel size for morphological operation is 3\n",
      "Apply closing operation\n",
      "Apply opening operation\n",
      "Apply marching cubes\n",
      "Get the largest connected component\n",
      "smooth surface with laplacian filter with 10 steps and relaxation factor 0.1\n",
      "save surface to /p/lscratchh/yi10/test\n",
      "EXTRACT SURFACE  Trimmed_cell3_Iter_ch0_stack0026_3nm_0808855msec_0260838521msecAbs\n",
      "input file is /p/lscratchh/yi10/llsm-data/2021-10-29-find-engulfed-Legionella/results_dsk/cell3_Iter_deskewed/trimmed_stacks/Trimmed_cell3_Iter_ch0_stack0026_3nm_0808855msec_0260838521msecAbs.tif\n",
      "create binary mask with threshold [314.5]\n",
      "kernel size for morphological operation is 3\n",
      "Apply closing operation\n",
      "Apply opening operation\n",
      "Apply marching cubes\n",
      "Get the largest connected component\n",
      "smooth surface with laplacian filter with 10 steps and relaxation factor 0.1\n",
      "save surface to /p/lscratchh/yi10/test\n"
     ]
    },
    {
     "data": {
      "text/plain": [
       "<Figure size 432x288 with 0 Axes>"
      ]
     },
     "execution_count": 8,
     "metadata": {},
     "output_type": "execute_result"
    },
    {
     "data": {
      "text/plain": [
       "<matplotlib.image.AxesImage at 0x2aab0381cc90>"
      ]
     },
     "execution_count": 8,
     "metadata": {},
     "output_type": "execute_result"
    },
    {
     "name": "stdout",
     "output_type": "stream",
     "text": [
      "EXTRACT SURFACE  Trimmed_cell3_Iter_ch0_stack0027_3nm_0839985msec_0260869651msecAbs\n",
      "input file is /p/lscratchh/yi10/llsm-data/2021-10-29-find-engulfed-Legionella/results_dsk/cell3_Iter_deskewed/trimmed_stacks/Trimmed_cell3_Iter_ch0_stack0027_3nm_0839985msec_0260869651msecAbs.tif\n",
      "create binary mask with threshold 923.5\n",
      "kernel size for morphological operation is 3\n",
      "Apply closing operation\n",
      "Apply opening operation\n",
      "Apply marching cubes\n",
      "Get the largest connected component\n",
      "smooth surface with laplacian filter with 10 steps and relaxation factor 0.1\n",
      "save surface to /p/lscratchh/yi10/test\n",
      "EXTRACT SURFACE  Trimmed_cell3_Iter_ch0_stack0027_3nm_0839985msec_0260869651msecAbs\n",
      "input file is /p/lscratchh/yi10/llsm-data/2021-10-29-find-engulfed-Legionella/results_dsk/cell3_Iter_deskewed/trimmed_stacks/Trimmed_cell3_Iter_ch0_stack0027_3nm_0839985msec_0260869651msecAbs.tif\n",
      "create binary mask with threshold [314.5]\n",
      "kernel size for morphological operation is 3\n",
      "Apply closing operation\n",
      "Apply opening operation\n",
      "Apply marching cubes\n",
      "Get the largest connected component\n",
      "smooth surface with laplacian filter with 10 steps and relaxation factor 0.1\n",
      "save surface to /p/lscratchh/yi10/test\n"
     ]
    },
    {
     "data": {
      "text/plain": [
       "<Figure size 432x288 with 0 Axes>"
      ]
     },
     "execution_count": 8,
     "metadata": {},
     "output_type": "execute_result"
    },
    {
     "data": {
      "text/plain": [
       "<matplotlib.image.AxesImage at 0x2aab03870890>"
      ]
     },
     "execution_count": 8,
     "metadata": {},
     "output_type": "execute_result"
    },
    {
     "name": "stdout",
     "output_type": "stream",
     "text": [
      "EXTRACT SURFACE  Trimmed_cell3_Iter_ch0_stack0028_3nm_0871094msec_0260900760msecAbs\n",
      "input file is /p/lscratchh/yi10/llsm-data/2021-10-29-find-engulfed-Legionella/results_dsk/cell3_Iter_deskewed/trimmed_stacks/Trimmed_cell3_Iter_ch0_stack0028_3nm_0871094msec_0260900760msecAbs.tif\n",
      "create binary mask with threshold 898.0\n",
      "kernel size for morphological operation is 3\n",
      "Apply closing operation\n",
      "Apply opening operation\n",
      "Apply marching cubes\n",
      "Get the largest connected component\n",
      "smooth surface with laplacian filter with 10 steps and relaxation factor 0.1\n",
      "save surface to /p/lscratchh/yi10/test\n",
      "EXTRACT SURFACE  Trimmed_cell3_Iter_ch0_stack0028_3nm_0871094msec_0260900760msecAbs\n",
      "input file is /p/lscratchh/yi10/llsm-data/2021-10-29-find-engulfed-Legionella/results_dsk/cell3_Iter_deskewed/trimmed_stacks/Trimmed_cell3_Iter_ch0_stack0028_3nm_0871094msec_0260900760msecAbs.tif\n",
      "create binary mask with threshold [306.]\n",
      "kernel size for morphological operation is 3\n",
      "Apply closing operation\n",
      "Apply opening operation\n",
      "Apply marching cubes\n",
      "Get the largest connected component\n",
      "smooth surface with laplacian filter with 10 steps and relaxation factor 0.1\n",
      "save surface to /p/lscratchh/yi10/test\n"
     ]
    },
    {
     "data": {
      "text/plain": [
       "<Figure size 432x288 with 0 Axes>"
      ]
     },
     "execution_count": 8,
     "metadata": {},
     "output_type": "execute_result"
    },
    {
     "data": {
      "text/plain": [
       "<matplotlib.image.AxesImage at 0x2aab038abf90>"
      ]
     },
     "execution_count": 8,
     "metadata": {},
     "output_type": "execute_result"
    },
    {
     "name": "stdout",
     "output_type": "stream",
     "text": [
      "EXTRACT SURFACE  Trimmed_cell3_Iter_ch0_stack0029_3nm_0902210msec_0260931876msecAbs\n",
      "input file is /p/lscratchh/yi10/llsm-data/2021-10-29-find-engulfed-Legionella/results_dsk/cell3_Iter_deskewed/trimmed_stacks/Trimmed_cell3_Iter_ch0_stack0029_3nm_0902210msec_0260931876msecAbs.tif\n",
      "create binary mask with threshold 860.5\n",
      "kernel size for morphological operation is 3\n",
      "Apply closing operation\n",
      "Apply opening operation\n",
      "Apply marching cubes\n",
      "Get the largest connected component\n",
      "smooth surface with laplacian filter with 10 steps and relaxation factor 0.1\n",
      "save surface to /p/lscratchh/yi10/test\n",
      "EXTRACT SURFACE  Trimmed_cell3_Iter_ch0_stack0029_3nm_0902210msec_0260931876msecAbs\n",
      "input file is /p/lscratchh/yi10/llsm-data/2021-10-29-find-engulfed-Legionella/results_dsk/cell3_Iter_deskewed/trimmed_stacks/Trimmed_cell3_Iter_ch0_stack0029_3nm_0902210msec_0260931876msecAbs.tif\n",
      "create binary mask with threshold [293.5]\n",
      "kernel size for morphological operation is 3\n",
      "Apply closing operation\n",
      "Apply opening operation\n",
      "Apply marching cubes\n",
      "Get the largest connected component\n",
      "smooth surface with laplacian filter with 10 steps and relaxation factor 0.1\n",
      "save surface to /p/lscratchh/yi10/test\n"
     ]
    },
    {
     "data": {
      "text/plain": [
       "<Figure size 432x288 with 0 Axes>"
      ]
     },
     "execution_count": 8,
     "metadata": {},
     "output_type": "execute_result"
    },
    {
     "data": {
      "text/plain": [
       "<matplotlib.image.AxesImage at 0x2aab038f7850>"
      ]
     },
     "execution_count": 8,
     "metadata": {},
     "output_type": "execute_result"
    },
    {
     "name": "stdout",
     "output_type": "stream",
     "text": [
      "EXTRACT SURFACE  Trimmed_cell3_Iter_ch0_stack0030_3nm_0933347msec_0260963013msecAbs\n",
      "input file is /p/lscratchh/yi10/llsm-data/2021-10-29-find-engulfed-Legionella/results_dsk/cell3_Iter_deskewed/trimmed_stacks/Trimmed_cell3_Iter_ch0_stack0030_3nm_0933347msec_0260963013msecAbs.tif\n",
      "create binary mask with threshold 860.5\n",
      "kernel size for morphological operation is 3\n",
      "Apply closing operation\n",
      "Apply opening operation\n",
      "Apply marching cubes\n",
      "Get the largest connected component\n",
      "smooth surface with laplacian filter with 10 steps and relaxation factor 0.1\n",
      "save surface to /p/lscratchh/yi10/test\n",
      "EXTRACT SURFACE  Trimmed_cell3_Iter_ch0_stack0030_3nm_0933347msec_0260963013msecAbs\n",
      "input file is /p/lscratchh/yi10/llsm-data/2021-10-29-find-engulfed-Legionella/results_dsk/cell3_Iter_deskewed/trimmed_stacks/Trimmed_cell3_Iter_ch0_stack0030_3nm_0933347msec_0260963013msecAbs.tif\n",
      "create binary mask with threshold [293.5]\n",
      "kernel size for morphological operation is 3\n",
      "Apply closing operation\n",
      "Apply opening operation\n",
      "Apply marching cubes\n",
      "Get the largest connected component\n",
      "smooth surface with laplacian filter with 10 steps and relaxation factor 0.1\n",
      "save surface to /p/lscratchh/yi10/test\n"
     ]
    },
    {
     "data": {
      "text/plain": [
       "<Figure size 432x288 with 0 Axes>"
      ]
     },
     "execution_count": 8,
     "metadata": {},
     "output_type": "execute_result"
    },
    {
     "data": {
      "text/plain": [
       "<matplotlib.image.AxesImage at 0x2aab03932f10>"
      ]
     },
     "execution_count": 8,
     "metadata": {},
     "output_type": "execute_result"
    },
    {
     "name": "stdout",
     "output_type": "stream",
     "text": [
      "EXTRACT SURFACE  Trimmed_cell3_Iter_ch0_stack0031_3nm_0964457msec_0260994123msecAbs\n",
      "input file is /p/lscratchh/yi10/llsm-data/2021-10-29-find-engulfed-Legionella/results_dsk/cell3_Iter_deskewed/trimmed_stacks/Trimmed_cell3_Iter_ch0_stack0031_3nm_0964457msec_0260994123msecAbs.tif\n",
      "create binary mask with threshold 866.0\n",
      "kernel size for morphological operation is 3\n",
      "Apply closing operation\n",
      "Apply opening operation\n",
      "Apply marching cubes\n",
      "Get the largest connected component\n",
      "smooth surface with laplacian filter with 10 steps and relaxation factor 0.1\n",
      "save surface to /p/lscratchh/yi10/test\n",
      "EXTRACT SURFACE  Trimmed_cell3_Iter_ch0_stack0031_3nm_0964457msec_0260994123msecAbs\n",
      "input file is /p/lscratchh/yi10/llsm-data/2021-10-29-find-engulfed-Legionella/results_dsk/cell3_Iter_deskewed/trimmed_stacks/Trimmed_cell3_Iter_ch0_stack0031_3nm_0964457msec_0260994123msecAbs.tif\n",
      "create binary mask with threshold [306.]\n",
      "kernel size for morphological operation is 3\n",
      "Apply closing operation\n",
      "Apply opening operation\n",
      "Apply marching cubes\n",
      "Get the largest connected component\n",
      "smooth surface with laplacian filter with 10 steps and relaxation factor 0.1\n",
      "save surface to /p/lscratchh/yi10/test\n"
     ]
    },
    {
     "data": {
      "text/plain": [
       "<Figure size 432x288 with 0 Axes>"
      ]
     },
     "execution_count": 8,
     "metadata": {},
     "output_type": "execute_result"
    },
    {
     "data": {
      "text/plain": [
       "<matplotlib.image.AxesImage at 0x2aab0397d810>"
      ]
     },
     "execution_count": 8,
     "metadata": {},
     "output_type": "execute_result"
    },
    {
     "name": "stdout",
     "output_type": "stream",
     "text": [
      "EXTRACT SURFACE  Trimmed_cell3_Iter_ch0_stack0032_3nm_0995567msec_0261025233msecAbs\n",
      "input file is /p/lscratchh/yi10/llsm-data/2021-10-29-find-engulfed-Legionella/results_dsk/cell3_Iter_deskewed/trimmed_stacks/Trimmed_cell3_Iter_ch0_stack0032_3nm_0995567msec_0261025233msecAbs.tif\n",
      "create binary mask with threshold 850.0\n",
      "kernel size for morphological operation is 3\n",
      "Apply closing operation\n",
      "Apply opening operation\n",
      "Apply marching cubes\n",
      "Get the largest connected component\n",
      "smooth surface with laplacian filter with 10 steps and relaxation factor 0.1\n",
      "save surface to /p/lscratchh/yi10/test\n",
      "EXTRACT SURFACE  Trimmed_cell3_Iter_ch0_stack0032_3nm_0995567msec_0261025233msecAbs\n",
      "input file is /p/lscratchh/yi10/llsm-data/2021-10-29-find-engulfed-Legionella/results_dsk/cell3_Iter_deskewed/trimmed_stacks/Trimmed_cell3_Iter_ch0_stack0032_3nm_0995567msec_0261025233msecAbs.tif\n",
      "create binary mask with threshold [306.]\n",
      "kernel size for morphological operation is 3\n",
      "Apply closing operation\n",
      "Apply opening operation\n",
      "Apply marching cubes\n",
      "Get the largest connected component\n",
      "smooth surface with laplacian filter with 10 steps and relaxation factor 0.1\n",
      "save surface to /p/lscratchh/yi10/test\n"
     ]
    },
    {
     "data": {
      "text/plain": [
       "<Figure size 432x288 with 0 Axes>"
      ]
     },
     "execution_count": 8,
     "metadata": {},
     "output_type": "execute_result"
    },
    {
     "data": {
      "text/plain": [
       "<matplotlib.image.AxesImage at 0x2aab039bafd0>"
      ]
     },
     "execution_count": 8,
     "metadata": {},
     "output_type": "execute_result"
    },
    {
     "name": "stdout",
     "output_type": "stream",
     "text": [
      "EXTRACT SURFACE  Trimmed_cell3_Iter_ch0_stack0033_3nm_1026706msec_0261056372msecAbs\n",
      "input file is /p/lscratchh/yi10/llsm-data/2021-10-29-find-engulfed-Legionella/results_dsk/cell3_Iter_deskewed/trimmed_stacks/Trimmed_cell3_Iter_ch0_stack0033_3nm_1026706msec_0261056372msecAbs.tif\n",
      "create binary mask with threshold 818.0\n",
      "kernel size for morphological operation is 3\n",
      "Apply closing operation\n",
      "Apply opening operation\n",
      "Apply marching cubes\n",
      "Get the largest connected component\n",
      "smooth surface with laplacian filter with 10 steps and relaxation factor 0.1\n",
      "save surface to /p/lscratchh/yi10/test\n",
      "EXTRACT SURFACE  Trimmed_cell3_Iter_ch0_stack0033_3nm_1026706msec_0261056372msecAbs\n",
      "input file is /p/lscratchh/yi10/llsm-data/2021-10-29-find-engulfed-Legionella/results_dsk/cell3_Iter_deskewed/trimmed_stacks/Trimmed_cell3_Iter_ch0_stack0033_3nm_1026706msec_0261056372msecAbs.tif\n",
      "create binary mask with threshold [306.]\n",
      "kernel size for morphological operation is 3\n",
      "Apply closing operation\n",
      "Apply opening operation\n",
      "Apply marching cubes\n",
      "Get the largest connected component\n",
      "smooth surface with laplacian filter with 10 steps and relaxation factor 0.1\n",
      "save surface to /p/lscratchh/yi10/test\n"
     ]
    },
    {
     "data": {
      "text/plain": [
       "<Figure size 432x288 with 0 Axes>"
      ]
     },
     "execution_count": 8,
     "metadata": {},
     "output_type": "execute_result"
    },
    {
     "data": {
      "text/plain": [
       "<matplotlib.image.AxesImage at 0x2aab03a047d0>"
      ]
     },
     "execution_count": 8,
     "metadata": {},
     "output_type": "execute_result"
    },
    {
     "name": "stdout",
     "output_type": "stream",
     "text": [
      "EXTRACT SURFACE  Trimmed_cell3_Iter_ch0_stack0034_3nm_1057839msec_0261087505msecAbs\n",
      "input file is /p/lscratchh/yi10/llsm-data/2021-10-29-find-engulfed-Legionella/results_dsk/cell3_Iter_deskewed/trimmed_stacks/Trimmed_cell3_Iter_ch0_stack0034_3nm_1057839msec_0261087505msecAbs.tif\n",
      "create binary mask with threshold 797.5\n",
      "kernel size for morphological operation is 3\n",
      "Apply closing operation\n",
      "Apply opening operation\n",
      "Apply marching cubes\n",
      "Get the largest connected component\n",
      "smooth surface with laplacian filter with 10 steps and relaxation factor 0.1\n",
      "save surface to /p/lscratchh/yi10/test\n",
      "EXTRACT SURFACE  Trimmed_cell3_Iter_ch0_stack0034_3nm_1057839msec_0261087505msecAbs\n",
      "input file is /p/lscratchh/yi10/llsm-data/2021-10-29-find-engulfed-Legionella/results_dsk/cell3_Iter_deskewed/trimmed_stacks/Trimmed_cell3_Iter_ch0_stack0034_3nm_1057839msec_0261087505msecAbs.tif\n",
      "create binary mask with threshold [293.5]\n",
      "kernel size for morphological operation is 3\n",
      "Apply closing operation\n",
      "Apply opening operation\n",
      "Apply marching cubes\n",
      "Get the largest connected component\n",
      "smooth surface with laplacian filter with 10 steps and relaxation factor 0.1\n",
      "save surface to /p/lscratchh/yi10/test\n"
     ]
    },
    {
     "data": {
      "text/plain": [
       "<Figure size 432x288 with 0 Axes>"
      ]
     },
     "execution_count": 8,
     "metadata": {},
     "output_type": "execute_result"
    },
    {
     "data": {
      "text/plain": [
       "<matplotlib.image.AxesImage at 0x2aab03a3ff90>"
      ]
     },
     "execution_count": 8,
     "metadata": {},
     "output_type": "execute_result"
    },
    {
     "name": "stdout",
     "output_type": "stream",
     "text": [
      "EXTRACT SURFACE  Trimmed_cell3_Iter_ch0_stack0035_3nm_1088958msec_0261118624msecAbs\n",
      "input file is /p/lscratchh/yi10/llsm-data/2021-10-29-find-engulfed-Legionella/results_dsk/cell3_Iter_deskewed/trimmed_stacks/Trimmed_cell3_Iter_ch0_stack0035_3nm_1088958msec_0261118624msecAbs.tif\n",
      "create binary mask with threshold 786.0\n",
      "kernel size for morphological operation is 3\n",
      "Apply closing operation\n",
      "Apply opening operation\n",
      "Apply marching cubes\n",
      "Get the largest connected component\n",
      "smooth surface with laplacian filter with 10 steps and relaxation factor 0.1\n",
      "save surface to /p/lscratchh/yi10/test\n",
      "EXTRACT SURFACE  Trimmed_cell3_Iter_ch0_stack0035_3nm_1088958msec_0261118624msecAbs\n",
      "input file is /p/lscratchh/yi10/llsm-data/2021-10-29-find-engulfed-Legionella/results_dsk/cell3_Iter_deskewed/trimmed_stacks/Trimmed_cell3_Iter_ch0_stack0035_3nm_1088958msec_0261118624msecAbs.tif\n",
      "create binary mask with threshold [306.]\n",
      "kernel size for morphological operation is 3\n",
      "Apply closing operation\n",
      "Apply opening operation\n",
      "Apply marching cubes\n",
      "Get the largest connected component\n",
      "smooth surface with laplacian filter with 10 steps and relaxation factor 0.1\n",
      "save surface to /p/lscratchh/yi10/test\n"
     ]
    },
    {
     "data": {
      "text/plain": [
       "<Figure size 432x288 with 0 Axes>"
      ]
     },
     "execution_count": 8,
     "metadata": {},
     "output_type": "execute_result"
    },
    {
     "data": {
      "text/plain": [
       "<matplotlib.image.AxesImage at 0x2aab03a8b790>"
      ]
     },
     "execution_count": 8,
     "metadata": {},
     "output_type": "execute_result"
    },
    {
     "name": "stdout",
     "output_type": "stream",
     "text": [
      "EXTRACT SURFACE  Trimmed_cell3_Iter_ch0_stack0036_3nm_1120095msec_0261149761msecAbs\n",
      "input file is /p/lscratchh/yi10/llsm-data/2021-10-29-find-engulfed-Legionella/results_dsk/cell3_Iter_deskewed/trimmed_stacks/Trimmed_cell3_Iter_ch0_stack0036_3nm_1120095msec_0261149761msecAbs.tif\n",
      "create binary mask with threshold 786.0\n",
      "kernel size for morphological operation is 3\n",
      "Apply closing operation\n",
      "Apply opening operation\n",
      "Apply marching cubes\n",
      "Get the largest connected component\n",
      "smooth surface with laplacian filter with 10 steps and relaxation factor 0.1\n",
      "save surface to /p/lscratchh/yi10/test\n",
      "EXTRACT SURFACE  Trimmed_cell3_Iter_ch0_stack0036_3nm_1120095msec_0261149761msecAbs\n",
      "input file is /p/lscratchh/yi10/llsm-data/2021-10-29-find-engulfed-Legionella/results_dsk/cell3_Iter_deskewed/trimmed_stacks/Trimmed_cell3_Iter_ch0_stack0036_3nm_1120095msec_0261149761msecAbs.tif\n",
      "create binary mask with threshold [290.]\n",
      "kernel size for morphological operation is 3\n",
      "Apply closing operation\n",
      "Apply opening operation\n",
      "Apply marching cubes\n",
      "Get the largest connected component\n",
      "smooth surface with laplacian filter with 10 steps and relaxation factor 0.1\n",
      "save surface to /p/lscratchh/yi10/test\n"
     ]
    },
    {
     "data": {
      "text/plain": [
       "<Figure size 432x288 with 0 Axes>"
      ]
     },
     "execution_count": 8,
     "metadata": {},
     "output_type": "execute_result"
    },
    {
     "data": {
      "text/plain": [
       "<matplotlib.image.AxesImage at 0x2aab03ac6f50>"
      ]
     },
     "execution_count": 8,
     "metadata": {},
     "output_type": "execute_result"
    },
    {
     "name": "stdout",
     "output_type": "stream",
     "text": [
      "EXTRACT SURFACE  Trimmed_cell3_Iter_ch0_stack0037_3nm_1151228msec_0261180894msecAbs\n",
      "input file is /p/lscratchh/yi10/llsm-data/2021-10-29-find-engulfed-Legionella/results_dsk/cell3_Iter_deskewed/trimmed_stacks/Trimmed_cell3_Iter_ch0_stack0037_3nm_1151228msec_0261180894msecAbs.tif\n",
      "create binary mask with threshold 786.0\n",
      "kernel size for morphological operation is 3\n",
      "Apply closing operation\n",
      "Apply opening operation\n",
      "Apply marching cubes\n",
      "Get the largest connected component\n",
      "smooth surface with laplacian filter with 10 steps and relaxation factor 0.1\n",
      "save surface to /p/lscratchh/yi10/test\n",
      "EXTRACT SURFACE  Trimmed_cell3_Iter_ch0_stack0037_3nm_1151228msec_0261180894msecAbs\n",
      "input file is /p/lscratchh/yi10/llsm-data/2021-10-29-find-engulfed-Legionella/results_dsk/cell3_Iter_deskewed/trimmed_stacks/Trimmed_cell3_Iter_ch0_stack0037_3nm_1151228msec_0261180894msecAbs.tif\n",
      "create binary mask with threshold [290.]\n",
      "kernel size for morphological operation is 3\n",
      "Apply closing operation\n",
      "Apply opening operation\n",
      "Apply marching cubes\n",
      "Get the largest connected component\n",
      "smooth surface with laplacian filter with 10 steps and relaxation factor 0.1\n",
      "save surface to /p/lscratchh/yi10/test\n"
     ]
    },
    {
     "data": {
      "text/plain": [
       "<Figure size 432x288 with 0 Axes>"
      ]
     },
     "execution_count": 8,
     "metadata": {},
     "output_type": "execute_result"
    },
    {
     "data": {
      "text/plain": [
       "<matplotlib.image.AxesImage at 0x2aab03b11750>"
      ]
     },
     "execution_count": 8,
     "metadata": {},
     "output_type": "execute_result"
    },
    {
     "name": "stdout",
     "output_type": "stream",
     "text": [
      "EXTRACT SURFACE  Trimmed_cell3_Iter_ch0_stack0038_3nm_1182333msec_0261211999msecAbs\n",
      "input file is /p/lscratchh/yi10/llsm-data/2021-10-29-find-engulfed-Legionella/results_dsk/cell3_Iter_deskewed/trimmed_stacks/Trimmed_cell3_Iter_ch0_stack0038_3nm_1182333msec_0261211999msecAbs.tif\n",
      "create binary mask with threshold 770.0\n",
      "kernel size for morphological operation is 3\n",
      "Apply closing operation\n",
      "Apply opening operation\n",
      "Apply marching cubes\n",
      "Get the largest connected component\n",
      "smooth surface with laplacian filter with 10 steps and relaxation factor 0.1\n",
      "save surface to /p/lscratchh/yi10/test\n",
      "EXTRACT SURFACE  Trimmed_cell3_Iter_ch0_stack0038_3nm_1182333msec_0261211999msecAbs\n",
      "input file is /p/lscratchh/yi10/llsm-data/2021-10-29-find-engulfed-Legionella/results_dsk/cell3_Iter_deskewed/trimmed_stacks/Trimmed_cell3_Iter_ch0_stack0038_3nm_1182333msec_0261211999msecAbs.tif\n",
      "create binary mask with threshold [290.]\n",
      "kernel size for morphological operation is 3\n",
      "Apply closing operation\n",
      "Apply opening operation\n",
      "Apply marching cubes\n",
      "Get the largest connected component\n",
      "smooth surface with laplacian filter with 10 steps and relaxation factor 0.1\n",
      "save surface to /p/lscratchh/yi10/test\n"
     ]
    },
    {
     "data": {
      "text/plain": [
       "<Figure size 432x288 with 0 Axes>"
      ]
     },
     "execution_count": 8,
     "metadata": {},
     "output_type": "execute_result"
    },
    {
     "data": {
      "text/plain": [
       "<matplotlib.image.AxesImage at 0x2aab03b4ff10>"
      ]
     },
     "execution_count": 8,
     "metadata": {},
     "output_type": "execute_result"
    },
    {
     "name": "stdout",
     "output_type": "stream",
     "text": [
      "EXTRACT SURFACE  Trimmed_cell3_Iter_ch0_stack0039_3nm_1213485msec_0261243151msecAbs\n",
      "input file is /p/lscratchh/yi10/llsm-data/2021-10-29-find-engulfed-Legionella/results_dsk/cell3_Iter_deskewed/trimmed_stacks/Trimmed_cell3_Iter_ch0_stack0039_3nm_1213485msec_0261243151msecAbs.tif\n",
      "create binary mask with threshold 754.0\n",
      "kernel size for morphological operation is 3\n",
      "Apply closing operation\n",
      "Apply opening operation\n",
      "Apply marching cubes\n",
      "Get the largest connected component\n",
      "smooth surface with laplacian filter with 10 steps and relaxation factor 0.1\n",
      "save surface to /p/lscratchh/yi10/test\n",
      "EXTRACT SURFACE  Trimmed_cell3_Iter_ch0_stack0039_3nm_1213485msec_0261243151msecAbs\n",
      "input file is /p/lscratchh/yi10/llsm-data/2021-10-29-find-engulfed-Legionella/results_dsk/cell3_Iter_deskewed/trimmed_stacks/Trimmed_cell3_Iter_ch0_stack0039_3nm_1213485msec_0261243151msecAbs.tif\n",
      "create binary mask with threshold [290.]\n",
      "kernel size for morphological operation is 3\n",
      "Apply closing operation\n",
      "Apply opening operation\n",
      "Apply marching cubes\n",
      "Get the largest connected component\n",
      "smooth surface with laplacian filter with 10 steps and relaxation factor 0.1\n",
      "save surface to /p/lscratchh/yi10/test\n"
     ]
    },
    {
     "data": {
      "text/plain": [
       "<Figure size 432x288 with 0 Axes>"
      ]
     },
     "execution_count": 8,
     "metadata": {},
     "output_type": "execute_result"
    },
    {
     "data": {
      "text/plain": [
       "<matplotlib.image.AxesImage at 0x2aab03b99710>"
      ]
     },
     "execution_count": 8,
     "metadata": {},
     "output_type": "execute_result"
    },
    {
     "name": "stdout",
     "output_type": "stream",
     "text": [
      "EXTRACT SURFACE  Trimmed_cell3_Iter_ch0_stack0040_3nm_1244612msec_0261274278msecAbs\n",
      "input file is /p/lscratchh/yi10/llsm-data/2021-10-29-find-engulfed-Legionella/results_dsk/cell3_Iter_deskewed/trimmed_stacks/Trimmed_cell3_Iter_ch0_stack0040_3nm_1244612msec_0261274278msecAbs.tif\n",
      "create binary mask with threshold 754.0\n",
      "kernel size for morphological operation is 3\n",
      "Apply closing operation\n",
      "Apply opening operation\n",
      "Apply marching cubes\n",
      "Get the largest connected component\n",
      "smooth surface with laplacian filter with 10 steps and relaxation factor 0.1\n",
      "save surface to /p/lscratchh/yi10/test\n",
      "EXTRACT SURFACE  Trimmed_cell3_Iter_ch0_stack0040_3nm_1244612msec_0261274278msecAbs\n",
      "input file is /p/lscratchh/yi10/llsm-data/2021-10-29-find-engulfed-Legionella/results_dsk/cell3_Iter_deskewed/trimmed_stacks/Trimmed_cell3_Iter_ch0_stack0040_3nm_1244612msec_0261274278msecAbs.tif\n",
      "create binary mask with threshold [290.]\n",
      "kernel size for morphological operation is 3\n",
      "Apply closing operation\n",
      "Apply opening operation\n",
      "Apply marching cubes\n",
      "Get the largest connected component\n",
      "smooth surface with laplacian filter with 10 steps and relaxation factor 0.1\n",
      "save surface to /p/lscratchh/yi10/test\n"
     ]
    },
    {
     "data": {
      "text/plain": [
       "<Figure size 432x288 with 0 Axes>"
      ]
     },
     "execution_count": 8,
     "metadata": {},
     "output_type": "execute_result"
    },
    {
     "data": {
      "text/plain": [
       "<matplotlib.image.AxesImage at 0x2aab03bd3ed0>"
      ]
     },
     "execution_count": 8,
     "metadata": {},
     "output_type": "execute_result"
    },
    {
     "name": "stdout",
     "output_type": "stream",
     "text": [
      "EXTRACT SURFACE  Trimmed_cell3_Iter_ch0_stack0041_3nm_1275767msec_0261305433msecAbs\n",
      "input file is /p/lscratchh/yi10/llsm-data/2021-10-29-find-engulfed-Legionella/results_dsk/cell3_Iter_deskewed/trimmed_stacks/Trimmed_cell3_Iter_ch0_stack0041_3nm_1275767msec_0261305433msecAbs.tif\n",
      "create binary mask with threshold 738.0\n",
      "kernel size for morphological operation is 3\n",
      "Apply closing operation\n",
      "Apply opening operation\n",
      "Apply marching cubes\n",
      "Get the largest connected component\n",
      "smooth surface with laplacian filter with 10 steps and relaxation factor 0.1\n",
      "save surface to /p/lscratchh/yi10/test\n",
      "EXTRACT SURFACE  Trimmed_cell3_Iter_ch0_stack0041_3nm_1275767msec_0261305433msecAbs\n",
      "input file is /p/lscratchh/yi10/llsm-data/2021-10-29-find-engulfed-Legionella/results_dsk/cell3_Iter_deskewed/trimmed_stacks/Trimmed_cell3_Iter_ch0_stack0041_3nm_1275767msec_0261305433msecAbs.tif\n",
      "create binary mask with threshold [290.]\n",
      "kernel size for morphological operation is 3\n",
      "Apply closing operation\n",
      "Apply opening operation\n",
      "Apply marching cubes\n",
      "Get the largest connected component\n",
      "smooth surface with laplacian filter with 10 steps and relaxation factor 0.1\n",
      "save surface to /p/lscratchh/yi10/test\n"
     ]
    },
    {
     "data": {
      "text/plain": [
       "<Figure size 432x288 with 0 Axes>"
      ]
     },
     "execution_count": 8,
     "metadata": {},
     "output_type": "execute_result"
    },
    {
     "data": {
      "text/plain": [
       "<matplotlib.image.AxesImage at 0x2aab03cc16d0>"
      ]
     },
     "execution_count": 8,
     "metadata": {},
     "output_type": "execute_result"
    },
    {
     "name": "stdout",
     "output_type": "stream",
     "text": [
      "EXTRACT SURFACE  Trimmed_cell3_Iter_ch0_stack0042_3nm_1306924msec_0261336590msecAbs\n",
      "input file is /p/lscratchh/yi10/llsm-data/2021-10-29-find-engulfed-Legionella/results_dsk/cell3_Iter_deskewed/trimmed_stacks/Trimmed_cell3_Iter_ch0_stack0042_3nm_1306924msec_0261336590msecAbs.tif\n",
      "create binary mask with threshold 734.5\n",
      "kernel size for morphological operation is 3\n",
      "Apply closing operation\n",
      "Apply opening operation\n",
      "Apply marching cubes\n",
      "Get the largest connected component\n",
      "smooth surface with laplacian filter with 10 steps and relaxation factor 0.1\n",
      "save surface to /p/lscratchh/yi10/test\n",
      "EXTRACT SURFACE  Trimmed_cell3_Iter_ch0_stack0042_3nm_1306924msec_0261336590msecAbs\n",
      "input file is /p/lscratchh/yi10/llsm-data/2021-10-29-find-engulfed-Legionella/results_dsk/cell3_Iter_deskewed/trimmed_stacks/Trimmed_cell3_Iter_ch0_stack0042_3nm_1306924msec_0261336590msecAbs.tif\n",
      "create binary mask with threshold [293.5]\n",
      "kernel size for morphological operation is 3\n",
      "Apply closing operation\n",
      "Apply opening operation\n",
      "Apply marching cubes\n",
      "Get the largest connected component\n",
      "smooth surface with laplacian filter with 10 steps and relaxation factor 0.1\n",
      "save surface to /p/lscratchh/yi10/test\n"
     ]
    },
    {
     "data": {
      "text/plain": [
       "<Figure size 432x288 with 0 Axes>"
      ]
     },
     "execution_count": 8,
     "metadata": {},
     "output_type": "execute_result"
    },
    {
     "data": {
      "text/plain": [
       "<matplotlib.image.AxesImage at 0x2aab03cfde90>"
      ]
     },
     "execution_count": 8,
     "metadata": {},
     "output_type": "execute_result"
    },
    {
     "name": "stdout",
     "output_type": "stream",
     "text": [
      "EXTRACT SURFACE  Trimmed_cell3_Iter_ch0_stack0043_3nm_1338074msec_0261367740msecAbs\n",
      "input file is /p/lscratchh/yi10/llsm-data/2021-10-29-find-engulfed-Legionella/results_dsk/cell3_Iter_deskewed/trimmed_stacks/Trimmed_cell3_Iter_ch0_stack0043_3nm_1338074msec_0261367740msecAbs.tif\n",
      "create binary mask with threshold 722.0\n",
      "kernel size for morphological operation is 3\n",
      "Apply closing operation\n",
      "Apply opening operation\n",
      "Apply marching cubes\n",
      "Get the largest connected component\n",
      "smooth surface with laplacian filter with 10 steps and relaxation factor 0.1\n",
      "save surface to /p/lscratchh/yi10/test\n",
      "EXTRACT SURFACE  Trimmed_cell3_Iter_ch0_stack0043_3nm_1338074msec_0261367740msecAbs\n",
      "input file is /p/lscratchh/yi10/llsm-data/2021-10-29-find-engulfed-Legionella/results_dsk/cell3_Iter_deskewed/trimmed_stacks/Trimmed_cell3_Iter_ch0_stack0043_3nm_1338074msec_0261367740msecAbs.tif\n",
      "create binary mask with threshold [290.]\n",
      "kernel size for morphological operation is 3\n",
      "Apply closing operation\n",
      "Apply opening operation\n",
      "Apply marching cubes\n",
      "Get the largest connected component\n",
      "smooth surface with laplacian filter with 10 steps and relaxation factor 0.1\n",
      "save surface to /p/lscratchh/yi10/test\n"
     ]
    },
    {
     "data": {
      "text/plain": [
       "<Figure size 432x288 with 0 Axes>"
      ]
     },
     "execution_count": 8,
     "metadata": {},
     "output_type": "execute_result"
    },
    {
     "data": {
      "text/plain": [
       "<matplotlib.image.AxesImage at 0x2aab03d47690>"
      ]
     },
     "execution_count": 8,
     "metadata": {},
     "output_type": "execute_result"
    },
    {
     "name": "stdout",
     "output_type": "stream",
     "text": [
      "EXTRACT SURFACE  Trimmed_cell3_Iter_ch0_stack0044_3nm_1369200msec_0261398866msecAbs\n",
      "input file is /p/lscratchh/yi10/llsm-data/2021-10-29-find-engulfed-Legionella/results_dsk/cell3_Iter_deskewed/trimmed_stacks/Trimmed_cell3_Iter_ch0_stack0044_3nm_1369200msec_0261398866msecAbs.tif\n",
      "create binary mask with threshold 706.0\n",
      "kernel size for morphological operation is 3\n",
      "Apply closing operation\n",
      "Apply opening operation\n",
      "Apply marching cubes\n",
      "Get the largest connected component\n",
      "smooth surface with laplacian filter with 10 steps and relaxation factor 0.1\n",
      "save surface to /p/lscratchh/yi10/test\n",
      "EXTRACT SURFACE  Trimmed_cell3_Iter_ch0_stack0044_3nm_1369200msec_0261398866msecAbs\n",
      "input file is /p/lscratchh/yi10/llsm-data/2021-10-29-find-engulfed-Legionella/results_dsk/cell3_Iter_deskewed/trimmed_stacks/Trimmed_cell3_Iter_ch0_stack0044_3nm_1369200msec_0261398866msecAbs.tif\n",
      "create binary mask with threshold [290.]\n",
      "kernel size for morphological operation is 3\n",
      "Apply closing operation\n",
      "Apply opening operation\n",
      "Apply marching cubes\n",
      "Get the largest connected component\n",
      "smooth surface with laplacian filter with 10 steps and relaxation factor 0.1\n",
      "save surface to /p/lscratchh/yi10/test\n"
     ]
    },
    {
     "data": {
      "text/plain": [
       "<Figure size 432x288 with 0 Axes>"
      ]
     },
     "execution_count": 8,
     "metadata": {},
     "output_type": "execute_result"
    },
    {
     "data": {
      "text/plain": [
       "<matplotlib.image.AxesImage at 0x2aab03d82e50>"
      ]
     },
     "execution_count": 8,
     "metadata": {},
     "output_type": "execute_result"
    },
    {
     "name": "stdout",
     "output_type": "stream",
     "text": [
      "EXTRACT SURFACE  Trimmed_cell3_Iter_ch0_stack0045_3nm_1400344msec_0261430010msecAbs\n",
      "input file is /p/lscratchh/yi10/llsm-data/2021-10-29-find-engulfed-Legionella/results_dsk/cell3_Iter_deskewed/trimmed_stacks/Trimmed_cell3_Iter_ch0_stack0045_3nm_1400344msec_0261430010msecAbs.tif\n",
      "create binary mask with threshold 706.0\n",
      "kernel size for morphological operation is 3\n",
      "Apply closing operation\n",
      "Apply opening operation\n",
      "Apply marching cubes\n",
      "Get the largest connected component\n",
      "smooth surface with laplacian filter with 10 steps and relaxation factor 0.1\n",
      "save surface to /p/lscratchh/yi10/test\n",
      "EXTRACT SURFACE  Trimmed_cell3_Iter_ch0_stack0045_3nm_1400344msec_0261430010msecAbs\n",
      "input file is /p/lscratchh/yi10/llsm-data/2021-10-29-find-engulfed-Legionella/results_dsk/cell3_Iter_deskewed/trimmed_stacks/Trimmed_cell3_Iter_ch0_stack0045_3nm_1400344msec_0261430010msecAbs.tif\n",
      "create binary mask with threshold [290.]\n",
      "kernel size for morphological operation is 3\n",
      "Apply closing operation\n",
      "Apply opening operation\n",
      "Apply marching cubes\n",
      "Get the largest connected component\n",
      "smooth surface with laplacian filter with 10 steps and relaxation factor 0.1\n",
      "save surface to /p/lscratchh/yi10/test\n"
     ]
    },
    {
     "data": {
      "text/plain": [
       "<Figure size 432x288 with 0 Axes>"
      ]
     },
     "execution_count": 8,
     "metadata": {},
     "output_type": "execute_result"
    },
    {
     "data": {
      "text/plain": [
       "<matplotlib.image.AxesImage at 0x2aab03dcd650>"
      ]
     },
     "execution_count": 8,
     "metadata": {},
     "output_type": "execute_result"
    },
    {
     "name": "stdout",
     "output_type": "stream",
     "text": [
      "EXTRACT SURFACE  Trimmed_cell3_Iter_ch0_stack0046_3nm_1431479msec_0261461145msecAbs\n",
      "input file is /p/lscratchh/yi10/llsm-data/2021-10-29-find-engulfed-Legionella/results_dsk/cell3_Iter_deskewed/trimmed_stacks/Trimmed_cell3_Iter_ch0_stack0046_3nm_1431479msec_0261461145msecAbs.tif\n",
      "create binary mask with threshold 706.0\n",
      "kernel size for morphological operation is 3\n",
      "Apply closing operation\n",
      "Apply opening operation\n",
      "Apply marching cubes\n",
      "Get the largest connected component\n",
      "smooth surface with laplacian filter with 10 steps and relaxation factor 0.1\n",
      "save surface to /p/lscratchh/yi10/test\n",
      "EXTRACT SURFACE  Trimmed_cell3_Iter_ch0_stack0046_3nm_1431479msec_0261461145msecAbs\n",
      "input file is /p/lscratchh/yi10/llsm-data/2021-10-29-find-engulfed-Legionella/results_dsk/cell3_Iter_deskewed/trimmed_stacks/Trimmed_cell3_Iter_ch0_stack0046_3nm_1431479msec_0261461145msecAbs.tif\n",
      "create binary mask with threshold [290.]\n",
      "kernel size for morphological operation is 3\n",
      "Apply closing operation\n",
      "Apply opening operation\n",
      "Apply marching cubes\n",
      "Get the largest connected component\n",
      "smooth surface with laplacian filter with 10 steps and relaxation factor 0.1\n",
      "save surface to /p/lscratchh/yi10/test\n"
     ]
    },
    {
     "data": {
      "text/plain": [
       "<Figure size 432x288 with 0 Axes>"
      ]
     },
     "execution_count": 8,
     "metadata": {},
     "output_type": "execute_result"
    },
    {
     "data": {
      "text/plain": [
       "<matplotlib.image.AxesImage at 0x2aab03e0ae10>"
      ]
     },
     "execution_count": 8,
     "metadata": {},
     "output_type": "execute_result"
    },
    {
     "name": "stdout",
     "output_type": "stream",
     "text": [
      "EXTRACT SURFACE  Trimmed_cell3_Iter_ch0_stack0047_3nm_1462629msec_0261492295msecAbs\n",
      "input file is /p/lscratchh/yi10/llsm-data/2021-10-29-find-engulfed-Legionella/results_dsk/cell3_Iter_deskewed/trimmed_stacks/Trimmed_cell3_Iter_ch0_stack0047_3nm_1462629msec_0261492295msecAbs.tif\n",
      "create binary mask with threshold 690.0\n",
      "kernel size for morphological operation is 3\n",
      "Apply closing operation\n",
      "Apply opening operation\n",
      "Apply marching cubes\n",
      "Get the largest connected component\n",
      "smooth surface with laplacian filter with 10 steps and relaxation factor 0.1\n",
      "save surface to /p/lscratchh/yi10/test\n",
      "EXTRACT SURFACE  Trimmed_cell3_Iter_ch0_stack0047_3nm_1462629msec_0261492295msecAbs\n",
      "input file is /p/lscratchh/yi10/llsm-data/2021-10-29-find-engulfed-Legionella/results_dsk/cell3_Iter_deskewed/trimmed_stacks/Trimmed_cell3_Iter_ch0_stack0047_3nm_1462629msec_0261492295msecAbs.tif\n",
      "create binary mask with threshold [290.]\n",
      "kernel size for morphological operation is 3\n",
      "Apply closing operation\n",
      "Apply opening operation\n",
      "Apply marching cubes\n",
      "Get the largest connected component\n",
      "smooth surface with laplacian filter with 10 steps and relaxation factor 0.1\n",
      "save surface to /p/lscratchh/yi10/test\n"
     ]
    },
    {
     "data": {
      "text/plain": [
       "<Figure size 432x288 with 0 Axes>"
      ]
     },
     "execution_count": 8,
     "metadata": {},
     "output_type": "execute_result"
    },
    {
     "data": {
      "text/plain": [
       "<matplotlib.image.AxesImage at 0x2aab03e55610>"
      ]
     },
     "execution_count": 8,
     "metadata": {},
     "output_type": "execute_result"
    },
    {
     "name": "stdout",
     "output_type": "stream",
     "text": [
      "EXTRACT SURFACE  Trimmed_cell3_Iter_ch0_stack0048_3nm_1493782msec_0261523448msecAbs\n",
      "input file is /p/lscratchh/yi10/llsm-data/2021-10-29-find-engulfed-Legionella/results_dsk/cell3_Iter_deskewed/trimmed_stacks/Trimmed_cell3_Iter_ch0_stack0048_3nm_1493782msec_0261523448msecAbs.tif\n",
      "create binary mask with threshold 658.0\n",
      "kernel size for morphological operation is 3\n",
      "Apply closing operation\n",
      "Apply opening operation\n",
      "Apply marching cubes\n",
      "Get the largest connected component\n",
      "smooth surface with laplacian filter with 10 steps and relaxation factor 0.1\n",
      "save surface to /p/lscratchh/yi10/test\n",
      "EXTRACT SURFACE  Trimmed_cell3_Iter_ch0_stack0048_3nm_1493782msec_0261523448msecAbs\n",
      "input file is /p/lscratchh/yi10/llsm-data/2021-10-29-find-engulfed-Legionella/results_dsk/cell3_Iter_deskewed/trimmed_stacks/Trimmed_cell3_Iter_ch0_stack0048_3nm_1493782msec_0261523448msecAbs.tif\n",
      "create binary mask with threshold [290.]\n",
      "kernel size for morphological operation is 3\n",
      "Apply closing operation\n",
      "Apply opening operation\n",
      "Apply marching cubes\n",
      "Get the largest connected component\n",
      "smooth surface with laplacian filter with 10 steps and relaxation factor 0.1\n",
      "save surface to /p/lscratchh/yi10/test\n"
     ]
    },
    {
     "data": {
      "text/plain": [
       "<Figure size 432x288 with 0 Axes>"
      ]
     },
     "execution_count": 8,
     "metadata": {},
     "output_type": "execute_result"
    },
    {
     "data": {
      "text/plain": [
       "<matplotlib.image.AxesImage at 0x2aab013622d0>"
      ]
     },
     "execution_count": 8,
     "metadata": {},
     "output_type": "execute_result"
    },
    {
     "name": "stdout",
     "output_type": "stream",
     "text": [
      "EXTRACT SURFACE  Trimmed_cell3_Iter_ch0_stack0049_3nm_1524922msec_0261554588msecAbs\n",
      "input file is /p/lscratchh/yi10/llsm-data/2021-10-29-find-engulfed-Legionella/results_dsk/cell3_Iter_deskewed/trimmed_stacks/Trimmed_cell3_Iter_ch0_stack0049_3nm_1524922msec_0261554588msecAbs.tif\n",
      "create binary mask with threshold 658.0\n",
      "kernel size for morphological operation is 3\n",
      "Apply closing operation\n",
      "Apply opening operation\n",
      "Apply marching cubes\n",
      "Get the largest connected component\n",
      "smooth surface with laplacian filter with 10 steps and relaxation factor 0.1\n",
      "save surface to /p/lscratchh/yi10/test\n",
      "EXTRACT SURFACE  Trimmed_cell3_Iter_ch0_stack0049_3nm_1524922msec_0261554588msecAbs\n",
      "input file is /p/lscratchh/yi10/llsm-data/2021-10-29-find-engulfed-Legionella/results_dsk/cell3_Iter_deskewed/trimmed_stacks/Trimmed_cell3_Iter_ch0_stack0049_3nm_1524922msec_0261554588msecAbs.tif\n",
      "create binary mask with threshold [290.]\n",
      "kernel size for morphological operation is 3\n",
      "Apply closing operation\n",
      "Apply opening operation\n",
      "Apply marching cubes\n",
      "Get the largest connected component\n",
      "smooth surface with laplacian filter with 10 steps and relaxation factor 0.1\n",
      "save surface to /p/lscratchh/yi10/test\n"
     ]
    },
    {
     "data": {
      "image/png": "[encoded data removed]",
      "text/plain": [
       "<Figure size 432x288 with 1 Axes>"
      ]
     },
     "metadata": {
      "needs_background": "light"
     },
     "output_type": "display_data"
    },
    {
     "data": {
      "image/png": "[encoded data removed]",
      "text/plain": [
       "<Figure size 432x288 with 1 Axes>"
      ]
     },
     "metadata": {
      "needs_background": "light"
     },
     "output_type": "display_data"
    },
    {
     "data": {
      "image/png": "[encoded data removed]",
      "text/plain": [
       "<Figure size 432x288 with 1 Axes>"
      ]
     },
     "metadata": {
      "needs_background": "light"
     },
     "output_type": "display_data"
    },
    {
     "data": {
      "image/png": "[encoded data removed]",
      "text/plain": [
       "<Figure size 432x288 with 1 Axes>"
      ]
     },
     "metadata": {
      "needs_background": "light"
     },
     "output_type": "display_data"
    },
    {
     "data": {
      "image/png": "[encoded data removed]",
      "text/plain": [
       "<Figure size 432x288 with 1 Axes>"
      ]
     },
     "metadata": {
      "needs_background": "light"
     },
     "output_type": "display_data"
    },
    {
     "data": {
      "image/png": "[encoded data removed]",
      "text/plain": [
       "<Figure size 432x288 with 1 Axes>"
      ]
     },
     "metadata": {
      "needs_background": "light"
     },
     "output_type": "display_data"
    },
    {
     "data": {
      "image/png": "[encoded data removed]",
      "text/plain": [
       "<Figure size 432x288 with 1 Axes>"
      ]
     },
     "metadata": {
      "needs_background": "light"
     },
     "output_type": "display_data"
    },
    {
     "data": {
      "image/png": "[encoded data removed]",
      "text/plain": [
       "<Figure size 432x288 with 1 Axes>"
      ]
     },
     "metadata": {
      "needs_background": "light"
     },
     "output_type": "display_data"
    },
    {
     "data": {
      "image/png": "[encoded data removed]",
      "text/plain": [
       "<Figure size 432x288 with 1 Axes>"
      ]
     },
     "metadata": {
      "needs_background": "light"
     },
     "output_type": "display_data"
    },
    {
     "data": {
      "image/png": "[encoded data removed]",
      "text/plain": [
       "<Figure size 432x288 with 1 Axes>"
      ]
     },
     "metadata": {
      "needs_background": "light"
     },
     "output_type": "display_data"
    },
    {
     "data": {
      "image/png": "[encoded data removed]",
      "text/plain": [
       "<Figure size 432x288 with 1 Axes>"
      ]
     },
     "metadata": {
      "needs_background": "light"
     },
     "output_type": "display_data"
    },
    {
     "data": {
      "image/png": "[encoded data removed]",
      "text/plain": [
       "<Figure size 432x288 with 1 Axes>"
      ]
     },
     "metadata": {
      "needs_background": "light"
     },
     "output_type": "display_data"
    },
    {
     "data": {
      "image/png": "[encoded data removed]",
      "text/plain": [
       "<Figure size 432x288 with 1 Axes>"
      ]
     },
     "metadata": {
      "needs_background": "light"
     },
     "output_type": "display_data"
    },
    {
     "data": {
      "image/png": "[encoded data removed]",
      "text/plain": [
       "<Figure size 432x288 with 1 Axes>"
      ]
     },
     "metadata": {
      "needs_background": "light"
     },
     "output_type": "display_data"
    },
    {
     "data": {
      "image/png": "[encoded data removed]",
      "text/plain": [
       "<Figure size 432x288 with 1 Axes>"
      ]
     },
     "metadata": {
      "needs_background": "light"
     },
     "output_type": "display_data"
    },
    {
     "data": {
      "image/png": "[encoded data removed]",
      "text/plain": [
       "<Figure size 432x288 with 1 Axes>"
      ]
     },
     "metadata": {
      "needs_background": "light"
     },
     "output_type": "display_data"
    },
    {
     "data": {
      "image/png": "[encoded data removed]",
      "text/plain": [
       "<Figure size 432x288 with 1 Axes>"
      ]
     },
     "metadata": {
      "needs_background": "light"
     },
     "output_type": "display_data"
    },
    {
     "data": {
      "image/png": "[encoded data removed]",
      "text/plain": [
       "<Figure size 432x288 with 1 Axes>"
      ]
     },
     "metadata": {
      "needs_background": "light"
     },
     "output_type": "display_data"
    },
    {
     "data": {
      "image/png": "[encoded data removed]",
      "text/plain": [
       "<Figure size 432x288 with 1 Axes>"
      ]
     },
     "metadata": {
      "needs_background": "light"
     },
     "output_type": "display_data"
    },
    {
     "data": {
      "image/png": "[encoded data removed]",
      "text/plain": [
       "<Figure size 432x288 with 1 Axes>"
      ]
     },
     "metadata": {
      "needs_background": "light"
     },
     "output_type": "display_data"
    },
    {
     "data": {
      "image/png": "[encoded data removed]",
      "text/plain": [
       "<Figure size 432x288 with 1 Axes>"
      ]
     },
     "metadata": {
      "needs_background": "light"
     },
     "output_type": "display_data"
    },
    {
     "data": {
      "image/png": "[encoded data removed]",
      "text/plain": [
       "<Figure size 432x288 with 1 Axes>"
      ]
     },
     "metadata": {
      "needs_background": "light"
     },
     "output_type": "display_data"
    },
    {
     "data": {
      "image/png": "[encoded data removed]",
      "text/plain": [
       "<Figure size 432x288 with 1 Axes>"
      ]
     },
     "metadata": {
      "needs_background": "light"
     },
     "output_type": "display_data"
    },
    {
     "data": {
      "image/png": "[encoded data removed]",
      "text/plain": [
       "<Figure size 432x288 with 1 Axes>"
      ]
     },
     "metadata": {
      "needs_background": "light"
     },
     "output_type": "display_data"
    },
    {
     "data": {
      "image/png": "[encoded data removed]",
      "text/plain": [
       "<Figure size 432x288 with 1 Axes>"
      ]
     },
     "metadata": {
      "needs_background": "light"
     },
     "output_type": "display_data"
    },
    {
     "data": {
      "image/png": "[encoded data removed]",
      "text/plain": [
       "<Figure size 432x288 with 1 Axes>"
      ]
     },
     "metadata": {
      "needs_background": "light"
     },
     "output_type": "display_data"
    },
    {
     "data": {
      "image/png": "[encoded data removed]",
      "text/plain": [
       "<Figure size 432x288 with 1 Axes>"
      ]
     },
     "metadata": {
      "needs_background": "light"
     },
     "output_type": "display_data"
    },
    {
     "data": {
      "image/png": "[encoded data removed]",
      "text/plain": [
       "<Figure size 432x288 with 1 Axes>"
      ]
     },
     "metadata": {
      "needs_background": "light"
     },
     "output_type": "display_data"
    },
    {
     "data": {
      "image/png": "[encoded data removed]",
      "text/plain": [
       "<Figure size 432x288 with 1 Axes>"
      ]
     },
     "metadata": {
      "needs_background": "light"
     },
     "output_type": "display_data"
    },
    {
     "data": {
      "image/png": "[encoded data removed]",
      "text/plain": [
       "<Figure size 432x288 with 1 Axes>"
      ]
     },
     "metadata": {
      "needs_background": "light"
     },
     "output_type": "display_data"
    },
    {
     "data": {
      "image/png": "[encoded data removed]",
      "text/plain": [
       "<Figure size 432x288 with 1 Axes>"
      ]
     },
     "metadata": {
      "needs_background": "light"
     },
     "output_type": "display_data"
    },
    {
     "data": {
      "image/png": "[encoded data removed]",
      "text/plain": [
       "<Figure size 432x288 with 1 Axes>"
      ]
     },
     "metadata": {
      "needs_background": "light"
     },
     "output_type": "display_data"
    },
    {
     "data": {
      "image/png": "[encoded data removed]",
      "text/plain": [
       "<Figure size 432x288 with 1 Axes>"
      ]
     },
     "metadata": {
      "needs_background": "light"
     },
     "output_type": "display_data"
    },
    {
     "data": {
      "image/png": "[encoded data removed]",
      "text/plain": [
       "<Figure size 432x288 with 1 Axes>"
      ]
     },
     "metadata": {
      "needs_background": "light"
     },
     "output_type": "display_data"
    },
    {
     "data": {
      "image/png": "[encoded data removed]",
      "text/plain": [
       "<Figure size 432x288 with 1 Axes>"
      ]
     },
     "metadata": {
      "needs_background": "light"
     },
     "output_type": "display_data"
    },
    {
     "data": {
      "image/png": "[encoded data removed]",
      "text/plain": [
       "<Figure size 432x288 with 1 Axes>"
      ]
     },
     "metadata": {
      "needs_background": "light"
     },
     "output_type": "display_data"
    },
    {
     "data": {
      "image/png": "[encoded data removed]",
      "text/plain": [
       "<Figure size 432x288 with 1 Axes>"
      ]
     },
     "metadata": {
      "needs_background": "light"
     },
     "output_type": "display_data"
    },
    {
     "data": {
      "image/png": "[encoded data removed]",
      "text/plain": [
       "<Figure size 432x288 with 1 Axes>"
      ]
     },
     "metadata": {
      "needs_background": "light"
     },
     "output_type": "display_data"
    },
    {
     "data": {
      "image/png": "[encoded data removed]",
      "text/plain": [
       "<Figure size 432x288 with 1 Axes>"
      ]
     },
     "metadata": {
      "needs_background": "light"
     },
     "output_type": "display_data"
    },
    {
     "data": {
      "image/png": "[encoded data removed]",
      "text/plain": [
       "<Figure size 432x288 with 1 Axes>"
      ]
     },
     "metadata": {
      "needs_background": "light"
     },
     "output_type": "display_data"
    },
    {
     "data": {
      "image/png": "[encoded data removed]",
      "text/plain": [
       "<Figure size 432x288 with 1 Axes>"
      ]
     },
     "metadata": {
      "needs_background": "light"
     },
     "output_type": "display_data"
    },
    {
     "data": {
      "image/png": "[encoded data removed]",
      "text/plain": [
       "<Figure size 432x288 with 1 Axes>"
      ]
     },
     "metadata": {
      "needs_background": "light"
     },
     "output_type": "display_data"
    },
    {
     "data": {
      "image/png": "[encoded data removed]",
      "text/plain": [
       "<Figure size 432x288 with 1 Axes>"
      ]
     },
     "metadata": {
      "needs_background": "light"
     },
     "output_type": "display_data"
    },
    {
     "data": {
      "image/png": "[encoded data removed]",
      "text/plain": [
       "<Figure size 432x288 with 1 Axes>"
      ]
     },
     "metadata": {
      "needs_background": "light"
     },
     "output_type": "display_data"
    },
    {
     "data": {
      "image/png": "[encoded data removed]",
      "text/plain": [
       "<Figure size 432x288 with 1 Axes>"
      ]
     },
     "metadata": {
      "needs_background": "light"
     },
     "output_type": "display_data"
    },
    {
     "data": {
      "image/png": "[encoded data removed]",
      "text/plain": [
       "<Figure size 432x288 with 1 Axes>"
      ]
     },
     "metadata": {
      "needs_background": "light"
     },
     "output_type": "display_data"
    },
    {
     "data": {
      "image/png": "[encoded data removed]",
      "text/plain": [
       "<Figure size 432x288 with 1 Axes>"
      ]
     },
     "metadata": {
      "needs_background": "light"
     },
     "output_type": "display_data"
    },
    {
     "data": {
      "image/png": "[encoded data removed]",
      "text/plain": [
       "<Figure size 432x288 with 1 Axes>"
      ]
     },
     "metadata": {
      "needs_background": "light"
     },
     "output_type": "display_data"
    },
    {
     "data": {
      "image/png": "[encoded data removed]",
      "text/plain": [
       "<Figure size 432x288 with 1 Axes>"
      ]
     },
     "metadata": {
      "needs_background": "light"
     },
     "output_type": "display_data"
    },
    {
     "data": {
      "image/png": "[encoded data removed]",
      "text/plain": [
       "<Figure size 432x288 with 1 Axes>"
      ]
     },
     "metadata": {
      "needs_background": "light"
     },
     "output_type": "display_data"
    }
   ],
   "source": [
    "# plot thresholds and profiles\n",
    "for tind in np.arange(50):\n",
    "    lb=d.h5f['[D6] threshold lower bound'][tind]\n",
    "    sp=d.h5f['[D2] threshold saddle point'][tind]\n",
    "    ub=d.h5f['[D4] threshold upper bound'][tind]\n",
    "\n",
    "    lbind=np.int(d.h5f['[D7] threshold lower bound index'][tind])\n",
    "    spind=np.int(d.h5f['[D3] threshold saddle point index'][tind])\n",
    "    ubind=np.int(d.h5f['[D5] threshold upper bound index'][tind])\n",
    "    bc=np.asarray(d.h5f['[G01] voxel value bin centers/T'+str(tind)])\n",
    "    lgind=np.where(bc>=lgs[tind])[0][0]\n",
    "    lg=bc[lgind]\n",
    "\n",
    "    hs=np.asarray(d.h5f['[G02] voxel value histogram counts/T'+str(tind)])\n",
    "    fpath=tlist[tind]\n",
    "    output_dir='/p/lscratchh/yi10/test'\n",
    "    k0=io.imread(fpath)\n",
    "    k=copy.deepcopy(k0)\n",
    "    k[np.where(k<lg)]=0\n",
    "    \n",
    "    # print(bc[lgind])\n",
    "    plt.figure()\n",
    "    plt.imshow(np.max(k,axis=0))\n",
    "    surface_smoothing_steps=10\n",
    "    output_file = hp3d.surface_morphometrics.extract_surface(lg, fpath=fpath, \n",
    "                                                             output_dir=output_dir, \n",
    "                                                             kernel_size=3, \n",
    "                                                             save_mask=False, \n",
    "                                                             surface_smoothing_steps=surface_smoothing_steps,\n",
    "                                                            largest_connected_component=False,\n",
    "                                                            output_fname='LegiT'+str(tind).zfill(2)+'.stl')\n",
    "    output_file = hp3d.surface_morphometrics.extract_surface(sp, fpath=fpath, \n",
    "                                                             output_dir=output_dir, \n",
    "                                                             kernel_size=3, \n",
    "                                                             save_mask=False, \n",
    "                                                             surface_smoothing_steps=surface_smoothing_steps,\n",
    "                                                            largest_connected_component=True,\n",
    "                                                            output_fname='CellT'+str(tind).zfill(2)+'.stl')\n",
    "    "
   ]
  },
  {
   "cell_type": "code",
   "execution_count": null,
   "metadata": {},
   "outputs": [],
   "source": [
    "# load all the thresholds\n",
    "\n",
    "\n",
    "# define all the points for legionella\n",
    "\n",
    "\n",
    "# extract surface for legionella\n",
    "\n"
   ]
  },
  {
   "cell_type": "markdown",
   "metadata": {},
   "source": [
    "# Extract the surface"
   ]
  },
  {
   "cell_type": "code",
   "execution_count": 5,
   "metadata": {},
   "outputs": [],
   "source": [
    "#some paramaters for surface extraction\n",
    "output_dir = '/p/lscratchh/yi10/test'\n",
    "save_mask=True\n",
    "surface_smoothing_steps = 10"
   ]
  },
  {
   "cell_type": "code",
   "execution_count": 26,
   "metadata": {
    "collapsed": true
   },
   "outputs": [
    {
     "name": "stdout",
     "output_type": "stream",
     "text": [
      "EXTRACT SURFACE  Trimmed_cell0_Iter_0_ch0_stack0020_3nm_0618989msec_0004238379msecAbs\n",
      "input file is /p/lscratchh/yi10/llsm-data/2021-10-08-mCherryRAW264.7-condition1/focused-fast-scans/results_dsk/cell0_Iter_0_deskewed/trimmed_stacks/Trimmed_cell0_Iter_0_ch0_stack0020_3nm_0618989msec_0004238379msecAbs.tif\n",
      "create binary mask with threshold 330\n",
      "kernel size for morphological operation is 3\n",
      "Apply closing operation\n",
      "Apply opening operation\n",
      "Apply marching cubes\n",
      "save binary mask to /p/lustre2/miao1/llsm_output\n",
      "Get the largest connected component\n",
      "smooth surface with laplacian filter with 10 steps and relaxation factor 0.1\n",
      "save surface to /p/lustre2/miao1/llsm_output\n",
      "**** /p/lustre2/miao1/llsm_output/Trimmed_cell0_Iter_0_ch0_stack0020_3nm_0618989msec_0004238379msecAbs330_10.stl\n",
      "surface area 62939.38222948389\n",
      "volume 1278425.4964370239\n",
      "ratio 0.04923195165060159\n",
      "EXTRACT SURFACE  Trimmed_cell0_Iter_0_ch0_stack0021_3nm_0649953msec_0004269343msecAbs\n",
      "input file is /p/lscratchh/yi10/llsm-data/2021-10-08-mCherryRAW264.7-condition1/focused-fast-scans/results_dsk/cell0_Iter_0_deskewed/trimmed_stacks/Trimmed_cell0_Iter_0_ch0_stack0021_3nm_0649953msec_0004269343msecAbs.tif\n",
      "create binary mask with threshold 320\n",
      "kernel size for morphological operation is 3\n",
      "Apply closing operation\n",
      "Apply opening operation\n",
      "Apply marching cubes\n",
      "save binary mask to /p/lustre2/miao1/llsm_output\n",
      "Get the largest connected component\n",
      "smooth surface with laplacian filter with 10 steps and relaxation factor 0.1\n",
      "save surface to /p/lustre2/miao1/llsm_output\n",
      "**** /p/lustre2/miao1/llsm_output/Trimmed_cell0_Iter_0_ch0_stack0021_3nm_0649953msec_0004269343msecAbs320_10.stl\n",
      "surface area 64481.57936513434\n",
      "volume 1289768.1136380027\n",
      "ratio 0.049994707330183144\n",
      "EXTRACT SURFACE  Trimmed_cell0_Iter_0_ch0_stack0022_3nm_0680915msec_0004300305msecAbs\n",
      "input file is /p/lscratchh/yi10/llsm-data/2021-10-08-mCherryRAW264.7-condition1/focused-fast-scans/results_dsk/cell0_Iter_0_deskewed/trimmed_stacks/Trimmed_cell0_Iter_0_ch0_stack0022_3nm_0680915msec_0004300305msecAbs.tif\n",
      "create binary mask with threshold 330\n",
      "kernel size for morphological operation is 3\n",
      "Apply closing operation\n",
      "Apply opening operation\n",
      "Apply marching cubes\n",
      "save binary mask to /p/lustre2/miao1/llsm_output\n",
      "Get the largest connected component\n",
      "smooth surface with laplacian filter with 10 steps and relaxation factor 0.1\n",
      "save surface to /p/lustre2/miao1/llsm_output\n",
      "**** /p/lustre2/miao1/llsm_output/Trimmed_cell0_Iter_0_ch0_stack0022_3nm_0680915msec_0004300305msecAbs330_10.stl\n",
      "surface area 63231.74546414875\n",
      "volume 1249871.5464502804\n",
      "ratio 0.050590595204548165\n",
      "EXTRACT SURFACE  Trimmed_cell0_Iter_0_ch0_stack0023_3nm_0711877msec_0004331267msecAbs\n",
      "input file is /p/lscratchh/yi10/llsm-data/2021-10-08-mCherryRAW264.7-condition1/focused-fast-scans/results_dsk/cell0_Iter_0_deskewed/trimmed_stacks/Trimmed_cell0_Iter_0_ch0_stack0023_3nm_0711877msec_0004331267msecAbs.tif\n",
      "create binary mask with threshold 320\n",
      "kernel size for morphological operation is 3\n",
      "Apply closing operation\n",
      "Apply opening operation\n",
      "Apply marching cubes\n",
      "save binary mask to /p/lustre2/miao1/llsm_output\n",
      "Get the largest connected component\n",
      "smooth surface with laplacian filter with 10 steps and relaxation factor 0.1\n",
      "save surface to /p/lustre2/miao1/llsm_output\n",
      "**** /p/lustre2/miao1/llsm_output/Trimmed_cell0_Iter_0_ch0_stack0023_3nm_0711877msec_0004331267msecAbs320_10.stl\n",
      "surface area 65167.98761542463\n",
      "volume 1255569.0671253751\n",
      "ratio 0.051903148398380596\n",
      "EXTRACT SURFACE  Trimmed_cell0_Iter_0_ch0_stack0024_3nm_0742844msec_0004362234msecAbs\n",
      "input file is /p/lscratchh/yi10/llsm-data/2021-10-08-mCherryRAW264.7-condition1/focused-fast-scans/results_dsk/cell0_Iter_0_deskewed/trimmed_stacks/Trimmed_cell0_Iter_0_ch0_stack0024_3nm_0742844msec_0004362234msecAbs.tif\n",
      "create binary mask with threshold 320\n",
      "kernel size for morphological operation is 3\n",
      "Apply closing operation\n",
      "Apply opening operation\n",
      "Apply marching cubes\n",
      "save binary mask to /p/lustre2/miao1/llsm_output\n",
      "Get the largest connected component\n",
      "smooth surface with laplacian filter with 10 steps and relaxation factor 0.1\n",
      "save surface to /p/lustre2/miao1/llsm_output\n",
      "**** /p/lustre2/miao1/llsm_output/Trimmed_cell0_Iter_0_ch0_stack0024_3nm_0742844msec_0004362234msecAbs320_10.stl\n",
      "surface area 63213.70139527978\n",
      "volume 1213117.715684485\n",
      "ratio 0.05210846447791946\n",
      "EXTRACT SURFACE  Trimmed_cell0_Iter_0_ch0_stack0025_3nm_0773807msec_0004393197msecAbs\n",
      "input file is /p/lscratchh/yi10/llsm-data/2021-10-08-mCherryRAW264.7-condition1/focused-fast-scans/results_dsk/cell0_Iter_0_deskewed/trimmed_stacks/Trimmed_cell0_Iter_0_ch0_stack0025_3nm_0773807msec_0004393197msecAbs.tif\n",
      "create binary mask with threshold 320\n",
      "kernel size for morphological operation is 3\n",
      "Apply closing operation\n",
      "Apply opening operation\n",
      "Apply marching cubes\n",
      "save binary mask to /p/lustre2/miao1/llsm_output\n",
      "Get the largest connected component\n",
      "smooth surface with laplacian filter with 10 steps and relaxation factor 0.1\n",
      "save surface to /p/lustre2/miao1/llsm_output\n",
      "**** /p/lustre2/miao1/llsm_output/Trimmed_cell0_Iter_0_ch0_stack0025_3nm_0773807msec_0004393197msecAbs320_10.stl\n",
      "surface area 62623.86625239365\n",
      "volume 1253945.8716710738\n",
      "ratio 0.0499414429818552\n",
      "EXTRACT SURFACE  Trimmed_cell0_Iter_0_ch0_stack0026_3nm_0804778msec_0004424168msecAbs\n",
      "input file is /p/lscratchh/yi10/llsm-data/2021-10-08-mCherryRAW264.7-condition1/focused-fast-scans/results_dsk/cell0_Iter_0_deskewed/trimmed_stacks/Trimmed_cell0_Iter_0_ch0_stack0026_3nm_0804778msec_0004424168msecAbs.tif\n",
      "create binary mask with threshold 320\n",
      "kernel size for morphological operation is 3\n",
      "Apply closing operation\n",
      "Apply opening operation\n",
      "Apply marching cubes\n",
      "save binary mask to /p/lustre2/miao1/llsm_output\n",
      "Get the largest connected component\n",
      "smooth surface with laplacian filter with 10 steps and relaxation factor 0.1\n",
      "save surface to /p/lustre2/miao1/llsm_output\n",
      "**** /p/lustre2/miao1/llsm_output/Trimmed_cell0_Iter_0_ch0_stack0026_3nm_0804778msec_0004424168msecAbs320_10.stl\n",
      "surface area 62563.60750022769\n",
      "volume 1246987.9954852602\n",
      "ratio 0.050171780102727714\n",
      "EXTRACT SURFACE  Trimmed_cell0_Iter_0_ch0_stack0027_3nm_0835741msec_0004455131msecAbs\n",
      "input file is /p/lscratchh/yi10/llsm-data/2021-10-08-mCherryRAW264.7-condition1/focused-fast-scans/results_dsk/cell0_Iter_0_deskewed/trimmed_stacks/Trimmed_cell0_Iter_0_ch0_stack0027_3nm_0835741msec_0004455131msecAbs.tif\n",
      "create binary mask with threshold 320\n",
      "kernel size for morphological operation is 3\n",
      "Apply closing operation\n",
      "Apply opening operation\n",
      "Apply marching cubes\n",
      "save binary mask to /p/lustre2/miao1/llsm_output\n",
      "Get the largest connected component\n",
      "smooth surface with laplacian filter with 10 steps and relaxation factor 0.1\n",
      "save surface to /p/lustre2/miao1/llsm_output\n",
      "**** /p/lustre2/miao1/llsm_output/Trimmed_cell0_Iter_0_ch0_stack0027_3nm_0835741msec_0004455131msecAbs320_10.stl\n",
      "surface area 63982.74878602937\n",
      "volume 1226288.581259796\n",
      "ratio 0.052175931313246306\n",
      "EXTRACT SURFACE  Trimmed_cell0_Iter_0_ch0_stack0028_3nm_0866708msec_0004486098msecAbs\n",
      "input file is /p/lscratchh/yi10/llsm-data/2021-10-08-mCherryRAW264.7-condition1/focused-fast-scans/results_dsk/cell0_Iter_0_deskewed/trimmed_stacks/Trimmed_cell0_Iter_0_ch0_stack0028_3nm_0866708msec_0004486098msecAbs.tif\n",
      "create binary mask with threshold 320\n",
      "kernel size for morphological operation is 3\n",
      "Apply closing operation\n",
      "Apply opening operation\n",
      "Apply marching cubes\n",
      "save binary mask to /p/lustre2/miao1/llsm_output\n",
      "Get the largest connected component\n",
      "smooth surface with laplacian filter with 10 steps and relaxation factor 0.1\n",
      "save surface to /p/lustre2/miao1/llsm_output\n",
      "**** /p/lustre2/miao1/llsm_output/Trimmed_cell0_Iter_0_ch0_stack0028_3nm_0866708msec_0004486098msecAbs320_10.stl\n",
      "surface area 66662.50108678159\n",
      "volume 1263067.8391774725\n",
      "ratio 0.05277824279825947\n",
      "EXTRACT SURFACE  Trimmed_cell0_Iter_0_ch0_stack0029_3nm_0897672msec_0004517062msecAbs\n",
      "input file is /p/lscratchh/yi10/llsm-data/2021-10-08-mCherryRAW264.7-condition1/focused-fast-scans/results_dsk/cell0_Iter_0_deskewed/trimmed_stacks/Trimmed_cell0_Iter_0_ch0_stack0029_3nm_0897672msec_0004517062msecAbs.tif\n",
      "create binary mask with threshold 320\n",
      "kernel size for morphological operation is 3\n",
      "Apply closing operation\n",
      "Apply opening operation\n",
      "Apply marching cubes\n",
      "save binary mask to /p/lustre2/miao1/llsm_output\n",
      "Get the largest connected component\n",
      "smooth surface with laplacian filter with 10 steps and relaxation factor 0.1\n",
      "save surface to /p/lustre2/miao1/llsm_output\n",
      "**** /p/lustre2/miao1/llsm_output/Trimmed_cell0_Iter_0_ch0_stack0029_3nm_0897672msec_0004517062msecAbs320_10.stl\n",
      "surface area 63642.010553402135\n",
      "volume 1257130.6394951725\n",
      "ratio 0.050624818578090605\n",
      "EXTRACT SURFACE  Trimmed_cell0_Iter_0_ch0_stack0030_3nm_0928641msec_0004548031msecAbs\n",
      "input file is /p/lscratchh/yi10/llsm-data/2021-10-08-mCherryRAW264.7-condition1/focused-fast-scans/results_dsk/cell0_Iter_0_deskewed/trimmed_stacks/Trimmed_cell0_Iter_0_ch0_stack0030_3nm_0928641msec_0004548031msecAbs.tif\n",
      "create binary mask with threshold 290\n",
      "kernel size for morphological operation is 3\n",
      "Apply closing operation\n",
      "Apply opening operation\n",
      "Apply marching cubes\n",
      "save binary mask to /p/lustre2/miao1/llsm_output\n",
      "Get the largest connected component\n",
      "smooth surface with laplacian filter with 10 steps and relaxation factor 0.1\n",
      "save surface to /p/lustre2/miao1/llsm_output\n",
      "**** /p/lustre2/miao1/llsm_output/Trimmed_cell0_Iter_0_ch0_stack0030_3nm_0928641msec_0004548031msecAbs290_10.stl\n",
      "surface area 65491.26031601283\n",
      "volume 1315407.5287708826\n",
      "ratio 0.049787810152803286\n",
      "EXTRACT SURFACE  Trimmed_cell0_Iter_0_ch0_stack0031_3nm_0959602msec_0004578992msecAbs\n",
      "input file is /p/lscratchh/yi10/llsm-data/2021-10-08-mCherryRAW264.7-condition1/focused-fast-scans/results_dsk/cell0_Iter_0_deskewed/trimmed_stacks/Trimmed_cell0_Iter_0_ch0_stack0031_3nm_0959602msec_0004578992msecAbs.tif\n",
      "create binary mask with threshold 290\n",
      "kernel size for morphological operation is 3\n",
      "Apply closing operation\n",
      "Apply opening operation\n",
      "Apply marching cubes\n",
      "save binary mask to /p/lustre2/miao1/llsm_output\n",
      "Get the largest connected component\n",
      "smooth surface with laplacian filter with 10 steps and relaxation factor 0.1\n",
      "save surface to /p/lustre2/miao1/llsm_output\n",
      "**** /p/lustre2/miao1/llsm_output/Trimmed_cell0_Iter_0_ch0_stack0031_3nm_0959602msec_0004578992msecAbs290_10.stl\n",
      "surface area 65454.585997713024\n",
      "volume 1318463.1824362394\n",
      "ratio 0.049644606591719063\n",
      "EXTRACT SURFACE  Trimmed_cell0_Iter_0_ch0_stack0032_3nm_0990566msec_0004609956msecAbs\n",
      "input file is /p/lscratchh/yi10/llsm-data/2021-10-08-mCherryRAW264.7-condition1/focused-fast-scans/results_dsk/cell0_Iter_0_deskewed/trimmed_stacks/Trimmed_cell0_Iter_0_ch0_stack0032_3nm_0990566msec_0004609956msecAbs.tif\n",
      "create binary mask with threshold 290\n",
      "kernel size for morphological operation is 3\n",
      "Apply closing operation\n",
      "Apply opening operation\n",
      "Apply marching cubes\n",
      "save binary mask to /p/lustre2/miao1/llsm_output\n",
      "Get the largest connected component\n",
      "smooth surface with laplacian filter with 10 steps and relaxation factor 0.1\n",
      "save surface to /p/lustre2/miao1/llsm_output\n",
      "**** /p/lustre2/miao1/llsm_output/Trimmed_cell0_Iter_0_ch0_stack0032_3nm_0990566msec_0004609956msecAbs290_10.stl\n",
      "surface area 63708.75088304794\n",
      "volume 1269533.892056712\n",
      "ratio 0.05018278856646859\n",
      "EXTRACT SURFACE  Trimmed_cell0_Iter_0_ch0_stack0033_3nm_1021532msec_0004640922msecAbs\n",
      "input file is /p/lscratchh/yi10/llsm-data/2021-10-08-mCherryRAW264.7-condition1/focused-fast-scans/results_dsk/cell0_Iter_0_deskewed/trimmed_stacks/Trimmed_cell0_Iter_0_ch0_stack0033_3nm_1021532msec_0004640922msecAbs.tif\n",
      "create binary mask with threshold 290\n",
      "kernel size for morphological operation is 3\n",
      "Apply closing operation\n",
      "Apply opening operation\n",
      "Apply marching cubes\n",
      "save binary mask to /p/lustre2/miao1/llsm_output\n",
      "Get the largest connected component\n",
      "smooth surface with laplacian filter with 10 steps and relaxation factor 0.1\n",
      "save surface to /p/lustre2/miao1/llsm_output\n",
      "**** /p/lustre2/miao1/llsm_output/Trimmed_cell0_Iter_0_ch0_stack0033_3nm_1021532msec_0004640922msecAbs290_10.stl\n",
      "surface area 66811.04190044716\n",
      "volume 1282584.2242277674\n",
      "ratio 0.05209095873658784\n",
      "EXTRACT SURFACE  Trimmed_cell0_Iter_0_ch0_stack0034_3nm_1052498msec_0004671888msecAbs\n",
      "input file is /p/lscratchh/yi10/llsm-data/2021-10-08-mCherryRAW264.7-condition1/focused-fast-scans/results_dsk/cell0_Iter_0_deskewed/trimmed_stacks/Trimmed_cell0_Iter_0_ch0_stack0034_3nm_1052498msec_0004671888msecAbs.tif\n",
      "create binary mask with threshold 290\n",
      "kernel size for morphological operation is 3\n",
      "Apply closing operation\n",
      "Apply opening operation\n",
      "Apply marching cubes\n",
      "save binary mask to /p/lustre2/miao1/llsm_output\n",
      "Get the largest connected component\n",
      "smooth surface with laplacian filter with 10 steps and relaxation factor 0.1\n",
      "save surface to /p/lustre2/miao1/llsm_output\n",
      "**** /p/lustre2/miao1/llsm_output/Trimmed_cell0_Iter_0_ch0_stack0034_3nm_1052498msec_0004671888msecAbs290_10.stl\n",
      "surface area 65653.16029737207\n",
      "volume 1305422.9692324116\n",
      "ratio 0.05029263452900336\n",
      "EXTRACT SURFACE  Trimmed_cell0_Iter_0_ch0_stack0035_3nm_1083471msec_0004702861msecAbs\n",
      "input file is /p/lscratchh/yi10/llsm-data/2021-10-08-mCherryRAW264.7-condition1/focused-fast-scans/results_dsk/cell0_Iter_0_deskewed/trimmed_stacks/Trimmed_cell0_Iter_0_ch0_stack0035_3nm_1083471msec_0004702861msecAbs.tif\n",
      "create binary mask with threshold 290\n",
      "kernel size for morphological operation is 3\n",
      "Apply closing operation\n",
      "Apply opening operation\n",
      "Apply marching cubes\n",
      "save binary mask to /p/lustre2/miao1/llsm_output\n",
      "Get the largest connected component\n",
      "smooth surface with laplacian filter with 10 steps and relaxation factor 0.1\n",
      "save surface to /p/lustre2/miao1/llsm_output\n",
      "**** /p/lustre2/miao1/llsm_output/Trimmed_cell0_Iter_0_ch0_stack0035_3nm_1083471msec_0004702861msecAbs290_10.stl\n",
      "surface area 64632.35333632455\n",
      "volume 1279097.160223707\n",
      "ratio 0.050529666819853394\n",
      "EXTRACT SURFACE  Trimmed_cell0_Iter_0_ch0_stack0036_3nm_1114443msec_0004733833msecAbs\n",
      "input file is /p/lscratchh/yi10/llsm-data/2021-10-08-mCherryRAW264.7-condition1/focused-fast-scans/results_dsk/cell0_Iter_0_deskewed/trimmed_stacks/Trimmed_cell0_Iter_0_ch0_stack0036_3nm_1114443msec_0004733833msecAbs.tif\n",
      "create binary mask with threshold 290\n",
      "kernel size for morphological operation is 3\n",
      "Apply closing operation\n",
      "Apply opening operation\n",
      "Apply marching cubes\n",
      "save binary mask to /p/lustre2/miao1/llsm_output\n",
      "Get the largest connected component\n",
      "smooth surface with laplacian filter with 10 steps and relaxation factor 0.1\n",
      "save surface to /p/lustre2/miao1/llsm_output\n",
      "**** /p/lustre2/miao1/llsm_output/Trimmed_cell0_Iter_0_ch0_stack0036_3nm_1114443msec_0004733833msecAbs290_10.stl\n",
      "surface area 64848.80899745358\n",
      "volume 1286197.938304837\n",
      "ratio 0.05041899622613452\n",
      "EXTRACT SURFACE  Trimmed_cell0_Iter_0_ch0_stack0037_3nm_1145399msec_0004764789msecAbs\n",
      "input file is /p/lscratchh/yi10/llsm-data/2021-10-08-mCherryRAW264.7-condition1/focused-fast-scans/results_dsk/cell0_Iter_0_deskewed/trimmed_stacks/Trimmed_cell0_Iter_0_ch0_stack0037_3nm_1145399msec_0004764789msecAbs.tif\n",
      "create binary mask with threshold 290\n",
      "kernel size for morphological operation is 3\n",
      "Apply closing operation\n",
      "Apply opening operation\n",
      "Apply marching cubes\n",
      "save binary mask to /p/lustre2/miao1/llsm_output\n",
      "Get the largest connected component\n",
      "smooth surface with laplacian filter with 10 steps and relaxation factor 0.1\n",
      "save surface to /p/lustre2/miao1/llsm_output\n",
      "**** /p/lustre2/miao1/llsm_output/Trimmed_cell0_Iter_0_ch0_stack0037_3nm_1145399msec_0004764789msecAbs290_10.stl\n",
      "surface area 63862.078651913325\n",
      "volume 1290711.2176051224\n",
      "ratio 0.04947820843333769\n",
      "EXTRACT SURFACE  Trimmed_cell0_Iter_0_ch0_stack0038_3nm_1176353msec_0004795743msecAbs\n",
      "input file is /p/lscratchh/yi10/llsm-data/2021-10-08-mCherryRAW264.7-condition1/focused-fast-scans/results_dsk/cell0_Iter_0_deskewed/trimmed_stacks/Trimmed_cell0_Iter_0_ch0_stack0038_3nm_1176353msec_0004795743msecAbs.tif\n",
      "create binary mask with threshold 290\n",
      "kernel size for morphological operation is 3\n",
      "Apply closing operation\n",
      "Apply opening operation\n",
      "Apply marching cubes\n",
      "save binary mask to /p/lustre2/miao1/llsm_output\n",
      "Get the largest connected component\n",
      "smooth surface with laplacian filter with 10 steps and relaxation factor 0.1\n",
      "save surface to /p/lustre2/miao1/llsm_output\n",
      "**** /p/lustre2/miao1/llsm_output/Trimmed_cell0_Iter_0_ch0_stack0038_3nm_1176353msec_0004795743msecAbs290_10.stl\n",
      "surface area 62983.512642130874\n",
      "volume 1221659.2159734503\n",
      "ratio 0.051555713589033866\n",
      "EXTRACT SURFACE  Trimmed_cell0_Iter_0_ch0_stack0039_3nm_1207320msec_0004826710msecAbs\n",
      "input file is /p/lscratchh/yi10/llsm-data/2021-10-08-mCherryRAW264.7-condition1/focused-fast-scans/results_dsk/cell0_Iter_0_deskewed/trimmed_stacks/Trimmed_cell0_Iter_0_ch0_stack0039_3nm_1207320msec_0004826710msecAbs.tif\n",
      "create binary mask with threshold 290\n",
      "kernel size for morphological operation is 3\n",
      "Apply closing operation\n",
      "Apply opening operation\n",
      "Apply marching cubes\n",
      "save binary mask to /p/lustre2/miao1/llsm_output\n",
      "Get the largest connected component\n",
      "smooth surface with laplacian filter with 10 steps and relaxation factor 0.1\n",
      "save surface to /p/lustre2/miao1/llsm_output\n",
      "**** /p/lustre2/miao1/llsm_output/Trimmed_cell0_Iter_0_ch0_stack0039_3nm_1207320msec_0004826710msecAbs290_10.stl\n",
      "surface area 63356.5429110956\n",
      "volume 1244189.9056951175\n",
      "ratio 0.05092192326998416\n",
      "EXTRACT SURFACE  Trimmed_cell0_Iter_0_ch0_stack0040_3nm_1238290msec_0004857680msecAbs\n",
      "input file is /p/lscratchh/yi10/llsm-data/2021-10-08-mCherryRAW264.7-condition1/focused-fast-scans/results_dsk/cell0_Iter_0_deskewed/trimmed_stacks/Trimmed_cell0_Iter_0_ch0_stack0040_3nm_1238290msec_0004857680msecAbs.tif\n",
      "create binary mask with threshold 270\n",
      "kernel size for morphological operation is 3\n",
      "Apply closing operation\n",
      "Apply opening operation\n",
      "Apply marching cubes\n",
      "save binary mask to /p/lustre2/miao1/llsm_output\n",
      "Get the largest connected component\n",
      "smooth surface with laplacian filter with 10 steps and relaxation factor 0.1\n",
      "save surface to /p/lustre2/miao1/llsm_output\n",
      "**** /p/lustre2/miao1/llsm_output/Trimmed_cell0_Iter_0_ch0_stack0040_3nm_1238290msec_0004857680msecAbs270_10.stl\n",
      "surface area 65899.00669121936\n",
      "volume 1314418.6870692694\n",
      "ratio 0.050135476115417174\n",
      "EXTRACT SURFACE  Trimmed_cell0_Iter_0_ch0_stack0041_3nm_1269254msec_0004888644msecAbs\n",
      "input file is /p/lscratchh/yi10/llsm-data/2021-10-08-mCherryRAW264.7-condition1/focused-fast-scans/results_dsk/cell0_Iter_0_deskewed/trimmed_stacks/Trimmed_cell0_Iter_0_ch0_stack0041_3nm_1269254msec_0004888644msecAbs.tif\n",
      "create binary mask with threshold 270\n",
      "kernel size for morphological operation is 3\n",
      "Apply closing operation\n",
      "Apply opening operation\n",
      "Apply marching cubes\n",
      "save binary mask to /p/lustre2/miao1/llsm_output\n",
      "Get the largest connected component\n",
      "smooth surface with laplacian filter with 10 steps and relaxation factor 0.1\n",
      "save surface to /p/lustre2/miao1/llsm_output\n",
      "**** /p/lustre2/miao1/llsm_output/Trimmed_cell0_Iter_0_ch0_stack0041_3nm_1269254msec_0004888644msecAbs270_10.stl\n",
      "surface area 66558.44969697733\n",
      "volume 1320239.9469752067\n",
      "ratio 0.05041390381306744\n",
      "EXTRACT SURFACE  Trimmed_cell0_Iter_0_ch0_stack0042_3nm_1300219msec_0004919609msecAbs\n",
      "input file is /p/lscratchh/yi10/llsm-data/2021-10-08-mCherryRAW264.7-condition1/focused-fast-scans/results_dsk/cell0_Iter_0_deskewed/trimmed_stacks/Trimmed_cell0_Iter_0_ch0_stack0042_3nm_1300219msec_0004919609msecAbs.tif\n",
      "create binary mask with threshold 275\n",
      "kernel size for morphological operation is 3\n",
      "Apply closing operation\n",
      "Apply opening operation\n",
      "Apply marching cubes\n",
      "save binary mask to /p/lustre2/miao1/llsm_output\n",
      "Get the largest connected component\n",
      "smooth surface with laplacian filter with 10 steps and relaxation factor 0.1\n",
      "save surface to /p/lustre2/miao1/llsm_output\n",
      "**** /p/lustre2/miao1/llsm_output/Trimmed_cell0_Iter_0_ch0_stack0042_3nm_1300219msec_0004919609msecAbs275_10.stl\n",
      "surface area 63448.26086675608\n",
      "volume 1275146.4130794252\n",
      "ratio 0.049757627999384935\n",
      "EXTRACT SURFACE  Trimmed_cell0_Iter_0_ch0_stack0043_3nm_1331178msec_0004950568msecAbs\n",
      "input file is /p/lscratchh/yi10/llsm-data/2021-10-08-mCherryRAW264.7-condition1/focused-fast-scans/results_dsk/cell0_Iter_0_deskewed/trimmed_stacks/Trimmed_cell0_Iter_0_ch0_stack0043_3nm_1331178msec_0004950568msecAbs.tif\n",
      "create binary mask with threshold 275\n",
      "kernel size for morphological operation is 3\n",
      "Apply closing operation\n",
      "Apply opening operation\n",
      "Apply marching cubes\n",
      "save binary mask to /p/lustre2/miao1/llsm_output\n",
      "Get the largest connected component\n",
      "smooth surface with laplacian filter with 10 steps and relaxation factor 0.1\n",
      "save surface to /p/lustre2/miao1/llsm_output\n",
      "**** /p/lustre2/miao1/llsm_output/Trimmed_cell0_Iter_0_ch0_stack0043_3nm_1331178msec_0004950568msecAbs275_10.stl\n",
      "surface area 63862.02650986594\n",
      "volume 1248710.6805797135\n",
      "ratio 0.05114237229092812\n",
      "EXTRACT SURFACE  Trimmed_cell0_Iter_0_ch0_stack0044_3nm_1362144msec_0004981534msecAbs\n",
      "input file is /p/lscratchh/yi10/llsm-data/2021-10-08-mCherryRAW264.7-condition1/focused-fast-scans/results_dsk/cell0_Iter_0_deskewed/trimmed_stacks/Trimmed_cell0_Iter_0_ch0_stack0044_3nm_1362144msec_0004981534msecAbs.tif\n",
      "create binary mask with threshold 290\n",
      "kernel size for morphological operation is 3\n",
      "Apply closing operation\n",
      "Apply opening operation\n",
      "Apply marching cubes\n",
      "save binary mask to /p/lustre2/miao1/llsm_output\n",
      "Get the largest connected component\n",
      "smooth surface with laplacian filter with 10 steps and relaxation factor 0.1\n",
      "save surface to /p/lustre2/miao1/llsm_output\n",
      "**** /p/lustre2/miao1/llsm_output/Trimmed_cell0_Iter_0_ch0_stack0044_3nm_1362144msec_0004981534msecAbs290_10.stl\n",
      "surface area 62614.17164842713\n",
      "volume 1212471.5447830115\n",
      "ratio 0.05164176587718007\n",
      "EXTRACT SURFACE  Trimmed_cell0_Iter_0_ch0_stack0045_3nm_1393108msec_0005012498msecAbs\n",
      "input file is /p/lscratchh/yi10/llsm-data/2021-10-08-mCherryRAW264.7-condition1/focused-fast-scans/results_dsk/cell0_Iter_0_deskewed/trimmed_stacks/Trimmed_cell0_Iter_0_ch0_stack0045_3nm_1393108msec_0005012498msecAbs.tif\n",
      "create binary mask with threshold 260\n",
      "kernel size for morphological operation is 3\n",
      "Apply closing operation\n",
      "Apply opening operation\n",
      "Apply marching cubes\n",
      "save binary mask to /p/lustre2/miao1/llsm_output\n",
      "Get the largest connected component\n",
      "smooth surface with laplacian filter with 10 steps and relaxation factor 0.1\n",
      "save surface to /p/lustre2/miao1/llsm_output\n",
      "**** /p/lustre2/miao1/llsm_output/Trimmed_cell0_Iter_0_ch0_stack0045_3nm_1393108msec_0005012498msecAbs260_10.stl\n",
      "surface area 65818.94938593508\n",
      "volume 1308545.061043413\n",
      "ratio 0.050299337291030775\n",
      "EXTRACT SURFACE  Trimmed_cell0_Iter_0_ch0_stack0046_3nm_1424074msec_0005043464msecAbs\n",
      "input file is /p/lscratchh/yi10/llsm-data/2021-10-08-mCherryRAW264.7-condition1/focused-fast-scans/results_dsk/cell0_Iter_0_deskewed/trimmed_stacks/Trimmed_cell0_Iter_0_ch0_stack0046_3nm_1424074msec_0005043464msecAbs.tif\n",
      "create binary mask with threshold 260\n",
      "kernel size for morphological operation is 3\n",
      "Apply closing operation\n",
      "Apply opening operation\n",
      "Apply marching cubes\n",
      "save binary mask to /p/lustre2/miao1/llsm_output\n",
      "Get the largest connected component\n",
      "smooth surface with laplacian filter with 10 steps and relaxation factor 0.1\n",
      "save surface to /p/lustre2/miao1/llsm_output\n",
      "**** /p/lustre2/miao1/llsm_output/Trimmed_cell0_Iter_0_ch0_stack0046_3nm_1424074msec_0005043464msecAbs260_10.stl\n",
      "surface area 66055.07567371518\n",
      "volume 1305112.610207972\n",
      "ratio 0.05061254880005274\n",
      "EXTRACT SURFACE  Trimmed_cell0_Iter_0_ch0_stack0047_3nm_1455030msec_0005074420msecAbs\n",
      "input file is /p/lscratchh/yi10/llsm-data/2021-10-08-mCherryRAW264.7-condition1/focused-fast-scans/results_dsk/cell0_Iter_0_deskewed/trimmed_stacks/Trimmed_cell0_Iter_0_ch0_stack0047_3nm_1455030msec_0005074420msecAbs.tif\n",
      "create binary mask with threshold 260\n",
      "kernel size for morphological operation is 3\n",
      "Apply closing operation\n",
      "Apply opening operation\n",
      "Apply marching cubes\n",
      "save binary mask to /p/lustre2/miao1/llsm_output\n",
      "Get the largest connected component\n",
      "smooth surface with laplacian filter with 10 steps and relaxation factor 0.1\n",
      "save surface to /p/lustre2/miao1/llsm_output\n",
      "**** /p/lustre2/miao1/llsm_output/Trimmed_cell0_Iter_0_ch0_stack0047_3nm_1455030msec_0005074420msecAbs260_10.stl\n",
      "surface area 64762.97243089628\n",
      "volume 1278417.7655494811\n",
      "ratio 0.050658692468232625\n",
      "EXTRACT SURFACE  Trimmed_cell0_Iter_0_ch0_stack0048_3nm_1485997msec_0005105387msecAbs\n",
      "input file is /p/lscratchh/yi10/llsm-data/2021-10-08-mCherryRAW264.7-condition1/focused-fast-scans/results_dsk/cell0_Iter_0_deskewed/trimmed_stacks/Trimmed_cell0_Iter_0_ch0_stack0048_3nm_1485997msec_0005105387msecAbs.tif\n",
      "create binary mask with threshold 260\n",
      "kernel size for morphological operation is 3\n",
      "Apply closing operation\n",
      "Apply opening operation\n",
      "Apply marching cubes\n",
      "save binary mask to /p/lustre2/miao1/llsm_output\n",
      "Get the largest connected component\n",
      "smooth surface with laplacian filter with 10 steps and relaxation factor 0.1\n",
      "save surface to /p/lustre2/miao1/llsm_output\n",
      "**** /p/lustre2/miao1/llsm_output/Trimmed_cell0_Iter_0_ch0_stack0048_3nm_1485997msec_0005105387msecAbs260_10.stl\n",
      "surface area 64439.42310079315\n",
      "volume 1297662.918411328\n",
      "ratio 0.04965806002970596\n",
      "EXTRACT SURFACE  Trimmed_cell0_Iter_0_ch0_stack0049_3nm_1516969msec_0005136359msecAbs\n",
      "input file is /p/lscratchh/yi10/llsm-data/2021-10-08-mCherryRAW264.7-condition1/focused-fast-scans/results_dsk/cell0_Iter_0_deskewed/trimmed_stacks/Trimmed_cell0_Iter_0_ch0_stack0049_3nm_1516969msec_0005136359msecAbs.tif\n",
      "create binary mask with threshold 260\n",
      "kernel size for morphological operation is 3\n",
      "Apply closing operation\n",
      "Apply opening operation\n",
      "Apply marching cubes\n",
      "save binary mask to /p/lustre2/miao1/llsm_output\n",
      "Get the largest connected component\n",
      "smooth surface with laplacian filter with 10 steps and relaxation factor 0.1\n",
      "save surface to /p/lustre2/miao1/llsm_output\n",
      "**** /p/lustre2/miao1/llsm_output/Trimmed_cell0_Iter_0_ch0_stack0049_3nm_1516969msec_0005136359msecAbs260_10.stl\n",
      "surface area 64687.328671853684\n",
      "volume 1288340.3577773666\n",
      "ratio 0.050209813176583004\n"
     ]
    }
   ],
   "source": [
    "av = []\n",
    "for t in range(0, len(tlist)):\n",
    "    if t < 20: #remove this. for some reason other t values don't work\n",
    "        continue\n",
    "    fpath = tlist[t]\n",
    "    k=io.imread(fpath)\n",
    "    res = hp3d.masscenter.find_threshold_saddle_point(k)\n",
    "    th = res[0][0]\n",
    "    output_file = hp3d.surface_morphometrics.extract_surface(th, fpath=fpath, output_dir=output_dir, kernel_size=3, save_mask=True, surface_smoothing_steps=surface_smoothing_steps)\n",
    "    print(\"****\", output_file)\n",
    "    av.append(surface_morphometrics.calc_morphometrics(output_file))"
   ]
  },
  {
   "cell_type": "code",
   "execution_count": 28,
   "metadata": {},
   "outputs": [
    {
     "data": {
      "text/plain": [
       "(30, 2)"
      ]
     },
     "execution_count": 28,
     "metadata": {},
     "output_type": "execute_result"
    },
    {
     "name": "stdout",
     "output_type": "stream",
     "text": [
      "[[  62939.38222948 1278425.49643702]\n",
      " [  64481.57936513 1289768.113638  ]\n",
      " [  63231.74546415 1249871.54645028]\n",
      " [  65167.98761542 1255569.06712538]\n",
      " [  63213.70139528 1213117.71568448]\n",
      " [  62623.86625239 1253945.87167107]\n",
      " [  62563.60750023 1246987.99548526]\n",
      " [  63982.74878603 1226288.5812598 ]\n",
      " [  66662.50108678 1263067.83917747]\n",
      " [  63642.0105534  1257130.63949517]\n",
      " [  65491.26031601 1315407.52877088]\n",
      " [  65454.58599771 1318463.18243624]\n",
      " [  63708.75088305 1269533.89205671]\n",
      " [  66811.04190045 1282584.22422777]\n",
      " [  65653.16029737 1305422.96923241]\n",
      " [  64632.35333632 1279097.16022371]\n",
      " [  64848.80899745 1286197.93830484]\n",
      " [  63862.07865191 1290711.21760512]\n",
      " [  62983.51264213 1221659.21597345]\n",
      " [  63356.5429111  1244189.90569512]\n",
      " [  65899.00669122 1314418.68706927]\n",
      " [  66558.44969698 1320239.94697521]\n",
      " [  63448.26086676 1275146.41307943]\n",
      " [  63862.02650987 1248710.68057971]\n",
      " [  62614.17164843 1212471.54478301]\n",
      " [  65818.94938594 1308545.06104341]\n",
      " [  66055.07567372 1305112.61020797]\n",
      " [  64762.9724309  1278417.76554948]\n",
      " [  64439.42310079 1297662.91841133]\n",
      " [  64687.32867185 1288340.35777737]]\n"
     ]
    }
   ],
   "source": [
    "av = np.array(av)\n",
    "av.shape\n",
    "print(av)"
   ]
  },
  {
   "cell_type": "code",
   "execution_count": 32,
   "metadata": {},
   "outputs": [
    {
     "name": "stdout",
     "output_type": "stream",
     "text": [
      "[1278425.49643702 1289768.113638   1249871.54645028 1255569.06712538\n",
      " 1213117.71568448 1253945.87167107 1246987.99548526 1226288.5812598\n",
      " 1263067.83917747 1257130.63949517 1315407.52877088 1318463.18243624\n",
      " 1269533.89205671 1282584.22422777 1305422.96923241 1279097.16022371\n",
      " 1286197.93830484 1290711.21760512 1221659.21597345 1244189.90569512\n",
      " 1314418.68706927 1320239.94697521 1275146.41307943 1248710.68057971\n",
      " 1212471.54478301 1308545.06104341 1305112.61020797 1278417.76554948\n",
      " 1297662.91841133 1288340.35777737]\n"
     ]
    }
   ],
   "source": [
    "surface_areas = av[:, 0]\n",
    "volumes = av[:, 1]"
   ]
  },
  {
   "cell_type": "code",
   "execution_count": 36,
   "metadata": {},
   "outputs": [
    {
     "data": {
      "text/plain": [
       "[<matplotlib.lines.Line2D at 0x2aaaf263f850>]"
      ]
     },
     "execution_count": 36,
     "metadata": {},
     "output_type": "execute_result"
    },
    {
     "data": {
      "text/plain": [
       "Text(0.5, 0, 'surface area')"
      ]
     },
     "execution_count": 36,
     "metadata": {},
     "output_type": "execute_result"
    },
    {
     "data": {
      "image/png": "[encoded data removed]",
      "text/plain": [
       "<Figure size 640x480 with 1 Axes>"
      ]
     },
     "metadata": {},
     "output_type": "display_data"
    }
   ],
   "source": [
    "plt.plot(surface_areas)\n",
    "plt.xlabel(\"surface area\")\n",
    "plt.show()"
   ]
  },
  {
   "cell_type": "code",
   "execution_count": 37,
   "metadata": {},
   "outputs": [
    {
     "data": {
      "text/plain": [
       "[<matplotlib.lines.Line2D at 0x2aaaf1007150>]"
      ]
     },
     "execution_count": 37,
     "metadata": {},
     "output_type": "execute_result"
    },
    {
     "data": {
      "text/plain": [
       "Text(0.5, 0, 'volume')"
      ]
     },
     "execution_count": 37,
     "metadata": {},
     "output_type": "execute_result"
    },
    {
     "data": {
      "image/png": "[encoded data removed]",
      "text/plain": [
       "<Figure size 640x480 with 1 Axes>"
      ]
     },
     "metadata": {},
     "output_type": "display_data"
    }
   ],
   "source": [
    "plt.plot(volumes)\n",
    "plt.xlabel(\"volume\")\n",
    "plt.show()"
   ]
  },
  {
   "cell_type": "code",
   "execution_count": 40,
   "metadata": {},
   "outputs": [
    {
     "data": {
      "text/plain": [
       "[<matplotlib.lines.Line2D at 0x2aaaf0fac410>]"
      ]
     },
     "execution_count": 40,
     "metadata": {},
     "output_type": "execute_result"
    },
    {
     "data": {
      "text/plain": [
       "Text(0.5, 0, 'ratios')"
      ]
     },
     "execution_count": 40,
     "metadata": {},
     "output_type": "execute_result"
    },
    {
     "data": {
      "image/png": "[encoded data removed]",
      "text/plain": [
       "<Figure size 640x480 with 1 Axes>"
      ]
     },
     "metadata": {},
     "output_type": "display_data"
    }
   ],
   "source": [
    "ratios = surface_areas / volumes\n",
    "plt.plot(ratios)\n",
    "plt.xlabel(\"ratios\")\n",
    "plt.show()"
   ]
  },
  {
   "cell_type": "code",
   "execution_count": 43,
   "metadata": {},
   "outputs": [
    {
     "data": {
      "text/plain": [
       "<matplotlib.collections.PathCollection at 0x2aaaf2ce0110>"
      ]
     },
     "execution_count": 43,
     "metadata": {},
     "output_type": "execute_result"
    },
    {
     "data": {
      "text/plain": [
       "Text(0.5, 23.52222222222222, 'volume')"
      ]
     },
     "execution_count": 43,
     "metadata": {},
     "output_type": "execute_result"
    },
    {
     "data": {
      "text/plain": [
       "Text(33.722222222222214, 0.5, 'surface area')"
      ]
     },
     "execution_count": 43,
     "metadata": {},
     "output_type": "execute_result"
    },
    {
     "data": {
      "image/png": "[encoded data removed]",
      "text/plain": [
       "<Figure size 640x480 with 1 Axes>"
      ]
     },
     "metadata": {},
     "output_type": "display_data"
    }
   ],
   "source": [
    "plt.scatter(surface_areas, volumes)\n",
    "plt.xlabel(\"volume\")\n",
    "plt.ylabel(\"surface area\")\n",
    "plt.show()"
   ]
  },
  {
   "cell_type": "code",
   "execution_count": null,
   "metadata": {},
   "outputs": [],
   "source": []
  }
 ],
 "metadata": {
  "kernelspec": {
   "display_name": "llsmvis",
   "language": "python",
   "name": "llsmvis"
  },
  "language_info": {
   "codemirror_mode": {
    "name": "ipython",
    "version": 3
   },
   "file_extension": ".py",
   "mimetype": "text/x-python",
   "name": "python",
   "nbconvert_exporter": "python",
   "pygments_lexer": "ipython3",
   "version": "3.7.9"
  }
 },
 "nbformat": 4,
 "nbformat_minor": 4
}
