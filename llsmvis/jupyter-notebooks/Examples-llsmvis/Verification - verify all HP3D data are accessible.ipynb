{
 "cells": [
  {
   "cell_type": "code",
   "execution_count": 10,
   "metadata": {},
   "outputs": [
    {
     "name": "stdout",
     "output_type": "stream",
     "text": [
      "The autoreload extension is already loaded. To reload it, use:\n",
      "  %reload_ext autoreload\n"
     ]
    }
   ],
   "source": [
    "import sys\n",
    "sys.path.append('/g/g92/yi10')\n",
    "import llsmvis\n",
    "from llsmvis.extensions import hp3d\n",
    "from matplotlib import pyplot as plt\n",
    "import matplotlib\n",
    "from skimage import io\n",
    "from scipy import ndimage\n",
    "import numpy as np\n",
    "import copy\n",
    "from scipy.signal import argrelextrema\n",
    "%load_ext autoreload\n",
    "%autoreload 2\n",
    "import os\n",
    "import io\n",
    "from contextlib import redirect_stdout\n"
   ]
  },
  {
   "cell_type": "code",
   "execution_count": 5,
   "metadata": {},
   "outputs": [
    {
     "name": "stdout",
     "output_type": "stream",
     "text": [
      "Try to create the following file path:\n",
      "/p/lscratchh/yi10/hp3d/2021-11-04-cell7\n",
      "the file path exists\n",
      "found the hdf5 file:\n",
      "/p/lscratchh/yi10/hp3d/2021-11-04-cell7/hp3ddata_2021-11-04-cell7.hdf5\n",
      "successfully opened the hp3d data object and the associated hdf5 file\n",
      "[D10] volume values\n",
      "[D11] surface area values\n",
      "[D12] sphere radius with equi volume\n",
      "[D13] sphere radius with equi surface area\n",
      "[D14] polarity vector amplitudes\n",
      "[D15] polarity based on volume - negative volume std\n",
      "[D16] polarity based on volume - positive volume std\n",
      "[D17] polarity based on volume - sum of negative delta volumes\n",
      "[D18] polarity based on volume - sum of positive delta volumes\n",
      "[D19] polarity based on roughness - maxima N\n",
      "[D1] mass centers\n",
      "[D20] polarity based on roughness - minima N\n",
      "[D2] threshold saddle point\n",
      "[D3] threshold saddle point index\n",
      "[D4] threshold upper bound\n",
      "[D5] threshold upper bound index\n",
      "[D6] threshold lower bound\n",
      "[D7] threshold lower bound index\n",
      "[D8] threshold cell peripheral lower bound\n",
      "[D9] volume centers\n",
      "[G01] voxel value bin centers\n",
      "[G02] voxel value histogram counts\n",
      "[G03] stack XY mips before cropping\n",
      "[G04] stack YZ mips before cropping\n",
      "[G05] stack XZ mips before cropping\n",
      "[G06] stack XY mips after cropping - saddle point to upper bound\n",
      "[G07] stack YZ mips after cropping - saddle point to upper bound\n",
      "[G08] stack XZ mips after cropping - saddle point to upper bound\n",
      "[G09] stack XY mips after cropping - lower bound to saddle point\n",
      "[G10] stack YZ mips after cropping - lower bound to saddle point\n",
      "[G11] stack XZ mips after cropping - lower bound to saddle point\n",
      "[G12] stack XY mips after cropping - zero to saddle point\n",
      "[G13] stack YZ mips after cropping - zero to saddle point\n",
      "[G14] stack XZ mips after cropping - zero to saddle point\n",
      "[G15] stack XY mips after cropping - peripheral lb to saddle point\n",
      "[G16] stack YZ mips after cropping - peripheral lb to saddle point\n",
      "[G17] stack XZ mips after cropping - peripheral lb to saddle point\n"
     ]
    },
    {
     "data": {
      "text/plain": [
       "0"
      ]
     },
     "execution_count": 5,
     "metadata": {},
     "output_type": "execute_result"
    }
   ],
   "source": [
    "tpath='/p/lscratchh/yi10/hp3d'\n",
    "theads = [t for t in os.listdir(tpath) if t.startswith('2021')]\n",
    "\n",
    "hp3ddata_path='/p/lscratchh/yi10/hp3d/'+theads[0]\n",
    "d=hp3d.hp3ddata.HP3Ddata(fpath=hp3ddata_path,dfnamehead='hp3ddata_'+thead,initialize=False)\n",
    "d.show_data_structure()"
   ]
  },
  {
   "cell_type": "code",
   "execution_count": 11,
   "metadata": {
    "scrolled": false
   },
   "outputs": [
    {
     "data": {
      "text/plain": [
       "0"
      ]
     },
     "execution_count": 11,
     "metadata": {},
     "output_type": "execute_result"
    },
    {
     "data": {
      "text/plain": [
       "0"
      ]
     },
     "execution_count": 11,
     "metadata": {},
     "output_type": "execute_result"
    },
    {
     "data": {
      "text/plain": [
       "0"
      ]
     },
     "execution_count": 11,
     "metadata": {},
     "output_type": "execute_result"
    },
    {
     "data": {
      "text/plain": [
       "0"
      ]
     },
     "execution_count": 11,
     "metadata": {},
     "output_type": "execute_result"
    },
    {
     "data": {
      "text/plain": [
       "0"
      ]
     },
     "execution_count": 11,
     "metadata": {},
     "output_type": "execute_result"
    },
    {
     "data": {
      "text/plain": [
       "0"
      ]
     },
     "execution_count": 11,
     "metadata": {},
     "output_type": "execute_result"
    },
    {
     "data": {
      "text/plain": [
       "0"
      ]
     },
     "execution_count": 11,
     "metadata": {},
     "output_type": "execute_result"
    },
    {
     "data": {
      "text/plain": [
       "0"
      ]
     },
     "execution_count": 11,
     "metadata": {},
     "output_type": "execute_result"
    },
    {
     "data": {
      "text/plain": [
       "0"
      ]
     },
     "execution_count": 11,
     "metadata": {},
     "output_type": "execute_result"
    },
    {
     "data": {
      "text/plain": [
       "0"
      ]
     },
     "execution_count": 11,
     "metadata": {},
     "output_type": "execute_result"
    },
    {
     "data": {
      "text/plain": [
       "0"
      ]
     },
     "execution_count": 11,
     "metadata": {},
     "output_type": "execute_result"
    },
    {
     "data": {
      "text/plain": [
       "0"
      ]
     },
     "execution_count": 11,
     "metadata": {},
     "output_type": "execute_result"
    },
    {
     "data": {
      "text/plain": [
       "0"
      ]
     },
     "execution_count": 11,
     "metadata": {},
     "output_type": "execute_result"
    },
    {
     "data": {
      "text/plain": [
       "0"
      ]
     },
     "execution_count": 11,
     "metadata": {},
     "output_type": "execute_result"
    },
    {
     "data": {
      "text/plain": [
       "0"
      ]
     },
     "execution_count": 11,
     "metadata": {},
     "output_type": "execute_result"
    },
    {
     "data": {
      "text/plain": [
       "0"
      ]
     },
     "execution_count": 11,
     "metadata": {},
     "output_type": "execute_result"
    },
    {
     "data": {
      "text/plain": [
       "0"
      ]
     },
     "execution_count": 11,
     "metadata": {},
     "output_type": "execute_result"
    },
    {
     "data": {
      "text/plain": [
       "0"
      ]
     },
     "execution_count": 11,
     "metadata": {},
     "output_type": "execute_result"
    },
    {
     "data": {
      "text/plain": [
       "0"
      ]
     },
     "execution_count": 11,
     "metadata": {},
     "output_type": "execute_result"
    },
    {
     "data": {
      "text/plain": [
       "0"
      ]
     },
     "execution_count": 11,
     "metadata": {},
     "output_type": "execute_result"
    },
    {
     "name": "stdout",
     "output_type": "stream",
     "text": [
      "Try to create the following file path:\n",
      "/p/lscratchh/yi10/hp3d/2021-11-04-cell7\n",
      "the file path exists\n",
      "found the hdf5 file:\n",
      "/p/lscratchh/yi10/hp3d/2021-11-04-cell7/hp3ddata_2021-11-04-cell7.hdf5\n",
      "successfully opened the hp3d data object and the associated hdf5 file\n",
      "Try to create the following file path:\n",
      "/p/lscratchh/yi10/hp3d/2021-10-28-cell3\n",
      "the file path exists\n",
      "found the hdf5 file:\n",
      "/p/lscratchh/yi10/hp3d/2021-10-28-cell3/hp3ddata_2021-10-28-cell3.hdf5\n",
      "successfully opened the hp3d data object and the associated hdf5 file\n",
      "Try to create the following file path:\n",
      "/p/lscratchh/yi10/hp3d/2021-09-24-cell7\n",
      "the file path exists\n",
      "found the hdf5 file:\n",
      "/p/lscratchh/yi10/hp3d/2021-09-24-cell7/hp3ddata_2021-09-24-cell7.hdf5\n",
      "successfully opened the hp3d data object and the associated hdf5 file\n",
      "Try to create the following file path:\n",
      "/p/lscratchh/yi10/hp3d/2021-10-14-cell1\n",
      "the file path exists\n",
      "found the hdf5 file:\n",
      "/p/lscratchh/yi10/hp3d/2021-10-14-cell1/hp3ddata_2021-10-14-cell1.hdf5\n",
      "successfully opened the hp3d data object and the associated hdf5 file\n",
      "Try to create the following file path:\n",
      "/p/lscratchh/yi10/hp3d/2021-11-02-cell2\n",
      "the file path exists\n",
      "found the hdf5 file:\n",
      "/p/lscratchh/yi10/hp3d/2021-11-02-cell2/hp3ddata_2021-11-02-cell2.hdf5\n",
      "successfully opened the hp3d data object and the associated hdf5 file\n",
      "Try to create the following file path:\n",
      "/p/lscratchh/yi10/hp3d/2021-11-11-cell3\n",
      "the file path exists\n",
      "found the hdf5 file:\n",
      "/p/lscratchh/yi10/hp3d/2021-11-11-cell3/hp3ddata_2021-11-11-cell3.hdf5\n",
      "successfully opened the hp3d data object and the associated hdf5 file\n",
      "Try to create the following file path:\n",
      "/p/lscratchh/yi10/hp3d/2021-10-14-cell16\n",
      "the file path exists\n",
      "found the hdf5 file:\n",
      "/p/lscratchh/yi10/hp3d/2021-10-14-cell16/hp3ddata_2021-10-14-cell16.hdf5\n",
      "successfully opened the hp3d data object and the associated hdf5 file\n",
      "Try to create the following file path:\n",
      "/p/lscratchh/yi10/hp3d/2021-11-11-cell9\n",
      "the file path exists\n",
      "found the hdf5 file:\n",
      "/p/lscratchh/yi10/hp3d/2021-11-11-cell9/hp3ddata_2021-11-11-cell9.hdf5\n",
      "successfully opened the hp3d data object and the associated hdf5 file\n",
      "Try to create the following file path:\n",
      "/p/lscratchh/yi10/hp3d/2021-10-01-cell5\n",
      "the file path exists\n",
      "found the hdf5 file:\n",
      "/p/lscratchh/yi10/hp3d/2021-10-01-cell5/hp3ddata_2021-10-01-cell5.hdf5\n",
      "successfully opened the hp3d data object and the associated hdf5 file\n",
      "Try to create the following file path:\n",
      "/p/lscratchh/yi10/hp3d/2021-09-24-cell16\n",
      "the file path exists\n",
      "found the hdf5 file:\n",
      "/p/lscratchh/yi10/hp3d/2021-09-24-cell16/hp3ddata_2021-09-24-cell16.hdf5\n",
      "successfully opened the hp3d data object and the associated hdf5 file\n",
      "Try to create the following file path:\n",
      "/p/lscratchh/yi10/hp3d/2021-11-17-cell6\n",
      "the file path exists\n",
      "found the hdf5 file:\n",
      "/p/lscratchh/yi10/hp3d/2021-11-17-cell6/hp3ddata_2021-11-17-cell6.hdf5\n",
      "successfully opened the hp3d data object and the associated hdf5 file\n",
      "Try to create the following file path:\n",
      "/p/lscratchh/yi10/hp3d/2021-09-30-cell4\n",
      "the file path exists\n",
      "found the hdf5 file:\n",
      "/p/lscratchh/yi10/hp3d/2021-09-30-cell4/hp3ddata_2021-09-30-cell4.hdf5\n",
      "successfully opened the hp3d data object and the associated hdf5 file\n",
      "Try to create the following file path:\n",
      "/p/lscratchh/yi10/hp3d/2021-11-09-cell0\n",
      "the file path exists\n",
      "found the hdf5 file:\n",
      "/p/lscratchh/yi10/hp3d/2021-11-09-cell0/hp3ddata_2021-11-09-cell0.hdf5\n",
      "successfully opened the hp3d data object and the associated hdf5 file\n",
      "Try to create the following file path:\n",
      "/p/lscratchh/yi10/hp3d/2021-10-04-cell4\n",
      "the file path exists\n",
      "found the hdf5 file:\n",
      "/p/lscratchh/yi10/hp3d/2021-10-04-cell4/hp3ddata_2021-10-04-cell4.hdf5\n",
      "successfully opened the hp3d data object and the associated hdf5 file\n",
      "Try to create the following file path:\n",
      "/p/lscratchh/yi10/hp3d/2021-09-22-cell20\n",
      "the file path exists\n",
      "found the hdf5 file:\n",
      "/p/lscratchh/yi10/hp3d/2021-09-22-cell20/hp3ddata_2021-09-22-cell20.hdf5\n",
      "successfully opened the hp3d data object and the associated hdf5 file\n",
      "Try to create the following file path:\n",
      "/p/lscratchh/yi10/hp3d/2021-11-12-cell7\n",
      "the file path exists\n",
      "found the hdf5 file:\n",
      "/p/lscratchh/yi10/hp3d/2021-11-12-cell7/hp3ddata_2021-11-12-cell7.hdf5\n",
      "successfully opened the hp3d data object and the associated hdf5 file\n",
      "Try to create the following file path:\n",
      "/p/lscratchh/yi10/hp3d/2021-10-04-cell12\n",
      "the file path exists\n",
      "found the hdf5 file:\n",
      "/p/lscratchh/yi10/hp3d/2021-10-04-cell12/hp3ddata_2021-10-04-cell12.hdf5\n",
      "successfully opened the hp3d data object and the associated hdf5 file\n",
      "Try to create the following file path:\n",
      "/p/lscratchh/yi10/hp3d/2021-10-04-cell18\n",
      "the file path exists\n",
      "found the hdf5 file:\n",
      "/p/lscratchh/yi10/hp3d/2021-10-04-cell18/hp3ddata_2021-10-04-cell18.hdf5\n",
      "successfully opened the hp3d data object and the associated hdf5 file\n",
      "Try to create the following file path:\n",
      "/p/lscratchh/yi10/hp3d/2021-09-29-cell0\n",
      "the file path exists\n",
      "found the hdf5 file:\n",
      "/p/lscratchh/yi10/hp3d/2021-09-29-cell0/hp3ddata_2021-09-29-cell0.hdf5\n",
      "successfully opened the hp3d data object and the associated hdf5 file\n",
      "Try to create the following file path:\n",
      "/p/lscratchh/yi10/hp3d/2021-11-10-cell4\n",
      "the file path exists\n",
      "found the hdf5 file:\n",
      "/p/lscratchh/yi10/hp3d/2021-11-10-cell4/hp3ddata_2021-11-10-cell4.hdf5\n",
      "successfully opened the hp3d data object and the associated hdf5 file\n",
      "Try to create the following file path:\n",
      "/p/lscratchh/yi10/hp3d/2021-11-09-cell12\n",
      "the file path exists\n",
      "found the hdf5 file:\n",
      "/p/lscratchh/yi10/hp3d/2021-11-09-cell12/hp3ddata_2021-11-09-cell12.hdf5\n",
      "successfully opened the hp3d data object and the associated hdf5 file"
     ]
    },
    {
     "data": {
      "text/plain": [
       "0"
      ]
     },
     "execution_count": 11,
     "metadata": {},
     "output_type": "execute_result"
    },
    {
     "data": {
      "text/plain": [
       "0"
      ]
     },
     "execution_count": 11,
     "metadata": {},
     "output_type": "execute_result"
    },
    {
     "data": {
      "text/plain": [
       "0"
      ]
     },
     "execution_count": 11,
     "metadata": {},
     "output_type": "execute_result"
    },
    {
     "data": {
      "text/plain": [
       "0"
      ]
     },
     "execution_count": 11,
     "metadata": {},
     "output_type": "execute_result"
    },
    {
     "data": {
      "text/plain": [
       "0"
      ]
     },
     "execution_count": 11,
     "metadata": {},
     "output_type": "execute_result"
    },
    {
     "data": {
      "text/plain": [
       "0"
      ]
     },
     "execution_count": 11,
     "metadata": {},
     "output_type": "execute_result"
    },
    {
     "data": {
      "text/plain": [
       "0"
      ]
     },
     "execution_count": 11,
     "metadata": {},
     "output_type": "execute_result"
    },
    {
     "data": {
      "text/plain": [
       "0"
      ]
     },
     "execution_count": 11,
     "metadata": {},
     "output_type": "execute_result"
    },
    {
     "data": {
      "text/plain": [
       "0"
      ]
     },
     "execution_count": 11,
     "metadata": {},
     "output_type": "execute_result"
    },
    {
     "data": {
      "text/plain": [
       "0"
      ]
     },
     "execution_count": 11,
     "metadata": {},
     "output_type": "execute_result"
    },
    {
     "data": {
      "text/plain": [
       "0"
      ]
     },
     "execution_count": 11,
     "metadata": {},
     "output_type": "execute_result"
    },
    {
     "data": {
      "text/plain": [
       "0"
      ]
     },
     "execution_count": 11,
     "metadata": {},
     "output_type": "execute_result"
    },
    {
     "data": {
      "text/plain": [
       "0"
      ]
     },
     "execution_count": 11,
     "metadata": {},
     "output_type": "execute_result"
    },
    {
     "data": {
      "text/plain": [
       "0"
      ]
     },
     "execution_count": 11,
     "metadata": {},
     "output_type": "execute_result"
    },
    {
     "data": {
      "text/plain": [
       "0"
      ]
     },
     "execution_count": 11,
     "metadata": {},
     "output_type": "execute_result"
    },
    {
     "data": {
      "text/plain": [
       "0"
      ]
     },
     "execution_count": 11,
     "metadata": {},
     "output_type": "execute_result"
    },
    {
     "data": {
      "text/plain": [
       "0"
      ]
     },
     "execution_count": 11,
     "metadata": {},
     "output_type": "execute_result"
    },
    {
     "data": {
      "text/plain": [
       "0"
      ]
     },
     "execution_count": 11,
     "metadata": {},
     "output_type": "execute_result"
    },
    {
     "name": "stdout",
     "output_type": "stream",
     "text": [
      "\n",
      "Try to create the following file path:\n",
      "/p/lscratchh/yi10/hp3d/2021-11-11-cell10\n",
      "the file path exists\n",
      "found the hdf5 file:\n",
      "/p/lscratchh/yi10/hp3d/2021-11-11-cell10/hp3ddata_2021-11-11-cell10.hdf5\n",
      "successfully opened the hp3d data object and the associated hdf5 file\n",
      "Try to create the following file path:\n",
      "/p/lscratchh/yi10/hp3d/2021-09-30-cell11\n",
      "the file path exists\n",
      "found the hdf5 file:\n",
      "/p/lscratchh/yi10/hp3d/2021-09-30-cell11/hp3ddata_2021-09-30-cell11.hdf5\n",
      "successfully opened the hp3d data object and the associated hdf5 file\n",
      "Try to create the following file path:\n",
      "/p/lscratchh/yi10/hp3d/2021-10-08-cell4\n",
      "the file path exists\n",
      "found the hdf5 file:\n",
      "/p/lscratchh/yi10/hp3d/2021-10-08-cell4/hp3ddata_2021-10-08-cell4.hdf5\n",
      "successfully opened the hp3d data object and the associated hdf5 file\n",
      "Try to create the following file path:\n",
      "/p/lscratchh/yi10/hp3d/2021-09-27-cell3\n",
      "the file path exists\n",
      "found the hdf5 file:\n",
      "/p/lscratchh/yi10/hp3d/2021-09-27-cell3/hp3ddata_2021-09-27-cell3.hdf5\n",
      "successfully opened the hp3d data object and the associated hdf5 file\n",
      "Try to create the following file path:\n",
      "/p/lscratchh/yi10/hp3d/2021-11-04-cell12\n",
      "the file path exists\n",
      "found the hdf5 file:\n",
      "/p/lscratchh/yi10/hp3d/2021-11-04-cell12/hp3ddata_2021-11-04-cell12.hdf5\n",
      "successfully opened the hp3d data object and the associated hdf5 file\n",
      "Try to create the following file path:\n",
      "/p/lscratchh/yi10/hp3d/2021-10-04-cell20\n",
      "the file path exists\n",
      "found the hdf5 file:\n",
      "/p/lscratchh/yi10/hp3d/2021-10-04-cell20/hp3ddata_2021-10-04-cell20.hdf5\n",
      "successfully opened the hp3d data object and the associated hdf5 file\n",
      "Try to create the following file path:\n",
      "/p/lscratchh/yi10/hp3d/2021-11-05-cell0\n",
      "the file path exists\n",
      "found the hdf5 file:\n",
      "/p/lscratchh/yi10/hp3d/2021-11-05-cell0/hp3ddata_2021-11-05-cell0.hdf5\n",
      "successfully opened the hp3d data object and the associated hdf5 file\n",
      "Try to create the following file path:\n",
      "/p/lscratchh/yi10/hp3d/2021-10-29-cell4\n",
      "the file path exists\n",
      "found the hdf5 file:\n",
      "/p/lscratchh/yi10/hp3d/2021-10-29-cell4/hp3ddata_2021-10-29-cell4.hdf5\n",
      "successfully opened the hp3d data object and the associated hdf5 file\n",
      "Try to create the following file path:\n",
      "/p/lscratchh/yi10/hp3d/2021-10-04-cell27\n",
      "the file path exists\n",
      "found the hdf5 file:\n",
      "/p/lscratchh/yi10/hp3d/2021-10-04-cell27/hp3ddata_2021-10-04-cell27.hdf5\n",
      "successfully opened the hp3d data object and the associated hdf5 file\n",
      "Try to create the following file path:\n",
      "/p/lscratchh/yi10/hp3d/2021-11-05-cell7\n",
      "the file path exists\n",
      "found the hdf5 file:\n",
      "/p/lscratchh/yi10/hp3d/2021-11-05-cell7/hp3ddata_2021-11-05-cell7.hdf5\n",
      "successfully opened the hp3d data object and the associated hdf5 file\n",
      "Try to create the following file path:\n",
      "/p/lscratchh/yi10/hp3d/2021-10-29-cell3\n",
      "the file path exists\n",
      "found the hdf5 file:\n",
      "/p/lscratchh/yi10/hp3d/2021-10-29-cell3/hp3ddata_2021-10-29-cell3.hdf5\n",
      "successfully opened the hp3d data object and the associated hdf5 file\n",
      "Try to create the following file path:\n",
      "/p/lscratchh/yi10/hp3d/2021-10-08-cell9\n",
      "the file path exists\n",
      "found the hdf5 file:\n",
      "/p/lscratchh/yi10/hp3d/2021-10-08-cell9/hp3ddata_2021-10-08-cell9.hdf5\n",
      "successfully opened the hp3d data object and the associated hdf5 file\n",
      "Try to create the following file path:\n",
      "/p/lscratchh/yi10/hp3d/2021-10-08-cell3\n",
      "the file path exists\n",
      "found the hdf5 file:\n",
      "/p/lscratchh/yi10/hp3d/2021-10-08-cell3/hp3ddata_2021-10-08-cell3.hdf5\n",
      "successfully opened the hp3d data object and the associated hdf5 file\n",
      "Try to create the following file path:\n",
      "/p/lscratchh/yi10/hp3d/2021-09-27-cell4\n",
      "the file path exists\n",
      "found the hdf5 file:\n",
      "/p/lscratchh/yi10/hp3d/2021-09-27-cell4/hp3ddata_2021-09-27-cell4.hdf5\n",
      "successfully opened the hp3d data object and the associated hdf5 file\n",
      "Try to create the following file path:\n",
      "/p/lscratchh/yi10/hp3d/2021-10-04-cell3\n",
      "the file path exists\n",
      "found the hdf5 file:\n",
      "/p/lscratchh/yi10/hp3d/2021-10-04-cell3/hp3ddata_2021-10-04-cell3.hdf5\n",
      "successfully opened the hp3d data object and the associated hdf5 file\n",
      "Try to create the following file path:\n",
      "/p/lscratchh/yi10/hp3d/2021-11-12-cell0\n",
      "the file path exists\n",
      "found the hdf5 file:\n",
      "/p/lscratchh/yi10/hp3d/2021-11-12-cell0/hp3ddata_2021-11-12-cell0.hdf5\n",
      "successfully opened the hp3d data object and the associated hdf5 file\n",
      "Try to create the following file path:\n",
      "/p/lscratchh/yi10/hp3d/2021-10-04-cell15\n",
      "the file path exists\n",
      "found the hdf5 file:\n",
      "/p/lscratchh/yi10/hp3d/2021-10-04-cell15/hp3ddata_2021-10-04-cell15.hdf5\n",
      "successfully opened the hp3d data object and the associated hdf5 file\n",
      "Try to create the following file path:\n",
      "/p/lscratchh/yi10/hp3d/2021-11-10-cell9\n",
      "the file path exists\n",
      "found the hdf5 file:\n",
      "/p/lscratchh/yi10/hp3d/2021-11-10-cell9/hp3ddata_2021-11-10-cell9.hdf5\n",
      "successfully opened the hp3d data object and the associated hdf5 file\n"
     ]
    },
    {
     "data": {
      "text/plain": [
       "0"
      ]
     },
     "execution_count": 11,
     "metadata": {},
     "output_type": "execute_result"
    },
    {
     "data": {
      "text/plain": [
       "0"
      ]
     },
     "execution_count": 11,
     "metadata": {},
     "output_type": "execute_result"
    },
    {
     "data": {
      "text/plain": [
       "0"
      ]
     },
     "execution_count": 11,
     "metadata": {},
     "output_type": "execute_result"
    },
    {
     "data": {
      "text/plain": [
       "0"
      ]
     },
     "execution_count": 11,
     "metadata": {},
     "output_type": "execute_result"
    },
    {
     "data": {
      "text/plain": [
       "0"
      ]
     },
     "execution_count": 11,
     "metadata": {},
     "output_type": "execute_result"
    },
    {
     "data": {
      "text/plain": [
       "0"
      ]
     },
     "execution_count": 11,
     "metadata": {},
     "output_type": "execute_result"
    },
    {
     "data": {
      "text/plain": [
       "0"
      ]
     },
     "execution_count": 11,
     "metadata": {},
     "output_type": "execute_result"
    },
    {
     "data": {
      "text/plain": [
       "0"
      ]
     },
     "execution_count": 11,
     "metadata": {},
     "output_type": "execute_result"
    },
    {
     "data": {
      "text/plain": [
       "0"
      ]
     },
     "execution_count": 11,
     "metadata": {},
     "output_type": "execute_result"
    },
    {
     "data": {
      "text/plain": [
       "0"
      ]
     },
     "execution_count": 11,
     "metadata": {},
     "output_type": "execute_result"
    },
    {
     "data": {
      "text/plain": [
       "0"
      ]
     },
     "execution_count": 11,
     "metadata": {},
     "output_type": "execute_result"
    },
    {
     "data": {
      "text/plain": [
       "0"
      ]
     },
     "execution_count": 11,
     "metadata": {},
     "output_type": "execute_result"
    },
    {
     "data": {
      "text/plain": [
       "0"
      ]
     },
     "execution_count": 11,
     "metadata": {},
     "output_type": "execute_result"
    },
    {
     "data": {
      "text/plain": [
       "0"
      ]
     },
     "execution_count": 11,
     "metadata": {},
     "output_type": "execute_result"
    },
    {
     "data": {
      "text/plain": [
       "0"
      ]
     },
     "execution_count": 11,
     "metadata": {},
     "output_type": "execute_result"
    },
    {
     "data": {
      "text/plain": [
       "0"
      ]
     },
     "execution_count": 11,
     "metadata": {},
     "output_type": "execute_result"
    },
    {
     "name": "stdout",
     "output_type": "stream",
     "text": [
      "Try to create the following file path:\n",
      "/p/lscratchh/yi10/hp3d/2021-10-06-cell0\n",
      "the file path exists\n",
      "found the hdf5 file:\n",
      "/p/lscratchh/yi10/hp3d/2021-10-06-cell0/hp3ddata_2021-10-06-cell0.hdf5\n",
      "successfully opened the hp3d data object and the associated hdf5 file\n",
      "Try to create the following file path:\n",
      "/p/lscratchh/yi10/hp3d/2021-11-10-cell3\n",
      "the file path exists\n",
      "found the hdf5 file:\n",
      "/p/lscratchh/yi10/hp3d/2021-11-10-cell3/hp3ddata_2021-11-10-cell3.hdf5\n",
      "successfully opened the hp3d data object and the associated hdf5 file\n",
      "Try to create the following file path:\n",
      "/p/lscratchh/yi10/hp3d/2021-09-29-cell7\n",
      "the file path exists\n",
      "found the hdf5 file:\n",
      "/p/lscratchh/yi10/hp3d/2021-09-29-cell7/hp3ddata_2021-09-29-cell7.hdf5\n",
      "successfully opened the hp3d data object and the associated hdf5 file\n",
      "Try to create the following file path:\n",
      "/p/lscratchh/yi10/hp3d/2021-10-04-cell9\n",
      "the file path exists\n",
      "found the hdf5 file:\n",
      "/p/lscratchh/yi10/hp3d/2021-10-04-cell9/hp3ddata_2021-10-04-cell9.hdf5\n",
      "successfully opened the hp3d data object and the associated hdf5 file\n",
      "Try to create the following file path:\n",
      "/p/lscratchh/yi10/hp3d/2021-09-30-cell3\n",
      "the file path exists\n",
      "found the hdf5 file:\n",
      "/p/lscratchh/yi10/hp3d/2021-09-30-cell3/hp3ddata_2021-09-30-cell3.hdf5\n",
      "successfully opened the hp3d data object and the associated hdf5 file\n",
      "Try to create the following file path:\n",
      "/p/lscratchh/yi10/hp3d/2021-09-30-cell9\n",
      "the file path exists\n",
      "found the hdf5 file:\n",
      "/p/lscratchh/yi10/hp3d/2021-09-30-cell9/hp3ddata_2021-09-30-cell9.hdf5\n",
      "successfully opened the hp3d data object and the associated hdf5 file\n",
      "Try to create the following file path:\n",
      "/p/lscratchh/yi10/hp3d/2021-10-08-cell10\n",
      "the file path exists\n",
      "found the hdf5 file:\n",
      "/p/lscratchh/yi10/hp3d/2021-10-08-cell10/hp3ddata_2021-10-08-cell10.hdf5\n",
      "successfully opened the hp3d data object and the associated hdf5 file\n",
      "Try to create the following file path:\n",
      "/p/lscratchh/yi10/hp3d/2021-10-01-cell2\n",
      "the file path exists\n",
      "found the hdf5 file:\n",
      "/p/lscratchh/yi10/hp3d/2021-10-01-cell2/hp3ddata_2021-10-01-cell2.hdf5\n",
      "successfully opened the hp3d data object and the associated hdf5 file\n",
      "Try to create the following file path:\n",
      "/p/lscratchh/yi10/hp3d/2021-11-17-cell1\n",
      "the file path exists\n",
      "found the hdf5 file:\n",
      "/p/lscratchh/yi10/hp3d/2021-11-17-cell1/hp3ddata_2021-11-17-cell1.hdf5\n",
      "successfully opened the hp3d data object and the associated hdf5 file\n",
      "Try to create the following file path:\n",
      "/p/lscratchh/yi10/hp3d/2021-09-24-cell11\n",
      "the file path exists\n",
      "found the hdf5 file:\n",
      "/p/lscratchh/yi10/hp3d/2021-09-24-cell11/hp3ddata_2021-09-24-cell11.hdf5\n",
      "successfully opened the hp3d data object and the associated hdf5 file\n",
      "Try to create the following file path:\n",
      "/p/lscratchh/yi10/hp3d/2021-11-11-cell4\n",
      "the file path exists\n",
      "found the hdf5 file:\n",
      "/p/lscratchh/yi10/hp3d/2021-11-11-cell4/hp3ddata_2021-11-11-cell4.hdf5\n",
      "successfully opened the hp3d data object and the associated hdf5 file\n",
      "Try to create the following file path:\n",
      "/p/lscratchh/yi10/hp3d/2021-10-14-cell11\n",
      "the file path exists\n",
      "found the hdf5 file:\n",
      "/p/lscratchh/yi10/hp3d/2021-10-14-cell11/hp3ddata_2021-10-14-cell11.hdf5\n",
      "successfully opened the hp3d data object and the associated hdf5 file\n",
      "Try to create the following file path:\n",
      "/p/lscratchh/yi10/hp3d/2021-11-10-cell12\n",
      "the file path exists\n",
      "found the hdf5 file:\n",
      "/p/lscratchh/yi10/hp3d/2021-11-10-cell12/hp3ddata_2021-11-10-cell12.hdf5\n",
      "successfully opened the hp3d data object and the associated hdf5 file\n",
      "Try to create the following file path:\n",
      "/p/lscratchh/yi10/hp3d/2021-10-14-cell6\n",
      "the file path exists\n",
      "found the hdf5 file:\n",
      "/p/lscratchh/yi10/hp3d/2021-10-14-cell6/hp3ddata_2021-10-14-cell6.hdf5\n",
      "successfully opened the hp3d data object and the associated hdf5 file\n",
      "Try to create the following file path:\n",
      "/p/lscratchh/yi10/hp3d/2021-09-24-cell0\n",
      "the file path exists\n",
      "found the hdf5 file:\n",
      "/p/lscratchh/yi10/hp3d/2021-09-24-cell0/hp3ddata_2021-09-24-cell0.hdf5\n",
      "successfully opened the hp3d data object and the associated hdf5 file\n",
      "Try to create the following file path:\n",
      "/p/lscratchh/yi10/hp3d/2021-11-02-cell5\n",
      "the file path exists\n",
      "found the hdf5 file:\n",
      "/p/lscratchh/yi10/hp3d/2021-11-02-cell5/hp3ddata_2021-11-02-cell5.hdf5\n",
      "successfully opened the hp3d data object and the associated hdf5 file\n"
     ]
    },
    {
     "data": {
      "text/plain": [
       "0"
      ]
     },
     "execution_count": 11,
     "metadata": {},
     "output_type": "execute_result"
    },
    {
     "data": {
      "text/plain": [
       "0"
      ]
     },
     "execution_count": 11,
     "metadata": {},
     "output_type": "execute_result"
    },
    {
     "data": {
      "text/plain": [
       "0"
      ]
     },
     "execution_count": 11,
     "metadata": {},
     "output_type": "execute_result"
    },
    {
     "data": {
      "text/plain": [
       "0"
      ]
     },
     "execution_count": 11,
     "metadata": {},
     "output_type": "execute_result"
    },
    {
     "data": {
      "text/plain": [
       "0"
      ]
     },
     "execution_count": 11,
     "metadata": {},
     "output_type": "execute_result"
    },
    {
     "data": {
      "text/plain": [
       "0"
      ]
     },
     "execution_count": 11,
     "metadata": {},
     "output_type": "execute_result"
    },
    {
     "data": {
      "text/plain": [
       "0"
      ]
     },
     "execution_count": 11,
     "metadata": {},
     "output_type": "execute_result"
    },
    {
     "data": {
      "text/plain": [
       "0"
      ]
     },
     "execution_count": 11,
     "metadata": {},
     "output_type": "execute_result"
    },
    {
     "data": {
      "text/plain": [
       "0"
      ]
     },
     "execution_count": 11,
     "metadata": {},
     "output_type": "execute_result"
    },
    {
     "data": {
      "text/plain": [
       "0"
      ]
     },
     "execution_count": 11,
     "metadata": {},
     "output_type": "execute_result"
    },
    {
     "data": {
      "text/plain": [
       "0"
      ]
     },
     "execution_count": 11,
     "metadata": {},
     "output_type": "execute_result"
    },
    {
     "name": "stdout",
     "output_type": "stream",
     "text": [
      "Try to create the following file path:\n",
      "/p/lscratchh/yi10/hp3d/2021-11-04-cell0\n",
      "the file path exists\n",
      "found the hdf5 file:\n",
      "/p/lscratchh/yi10/hp3d/2021-11-04-cell0/hp3ddata_2021-11-04-cell0.hdf5\n",
      "successfully opened the hp3d data object and the associated hdf5 file\n",
      "Try to create the following file path:\n",
      "/p/lscratchh/yi10/hp3d/2021-10-28-cell4\n",
      "the file path exists\n",
      "found the hdf5 file:\n",
      "/p/lscratchh/yi10/hp3d/2021-10-28-cell4/hp3ddata_2021-10-28-cell4.hdf5\n",
      "successfully opened the hp3d data object and the associated hdf5 file\n",
      "Try to create the following file path:\n",
      "/p/lscratchh/yi10/hp3d/2021-11-02-cell1\n",
      "the file path exists\n",
      "found the hdf5 file:\n",
      "/p/lscratchh/yi10/hp3d/2021-11-02-cell1/hp3ddata_2021-11-02-cell1.hdf5\n",
      "successfully opened the hp3d data object and the associated hdf5 file\n",
      "Try to create the following file path:\n",
      "/p/lscratchh/yi10/hp3d/2021-09-24-cell4\n",
      "the file path exists\n",
      "found the hdf5 file:\n",
      "/p/lscratchh/yi10/hp3d/2021-09-24-cell4/hp3ddata_2021-09-24-cell4.hdf5\n",
      "successfully opened the hp3d data object and the associated hdf5 file\n",
      "Try to create the following file path:\n",
      "/p/lscratchh/yi10/hp3d/2021-10-14-cell2\n",
      "the file path exists\n",
      "found the hdf5 file:\n",
      "/p/lscratchh/yi10/hp3d/2021-10-14-cell2/hp3ddata_2021-10-14-cell2.hdf5\n",
      "successfully opened the hp3d data object and the associated hdf5 file\n",
      "Try to create the following file path:\n",
      "/p/lscratchh/yi10/hp3d/2021-10-14-cell8\n",
      "the file path exists\n",
      "found the hdf5 file:\n",
      "/p/lscratchh/yi10/hp3d/2021-10-14-cell8/hp3ddata_2021-10-14-cell8.hdf5\n",
      "successfully opened the hp3d data object and the associated hdf5 file\n",
      "Try to create the following file path:\n",
      "/p/lscratchh/yi10/hp3d/2021-10-28-cell0\n",
      "the file path exists\n",
      "found the hdf5 file:\n",
      "/p/lscratchh/yi10/hp3d/2021-10-28-cell0/hp3ddata_2021-10-28-cell0.hdf5\n",
      "successfully opened the hp3d data object and the associated hdf5 file\n",
      "Try to create the following file path:\n",
      "/p/lscratchh/yi10/hp3d/2021-11-17-cell5\n",
      "the file path exists\n",
      "found the hdf5 file:\n",
      "/p/lscratchh/yi10/hp3d/2021-11-17-cell5/hp3ddata_2021-11-17-cell5.hdf5\n",
      "successfully opened the hp3d data object and the associated hdf5 file\n",
      "Try to create the following file path:\n",
      "/p/lscratchh/yi10/hp3d/2021-10-01-cell6\n",
      "the file path exists\n",
      "found the hdf5 file:\n",
      "/p/lscratchh/yi10/hp3d/2021-10-01-cell6/hp3ddata_2021-10-01-cell6.hdf5\n",
      "successfully opened the hp3d data object and the associated hdf5 file\n",
      "Try to create the following file path:\n",
      "/p/lscratchh/yi10/hp3d/2021-10-08-cell14\n",
      "the file path exists\n",
      "found the hdf5 file:\n",
      "/p/lscratchh/yi10/hp3d/2021-10-08-cell14/hp3ddata_2021-10-08-cell14.hdf5\n",
      "successfully opened the hp3d data object and the associated hdf5 file\n",
      "Try to create the following file path:\n",
      "/p/lscratchh/yi10/hp3d/2021-10-14-cell15\n",
      "the file path exists\n",
      "found the hdf5 file:\n",
      "/p/lscratchh/yi10/hp3d/2021-10-14-cell15/hp3ddata_2021-10-14-cell15.hdf5\n",
      "successfully opened the hp3d data object and the associated hdf5 file\n"
     ]
    },
    {
     "data": {
      "text/plain": [
       "0"
      ]
     },
     "execution_count": 11,
     "metadata": {},
     "output_type": "execute_result"
    },
    {
     "data": {
      "text/plain": [
       "0"
      ]
     },
     "execution_count": 11,
     "metadata": {},
     "output_type": "execute_result"
    },
    {
     "data": {
      "text/plain": [
       "0"
      ]
     },
     "execution_count": 11,
     "metadata": {},
     "output_type": "execute_result"
    },
    {
     "data": {
      "text/plain": [
       "0"
      ]
     },
     "execution_count": 11,
     "metadata": {},
     "output_type": "execute_result"
    },
    {
     "data": {
      "text/plain": [
       "0"
      ]
     },
     "execution_count": 11,
     "metadata": {},
     "output_type": "execute_result"
    },
    {
     "data": {
      "text/plain": [
       "0"
      ]
     },
     "execution_count": 11,
     "metadata": {},
     "output_type": "execute_result"
    },
    {
     "data": {
      "text/plain": [
       "0"
      ]
     },
     "execution_count": 11,
     "metadata": {},
     "output_type": "execute_result"
    },
    {
     "data": {
      "text/plain": [
       "0"
      ]
     },
     "execution_count": 11,
     "metadata": {},
     "output_type": "execute_result"
    },
    {
     "data": {
      "text/plain": [
       "0"
      ]
     },
     "execution_count": 11,
     "metadata": {},
     "output_type": "execute_result"
    },
    {
     "data": {
      "text/plain": [
       "0"
      ]
     },
     "execution_count": 11,
     "metadata": {},
     "output_type": "execute_result"
    },
    {
     "data": {
      "text/plain": [
       "0"
      ]
     },
     "execution_count": 11,
     "metadata": {},
     "output_type": "execute_result"
    },
    {
     "data": {
      "text/plain": [
       "0"
      ]
     },
     "execution_count": 11,
     "metadata": {},
     "output_type": "execute_result"
    },
    {
     "data": {
      "text/plain": [
       "0"
      ]
     },
     "execution_count": 11,
     "metadata": {},
     "output_type": "execute_result"
    },
    {
     "data": {
      "text/plain": [
       "0"
      ]
     },
     "execution_count": 11,
     "metadata": {},
     "output_type": "execute_result"
    },
    {
     "data": {
      "text/plain": [
       "0"
      ]
     },
     "execution_count": 11,
     "metadata": {},
     "output_type": "execute_result"
    },
    {
     "data": {
      "text/plain": [
       "0"
      ]
     },
     "execution_count": 11,
     "metadata": {},
     "output_type": "execute_result"
    },
    {
     "data": {
      "text/plain": [
       "0"
      ]
     },
     "execution_count": 11,
     "metadata": {},
     "output_type": "execute_result"
    },
    {
     "data": {
      "text/plain": [
       "0"
      ]
     },
     "execution_count": 11,
     "metadata": {},
     "output_type": "execute_result"
    },
    {
     "data": {
      "text/plain": [
       "0"
      ]
     },
     "execution_count": 11,
     "metadata": {},
     "output_type": "execute_result"
    },
    {
     "data": {
      "text/plain": [
       "0"
      ]
     },
     "execution_count": 11,
     "metadata": {},
     "output_type": "execute_result"
    },
    {
     "data": {
      "text/plain": [
       "0"
      ]
     },
     "execution_count": 11,
     "metadata": {},
     "output_type": "execute_result"
    },
    {
     "data": {
      "text/plain": [
       "0"
      ]
     },
     "execution_count": 11,
     "metadata": {},
     "output_type": "execute_result"
    },
    {
     "data": {
      "text/plain": [
       "0"
      ]
     },
     "execution_count": 11,
     "metadata": {},
     "output_type": "execute_result"
    },
    {
     "data": {
      "text/plain": [
       "0"
      ]
     },
     "execution_count": 11,
     "metadata": {},
     "output_type": "execute_result"
    },
    {
     "data": {
      "text/plain": [
       "0"
      ]
     },
     "execution_count": 11,
     "metadata": {},
     "output_type": "execute_result"
    },
    {
     "name": "stdout",
     "output_type": "stream",
     "text": [
      "Try to create the following file path:\n",
      "/p/lscratchh/yi10/hp3d/2021-11-11-cell0\n",
      "the file path exists\n",
      "found the hdf5 file:\n",
      "/p/lscratchh/yi10/hp3d/2021-11-11-cell0/hp3ddata_2021-11-11-cell0.hdf5\n",
      "successfully opened the hp3d data object and the associated hdf5 file\n",
      "Try to create the following file path:\n",
      "/p/lscratchh/yi10/hp3d/2021-11-09-cell11\n",
      "the file path exists\n",
      "found the hdf5 file:\n",
      "/p/lscratchh/yi10/hp3d/2021-11-09-cell11/hp3ddata_2021-11-09-cell11.hdf5\n",
      "successfully opened the hp3d data object and the associated hdf5 file\n",
      "Try to create the following file path:\n",
      "/p/lscratchh/yi10/hp3d/2021-09-29-cell3\n",
      "the file path exists\n",
      "found the hdf5 file:\n",
      "/p/lscratchh/yi10/hp3d/2021-09-29-cell3/hp3ddata_2021-09-29-cell3.hdf5\n",
      "successfully opened the hp3d data object and the associated hdf5 file\n",
      "Try to create the following file path:\n",
      "/p/lscratchh/yi10/hp3d/2021-11-10-cell7\n",
      "the file path exists\n",
      "found the hdf5 file:\n",
      "/p/lscratchh/yi10/hp3d/2021-11-10-cell7/hp3ddata_2021-11-10-cell7.hdf5\n",
      "successfully opened the hp3d data object and the associated hdf5 file\n",
      "Try to create the following file path:\n",
      "/p/lscratchh/yi10/hp3d/2021-09-29-cell9\n",
      "the file path exists\n",
      "found the hdf5 file:\n",
      "/p/lscratchh/yi10/hp3d/2021-09-29-cell9/hp3ddata_2021-09-29-cell9.hdf5\n",
      "successfully opened the hp3d data object and the associated hdf5 file\n",
      "Try to create the following file path:\n",
      "/p/lscratchh/yi10/hp3d/2021-10-04-cell11\n",
      "the file path exists\n",
      "found the hdf5 file:\n",
      "/p/lscratchh/yi10/hp3d/2021-10-04-cell11/hp3ddata_2021-10-04-cell11.hdf5\n",
      "successfully opened the hp3d data object and the associated hdf5 file\n",
      "Try to create the following file path:\n",
      "/p/lscratchh/yi10/hp3d/2021-11-12-cell4\n",
      "the file path exists\n",
      "found the hdf5 file:\n",
      "/p/lscratchh/yi10/hp3d/2021-11-12-cell4/hp3ddata_2021-11-12-cell4.hdf5\n",
      "successfully opened the hp3d data object and the associated hdf5 file\n",
      "Try to create the following file path:\n",
      "/p/lscratchh/yi10/hp3d/2021-10-04-cell7\n",
      "the file path exists\n",
      "found the hdf5 file:\n",
      "/p/lscratchh/yi10/hp3d/2021-10-04-cell7/hp3ddata_2021-10-04-cell7.hdf5\n",
      "successfully opened the hp3d data object and the associated hdf5 file\n",
      "Try to create the following file path:\n",
      "/p/lscratchh/yi10/hp3d/2021-11-09-cell9\n",
      "the file path exists\n",
      "found the hdf5 file:\n",
      "/p/lscratchh/yi10/hp3d/2021-11-09-cell9/hp3ddata_2021-11-09-cell9.hdf5\n",
      "successfully opened the hp3d data object and the associated hdf5 file\n",
      "Try to create the following file path:\n",
      "/p/lscratchh/yi10/hp3d/2021-09-30-cell7\n",
      "the file path exists\n",
      "found the hdf5 file:\n",
      "/p/lscratchh/yi10/hp3d/2021-09-30-cell7/hp3ddata_2021-09-30-cell7.hdf5\n",
      "successfully opened the hp3d data object and the associated hdf5 file\n",
      "Try to create the following file path:\n",
      "/p/lscratchh/yi10/hp3d/2021-11-09-cell3\n",
      "the file path exists\n",
      "found the hdf5 file:\n",
      "/p/lscratchh/yi10/hp3d/2021-11-09-cell3/hp3ddata_2021-11-09-cell3.hdf5\n",
      "successfully opened the hp3d data object and the associated hdf5 file\n",
      "Try to create the following file path:\n",
      "/p/lscratchh/yi10/hp3d/2021-11-12-cell11\n",
      "the file path exists\n",
      "found the hdf5 file:\n",
      "/p/lscratchh/yi10/hp3d/2021-11-12-cell11/hp3ddata_2021-11-12-cell11.hdf5\n",
      "successfully opened the hp3d data object and the associated hdf5 file\n",
      "Try to create the following file path:\n",
      "/p/lscratchh/yi10/hp3d/2021-11-05-cell3\n",
      "the file path exists\n",
      "found the hdf5 file:\n",
      "/p/lscratchh/yi10/hp3d/2021-11-05-cell3/hp3ddata_2021-11-05-cell3.hdf5\n",
      "successfully opened the hp3d data object and the associated hdf5 file\n",
      "Try to create the following file path:\n",
      "/p/lscratchh/yi10/hp3d/2021-09-22-cell11\n",
      "the file path exists\n",
      "found the hdf5 file:\n",
      "/p/lscratchh/yi10/hp3d/2021-09-22-cell11/hp3ddata_2021-09-22-cell11.hdf5\n",
      "successfully opened the hp3d data object and the associated hdf5 file\n",
      "Try to create the following file path:\n",
      "/p/lscratchh/yi10/hp3d/2021-11-04-cell11\n",
      "the file path exists\n",
      "found the hdf5 file:\n",
      "/p/lscratchh/yi10/hp3d/2021-11-04-cell11/hp3ddata_2021-11-04-cell11.hdf5\n",
      "successfully opened the hp3d data object and the associated hdf5 file\n",
      "Try to create the following file path:\n",
      "/p/lscratchh/yi10/hp3d/2021-10-04-cell23\n",
      "the file path exists\n",
      "found the hdf5 file:\n",
      "/p/lscratchh/yi10/hp3d/2021-10-04-cell23/hp3ddata_2021-10-04-cell23.hdf5\n",
      "successfully opened the hp3d data object and the associated hdf5 file\n",
      "Try to create the following file path:\n",
      "/p/lscratchh/yi10/hp3d/2021-09-27-cell0\n",
      "the file path exists\n",
      "found the hdf5 file:\n",
      "/p/lscratchh/yi10/hp3d/2021-09-27-cell0/hp3ddata_2021-09-27-cell0.hdf5\n",
      "successfully opened the hp3d data object and the associated hdf5 file\n",
      "Try to create the following file path:\n",
      "/p/lscratchh/yi10/hp3d/2021-10-08-cell7\n",
      "the file path exists\n",
      "found the hdf5 file:\n",
      "/p/lscratchh/yi10/hp3d/2021-10-08-cell7/hp3ddata_2021-10-08-cell7.hdf5\n",
      "successfully opened the hp3d data object and the associated hdf5 file\n",
      "Try to create the following file path:\n",
      "/p/lscratchh/yi10/hp3d/2021-09-30-cell12\n",
      "the file path exists\n",
      "found the hdf5 file:\n",
      "/p/lscratchh/yi10/hp3d/2021-09-30-cell12/hp3ddata_2021-09-30-cell12.hdf5\n",
      "successfully opened the hp3d data object and the associated hdf5 file\n",
      "Try to create the following file path:\n",
      "/p/lscratchh/yi10/hp3d/2021-11-11-cell13\n",
      "the file path exists\n",
      "found the hdf5 file:\n",
      "/p/lscratchh/yi10/hp3d/2021-11-11-cell13/hp3ddata_2021-11-11-cell13.hdf5\n",
      "successfully opened the hp3d data object and the associated hdf5 file\n",
      "Try to create the following file path:\n",
      "/p/lscratchh/yi10/hp3d/2021-10-08-cell0\n",
      "the file path exists\n",
      "found the hdf5 file:\n",
      "/p/lscratchh/yi10/hp3d/2021-10-08-cell0/hp3ddata_2021-10-08-cell0.hdf5\n",
      "successfully opened the hp3d data object and the associated hdf5 file\n",
      "Try to create the following file path:\n",
      "/p/lscratchh/yi10/hp3d/2021-11-11-cell14\n",
      "the file path exists\n",
      "found the hdf5 file:\n",
      "/p/lscratchh/yi10/hp3d/2021-11-11-cell14/hp3ddata_2021-11-11-cell14.hdf5\n",
      "successfully opened the hp3d data object and the associated hdf5 file\n",
      "Try to create the following file path:\n",
      "/p/lscratchh/yi10/hp3d/2021-10-29-cell0\n",
      "the file path exists\n",
      "found the hdf5 file:\n",
      "/p/lscratchh/yi10/hp3d/2021-10-29-cell0/hp3ddata_2021-10-29-cell0.hdf5\n",
      "successfully opened the hp3d data object and the associated hdf5 file\n",
      "Try to create the following file path:\n",
      "/p/lscratchh/yi10/hp3d/2021-11-05-cell4\n",
      "the file path exists\n",
      "found the hdf5 file:\n",
      "/p/lscratchh/yi10/hp3d/2021-11-05-cell4/hp3ddata_2021-11-05-cell4.hdf5\n",
      "successfully opened the hp3d data object and the associated hdf5 file\n",
      "Try to create the following file path:\n",
      "/p/lscratchh/yi10/hp3d/2021-10-04-cell24\n",
      "the file path exists\n",
      "found the hdf5 file:\n",
      "/p/lscratchh/yi10/hp3d/2021-10-04-cell24/hp3ddata_2021-10-04-cell24.hdf5\n",
      "successfully opened the hp3d data object and the associated hdf5 file\n"
     ]
    },
    {
     "data": {
      "text/plain": [
       "0"
      ]
     },
     "execution_count": 11,
     "metadata": {},
     "output_type": "execute_result"
    },
    {
     "data": {
      "text/plain": [
       "0"
      ]
     },
     "execution_count": 11,
     "metadata": {},
     "output_type": "execute_result"
    },
    {
     "data": {
      "text/plain": [
       "0"
      ]
     },
     "execution_count": 11,
     "metadata": {},
     "output_type": "execute_result"
    },
    {
     "data": {
      "text/plain": [
       "0"
      ]
     },
     "execution_count": 11,
     "metadata": {},
     "output_type": "execute_result"
    },
    {
     "data": {
      "text/plain": [
       "0"
      ]
     },
     "execution_count": 11,
     "metadata": {},
     "output_type": "execute_result"
    },
    {
     "data": {
      "text/plain": [
       "0"
      ]
     },
     "execution_count": 11,
     "metadata": {},
     "output_type": "execute_result"
    },
    {
     "data": {
      "text/plain": [
       "0"
      ]
     },
     "execution_count": 11,
     "metadata": {},
     "output_type": "execute_result"
    },
    {
     "data": {
      "text/plain": [
       "0"
      ]
     },
     "execution_count": 11,
     "metadata": {},
     "output_type": "execute_result"
    },
    {
     "data": {
      "text/plain": [
       "0"
      ]
     },
     "execution_count": 11,
     "metadata": {},
     "output_type": "execute_result"
    },
    {
     "data": {
      "text/plain": [
       "0"
      ]
     },
     "execution_count": 11,
     "metadata": {},
     "output_type": "execute_result"
    },
    {
     "data": {
      "text/plain": [
       "0"
      ]
     },
     "execution_count": 11,
     "metadata": {},
     "output_type": "execute_result"
    },
    {
     "data": {
      "text/plain": [
       "0"
      ]
     },
     "execution_count": 11,
     "metadata": {},
     "output_type": "execute_result"
    },
    {
     "data": {
      "text/plain": [
       "0"
      ]
     },
     "execution_count": 11,
     "metadata": {},
     "output_type": "execute_result"
    },
    {
     "data": {
      "text/plain": [
       "0"
      ]
     },
     "execution_count": 11,
     "metadata": {},
     "output_type": "execute_result"
    },
    {
     "data": {
      "text/plain": [
       "0"
      ]
     },
     "execution_count": 11,
     "metadata": {},
     "output_type": "execute_result"
    },
    {
     "data": {
      "text/plain": [
       "0"
      ]
     },
     "execution_count": 11,
     "metadata": {},
     "output_type": "execute_result"
    },
    {
     "data": {
      "text/plain": [
       "0"
      ]
     },
     "execution_count": 11,
     "metadata": {},
     "output_type": "execute_result"
    },
    {
     "data": {
      "text/plain": [
       "0"
      ]
     },
     "execution_count": 11,
     "metadata": {},
     "output_type": "execute_result"
    },
    {
     "data": {
      "text/plain": [
       "0"
      ]
     },
     "execution_count": 11,
     "metadata": {},
     "output_type": "execute_result"
    },
    {
     "data": {
      "text/plain": [
       "0"
      ]
     },
     "execution_count": 11,
     "metadata": {},
     "output_type": "execute_result"
    },
    {
     "data": {
      "text/plain": [
       "0"
      ]
     },
     "execution_count": 11,
     "metadata": {},
     "output_type": "execute_result"
    },
    {
     "data": {
      "text/plain": [
       "0"
      ]
     },
     "execution_count": 11,
     "metadata": {},
     "output_type": "execute_result"
    },
    {
     "data": {
      "text/plain": [
       "0"
      ]
     },
     "execution_count": 11,
     "metadata": {},
     "output_type": "execute_result"
    },
    {
     "data": {
      "text/plain": [
       "0"
      ]
     },
     "execution_count": 11,
     "metadata": {},
     "output_type": "execute_result"
    },
    {
     "data": {
      "text/plain": [
       "0"
      ]
     },
     "execution_count": 11,
     "metadata": {},
     "output_type": "execute_result"
    },
    {
     "data": {
      "text/plain": [
       "0"
      ]
     },
     "execution_count": 11,
     "metadata": {},
     "output_type": "execute_result"
    },
    {
     "data": {
      "text/plain": [
       "0"
      ]
     },
     "execution_count": 11,
     "metadata": {},
     "output_type": "execute_result"
    },
    {
     "data": {
      "text/plain": [
       "0"
      ]
     },
     "execution_count": 11,
     "metadata": {},
     "output_type": "execute_result"
    },
    {
     "name": "stdout",
     "output_type": "stream",
     "text": [
      "Try to create the following file path:\n",
      "/p/lscratchh/yi10/hp3d/2021-11-09-cell4\n",
      "the file path exists\n",
      "found the hdf5 file:\n",
      "/p/lscratchh/yi10/hp3d/2021-11-09-cell4/hp3ddata_2021-11-09-cell4.hdf5\n",
      "successfully opened the hp3d data object and the associated hdf5 file\n",
      "Try to create the following file path:\n",
      "/p/lscratchh/yi10/hp3d/2021-09-30-cell0\n",
      "the file path exists\n",
      "found the hdf5 file:\n",
      "/p/lscratchh/yi10/hp3d/2021-09-30-cell0/hp3ddata_2021-09-30-cell0.hdf5\n",
      "successfully opened the hp3d data object and the associated hdf5 file\n",
      "Try to create the following file path:\n",
      "/p/lscratchh/yi10/hp3d/2021-11-12-cell9\n",
      "the file path exists\n",
      "found the hdf5 file:\n",
      "/p/lscratchh/yi10/hp3d/2021-11-12-cell9/hp3ddata_2021-11-12-cell9.hdf5\n",
      "successfully opened the hp3d data object and the associated hdf5 file\n",
      "Try to create the following file path:\n",
      "/p/lscratchh/yi10/hp3d/2021-11-10-cell0\n",
      "the file path exists\n",
      "found the hdf5 file:\n",
      "/p/lscratchh/yi10/hp3d/2021-11-10-cell0/hp3ddata_2021-11-10-cell0.hdf5\n",
      "successfully opened the hp3d data object and the associated hdf5 file\n",
      "Try to create the following file path:\n",
      "/p/lscratchh/yi10/hp3d/2021-09-29-cell4\n",
      "the file path exists\n",
      "found the hdf5 file:\n",
      "/p/lscratchh/yi10/hp3d/2021-09-29-cell4/hp3ddata_2021-09-29-cell4.hdf5\n",
      "successfully opened the hp3d data object and the associated hdf5 file\n",
      "Try to create the following file path:\n",
      "/p/lscratchh/yi10/hp3d/2021-10-04-cell16\n",
      "the file path exists\n",
      "found the hdf5 file:\n",
      "/p/lscratchh/yi10/hp3d/2021-10-04-cell16/hp3ddata_2021-10-04-cell16.hdf5\n",
      "successfully opened the hp3d data object and the associated hdf5 file\n",
      "Try to create the following file path:\n",
      "/p/lscratchh/yi10/hp3d/2021-11-12-cell3\n",
      "the file path exists\n",
      "found the hdf5 file:\n",
      "/p/lscratchh/yi10/hp3d/2021-11-12-cell3/hp3ddata_2021-11-12-cell3.hdf5\n",
      "successfully opened the hp3d data object and the associated hdf5 file\n",
      "Try to create the following file path:\n",
      "/p/lscratchh/yi10/hp3d/2021-10-04-cell0\n",
      "the file path exists\n",
      "found the hdf5 file:\n",
      "/p/lscratchh/yi10/hp3d/2021-10-04-cell0/hp3ddata_2021-10-04-cell0.hdf5\n",
      "successfully opened the hp3d data object and the associated hdf5 file\n",
      "Try to create the following file path:\n",
      "/p/lscratchh/yi10/hp3d/2021-09-22-cell24\n",
      "the file path exists\n",
      "found the hdf5 file:\n",
      "/p/lscratchh/yi10/hp3d/2021-09-22-cell24/hp3ddata_2021-09-22-cell24.hdf5\n",
      "successfully opened the hp3d data object and the associated hdf5 file\n",
      "Try to create the following file path:\n",
      "/p/lscratchh/yi10/hp3d/2021-11-10-cell11\n",
      "the file path exists\n",
      "found the hdf5 file:\n",
      "/p/lscratchh/yi10/hp3d/2021-11-10-cell11/hp3ddata_2021-11-10-cell11.hdf5\n",
      "successfully opened the hp3d data object and the associated hdf5 file\n",
      "Try to create the following file path:\n",
      "/p/lscratchh/yi10/hp3d/2021-10-14-cell12\n",
      "the file path exists\n",
      "found the hdf5 file:\n",
      "/p/lscratchh/yi10/hp3d/2021-10-14-cell12/hp3ddata_2021-10-14-cell12.hdf5\n",
      "successfully opened the hp3d data object and the associated hdf5 file\n",
      "Try to create the following file path:\n",
      "/p/lscratchh/yi10/hp3d/2021-11-17-cell10\n",
      "the file path exists\n",
      "found the hdf5 file:\n",
      "/p/lscratchh/yi10/hp3d/2021-11-17-cell10/hp3ddata_2021-11-17-cell10.hdf5\n",
      "successfully opened the hp3d data object and the associated hdf5 file\n",
      "Try to create the following file path:\n",
      "/p/lscratchh/yi10/hp3d/2021-11-11-cell7\n",
      "the file path exists\n",
      "found the hdf5 file:\n",
      "/p/lscratchh/yi10/hp3d/2021-11-11-cell7/hp3ddata_2021-11-11-cell7.hdf5\n",
      "successfully opened the hp3d data object and the associated hdf5 file\n",
      "Try to create the following file path:\n",
      "/p/lscratchh/yi10/hp3d/2021-09-24-cell12\n",
      "the file path exists\n",
      "found the hdf5 file:\n",
      "/p/lscratchh/yi10/hp3d/2021-09-24-cell12/hp3ddata_2021-09-24-cell12.hdf5\n",
      "successfully opened the hp3d data object and the associated hdf5 file\n",
      "Try to create the following file path:\n",
      "/p/lscratchh/yi10/hp3d/2021-10-01-cell1\n",
      "the file path exists\n",
      "found the hdf5 file:\n",
      "/p/lscratchh/yi10/hp3d/2021-10-01-cell1/hp3ddata_2021-10-01-cell1.hdf5\n",
      "successfully opened the hp3d data object and the associated hdf5 file\n",
      "Try to create the following file path:\n",
      "/p/lscratchh/yi10/hp3d/2021-11-17-cell8\n",
      "the file path exists\n",
      "found the hdf5 file:\n",
      "/p/lscratchh/yi10/hp3d/2021-11-17-cell8/hp3ddata_2021-11-17-cell8.hdf5\n",
      "successfully opened the hp3d data object and the associated hdf5 file\n",
      "Try to create the following file path:\n",
      "/p/lscratchh/yi10/hp3d/2021-09-24-cell18\n",
      "the file path exists\n",
      "found the hdf5 file:\n",
      "/p/lscratchh/yi10/hp3d/2021-09-24-cell18/hp3ddata_2021-09-24-cell18.hdf5\n",
      "successfully opened the hp3d data object and the associated hdf5 file\n",
      "Try to create the following file path:\n",
      "/p/lscratchh/yi10/hp3d/2021-10-08-cell13\n",
      "the file path exists\n",
      "found the hdf5 file:\n",
      "/p/lscratchh/yi10/hp3d/2021-10-08-cell13/hp3ddata_2021-10-08-cell13.hdf5\n",
      "successfully opened the hp3d data object and the associated hdf5 file\n",
      "Try to create the following file path:\n",
      "/p/lscratchh/yi10/hp3d/2021-11-04-cell9\n",
      "the file path exists\n",
      "found the hdf5 file:\n",
      "/p/lscratchh/yi10/hp3d/2021-11-04-cell9/hp3ddata_2021-11-04-cell9.hdf5\n",
      "successfully opened the hp3d data object and the associated hdf5 file\n",
      "Try to create the following file path:\n",
      "/p/lscratchh/yi10/hp3d/2021-11-04-cell3\n",
      "the file path exists\n",
      "found the hdf5 file:\n",
      "/p/lscratchh/yi10/hp3d/2021-11-04-cell3/hp3ddata_2021-11-04-cell3.hdf5\n",
      "successfully opened the hp3d data object and the associated hdf5 file\n",
      "Try to create the following file path:\n",
      "/p/lscratchh/yi10/hp3d/2021-09-24-cell20\n",
      "the file path exists\n",
      "found the hdf5 file:\n",
      "/p/lscratchh/yi10/hp3d/2021-09-24-cell20/hp3ddata_2021-09-24-cell20.hdf5\n",
      "successfully opened the hp3d data object and the associated hdf5 file\n",
      "Try to create the following file path:\n",
      "/p/lscratchh/yi10/hp3d/2021-10-14-cell5\n",
      "the file path exists\n",
      "found the hdf5 file:\n",
      "/p/lscratchh/yi10/hp3d/2021-10-14-cell5/hp3ddata_2021-10-14-cell5.hdf5\n",
      "successfully opened the hp3d data object and the associated hdf5 file\n",
      "Try to create the following file path:\n",
      "/p/lscratchh/yi10/hp3d/2021-09-24-cell3\n",
      "the file path exists\n",
      "found the hdf5 file:\n",
      "/p/lscratchh/yi10/hp3d/2021-09-24-cell3/hp3ddata_2021-09-24-cell3.hdf5\n",
      "successfully opened the hp3d data object and the associated hdf5 file\n",
      "Try to create the following file path:\n",
      "/p/lscratchh/yi10/hp3d/2021-09-24-cell9\n",
      "the file path exists\n",
      "found the hdf5 file:\n",
      "/p/lscratchh/yi10/hp3d/2021-09-24-cell9/hp3ddata_2021-09-24-cell9.hdf5\n",
      "successfully opened the hp3d data object and the associated hdf5 file\n",
      "Try to create the following file path:\n",
      "/p/lscratchh/yi10/hp3d/2021-10-01-cell3\n",
      "the file path exists\n",
      "found the hdf5 file:\n",
      "/p/lscratchh/yi10/hp3d/2021-10-01-cell3/hp3ddata_2021-10-01-cell3.hdf5\n",
      "successfully opened the hp3d data object and the associated hdf5 file\n",
      "Try to create the following file path:\n",
      "/p/lscratchh/yi10/hp3d/2021-11-17-cell0\n",
      "the file path exists\n",
      "found the hdf5 file:\n",
      "/p/lscratchh/yi10/hp3d/2021-11-17-cell0/hp3ddata_2021-11-17-cell0.hdf5\n",
      "successfully opened the hp3d data object and the associated hdf5 file\n",
      "Try to create the following file path:\n",
      "/p/lscratchh/yi10/hp3d/2021-09-24-cell10\n",
      "the file path exists\n",
      "found the hdf5 file:\n",
      "/p/lscratchh/yi10/hp3d/2021-09-24-cell10/hp3ddata_2021-09-24-cell10.hdf5\n",
      "successfully opened the hp3d data object and the associated hdf5 file\n",
      "Try to create the following file path:\n",
      "/p/lscratchh/yi10/hp3d/2021-10-08-cell11\n",
      "the file path exists\n",
      "found the hdf5 file:\n",
      "/p/lscratchh/yi10/hp3d/2021-10-08-cell11/hp3ddata_2021-10-08-cell11.hdf5\n"
     ]
    },
    {
     "data": {
      "text/plain": [
       "0"
      ]
     },
     "execution_count": 11,
     "metadata": {},
     "output_type": "execute_result"
    },
    {
     "data": {
      "text/plain": [
       "0"
      ]
     },
     "execution_count": 11,
     "metadata": {},
     "output_type": "execute_result"
    },
    {
     "data": {
      "text/plain": [
       "0"
      ]
     },
     "execution_count": 11,
     "metadata": {},
     "output_type": "execute_result"
    },
    {
     "data": {
      "text/plain": [
       "0"
      ]
     },
     "execution_count": 11,
     "metadata": {},
     "output_type": "execute_result"
    },
    {
     "data": {
      "text/plain": [
       "0"
      ]
     },
     "execution_count": 11,
     "metadata": {},
     "output_type": "execute_result"
    },
    {
     "data": {
      "text/plain": [
       "0"
      ]
     },
     "execution_count": 11,
     "metadata": {},
     "output_type": "execute_result"
    },
    {
     "data": {
      "text/plain": [
       "0"
      ]
     },
     "execution_count": 11,
     "metadata": {},
     "output_type": "execute_result"
    },
    {
     "data": {
      "text/plain": [
       "0"
      ]
     },
     "execution_count": 11,
     "metadata": {},
     "output_type": "execute_result"
    },
    {
     "data": {
      "text/plain": [
       "0"
      ]
     },
     "execution_count": 11,
     "metadata": {},
     "output_type": "execute_result"
    },
    {
     "data": {
      "text/plain": [
       "0"
      ]
     },
     "execution_count": 11,
     "metadata": {},
     "output_type": "execute_result"
    },
    {
     "data": {
      "text/plain": [
       "0"
      ]
     },
     "execution_count": 11,
     "metadata": {},
     "output_type": "execute_result"
    },
    {
     "data": {
      "text/plain": [
       "0"
      ]
     },
     "execution_count": 11,
     "metadata": {},
     "output_type": "execute_result"
    },
    {
     "data": {
      "text/plain": [
       "0"
      ]
     },
     "execution_count": 11,
     "metadata": {},
     "output_type": "execute_result"
    },
    {
     "data": {
      "text/plain": [
       "0"
      ]
     },
     "execution_count": 11,
     "metadata": {},
     "output_type": "execute_result"
    },
    {
     "data": {
      "text/plain": [
       "0"
      ]
     },
     "execution_count": 11,
     "metadata": {},
     "output_type": "execute_result"
    },
    {
     "data": {
      "text/plain": [
       "0"
      ]
     },
     "execution_count": 11,
     "metadata": {},
     "output_type": "execute_result"
    },
    {
     "data": {
      "text/plain": [
       "0"
      ]
     },
     "execution_count": 11,
     "metadata": {},
     "output_type": "execute_result"
    },
    {
     "data": {
      "text/plain": [
       "0"
      ]
     },
     "execution_count": 11,
     "metadata": {},
     "output_type": "execute_result"
    },
    {
     "data": {
      "text/plain": [
       "0"
      ]
     },
     "execution_count": 11,
     "metadata": {},
     "output_type": "execute_result"
    },
    {
     "data": {
      "text/plain": [
       "0"
      ]
     },
     "execution_count": 11,
     "metadata": {},
     "output_type": "execute_result"
    },
    {
     "data": {
      "text/plain": [
       "0"
      ]
     },
     "execution_count": 11,
     "metadata": {},
     "output_type": "execute_result"
    },
    {
     "data": {
      "text/plain": [
       "0"
      ]
     },
     "execution_count": 11,
     "metadata": {},
     "output_type": "execute_result"
    },
    {
     "data": {
      "text/plain": [
       "0"
      ]
     },
     "execution_count": 11,
     "metadata": {},
     "output_type": "execute_result"
    },
    {
     "data": {
      "text/plain": [
       "0"
      ]
     },
     "execution_count": 11,
     "metadata": {},
     "output_type": "execute_result"
    },
    {
     "data": {
      "text/plain": [
       "0"
      ]
     },
     "execution_count": 11,
     "metadata": {},
     "output_type": "execute_result"
    },
    {
     "data": {
      "text/plain": [
       "0"
      ]
     },
     "execution_count": 11,
     "metadata": {},
     "output_type": "execute_result"
    },
    {
     "data": {
      "text/plain": [
       "0"
      ]
     },
     "execution_count": 11,
     "metadata": {},
     "output_type": "execute_result"
    },
    {
     "data": {
      "text/plain": [
       "0"
      ]
     },
     "execution_count": 11,
     "metadata": {},
     "output_type": "execute_result"
    },
    {
     "data": {
      "text/plain": [
       "0"
      ]
     },
     "execution_count": 11,
     "metadata": {},
     "output_type": "execute_result"
    },
    {
     "data": {
      "text/plain": [
       "0"
      ]
     },
     "execution_count": 11,
     "metadata": {},
     "output_type": "execute_result"
    },
    {
     "name": "stdout",
     "output_type": "stream",
     "text": [
      "successfully opened the hp3d data object and the associated hdf5 file\n",
      "Try to create the following file path:\n",
      "/p/lscratchh/yi10/hp3d/2021-11-10-cell13\n",
      "the file path exists\n",
      "found the hdf5 file:\n",
      "/p/lscratchh/yi10/hp3d/2021-11-10-cell13/hp3ddata_2021-11-10-cell13.hdf5\n",
      "successfully opened the hp3d data object and the associated hdf5 file\n",
      "Try to create the following file path:\n",
      "/p/lscratchh/yi10/hp3d/2021-10-14-cell10\n",
      "the file path exists\n",
      "found the hdf5 file:\n",
      "/p/lscratchh/yi10/hp3d/2021-10-14-cell10/hp3ddata_2021-10-14-cell10.hdf5\n",
      "successfully opened the hp3d data object and the associated hdf5 file\n",
      "Try to create the following file path:\n",
      "/p/lscratchh/yi10/hp3d/2021-11-17-cell12\n",
      "the file path exists\n",
      "found the hdf5 file:\n",
      "/p/lscratchh/yi10/hp3d/2021-11-17-cell12/hp3ddata_2021-11-17-cell12.hdf5\n",
      "successfully opened the hp3d data object and the associated hdf5 file\n",
      "Try to create the following file path:\n",
      "/p/lscratchh/yi10/hp3d/2021-10-14-cell7\n",
      "the file path exists\n",
      "found the hdf5 file:\n",
      "/p/lscratchh/yi10/hp3d/2021-10-14-cell7/hp3ddata_2021-10-14-cell7.hdf5\n",
      "successfully opened the hp3d data object and the associated hdf5 file\n",
      "Try to create the following file path:\n",
      "/p/lscratchh/yi10/hp3d/2021-09-24-cell1\n",
      "the file path exists\n",
      "found the hdf5 file:\n",
      "/p/lscratchh/yi10/hp3d/2021-09-24-cell1/hp3ddata_2021-09-24-cell1.hdf5\n",
      "successfully opened the hp3d data object and the associated hdf5 file\n",
      "Try to create the following file path:\n",
      "/p/lscratchh/yi10/hp3d/2021-11-02-cell4\n",
      "the file path exists\n",
      "found the hdf5 file:\n",
      "/p/lscratchh/yi10/hp3d/2021-11-02-cell4/hp3ddata_2021-11-02-cell4.hdf5\n",
      "successfully opened the hp3d data object and the associated hdf5 file\n",
      "Try to create the following file path:\n",
      "/p/lscratchh/yi10/hp3d/2021-09-29-cell10\n",
      "the file path exists\n",
      "found the hdf5 file:\n",
      "/p/lscratchh/yi10/hp3d/2021-09-29-cell10/hp3ddata_2021-09-29-cell10.hdf5\n",
      "successfully opened the hp3d data object and the associated hdf5 file\n",
      "Try to create the following file path:\n",
      "/p/lscratchh/yi10/hp3d/2021-11-04-cell1\n",
      "the file path exists\n",
      "found the hdf5 file:\n",
      "/p/lscratchh/yi10/hp3d/2021-11-04-cell1/hp3ddata_2021-11-04-cell1.hdf5\n",
      "successfully opened the hp3d data object and the associated hdf5 file\n",
      "Try to create the following file path:\n",
      "/p/lscratchh/yi10/hp3d/2021-10-29-cell2\n",
      "the file path exists\n",
      "found the hdf5 file:\n",
      "/p/lscratchh/yi10/hp3d/2021-10-29-cell2/hp3ddata_2021-10-29-cell2.hdf5\n",
      "successfully opened the hp3d data object and the associated hdf5 file\n",
      "Try to create the following file path:\n",
      "/p/lscratchh/yi10/hp3d/2021-11-05-cell6\n",
      "the file path exists\n",
      "found the hdf5 file:\n",
      "/p/lscratchh/yi10/hp3d/2021-11-05-cell6/hp3ddata_2021-11-05-cell6.hdf5\n",
      "successfully opened the hp3d data object and the associated hdf5 file\n",
      "Try to create the following file path:\n",
      "/p/lscratchh/yi10/hp3d/2021-10-04-cell26\n",
      "the file path exists\n",
      "found the hdf5 file:\n",
      "/p/lscratchh/yi10/hp3d/2021-10-04-cell26/hp3ddata_2021-10-04-cell26.hdf5\n",
      "successfully opened the hp3d data object and the associated hdf5 file\n",
      "Try to create the following file path:\n",
      "/p/lscratchh/yi10/hp3d/2021-10-08-cell2\n",
      "the file path exists\n",
      "found the hdf5 file:\n",
      "/p/lscratchh/yi10/hp3d/2021-10-08-cell2/hp3ddata_2021-10-08-cell2.hdf5\n",
      "successfully opened the hp3d data object and the associated hdf5 file\n",
      "Try to create the following file path:\n",
      "/p/lscratchh/yi10/hp3d/2021-09-27-cell5\n",
      "the file path exists\n",
      "found the hdf5 file:\n",
      "/p/lscratchh/yi10/hp3d/2021-09-27-cell5/hp3ddata_2021-09-27-cell5.hdf5\n",
      "successfully opened the hp3d data object and the associated hdf5 file\n",
      "Try to create the following file path:\n",
      "/p/lscratchh/yi10/hp3d/2021-10-08-cell8\n",
      "the file path exists\n",
      "found the hdf5 file:\n",
      "/p/lscratchh/yi10/hp3d/2021-10-08-cell8/hp3ddata_2021-10-08-cell8.hdf5\n",
      "successfully opened the hp3d data object and the associated hdf5 file\n",
      "Try to create the following file path:\n",
      "/p/lscratchh/yi10/hp3d/2021-11-11-cell16\n",
      "the file path exists\n",
      "found the hdf5 file:\n",
      "/p/lscratchh/yi10/hp3d/2021-11-11-cell16/hp3ddata_2021-11-11-cell16.hdf5\n",
      "successfully opened the hp3d data object and the associated hdf5 file\n",
      "Try to create the following file path:\n",
      "/p/lscratchh/yi10/hp3d/2021-10-04-cell8\n",
      "the file path exists\n",
      "found the hdf5 file:\n",
      "/p/lscratchh/yi10/hp3d/2021-10-04-cell8/hp3ddata_2021-10-04-cell8.hdf5\n",
      "successfully opened the hp3d data object and the associated hdf5 file\n",
      "Try to create the following file path:\n",
      "/p/lscratchh/yi10/hp3d/2021-10-06-cell1\n",
      "the file path exists\n",
      "found the hdf5 file:\n",
      "/p/lscratchh/yi10/hp3d/2021-10-06-cell1/hp3ddata_2021-10-06-cell1.hdf5\n",
      "successfully opened the hp3d data object and the associated hdf5 file\n",
      "Try to create the following file path:\n",
      "/p/lscratchh/yi10/hp3d/2021-11-10-cell2\n",
      "the file path exists\n",
      "found the hdf5 file:\n",
      "/p/lscratchh/yi10/hp3d/2021-11-10-cell2/hp3ddata_2021-11-10-cell2.hdf5\n",
      "successfully opened the hp3d data object and the associated hdf5 file\n",
      "Try to create the following file path:\n",
      "/p/lscratchh/yi10/hp3d/2021-09-29-cell6\n",
      "the file path exists\n",
      "found the hdf5 file:\n",
      "/p/lscratchh/yi10/hp3d/2021-09-29-cell6/hp3ddata_2021-09-29-cell6.hdf5\n",
      "successfully opened the hp3d data object and the associated hdf5 file\n",
      "Try to create the following file path:\n",
      "/p/lscratchh/yi10/hp3d/2021-10-04-cell14\n",
      "the file path exists\n",
      "found the hdf5 file:\n",
      "/p/lscratchh/yi10/hp3d/2021-10-04-cell14/hp3ddata_2021-10-04-cell14.hdf5\n",
      "successfully opened the hp3d data object and the associated hdf5 file\n",
      "Try to create the following file path:\n",
      "/p/lscratchh/yi10/hp3d/2021-11-10-cell8\n",
      "the file path exists\n",
      "found the hdf5 file:\n",
      "/p/lscratchh/yi10/hp3d/2021-11-10-cell8/hp3ddata_2021-11-10-cell8.hdf5\n",
      "successfully opened the hp3d data object and the associated hdf5 file\n",
      "Try to create the following file path:\n",
      "/p/lscratchh/yi10/hp3d/2021-10-04-cell2\n",
      "the file path exists\n",
      "found the hdf5 file:\n",
      "/p/lscratchh/yi10/hp3d/2021-10-04-cell2/hp3ddata_2021-10-04-cell2.hdf5\n",
      "successfully opened the hp3d data object and the associated hdf5 file\n",
      "Try to create the following file path:\n",
      "/p/lscratchh/yi10/hp3d/2021-11-12-cell1\n",
      "the file path exists\n",
      "found the hdf5 file:\n",
      "/p/lscratchh/yi10/hp3d/2021-11-12-cell1/hp3ddata_2021-11-12-cell1.hdf5\n",
      "successfully opened the hp3d data object and the associated hdf5 file\n",
      "Try to create the following file path:\n",
      "/p/lscratchh/yi10/hp3d/2021-09-30-cell8\n",
      "the file path exists\n",
      "found the hdf5 file:\n",
      "/p/lscratchh/yi10/hp3d/2021-09-30-cell8/hp3ddata_2021-09-30-cell8.hdf5\n",
      "successfully opened the hp3d data object and the associated hdf5 file\n",
      "Try to create the following file path:\n",
      "/p/lscratchh/yi10/hp3d/2021-11-09-cell6\n",
      "the file path exists\n",
      "found the hdf5 file:\n",
      "/p/lscratchh/yi10/hp3d/2021-11-09-cell6/hp3ddata_2021-11-09-cell6.hdf5\n",
      "successfully opened the hp3d data object and the associated hdf5 file\n",
      "Try to create the following file path:\n",
      "/p/lscratchh/yi10/hp3d/2021-09-30-cell2\n",
      "the file path exists\n",
      "found the hdf5 file:\n",
      "/p/lscratchh/yi10/hp3d/2021-09-30-cell2/hp3ddata_2021-09-30-cell2.hdf5\n",
      "successfully opened the hp3d data object and the associated hdf5 file\n",
      "Try to create the following file path:\n",
      "/p/lscratchh/yi10/hp3d/2021-09-30-cell5\n",
      "the file path exists\n",
      "found the hdf5 file:\n",
      "/p/lscratchh/yi10/hp3d/2021-09-30-cell5/hp3ddata_2021-09-30-cell5.hdf5\n",
      "successfully opened the hp3d data object and the associated hdf5 file\n",
      "Try to create the following file path:\n",
      "/p/lscratchh/yi10/hp3d/2021-11-09-cell1\n",
      "the file path exists\n",
      "found the hdf5 file:\n",
      "/p/lscratchh/yi10/hp3d/2021-11-09-cell1/hp3ddata_2021-11-09-cell1.hdf5\n",
      "successfully opened the hp3d data object and the associated hdf5 file\n",
      "Try to create the following file path:\n",
      "/p/lscratchh/yi10/hp3d/2021-11-09-cell13\n",
      "the file path exists\n",
      "found the hdf5 file:\n",
      "/p/lscratchh/yi10/hp3d/2021-11-09-cell13/hp3ddata_2021-11-09-cell13.hdf5\n",
      "successfully opened the hp3d data object and the associated hdf5 file\n",
      "Try to create the following file path:\n",
      "/p/lscratchh/yi10/hp3d/2021-10-04-cell19\n"
     ]
    },
    {
     "data": {
      "text/plain": [
       "0"
      ]
     },
     "execution_count": 11,
     "metadata": {},
     "output_type": "execute_result"
    },
    {
     "data": {
      "text/plain": [
       "0"
      ]
     },
     "execution_count": 11,
     "metadata": {},
     "output_type": "execute_result"
    },
    {
     "data": {
      "text/plain": [
       "0"
      ]
     },
     "execution_count": 11,
     "metadata": {},
     "output_type": "execute_result"
    },
    {
     "data": {
      "text/plain": [
       "0"
      ]
     },
     "execution_count": 11,
     "metadata": {},
     "output_type": "execute_result"
    },
    {
     "data": {
      "text/plain": [
       "0"
      ]
     },
     "execution_count": 11,
     "metadata": {},
     "output_type": "execute_result"
    },
    {
     "data": {
      "text/plain": [
       "0"
      ]
     },
     "execution_count": 11,
     "metadata": {},
     "output_type": "execute_result"
    },
    {
     "data": {
      "text/plain": [
       "0"
      ]
     },
     "execution_count": 11,
     "metadata": {},
     "output_type": "execute_result"
    },
    {
     "data": {
      "text/plain": [
       "0"
      ]
     },
     "execution_count": 11,
     "metadata": {},
     "output_type": "execute_result"
    },
    {
     "data": {
      "text/plain": [
       "0"
      ]
     },
     "execution_count": 11,
     "metadata": {},
     "output_type": "execute_result"
    },
    {
     "data": {
      "text/plain": [
       "0"
      ]
     },
     "execution_count": 11,
     "metadata": {},
     "output_type": "execute_result"
    },
    {
     "data": {
      "text/plain": [
       "0"
      ]
     },
     "execution_count": 11,
     "metadata": {},
     "output_type": "execute_result"
    },
    {
     "data": {
      "text/plain": [
       "0"
      ]
     },
     "execution_count": 11,
     "metadata": {},
     "output_type": "execute_result"
    },
    {
     "data": {
      "text/plain": [
       "0"
      ]
     },
     "execution_count": 11,
     "metadata": {},
     "output_type": "execute_result"
    },
    {
     "data": {
      "text/plain": [
       "0"
      ]
     },
     "execution_count": 11,
     "metadata": {},
     "output_type": "execute_result"
    },
    {
     "data": {
      "text/plain": [
       "0"
      ]
     },
     "execution_count": 11,
     "metadata": {},
     "output_type": "execute_result"
    },
    {
     "data": {
      "text/plain": [
       "0"
      ]
     },
     "execution_count": 11,
     "metadata": {},
     "output_type": "execute_result"
    },
    {
     "data": {
      "text/plain": [
       "0"
      ]
     },
     "execution_count": 11,
     "metadata": {},
     "output_type": "execute_result"
    },
    {
     "data": {
      "text/plain": [
       "0"
      ]
     },
     "execution_count": 11,
     "metadata": {},
     "output_type": "execute_result"
    },
    {
     "data": {
      "text/plain": [
       "0"
      ]
     },
     "execution_count": 11,
     "metadata": {},
     "output_type": "execute_result"
    },
    {
     "data": {
      "text/plain": [
       "0"
      ]
     },
     "execution_count": 11,
     "metadata": {},
     "output_type": "execute_result"
    },
    {
     "data": {
      "text/plain": [
       "0"
      ]
     },
     "execution_count": 11,
     "metadata": {},
     "output_type": "execute_result"
    },
    {
     "data": {
      "text/plain": [
       "0"
      ]
     },
     "execution_count": 11,
     "metadata": {},
     "output_type": "execute_result"
    },
    {
     "data": {
      "text/plain": [
       "0"
      ]
     },
     "execution_count": 11,
     "metadata": {},
     "output_type": "execute_result"
    },
    {
     "data": {
      "text/plain": [
       "0"
      ]
     },
     "execution_count": 11,
     "metadata": {},
     "output_type": "execute_result"
    },
    {
     "data": {
      "text/plain": [
       "0"
      ]
     },
     "execution_count": 11,
     "metadata": {},
     "output_type": "execute_result"
    },
    {
     "data": {
      "text/plain": [
       "0"
      ]
     },
     "execution_count": 11,
     "metadata": {},
     "output_type": "execute_result"
    },
    {
     "data": {
      "text/plain": [
       "0"
      ]
     },
     "execution_count": 11,
     "metadata": {},
     "output_type": "execute_result"
    },
    {
     "data": {
      "text/plain": [
       "0"
      ]
     },
     "execution_count": 11,
     "metadata": {},
     "output_type": "execute_result"
    },
    {
     "data": {
      "text/plain": [
       "0"
      ]
     },
     "execution_count": 11,
     "metadata": {},
     "output_type": "execute_result"
    },
    {
     "data": {
      "text/plain": [
       "0"
      ]
     },
     "execution_count": 11,
     "metadata": {},
     "output_type": "execute_result"
    },
    {
     "data": {
      "text/plain": [
       "0"
      ]
     },
     "execution_count": 11,
     "metadata": {},
     "output_type": "execute_result"
    },
    {
     "data": {
      "text/plain": [
       "0"
      ]
     },
     "execution_count": 11,
     "metadata": {},
     "output_type": "execute_result"
    },
    {
     "name": "stdout",
     "output_type": "stream",
     "text": [
      "the file path exists\n",
      "found the hdf5 file:\n",
      "/p/lscratchh/yi10/hp3d/2021-10-04-cell19/hp3ddata_2021-10-04-cell19.hdf5\n",
      "successfully opened the hp3d data object and the associated hdf5 file\n",
      "Try to create the following file path:\n",
      "/p/lscratchh/yi10/hp3d/2021-09-29-cell1\n",
      "the file path exists\n",
      "found the hdf5 file:\n",
      "/p/lscratchh/yi10/hp3d/2021-09-29-cell1/hp3ddata_2021-09-29-cell1.hdf5\n",
      "successfully opened the hp3d data object and the associated hdf5 file\n",
      "Try to create the following file path:\n",
      "/p/lscratchh/yi10/hp3d/2021-11-10-cell5\n",
      "the file path exists\n",
      "found the hdf5 file:\n",
      "/p/lscratchh/yi10/hp3d/2021-11-10-cell5/hp3ddata_2021-11-10-cell5.hdf5\n",
      "successfully opened the hp3d data object and the associated hdf5 file\n",
      "Try to create the following file path:\n",
      "/p/lscratchh/yi10/hp3d/2021-10-04-cell13\n",
      "the file path exists\n",
      "found the hdf5 file:\n",
      "/p/lscratchh/yi10/hp3d/2021-10-04-cell13/hp3ddata_2021-10-04-cell13.hdf5\n",
      "successfully opened the hp3d data object and the associated hdf5 file\n",
      "Try to create the following file path:\n",
      "/p/lscratchh/yi10/hp3d/2021-10-04-cell5\n",
      "the file path exists\n",
      "found the hdf5 file:\n",
      "/p/lscratchh/yi10/hp3d/2021-10-04-cell5/hp3ddata_2021-10-04-cell5.hdf5\n",
      "successfully opened the hp3d data object and the associated hdf5 file\n",
      "Try to create the following file path:\n",
      "/p/lscratchh/yi10/hp3d/2021-10-08-cell5\n",
      "the file path exists\n",
      "found the hdf5 file:\n",
      "/p/lscratchh/yi10/hp3d/2021-10-08-cell5/hp3ddata_2021-10-08-cell5.hdf5\n",
      "successfully opened the hp3d data object and the associated hdf5 file\n",
      "Try to create the following file path:\n",
      "/p/lscratchh/yi10/hp3d/2021-09-27-cell2\n",
      "the file path exists\n",
      "found the hdf5 file:\n",
      "/p/lscratchh/yi10/hp3d/2021-09-27-cell2/hp3ddata_2021-09-27-cell2.hdf5\n",
      "successfully opened the hp3d data object and the associated hdf5 file\n",
      "Try to create the following file path:\n",
      "/p/lscratchh/yi10/hp3d/2021-09-30-cell10\n",
      "the file path exists\n",
      "found the hdf5 file:\n",
      "/p/lscratchh/yi10/hp3d/2021-09-30-cell10/hp3ddata_2021-09-30-cell10.hdf5\n",
      "successfully opened the hp3d data object and the associated hdf5 file\n",
      "Try to create the following file path:\n",
      "/p/lscratchh/yi10/hp3d/2021-11-11-cell11\n",
      "the file path exists\n",
      "found the hdf5 file:\n",
      "/p/lscratchh/yi10/hp3d/2021-11-11-cell11/hp3ddata_2021-11-11-cell11.hdf5\n",
      "successfully opened the hp3d data object and the associated hdf5 file\n",
      "Try to create the following file path:\n",
      "/p/lscratchh/yi10/hp3d/2021-10-29-cell5\n",
      "the file path exists\n",
      "found the hdf5 file:\n",
      "/p/lscratchh/yi10/hp3d/2021-10-29-cell5/hp3ddata_2021-10-29-cell5.hdf5\n",
      "successfully opened the hp3d data object and the associated hdf5 file\n",
      "Try to create the following file path:\n",
      "/p/lscratchh/yi10/hp3d/2021-09-22-cell19\n",
      "the file path exists\n",
      "found the hdf5 file:\n",
      "/p/lscratchh/yi10/hp3d/2021-09-22-cell19/hp3ddata_2021-09-22-cell19.hdf5\n",
      "successfully opened the hp3d data object and the associated hdf5 file\n",
      "Try to create the following file path:\n",
      "/p/lscratchh/yi10/hp3d/2021-11-05-cell1\n",
      "the file path exists\n",
      "found the hdf5 file:\n",
      "/p/lscratchh/yi10/hp3d/2021-11-05-cell1/hp3ddata_2021-11-05-cell1.hdf5\n",
      "successfully opened the hp3d data object and the associated hdf5 file\n",
      "Try to create the following file path:\n",
      "/p/lscratchh/yi10/hp3d/2021-09-22-cell13\n",
      "the file path exists\n",
      "found the hdf5 file:\n",
      "/p/lscratchh/yi10/hp3d/2021-09-22-cell13/hp3ddata_2021-09-22-cell13.hdf5\n",
      "successfully opened the hp3d data object and the associated hdf5 file\n",
      "Try to create the following file path:\n",
      "/p/lscratchh/yi10/hp3d/2021-11-04-cell13\n",
      "the file path exists\n",
      "found the hdf5 file:\n",
      "/p/lscratchh/yi10/hp3d/2021-11-04-cell13/hp3ddata_2021-11-04-cell13.hdf5\n",
      "successfully opened the hp3d data object and the associated hdf5 file\n",
      "Try to create the following file path:\n",
      "/p/lscratchh/yi10/hp3d/2021-10-04-cell21\n",
      "the file path exists\n",
      "found the hdf5 file:\n",
      "/p/lscratchh/yi10/hp3d/2021-10-04-cell21/hp3ddata_2021-10-04-cell21.hdf5\n",
      "successfully opened the hp3d data object and the associated hdf5 file\n",
      "Try to create the following file path:\n",
      "/p/lscratchh/yi10/hp3d/2021-10-28-cell2\n",
      "the file path exists\n",
      "found the hdf5 file:\n",
      "/p/lscratchh/yi10/hp3d/2021-10-28-cell2/hp3ddata_2021-10-28-cell2.hdf5\n",
      "successfully opened the hp3d data object and the associated hdf5 file\n",
      "Try to create the following file path:\n",
      "/p/lscratchh/yi10/hp3d/2021-09-22-cell3\n",
      "the file path exists\n",
      "found the hdf5 file:\n",
      "/p/lscratchh/yi10/hp3d/2021-09-22-cell3/hp3ddata_2021-09-22-cell3.hdf5\n",
      "successfully opened the hp3d data object and the associated hdf5 file\n",
      "Try to create the following file path:\n",
      "/p/lscratchh/yi10/hp3d/2021-10-14-cell0\n",
      "the file path exists\n",
      "found the hdf5 file:\n",
      "/p/lscratchh/yi10/hp3d/2021-10-14-cell0/hp3ddata_2021-10-14-cell0.hdf5\n",
      "successfully opened the hp3d data object and the associated hdf5 file\n",
      "Try to create the following file path:\n",
      "/p/lscratchh/yi10/hp3d/2021-11-02-cell3\n",
      "the file path exists\n",
      "found the hdf5 file:\n",
      "/p/lscratchh/yi10/hp3d/2021-11-02-cell3/hp3ddata_2021-11-02-cell3.hdf5\n",
      "successfully opened the hp3d data object and the associated hdf5 file\n",
      "Try to create the following file path:\n",
      "/p/lscratchh/yi10/hp3d/2021-11-11-cell8\n",
      "the file path exists\n",
      "found the hdf5 file:\n",
      "/p/lscratchh/yi10/hp3d/2021-11-11-cell8/hp3ddata_2021-11-11-cell8.hdf5\n",
      "successfully opened the hp3d data object and the associated hdf5 file\n",
      "Try to create the following file path:\n",
      "/p/lscratchh/yi10/hp3d/2021-10-14-cell17\n",
      "the file path exists\n",
      "found the hdf5 file:\n",
      "/p/lscratchh/yi10/hp3d/2021-10-14-cell17/hp3ddata_2021-10-14-cell17.hdf5\n",
      "successfully opened the hp3d data object and the associated hdf5 file\n",
      "Try to create the following file path:\n",
      "/p/lscratchh/yi10/hp3d/2021-11-11-cell2\n",
      "the file path exists\n",
      "found the hdf5 file:\n",
      "/p/lscratchh/yi10/hp3d/2021-11-11-cell2/hp3ddata_2021-11-11-cell2.hdf5\n",
      "successfully opened the hp3d data object and the associated hdf5 file\n",
      "Try to create the following file path:\n",
      "/p/lscratchh/yi10/hp3d/2021-10-01-cell4\n",
      "the file path exists\n",
      "found the hdf5 file:\n",
      "/p/lscratchh/yi10/hp3d/2021-10-01-cell4/hp3ddata_2021-10-01-cell4.hdf5\n",
      "successfully opened the hp3d data object and the associated hdf5 file\n",
      "Try to create the following file path:\n",
      "/p/lscratchh/yi10/hp3d/2021-09-24-cell17\n",
      "the file path exists\n",
      "found the hdf5 file:\n",
      "/p/lscratchh/yi10/hp3d/2021-09-24-cell17/hp3ddata_2021-09-24-cell17.hdf5\n",
      "successfully opened the hp3d data object and the associated hdf5 file\n",
      "Try to create the following file path:\n",
      "/p/lscratchh/yi10/hp3d/2021-11-17-cell7\n",
      "the file path exists\n",
      "found the hdf5 file:\n",
      "/p/lscratchh/yi10/hp3d/2021-11-17-cell7/hp3ddata_2021-11-17-cell7.hdf5\n",
      "successfully opened the hp3d data object and the associated hdf5 file\n",
      "Try to create the following file path:\n",
      "/p/lscratchh/yi10/hp3d/2021-11-11-cell6\n",
      "the file path exists\n",
      "found the hdf5 file:\n",
      "/p/lscratchh/yi10/hp3d/2021-11-11-cell6/hp3ddata_2021-11-11-cell6.hdf5\n",
      "successfully opened the hp3d data object and the associated hdf5 file\n",
      "Try to create the following file path:\n",
      "/p/lscratchh/yi10/hp3d/2021-11-17-cell11\n",
      "the file path exists\n",
      "found the hdf5 file:\n",
      "/p/lscratchh/yi10/hp3d/2021-11-17-cell11/hp3ddata_2021-11-17-cell11.hdf5\n",
      "successfully opened the hp3d data object and the associated hdf5 file\n",
      "Try to create the following file path:\n",
      "/p/lscratchh/yi10/hp3d/2021-10-14-cell13\n",
      "the file path exists\n",
      "found the hdf5 file:\n",
      "/p/lscratchh/yi10/hp3d/2021-10-14-cell13/hp3ddata_2021-10-14-cell13.hdf5\n",
      "successfully opened the hp3d data object and the associated hdf5 file\n",
      "Try to create the following file path:\n",
      "/p/lscratchh/yi10/hp3d/2021-11-10-cell10\n",
      "the file path exists\n",
      "found the hdf5 file:\n",
      "/p/lscratchh/yi10/hp3d/2021-11-10-cell10/hp3ddata_2021-11-10-cell10.hdf5\n",
      "successfully opened the hp3d data object and the associated hdf5 file\n",
      "Try to create the following file path:\n",
      "/p/lscratchh/yi10/hp3d/2021-10-08-cell12\n",
      "the file path exists\n",
      "found the hdf5 file:\n",
      "/p/lscratchh/yi10/hp3d/2021-10-08-cell12/hp3ddata_2021-10-08-cell12.hdf5\n",
      "successfully opened the hp3d data object and the associated hdf5 file\n",
      "Try to create the following file path:\n",
      "/p/lscratchh/yi10/hp3d/2021-11-17-cell9\n",
      "the file path exists\n",
      "found the hdf5 file:\n",
      "/p/lscratchh/yi10/hp3d/2021-11-17-cell9/hp3ddata_2021-11-17-cell9.hdf5\n",
      "successfully opened the hp3d data object and the associated hdf5 file\n",
      "Try to create the following file path:\n",
      "/p/lscratchh/yi10/hp3d/2021-09-24-cell19\n",
      "the file path exists\n",
      "found the hdf5 file:\n",
      "/p/lscratchh/yi10/hp3d/2021-09-24-cell19/hp3ddata_2021-09-24-cell19.hdf5\n",
      "successfully opened the hp3d data object and the associated hdf5 file\n",
      "Try to create the following file path:\n",
      "/p/lscratchh/yi10/hp3d/2021-11-17-cell3\n",
      "the file path exists\n",
      "found the hdf5 file:\n",
      "/p/lscratchh/yi10/hp3d/2021-11-17-cell3/hp3ddata_2021-11-17-cell3.hdf5\n",
      "successfully opened the hp3d data object and the associated hdf5 file\n"
     ]
    },
    {
     "data": {
      "text/plain": [
       "0"
      ]
     },
     "execution_count": 11,
     "metadata": {},
     "output_type": "execute_result"
    },
    {
     "data": {
      "text/plain": [
       "0"
      ]
     },
     "execution_count": 11,
     "metadata": {},
     "output_type": "execute_result"
    },
    {
     "data": {
      "text/plain": [
       "0"
      ]
     },
     "execution_count": 11,
     "metadata": {},
     "output_type": "execute_result"
    },
    {
     "data": {
      "text/plain": [
       "0"
      ]
     },
     "execution_count": 11,
     "metadata": {},
     "output_type": "execute_result"
    },
    {
     "data": {
      "text/plain": [
       "0"
      ]
     },
     "execution_count": 11,
     "metadata": {},
     "output_type": "execute_result"
    },
    {
     "data": {
      "text/plain": [
       "0"
      ]
     },
     "execution_count": 11,
     "metadata": {},
     "output_type": "execute_result"
    },
    {
     "data": {
      "text/plain": [
       "0"
      ]
     },
     "execution_count": 11,
     "metadata": {},
     "output_type": "execute_result"
    },
    {
     "data": {
      "text/plain": [
       "0"
      ]
     },
     "execution_count": 11,
     "metadata": {},
     "output_type": "execute_result"
    },
    {
     "data": {
      "text/plain": [
       "0"
      ]
     },
     "execution_count": 11,
     "metadata": {},
     "output_type": "execute_result"
    },
    {
     "data": {
      "text/plain": [
       "0"
      ]
     },
     "execution_count": 11,
     "metadata": {},
     "output_type": "execute_result"
    },
    {
     "data": {
      "text/plain": [
       "0"
      ]
     },
     "execution_count": 11,
     "metadata": {},
     "output_type": "execute_result"
    },
    {
     "data": {
      "text/plain": [
       "0"
      ]
     },
     "execution_count": 11,
     "metadata": {},
     "output_type": "execute_result"
    },
    {
     "data": {
      "text/plain": [
       "0"
      ]
     },
     "execution_count": 11,
     "metadata": {},
     "output_type": "execute_result"
    },
    {
     "data": {
      "text/plain": [
       "0"
      ]
     },
     "execution_count": 11,
     "metadata": {},
     "output_type": "execute_result"
    },
    {
     "data": {
      "text/plain": [
       "0"
      ]
     },
     "execution_count": 11,
     "metadata": {},
     "output_type": "execute_result"
    },
    {
     "data": {
      "text/plain": [
       "0"
      ]
     },
     "execution_count": 11,
     "metadata": {},
     "output_type": "execute_result"
    },
    {
     "data": {
      "text/plain": [
       "0"
      ]
     },
     "execution_count": 11,
     "metadata": {},
     "output_type": "execute_result"
    },
    {
     "data": {
      "text/plain": [
       "0"
      ]
     },
     "execution_count": 11,
     "metadata": {},
     "output_type": "execute_result"
    },
    {
     "data": {
      "text/plain": [
       "0"
      ]
     },
     "execution_count": 11,
     "metadata": {},
     "output_type": "execute_result"
    },
    {
     "data": {
      "text/plain": [
       "0"
      ]
     },
     "execution_count": 11,
     "metadata": {},
     "output_type": "execute_result"
    },
    {
     "data": {
      "text/plain": [
       "0"
      ]
     },
     "execution_count": 11,
     "metadata": {},
     "output_type": "execute_result"
    },
    {
     "data": {
      "text/plain": [
       "0"
      ]
     },
     "execution_count": 11,
     "metadata": {},
     "output_type": "execute_result"
    },
    {
     "data": {
      "text/plain": [
       "0"
      ]
     },
     "execution_count": 11,
     "metadata": {},
     "output_type": "execute_result"
    },
    {
     "data": {
      "text/plain": [
       "0"
      ]
     },
     "execution_count": 11,
     "metadata": {},
     "output_type": "execute_result"
    },
    {
     "data": {
      "text/plain": [
       "0"
      ]
     },
     "execution_count": 11,
     "metadata": {},
     "output_type": "execute_result"
    },
    {
     "data": {
      "text/plain": [
       "0"
      ]
     },
     "execution_count": 11,
     "metadata": {},
     "output_type": "execute_result"
    },
    {
     "data": {
      "text/plain": [
       "0"
      ]
     },
     "execution_count": 11,
     "metadata": {},
     "output_type": "execute_result"
    },
    {
     "data": {
      "text/plain": [
       "0"
      ]
     },
     "execution_count": 11,
     "metadata": {},
     "output_type": "execute_result"
    },
    {
     "data": {
      "text/plain": [
       "0"
      ]
     },
     "execution_count": 11,
     "metadata": {},
     "output_type": "execute_result"
    },
    {
     "data": {
      "text/plain": [
       "0"
      ]
     },
     "execution_count": 11,
     "metadata": {},
     "output_type": "execute_result"
    },
    {
     "data": {
      "text/plain": [
       "0"
      ]
     },
     "execution_count": 11,
     "metadata": {},
     "output_type": "execute_result"
    },
    {
     "data": {
      "text/plain": [
       "0"
      ]
     },
     "execution_count": 11,
     "metadata": {},
     "output_type": "execute_result"
    },
    {
     "data": {
      "text/plain": [
       "0"
      ]
     },
     "execution_count": 11,
     "metadata": {},
     "output_type": "execute_result"
    },
    {
     "name": "stdout",
     "output_type": "stream",
     "text": [
      "Try to create the following file path:\n",
      "/p/lscratchh/yi10/hp3d/2021-09-24-cell13\n",
      "the file path exists\n",
      "found the hdf5 file:\n",
      "/p/lscratchh/yi10/hp3d/2021-09-24-cell13/hp3ddata_2021-09-24-cell13.hdf5\n",
      "successfully opened the hp3d data object and the associated hdf5 file\n",
      "Try to create the following file path:\n",
      "/p/lscratchh/yi10/hp3d/2021-10-01-cell0\n",
      "the file path exists\n",
      "found the hdf5 file:\n",
      "/p/lscratchh/yi10/hp3d/2021-10-01-cell0/hp3ddata_2021-10-01-cell0.hdf5\n",
      "successfully opened the hp3d data object and the associated hdf5 file\n",
      "Try to create the following file path:\n",
      "/p/lscratchh/yi10/hp3d/2021-09-22-cell7\n",
      "the file path exists\n",
      "found the hdf5 file:\n",
      "/p/lscratchh/yi10/hp3d/2021-09-22-cell7/hp3ddata_2021-09-22-cell7.hdf5\n",
      "successfully opened the hp3d data object and the associated hdf5 file\n",
      "Try to create the following file path:\n",
      "/p/lscratchh/yi10/hp3d/2021-11-04-cell8\n",
      "the file path exists\n",
      "found the hdf5 file:\n",
      "/p/lscratchh/yi10/hp3d/2021-11-04-cell8/hp3ddata_2021-11-04-cell8.hdf5\n",
      "successfully opened the hp3d data object and the associated hdf5 file\n",
      "Try to create the following file path:\n",
      "/p/lscratchh/yi10/hp3d/2021-09-24-cell8\n",
      "the file path exists\n",
      "found the hdf5 file:\n",
      "/p/lscratchh/yi10/hp3d/2021-09-24-cell8/hp3ddata_2021-09-24-cell8.hdf5\n",
      "successfully opened the hp3d data object and the associated hdf5 file\n",
      "Try to create the following file path:\n",
      "/p/lscratchh/yi10/hp3d/2021-10-14-cell4\n",
      "the file path exists\n",
      "found the hdf5 file:\n",
      "/p/lscratchh/yi10/hp3d/2021-10-14-cell4/hp3ddata_2021-10-14-cell4.hdf5\n",
      "successfully opened the hp3d data object and the associated hdf5 file\n",
      "Try to create the following file path:\n",
      "/p/lscratchh/yi10/hp3d/2021-09-24-cell2\n",
      "the file path exists\n",
      "found the hdf5 file:\n",
      "/p/lscratchh/yi10/hp3d/2021-09-24-cell2/hp3ddata_2021-09-24-cell2.hdf5\n",
      "successfully opened the hp3d data object and the associated hdf5 file\n",
      "Try to create the following file path:\n",
      "/p/lscratchh/yi10/hp3d/2021-11-11-cell15\n",
      "the file path exists\n",
      "found the hdf5 file:\n",
      "/p/lscratchh/yi10/hp3d/2021-11-11-cell15/hp3ddata_2021-11-11-cell15.hdf5\n",
      "successfully opened the hp3d data object and the associated hdf5 file\n",
      "Try to create the following file path:\n",
      "/p/lscratchh/yi10/hp3d/2021-09-27-cell6\n",
      "the file path exists\n",
      "found the hdf5 file:\n",
      "/p/lscratchh/yi10/hp3d/2021-09-27-cell6/hp3ddata_2021-09-27-cell6.hdf5\n",
      "successfully opened the hp3d data object and the associated hdf5 file\n",
      "Try to create the following file path:\n",
      "/p/lscratchh/yi10/hp3d/2021-10-08-cell1\n",
      "the file path exists\n",
      "found the hdf5 file:\n",
      "/p/lscratchh/yi10/hp3d/2021-10-08-cell1/hp3ddata_2021-10-08-cell1.hdf5\n",
      "successfully opened the hp3d data object and the associated hdf5 file\n",
      "Try to create the following file path:\n",
      "/p/lscratchh/yi10/hp3d/2021-10-04-cell25\n",
      "the file path exists\n",
      "found the hdf5 file:\n",
      "/p/lscratchh/yi10/hp3d/2021-10-04-cell25/hp3ddata_2021-10-04-cell25.hdf5\n",
      "successfully opened the hp3d data object and the associated hdf5 file\n",
      "Try to create the following file path:\n",
      "/p/lscratchh/yi10/hp3d/2021-11-05-cell5\n",
      "the file path exists\n",
      "found the hdf5 file:\n",
      "/p/lscratchh/yi10/hp3d/2021-11-05-cell5/hp3ddata_2021-11-05-cell5.hdf5\n",
      "successfully opened the hp3d data object and the associated hdf5 file\n",
      "Try to create the following file path:\n",
      "/p/lscratchh/yi10/hp3d/2021-10-29-cell1\n",
      "the file path exists\n",
      "found the hdf5 file:\n",
      "/p/lscratchh/yi10/hp3d/2021-10-29-cell1/hp3ddata_2021-10-29-cell1.hdf5\n",
      "successfully opened the hp3d data object and the associated hdf5 file\n",
      "Try to create the following file path:\n",
      "/p/lscratchh/yi10/hp3d/2021-11-09-cell5\n",
      "the file path exists\n",
      "found the hdf5 file:\n",
      "/p/lscratchh/yi10/hp3d/2021-11-09-cell5/hp3ddata_2021-11-09-cell5.hdf5\n",
      "successfully opened the hp3d data object and the associated hdf5 file\n",
      "Try to create the following file path:\n",
      "/p/lscratchh/yi10/hp3d/2021-09-30-cell1\n",
      "the file path exists\n",
      "found the hdf5 file:\n",
      "/p/lscratchh/yi10/hp3d/2021-09-30-cell1/hp3ddata_2021-09-30-cell1.hdf5\n",
      "successfully opened the hp3d data object and the associated hdf5 file\n",
      "Try to create the following file path:\n",
      "/p/lscratchh/yi10/hp3d/2021-09-22-cell25\n",
      "the file path exists\n",
      "found the hdf5 file:\n",
      "/p/lscratchh/yi10/hp3d/2021-09-22-cell25/hp3ddata_2021-09-22-cell25.hdf5\n",
      "successfully opened the hp3d data object and the associated hdf5 file\n",
      "Try to create the following file path:\n",
      "/p/lscratchh/yi10/hp3d/2021-10-04-cell1\n",
      "the file path exists\n",
      "found the hdf5 file:\n",
      "/p/lscratchh/yi10/hp3d/2021-10-04-cell1/hp3ddata_2021-10-04-cell1.hdf5\n",
      "successfully opened the hp3d data object and the associated hdf5 file\n",
      "Try to create the following file path:\n",
      "/p/lscratchh/yi10/hp3d/2021-10-04-cell17\n",
      "the file path exists\n",
      "found the hdf5 file:\n",
      "/p/lscratchh/yi10/hp3d/2021-10-04-cell17/hp3ddata_2021-10-04-cell17.hdf5\n",
      "successfully opened the hp3d data object and the associated hdf5 file\n",
      "Try to create the following file path:\n",
      "/p/lscratchh/yi10/hp3d/2021-11-10-cell1\n",
      "the file path exists\n",
      "found the hdf5 file:\n",
      "/p/lscratchh/yi10/hp3d/2021-11-10-cell1/hp3ddata_2021-11-10-cell1.hdf5\n",
      "successfully opened the hp3d data object and the associated hdf5 file\n",
      "Try to create the following file path:\n",
      "/p/lscratchh/yi10/hp3d/2021-09-29-cell5\n",
      "the file path exists\n",
      "found the hdf5 file:\n",
      "/p/lscratchh/yi10/hp3d/2021-09-29-cell5/hp3ddata_2021-09-29-cell5.hdf5\n",
      "successfully opened the hp3d data object and the associated hdf5 file\n",
      "Try to create the following file path:\n",
      "/p/lscratchh/yi10/hp3d/2021-10-06-cell2\n",
      "the file path exists\n",
      "found the hdf5 file:\n",
      "/p/lscratchh/yi10/hp3d/2021-10-06-cell2/hp3ddata_2021-10-06-cell2.hdf5\n",
      "successfully opened the hp3d data object and the associated hdf5 file\n",
      "Try to create the following file path:\n",
      "/p/lscratchh/yi10/hp3d/2021-11-12-cell8\n",
      "the file path exists\n",
      "found the hdf5 file:\n",
      "/p/lscratchh/yi10/hp3d/2021-11-12-cell8/hp3ddata_2021-11-12-cell8.hdf5\n",
      "successfully opened the hp3d data object and the associated hdf5 file\n",
      "Try to create the following file path:\n",
      "/p/lscratchh/yi10/hp3d/2021-11-12-cell5\n",
      "the file path exists\n",
      "found the hdf5 file:\n",
      "/p/lscratchh/yi10/hp3d/2021-11-12-cell5/hp3ddata_2021-11-12-cell5.hdf5\n",
      "successfully opened the hp3d data object and the associated hdf5 file\n",
      "Try to create the following file path:\n",
      "/p/lscratchh/yi10/hp3d/2021-10-04-cell6\n",
      "the file path exists\n",
      "found the hdf5 file:\n",
      "/p/lscratchh/yi10/hp3d/2021-10-04-cell6/hp3ddata_2021-10-04-cell6.hdf5\n",
      "successfully opened the hp3d data object and the associated hdf5 file\n",
      "Try to create the following file path:\n",
      "/p/lscratchh/yi10/hp3d/2021-09-29-cell8\n",
      "the file path exists\n",
      "found the hdf5 file:\n",
      "/p/lscratchh/yi10/hp3d/2021-09-29-cell8/hp3ddata_2021-09-29-cell8.hdf5\n",
      "successfully opened the hp3d data object and the associated hdf5 file\n",
      "Try to create the following file path:\n",
      "/p/lscratchh/yi10/hp3d/2021-10-04-cell10\n",
      "the file path exists\n",
      "found the hdf5 file:\n",
      "/p/lscratchh/yi10/hp3d/2021-10-04-cell10/hp3ddata_2021-10-04-cell10.hdf5\n",
      "successfully opened the hp3d data object and the associated hdf5 file\n",
      "Try to create the following file path:\n",
      "/p/lscratchh/yi10/hp3d/2021-09-29-cell2\n",
      "the file path exists\n",
      "found the hdf5 file:\n",
      "/p/lscratchh/yi10/hp3d/2021-09-29-cell2/hp3ddata_2021-09-29-cell2.hdf5\n",
      "successfully opened the hp3d data object and the associated hdf5 file\n",
      "Try to create the following file path:\n",
      "/p/lscratchh/yi10/hp3d/2021-11-10-cell6\n",
      "the file path exists\n",
      "found the hdf5 file:\n",
      "/p/lscratchh/yi10/hp3d/2021-11-10-cell6/hp3ddata_2021-11-10-cell6.hdf5\n",
      "successfully opened the hp3d data object and the associated hdf5 file\n",
      "Try to create the following file path:\n",
      "/p/lscratchh/yi10/hp3d/2021-10-06-cell5\n",
      "the file path exists\n",
      "found the hdf5 file:\n",
      "/p/lscratchh/yi10/hp3d/2021-10-06-cell5/hp3ddata_2021-10-06-cell5.hdf5\n",
      "successfully opened the hp3d data object and the associated hdf5 file\n",
      "Try to create the following file path:\n",
      "/p/lscratchh/yi10/hp3d/2021-11-09-cell10\n",
      "the file path exists\n",
      "found the hdf5 file:\n",
      "/p/lscratchh/yi10/hp3d/2021-11-09-cell10/hp3ddata_2021-11-09-cell10.hdf5\n",
      "successfully opened the hp3d data object and the associated hdf5 file\n",
      "Try to create the following file path:\n",
      "/p/lscratchh/yi10/hp3d/2021-09-30-cell6\n",
      "the file path exists\n",
      "found the hdf5 file:\n",
      "/p/lscratchh/yi10/hp3d/2021-09-30-cell6/hp3ddata_2021-09-30-cell6.hdf5\n",
      "successfully opened the hp3d data object and the associated hdf5 file\n",
      "Try to create the following file path:\n",
      "/p/lscratchh/yi10/hp3d/2021-11-09-cell2\n",
      "the file path exists\n",
      "found the hdf5 file:\n",
      "/p/lscratchh/yi10/hp3d/2021-11-09-cell2/hp3ddata_2021-11-09-cell2.hdf5\n",
      "successfully opened the hp3d data object and the associated hdf5 file\n",
      "Try to create the following file path:\n",
      "/p/lscratchh/yi10/hp3d/2021-11-12-cell10\n",
      "the file path exists\n",
      "found the hdf5 file:\n",
      "/p/lscratchh/yi10/hp3d/2021-11-12-cell10/hp3ddata_2021-11-12-cell10.hdf5\n",
      "successfully opened the hp3d data object and the associated hdf5 file\n"
     ]
    },
    {
     "data": {
      "text/plain": [
       "0"
      ]
     },
     "execution_count": 11,
     "metadata": {},
     "output_type": "execute_result"
    },
    {
     "data": {
      "text/plain": [
       "0"
      ]
     },
     "execution_count": 11,
     "metadata": {},
     "output_type": "execute_result"
    },
    {
     "data": {
      "text/plain": [
       "0"
      ]
     },
     "execution_count": 11,
     "metadata": {},
     "output_type": "execute_result"
    },
    {
     "data": {
      "text/plain": [
       "0"
      ]
     },
     "execution_count": 11,
     "metadata": {},
     "output_type": "execute_result"
    },
    {
     "data": {
      "text/plain": [
       "0"
      ]
     },
     "execution_count": 11,
     "metadata": {},
     "output_type": "execute_result"
    },
    {
     "data": {
      "text/plain": [
       "0"
      ]
     },
     "execution_count": 11,
     "metadata": {},
     "output_type": "execute_result"
    },
    {
     "data": {
      "text/plain": [
       "0"
      ]
     },
     "execution_count": 11,
     "metadata": {},
     "output_type": "execute_result"
    },
    {
     "data": {
      "text/plain": [
       "0"
      ]
     },
     "execution_count": 11,
     "metadata": {},
     "output_type": "execute_result"
    },
    {
     "data": {
      "text/plain": [
       "0"
      ]
     },
     "execution_count": 11,
     "metadata": {},
     "output_type": "execute_result"
    },
    {
     "data": {
      "text/plain": [
       "0"
      ]
     },
     "execution_count": 11,
     "metadata": {},
     "output_type": "execute_result"
    },
    {
     "data": {
      "text/plain": [
       "0"
      ]
     },
     "execution_count": 11,
     "metadata": {},
     "output_type": "execute_result"
    },
    {
     "data": {
      "text/plain": [
       "0"
      ]
     },
     "execution_count": 11,
     "metadata": {},
     "output_type": "execute_result"
    },
    {
     "data": {
      "text/plain": [
       "0"
      ]
     },
     "execution_count": 11,
     "metadata": {},
     "output_type": "execute_result"
    },
    {
     "data": {
      "text/plain": [
       "0"
      ]
     },
     "execution_count": 11,
     "metadata": {},
     "output_type": "execute_result"
    },
    {
     "data": {
      "text/plain": [
       "0"
      ]
     },
     "execution_count": 11,
     "metadata": {},
     "output_type": "execute_result"
    },
    {
     "data": {
      "text/plain": [
       "0"
      ]
     },
     "execution_count": 11,
     "metadata": {},
     "output_type": "execute_result"
    },
    {
     "data": {
      "text/plain": [
       "0"
      ]
     },
     "execution_count": 11,
     "metadata": {},
     "output_type": "execute_result"
    },
    {
     "data": {
      "text/plain": [
       "0"
      ]
     },
     "execution_count": 11,
     "metadata": {},
     "output_type": "execute_result"
    },
    {
     "data": {
      "text/plain": [
       "0"
      ]
     },
     "execution_count": 11,
     "metadata": {},
     "output_type": "execute_result"
    },
    {
     "name": "stdout",
     "output_type": "stream",
     "text": [
      "Try to create the following file path:\n",
      "/p/lscratchh/yi10/hp3d/2021-11-09-cell8\n",
      "the file path exists\n",
      "found the hdf5 file:\n",
      "/p/lscratchh/yi10/hp3d/2021-11-09-cell8/hp3ddata_2021-11-09-cell8.hdf5\n",
      "successfully opened the hp3d data object and the associated hdf5 file\n",
      "Try to create the following file path:\n",
      "/p/lscratchh/yi10/hp3d/2021-11-04-cell10\n",
      "the file path exists\n",
      "found the hdf5 file:\n",
      "/p/lscratchh/yi10/hp3d/2021-11-04-cell10/hp3ddata_2021-11-04-cell10.hdf5\n",
      "successfully opened the hp3d data object and the associated hdf5 file\n",
      "Try to create the following file path:\n",
      "/p/lscratchh/yi10/hp3d/2021-10-04-cell22\n",
      "the file path exists\n",
      "found the hdf5 file:\n",
      "/p/lscratchh/yi10/hp3d/2021-10-04-cell22/hp3ddata_2021-10-04-cell22.hdf5\n",
      "successfully opened the hp3d data object and the associated hdf5 file\n",
      "Try to create the following file path:\n",
      "/p/lscratchh/yi10/hp3d/2021-11-05-cell2\n",
      "the file path exists\n",
      "found the hdf5 file:\n",
      "/p/lscratchh/yi10/hp3d/2021-11-05-cell2/hp3ddata_2021-11-05-cell2.hdf5\n",
      "successfully opened the hp3d data object and the associated hdf5 file\n",
      "Try to create the following file path:\n",
      "/p/lscratchh/yi10/hp3d/2021-10-04-cell28\n",
      "the file path exists\n",
      "found the hdf5 file:\n",
      "/p/lscratchh/yi10/hp3d/2021-10-04-cell28/hp3ddata_2021-10-04-cell28.hdf5\n",
      "successfully opened the hp3d data object and the associated hdf5 file\n",
      "Try to create the following file path:\n",
      "/p/lscratchh/yi10/hp3d/2021-11-11-cell12\n",
      "the file path exists\n",
      "found the hdf5 file:\n",
      "/p/lscratchh/yi10/hp3d/2021-11-11-cell12/hp3ddata_2021-11-11-cell12.hdf5\n",
      "successfully opened the hp3d data object and the associated hdf5 file\n",
      "Try to create the following file path:\n",
      "/p/lscratchh/yi10/hp3d/2021-09-30-cell13\n",
      "the file path exists\n",
      "found the hdf5 file:\n",
      "/p/lscratchh/yi10/hp3d/2021-09-30-cell13/hp3ddata_2021-09-30-cell13.hdf5\n",
      "successfully opened the hp3d data object and the associated hdf5 file\n",
      "Try to create the following file path:\n",
      "/p/lscratchh/yi10/hp3d/2021-09-27-cell1\n",
      "the file path exists\n",
      "found the hdf5 file:\n",
      "/p/lscratchh/yi10/hp3d/2021-09-27-cell1/hp3ddata_2021-09-27-cell1.hdf5\n",
      "successfully opened the hp3d data object and the associated hdf5 file\n",
      "Try to create the following file path:\n",
      "/p/lscratchh/yi10/hp3d/2021-10-08-cell6\n",
      "the file path exists\n",
      "found the hdf5 file:\n",
      "/p/lscratchh/yi10/hp3d/2021-10-08-cell6/hp3ddata_2021-10-08-cell6.hdf5\n",
      "successfully opened the hp3d data object and the associated hdf5 file\n",
      "Try to create the following file path:\n",
      "/p/lscratchh/yi10/hp3d/2021-10-14-cell9\n",
      "the file path exists\n",
      "found the hdf5 file:\n",
      "/p/lscratchh/yi10/hp3d/2021-10-14-cell9/hp3ddata_2021-10-14-cell9.hdf5\n",
      "successfully opened the hp3d data object and the associated hdf5 file\n",
      "Try to create the following file path:\n",
      "/p/lscratchh/yi10/hp3d/2021-11-02-cell0\n",
      "the file path exists\n",
      "found the hdf5 file:\n",
      "/p/lscratchh/yi10/hp3d/2021-11-02-cell0/hp3ddata_2021-11-02-cell0.hdf5\n",
      "successfully opened the hp3d data object and the associated hdf5 file\n",
      "Try to create the following file path:\n",
      "/p/lscratchh/yi10/hp3d/2021-09-24-cell5\n",
      "the file path exists\n",
      "found the hdf5 file:\n",
      "/p/lscratchh/yi10/hp3d/2021-09-24-cell5/hp3ddata_2021-09-24-cell5.hdf5\n",
      "successfully opened the hp3d data object and the associated hdf5 file\n",
      "Try to create the following file path:\n",
      "/p/lscratchh/yi10/hp3d/2021-10-14-cell3\n",
      "the file path exists\n",
      "found the hdf5 file:\n",
      "/p/lscratchh/yi10/hp3d/2021-10-14-cell3/hp3ddata_2021-10-14-cell3.hdf5\n",
      "successfully opened the hp3d data object and the associated hdf5 file\n",
      "Try to create the following file path:\n",
      "/p/lscratchh/yi10/hp3d/2021-11-04-cell5\n",
      "the file path exists\n",
      "found the hdf5 file:\n",
      "/p/lscratchh/yi10/hp3d/2021-11-04-cell5/hp3ddata_2021-11-04-cell5.hdf5\n",
      "successfully opened the hp3d data object and the associated hdf5 file\n",
      "Try to create the following file path:\n",
      "/p/lscratchh/yi10/hp3d/2021-10-28-cell1\n",
      "the file path exists\n",
      "found the hdf5 file:\n",
      "/p/lscratchh/yi10/hp3d/2021-10-28-cell1/hp3ddata_2021-10-28-cell1.hdf5\n",
      "successfully opened the hp3d data object and the associated hdf5 file\n",
      "Try to create the following file path:\n",
      "/p/lscratchh/yi10/hp3d/2021-11-17-cell4\n",
      "the file path exists\n",
      "found the hdf5 file:\n",
      "/p/lscratchh/yi10/hp3d/2021-11-17-cell4/hp3ddata_2021-11-17-cell4.hdf5\n",
      "successfully opened the hp3d data object and the associated hdf5 file\n",
      "Try to create the following file path:\n",
      "/p/lscratchh/yi10/hp3d/2021-11-11-cell1\n",
      "the file path exists\n",
      "found the hdf5 file:\n",
      "/p/lscratchh/yi10/hp3d/2021-11-11-cell1/hp3ddata_2021-11-11-cell1.hdf5\n",
      "successfully opened the hp3d data object and the associated hdf5 file\n",
      "Try to create the following file path:\n",
      "/p/lscratchh/yi10/hp3d/2021-10-14-cell14\n",
      "the file path exists\n",
      "found the hdf5 file:\n",
      "/p/lscratchh/yi10/hp3d/2021-10-14-cell14/hp3ddata_2021-10-14-cell14.hdf5\n",
      "successfully opened the hp3d data object and the associated hdf5 file\n"
     ]
    }
   ],
   "source": [
    "for thead in theads:\n",
    "    hp3ddata_path='/p/lscratchh/yi10/hp3d/'+thead\n",
    "    d=hp3d.hp3ddata.HP3Ddata(fpath=hp3ddata_path,dfnamehead='hp3ddata_'+thead,initialize=False)\n",
    "    try:\n",
    "        with io.StringIO() as buf, redirect_stdout(buf):\n",
    "            d.show_data_structure()\n",
    "            output2 = buf.getvalue()\n",
    "            if len(output2) == 1682:\n",
    "                print('pass')\n",
    "                pass\n",
    "            else:\n",
    "                print('------------------------------------------------------------------------------ string length problem ------ len'+str(len(output2)) + thead)\n",
    "    except:\n",
    "        print('------------------------------------------------------------------------------------------------- can not open ------ ' + thead)\n",
    "        "
   ]
  }
 ],
 "metadata": {
  "kernelspec": {
   "display_name": "llsmvis",
   "language": "python",
   "name": "llsmvis"
  },
  "language_info": {
   "codemirror_mode": {
    "name": "ipython",
    "version": 3
   },
   "file_extension": ".py",
   "mimetype": "text/x-python",
   "name": "python",
   "nbconvert_exporter": "python",
   "pygments_lexer": "ipython3",
   "version": "3.7.9"
  }
 },
 "nbformat": 4,
 "nbformat_minor": 4
}
