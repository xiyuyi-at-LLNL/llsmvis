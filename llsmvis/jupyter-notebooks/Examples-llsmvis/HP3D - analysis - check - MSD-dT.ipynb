{
 "cells": [
  {
   "cell_type": "markdown",
   "metadata": {},
   "source": [
    "# Load calculated values and plot the statistics for MSD-dT\n",
    "This notebook reproduces Fig.11(a) for the following manuscript:\n",
    "\n",
    "Yi, X., Miao, H., Lo, J.K.Y., Elsheikh, M., Lee, T.H., Jiang, C., Segelke, B.W., Overton, K.W., Bremer, P.T. and Laurence, T.A., 2022. A Tailored Approach To Study Legionella Infection Using Lattice Light Sheet Microscope (LLSM). bioRxiv. doi: https://doi.org/10.1101/2022.03.20.485032\n",
    "\n",
    "### Datasets can be downloaded from the following data repository on figshare:\n",
    " Yi, Xiyu; Miao, Haichao; Lo, Jacky Kai-Yin; Elsheikh, Maher M.; Lee, Tek Hyung; Jiang, Chenfanfu; et al. (2022): Datasets for the manuscript titled \"A Tailored Approach to Study Legionella Infection Using Lattice Light Sheet Microscope (LLSM)\". figshare. Journal contribution. https://doi.org/10.6084/m9.figshare.19694809.v30 \n",
    "\n",
    "### llsmvis repository can be found here:\n",
    "https://github.com/xiyuyi-at-LLNL/llsmvis"
   ]
  },
  {
   "cell_type": "markdown",
   "metadata": {},
   "source": [
    "# 1. Import tools"
   ]
  },
  {
   "cell_type": "code",
   "execution_count": 22,
   "metadata": {},
   "outputs": [
    {
     "name": "stdout",
     "output_type": "stream",
     "text": [
      "The autoreload extension is already loaded. To reload it, use:\n",
      "  %reload_ext autoreload\n"
     ]
    }
   ],
   "source": [
    "import sys\n",
    "# append the directory to llsmvis to the system path following the examples below.\n",
    "sys.path.append('/g/g92/miao1/Development/llsmvis')\n",
    "sys.path.append('/Users/yi10/Desktop/Research/Software/T-llsmvis/')\n",
    "sys.path.append('/g/g92/yi10')\n",
    "sys.path.append('[add your path to the llsmvis folder]')\n",
    "\n",
    "import llsmvis\n",
    "from llsmvis.extensions import hp3d\n",
    "from llsmvis.extensions.hp3d import surface_morphometrics as sm\n",
    "from llsmvis.extensions.hp3d import masscenter as mc\n",
    "from llsmvis.extensions.hp3d import croproi3d as c3d\n",
    "from llsmvis.extensions.hp3d import tools_writeout as tools\n",
    "import h5py\n",
    "import os\n",
    "from skimage import io\n",
    "import numpy as np\n",
    "import matplotlib.pyplot as plt\n",
    "import vtk\n",
    "from vtk.util import numpy_support\n",
    "from llsmvis.extensions.hp3d import tools_vectorsets as v\n",
    "from scipy.interpolate import griddata\n",
    "import copy\n",
    "from scipy.stats import pearsonr\n",
    "\n",
    "%load_ext autoreload\n",
    "%autoreload 2"
   ]
  },
  {
   "cell_type": "markdown",
   "metadata": {},
   "source": [
    "# 2. Aggregate datasets into 2 conditions (naive and infected macrophages)"
   ]
  },
  {
   "cell_type": "code",
   "execution_count": 23,
   "metadata": {},
   "outputs": [
    {
     "name": "stdout",
     "output_type": "stream",
     "text": [
      "131 naive macrophage cells\n",
      "101 infected macrophage cells\n"
     ]
    }
   ],
   "source": [
    "fpaths=[x for x in os.listdir('/p/lscratchh/yi10/hp3d') if x.startswith('2021')] # change this path to your local data path.\n",
    "# separate fpaths into 2 groups, one is naive macrophage, the other one is infected macrophage.\n",
    "fpaths_naive_macr=[]\n",
    "fpaths_Lg_macr_cl=[]\n",
    "\n",
    "for i, fpath in enumerate(fpaths):\n",
    "    if fpath.startswith('2021-09-'):\n",
    "        fpaths_naive_macr.append(fpath)\n",
    "    \n",
    "    if fpath.startswith('2021-10-01'):\n",
    "        fpaths_naive_macr.append(fpath)\n",
    "    \n",
    "    if fpath.startswith('2021-10-04'):\n",
    "        fpaths_naive_macr.append(fpath)\n",
    "    \n",
    "    if fpath.startswith('2021-10-06'):\n",
    "        fpaths_naive_macr.append(fpath)\n",
    "    \n",
    "    if fpath.startswith('2021-10-08'):\n",
    "        fpaths_naive_macr.append(fpath)\n",
    "    \n",
    "    if fpath.startswith('2021-10-14'):\n",
    "        fpaths_naive_macr.append(fpath)\n",
    "        \n",
    "    \n",
    "    if fpath.startswith('2021-10-28'):\n",
    "        fpaths_Lg_macr_cl.append(fpath)\n",
    "    \n",
    "    if fpath.startswith('2021-10-29'):\n",
    "        fpaths_Lg_macr_cl.append(fpath)\n",
    "    \n",
    "    if fpath.startswith('2021-11-'):\n",
    "        fpaths_Lg_macr_cl.append(fpath)\n",
    "\n",
    "print(str(len(fpaths_naive_macr))+' naive macrophage cells')\n",
    "print(str(len(fpaths_Lg_macr_cl))+' infected macrophage cells')\n",
    "\n"
   ]
  },
  {
   "cell_type": "markdown",
   "metadata": {},
   "source": [
    "# 3. Load values"
   ]
  },
  {
   "cell_type": "code",
   "execution_count": 24,
   "metadata": {},
   "outputs": [],
   "source": [
    "# plot polarity vector amplitude evolution per cell, and append it to the cell hdf5\n",
    "# fpath=fpaths_naive_macr[0]\n",
    "\n",
    "def load_volume_centers_center_shifted(fpath, showplot=False):\n",
    "    cell_hdf5_path='/p/lscratchh/yi10/hp3d/'+fpath+'/hp3ddata_'+fpath+'.hdf5' # change this path to your local data path.\n",
    "    print('loading '+cell_hdf5_path)\n",
    "    f2 = h5py.File(cell_hdf5_path, 'r')\n",
    "    v0=np.asarray(f2['[D9] volume centers'])    \n",
    "    v=v0-v0[0,:]\n",
    "    return v\n",
    "        "
   ]
  },
  {
   "cell_type": "markdown",
   "metadata": {},
   "source": [
    "# 4. Check the data fields\n",
    "\n",
    "You can change the corresponding datapath to your own path\n"
   ]
  },
  {
   "cell_type": "code",
   "execution_count": 25,
   "metadata": {},
   "outputs": [
    {
     "name": "stdout",
     "output_type": "stream",
     "text": [
      "[D10] volume values\n",
      "[D11] surface area values\n",
      "[D12] sphere radius with equi volume\n",
      "[D13] sphere radius with equi surface area\n",
      "[D14] polarity vector amplitudes\n",
      "[D15] polarity based on volume - negative volume std\n",
      "[D16] polarity based on volume - positive volume std\n",
      "[D17] polarity based on volume - sum of negative delta volumes\n",
      "[D18] polarity based on volume - sum of positive delta volumes\n",
      "[D19] polarity based on roughness - maxima N\n",
      "[D1] mass centers\n",
      "[D20] polarity based on roughness - minima N\n",
      "[D2] threshold saddle point\n",
      "[D3] threshold saddle point index\n",
      "[D4] threshold upper bound\n",
      "[D5] threshold upper bound index\n",
      "[D6] threshold lower bound\n",
      "[D7] threshold lower bound index\n",
      "[D8] threshold cell peripheral lower bound\n",
      "[D9] volume centers\n",
      "[G01] voxel value bin centers\n",
      "[G02] voxel value histogram counts\n",
      "[G03] stack XY mips before cropping\n",
      "[G04] stack YZ mips before cropping\n",
      "[G05] stack XZ mips before cropping\n",
      "[G06] stack XY mips after cropping - saddle point to upper bound\n",
      "[G07] stack YZ mips after cropping - saddle point to upper bound\n",
      "[G08] stack XZ mips after cropping - saddle point to upper bound\n",
      "[G09] stack XY mips after cropping - lower bound to saddle point\n",
      "[G10] stack YZ mips after cropping - lower bound to saddle point\n",
      "[G11] stack XZ mips after cropping - lower bound to saddle point\n",
      "[G12] stack XY mips after cropping - zero to saddle point\n",
      "[G13] stack YZ mips after cropping - zero to saddle point\n",
      "[G14] stack XZ mips after cropping - zero to saddle point\n",
      "[G15] stack XY mips after cropping - peripheral lb to saddle point\n",
      "[G16] stack YZ mips after cropping - peripheral lb to saddle point\n",
      "[G17] stack XZ mips after cropping - peripheral lb to saddle point\n"
     ]
    }
   ],
   "source": [
    "fpath=fpaths[0]\n",
    "cell_hdf5_path='/p/lscratchh/yi10/hp3d/'+fpath+'/hp3ddata_'+fpath+'.hdf5'# change this path to your local data path.\n",
    "f2 = h5py.File(cell_hdf5_path, 'a')\n",
    "for a in f2.keys():\n",
    "    print(a)\n",
    "f2.close()"
   ]
  },
  {
   "cell_type": "markdown",
   "metadata": {},
   "source": [
    "# 5. Organize the data valuse over all datasets"
   ]
  },
  {
   "cell_type": "code",
   "execution_count": 26,
   "metadata": {},
   "outputs": [],
   "source": [
    "import copy"
   ]
  },
  {
   "cell_type": "code",
   "execution_count": 27,
   "metadata": {},
   "outputs": [
    {
     "name": "stdout",
     "output_type": "stream",
     "text": [
      "loading /p/lscratchh/yi10/hp3d/2021-11-04-cell7/hp3ddata_2021-11-04-cell7.hdf5\n"
     ]
    }
   ],
   "source": [
    "vs=load_volume_centers_center_shifted(fpath, showplot=False)"
   ]
  },
  {
   "cell_type": "code",
   "execution_count": 28,
   "metadata": {},
   "outputs": [
    {
     "data": {
      "text/plain": [
       "(50, 3)"
      ]
     },
     "execution_count": 28,
     "metadata": {},
     "output_type": "execute_result"
    }
   ],
   "source": [
    "vs.shape"
   ]
  },
  {
   "cell_type": "code",
   "execution_count": 29,
   "metadata": {},
   "outputs": [
    {
     "name": "stdout",
     "output_type": "stream",
     "text": [
      "loading /p/lscratchh/yi10/hp3d/2021-09-24-cell7/hp3ddata_2021-09-24-cell7.hdf5\n",
      "loading /p/lscratchh/yi10/hp3d/2021-10-14-cell1/hp3ddata_2021-10-14-cell1.hdf5\n",
      "loading /p/lscratchh/yi10/hp3d/2021-10-14-cell16/hp3ddata_2021-10-14-cell16.hdf5\n",
      "loading /p/lscratchh/yi10/hp3d/2021-10-01-cell5/hp3ddata_2021-10-01-cell5.hdf5\n",
      "loading /p/lscratchh/yi10/hp3d/2021-09-24-cell16/hp3ddata_2021-09-24-cell16.hdf5\n",
      "loading /p/lscratchh/yi10/hp3d/2021-09-30-cell4/hp3ddata_2021-09-30-cell4.hdf5\n",
      "loading /p/lscratchh/yi10/hp3d/2021-10-04-cell4/hp3ddata_2021-10-04-cell4.hdf5\n",
      "loading /p/lscratchh/yi10/hp3d/2021-09-22-cell20/hp3ddata_2021-09-22-cell20.hdf5\n",
      "loading /p/lscratchh/yi10/hp3d/2021-10-04-cell12/hp3ddata_2021-10-04-cell12.hdf5\n",
      "loading /p/lscratchh/yi10/hp3d/2021-10-04-cell18/hp3ddata_2021-10-04-cell18.hdf5\n",
      "loading /p/lscratchh/yi10/hp3d/2021-09-29-cell0/hp3ddata_2021-09-29-cell0.hdf5\n",
      "loading /p/lscratchh/yi10/hp3d/2021-09-30-cell11/hp3ddata_2021-09-30-cell11.hdf5\n",
      "loading /p/lscratchh/yi10/hp3d/2021-10-08-cell4/hp3ddata_2021-10-08-cell4.hdf5\n",
      "loading /p/lscratchh/yi10/hp3d/2021-09-27-cell3/hp3ddata_2021-09-27-cell3.hdf5\n",
      "loading /p/lscratchh/yi10/hp3d/2021-10-04-cell20/hp3ddata_2021-10-04-cell20.hdf5\n",
      "loading /p/lscratchh/yi10/hp3d/2021-10-04-cell27/hp3ddata_2021-10-04-cell27.hdf5\n",
      "loading /p/lscratchh/yi10/hp3d/2021-10-08-cell9/hp3ddata_2021-10-08-cell9.hdf5\n",
      "loading /p/lscratchh/yi10/hp3d/2021-10-08-cell3/hp3ddata_2021-10-08-cell3.hdf5\n",
      "loading /p/lscratchh/yi10/hp3d/2021-09-27-cell4/hp3ddata_2021-09-27-cell4.hdf5\n",
      "loading /p/lscratchh/yi10/hp3d/2021-10-04-cell3/hp3ddata_2021-10-04-cell3.hdf5\n",
      "loading /p/lscratchh/yi10/hp3d/2021-10-04-cell15/hp3ddata_2021-10-04-cell15.hdf5\n",
      "loading /p/lscratchh/yi10/hp3d/2021-10-06-cell0/hp3ddata_2021-10-06-cell0.hdf5\n",
      "loading /p/lscratchh/yi10/hp3d/2021-09-29-cell7/hp3ddata_2021-09-29-cell7.hdf5\n",
      "loading /p/lscratchh/yi10/hp3d/2021-10-04-cell9/hp3ddata_2021-10-04-cell9.hdf5\n",
      "loading /p/lscratchh/yi10/hp3d/2021-09-30-cell3/hp3ddata_2021-09-30-cell3.hdf5\n",
      "loading /p/lscratchh/yi10/hp3d/2021-09-30-cell9/hp3ddata_2021-09-30-cell9.hdf5\n",
      "loading /p/lscratchh/yi10/hp3d/2021-10-08-cell10/hp3ddata_2021-10-08-cell10.hdf5\n",
      "loading /p/lscratchh/yi10/hp3d/2021-10-01-cell2/hp3ddata_2021-10-01-cell2.hdf5\n",
      "loading /p/lscratchh/yi10/hp3d/2021-09-24-cell11/hp3ddata_2021-09-24-cell11.hdf5\n",
      "loading /p/lscratchh/yi10/hp3d/2021-10-14-cell11/hp3ddata_2021-10-14-cell11.hdf5\n",
      "loading /p/lscratchh/yi10/hp3d/2021-10-14-cell6/hp3ddata_2021-10-14-cell6.hdf5\n",
      "loading /p/lscratchh/yi10/hp3d/2021-09-24-cell0/hp3ddata_2021-09-24-cell0.hdf5\n",
      "loading /p/lscratchh/yi10/hp3d/2021-09-24-cell4/hp3ddata_2021-09-24-cell4.hdf5\n",
      "loading /p/lscratchh/yi10/hp3d/2021-10-14-cell2/hp3ddata_2021-10-14-cell2.hdf5\n",
      "loading /p/lscratchh/yi10/hp3d/2021-10-14-cell8/hp3ddata_2021-10-14-cell8.hdf5\n",
      "loading /p/lscratchh/yi10/hp3d/2021-10-01-cell6/hp3ddata_2021-10-01-cell6.hdf5\n",
      "loading /p/lscratchh/yi10/hp3d/2021-10-08-cell14/hp3ddata_2021-10-08-cell14.hdf5\n",
      "loading /p/lscratchh/yi10/hp3d/2021-10-14-cell15/hp3ddata_2021-10-14-cell15.hdf5\n",
      "loading /p/lscratchh/yi10/hp3d/2021-09-29-cell3/hp3ddata_2021-09-29-cell3.hdf5\n",
      "loading /p/lscratchh/yi10/hp3d/2021-09-29-cell9/hp3ddata_2021-09-29-cell9.hdf5\n",
      "loading /p/lscratchh/yi10/hp3d/2021-10-04-cell11/hp3ddata_2021-10-04-cell11.hdf5\n",
      "loading /p/lscratchh/yi10/hp3d/2021-10-04-cell7/hp3ddata_2021-10-04-cell7.hdf5\n",
      "loading /p/lscratchh/yi10/hp3d/2021-09-30-cell7/hp3ddata_2021-09-30-cell7.hdf5\n",
      "loading /p/lscratchh/yi10/hp3d/2021-09-22-cell11/hp3ddata_2021-09-22-cell11.hdf5\n",
      "loading /p/lscratchh/yi10/hp3d/2021-10-04-cell23/hp3ddata_2021-10-04-cell23.hdf5\n",
      "loading /p/lscratchh/yi10/hp3d/2021-09-27-cell0/hp3ddata_2021-09-27-cell0.hdf5\n",
      "loading /p/lscratchh/yi10/hp3d/2021-10-08-cell7/hp3ddata_2021-10-08-cell7.hdf5\n",
      "loading /p/lscratchh/yi10/hp3d/2021-09-30-cell12/hp3ddata_2021-09-30-cell12.hdf5\n",
      "loading /p/lscratchh/yi10/hp3d/2021-10-08-cell0/hp3ddata_2021-10-08-cell0.hdf5\n",
      "loading /p/lscratchh/yi10/hp3d/2021-10-04-cell24/hp3ddata_2021-10-04-cell24.hdf5\n",
      "loading /p/lscratchh/yi10/hp3d/2021-09-30-cell0/hp3ddata_2021-09-30-cell0.hdf5\n",
      "loading /p/lscratchh/yi10/hp3d/2021-09-29-cell4/hp3ddata_2021-09-29-cell4.hdf5\n",
      "loading /p/lscratchh/yi10/hp3d/2021-10-04-cell16/hp3ddata_2021-10-04-cell16.hdf5\n",
      "loading /p/lscratchh/yi10/hp3d/2021-10-04-cell0/hp3ddata_2021-10-04-cell0.hdf5\n",
      "loading /p/lscratchh/yi10/hp3d/2021-09-22-cell24/hp3ddata_2021-09-22-cell24.hdf5\n",
      "loading /p/lscratchh/yi10/hp3d/2021-10-14-cell12/hp3ddata_2021-10-14-cell12.hdf5\n",
      "loading /p/lscratchh/yi10/hp3d/2021-09-24-cell12/hp3ddata_2021-09-24-cell12.hdf5\n",
      "loading /p/lscratchh/yi10/hp3d/2021-10-01-cell1/hp3ddata_2021-10-01-cell1.hdf5\n",
      "loading /p/lscratchh/yi10/hp3d/2021-09-24-cell18/hp3ddata_2021-09-24-cell18.hdf5\n",
      "loading /p/lscratchh/yi10/hp3d/2021-10-08-cell13/hp3ddata_2021-10-08-cell13.hdf5\n",
      "loading /p/lscratchh/yi10/hp3d/2021-09-24-cell20/hp3ddata_2021-09-24-cell20.hdf5\n",
      "loading /p/lscratchh/yi10/hp3d/2021-10-14-cell5/hp3ddata_2021-10-14-cell5.hdf5\n",
      "loading /p/lscratchh/yi10/hp3d/2021-09-24-cell3/hp3ddata_2021-09-24-cell3.hdf5\n",
      "loading /p/lscratchh/yi10/hp3d/2021-09-24-cell9/hp3ddata_2021-09-24-cell9.hdf5\n",
      "loading /p/lscratchh/yi10/hp3d/2021-10-01-cell3/hp3ddata_2021-10-01-cell3.hdf5\n",
      "loading /p/lscratchh/yi10/hp3d/2021-09-24-cell10/hp3ddata_2021-09-24-cell10.hdf5\n",
      "loading /p/lscratchh/yi10/hp3d/2021-10-08-cell11/hp3ddata_2021-10-08-cell11.hdf5\n",
      "loading /p/lscratchh/yi10/hp3d/2021-10-14-cell10/hp3ddata_2021-10-14-cell10.hdf5\n",
      "loading /p/lscratchh/yi10/hp3d/2021-10-14-cell7/hp3ddata_2021-10-14-cell7.hdf5\n",
      "loading /p/lscratchh/yi10/hp3d/2021-09-24-cell1/hp3ddata_2021-09-24-cell1.hdf5\n",
      "loading /p/lscratchh/yi10/hp3d/2021-09-29-cell10/hp3ddata_2021-09-29-cell10.hdf5\n",
      "loading /p/lscratchh/yi10/hp3d/2021-10-04-cell26/hp3ddata_2021-10-04-cell26.hdf5\n",
      "loading /p/lscratchh/yi10/hp3d/2021-10-08-cell2/hp3ddata_2021-10-08-cell2.hdf5\n",
      "loading /p/lscratchh/yi10/hp3d/2021-09-27-cell5/hp3ddata_2021-09-27-cell5.hdf5\n",
      "loading /p/lscratchh/yi10/hp3d/2021-10-08-cell8/hp3ddata_2021-10-08-cell8.hdf5\n",
      "loading /p/lscratchh/yi10/hp3d/2021-10-04-cell8/hp3ddata_2021-10-04-cell8.hdf5\n",
      "loading /p/lscratchh/yi10/hp3d/2021-10-06-cell1/hp3ddata_2021-10-06-cell1.hdf5\n",
      "loading /p/lscratchh/yi10/hp3d/2021-09-29-cell6/hp3ddata_2021-09-29-cell6.hdf5\n",
      "loading /p/lscratchh/yi10/hp3d/2021-10-04-cell14/hp3ddata_2021-10-04-cell14.hdf5\n",
      "loading /p/lscratchh/yi10/hp3d/2021-10-04-cell2/hp3ddata_2021-10-04-cell2.hdf5\n",
      "loading /p/lscratchh/yi10/hp3d/2021-09-30-cell8/hp3ddata_2021-09-30-cell8.hdf5\n",
      "loading /p/lscratchh/yi10/hp3d/2021-09-30-cell2/hp3ddata_2021-09-30-cell2.hdf5\n",
      "loading /p/lscratchh/yi10/hp3d/2021-09-30-cell5/hp3ddata_2021-09-30-cell5.hdf5\n",
      "loading /p/lscratchh/yi10/hp3d/2021-10-04-cell19/hp3ddata_2021-10-04-cell19.hdf5\n",
      "loading /p/lscratchh/yi10/hp3d/2021-09-29-cell1/hp3ddata_2021-09-29-cell1.hdf5\n",
      "loading /p/lscratchh/yi10/hp3d/2021-10-04-cell13/hp3ddata_2021-10-04-cell13.hdf5\n",
      "loading /p/lscratchh/yi10/hp3d/2021-10-04-cell5/hp3ddata_2021-10-04-cell5.hdf5\n",
      "loading /p/lscratchh/yi10/hp3d/2021-10-08-cell5/hp3ddata_2021-10-08-cell5.hdf5\n",
      "loading /p/lscratchh/yi10/hp3d/2021-09-27-cell2/hp3ddata_2021-09-27-cell2.hdf5\n",
      "loading /p/lscratchh/yi10/hp3d/2021-09-30-cell10/hp3ddata_2021-09-30-cell10.hdf5\n",
      "loading /p/lscratchh/yi10/hp3d/2021-09-22-cell19/hp3ddata_2021-09-22-cell19.hdf5\n",
      "loading /p/lscratchh/yi10/hp3d/2021-09-22-cell13/hp3ddata_2021-09-22-cell13.hdf5\n",
      "loading /p/lscratchh/yi10/hp3d/2021-10-04-cell21/hp3ddata_2021-10-04-cell21.hdf5\n",
      "loading /p/lscratchh/yi10/hp3d/2021-09-22-cell3/hp3ddata_2021-09-22-cell3.hdf5\n",
      "loading /p/lscratchh/yi10/hp3d/2021-10-14-cell0/hp3ddata_2021-10-14-cell0.hdf5\n",
      "loading /p/lscratchh/yi10/hp3d/2021-10-14-cell17/hp3ddata_2021-10-14-cell17.hdf5\n",
      "loading /p/lscratchh/yi10/hp3d/2021-10-01-cell4/hp3ddata_2021-10-01-cell4.hdf5\n",
      "loading /p/lscratchh/yi10/hp3d/2021-09-24-cell17/hp3ddata_2021-09-24-cell17.hdf5\n",
      "loading /p/lscratchh/yi10/hp3d/2021-10-14-cell13/hp3ddata_2021-10-14-cell13.hdf5\n",
      "loading /p/lscratchh/yi10/hp3d/2021-10-08-cell12/hp3ddata_2021-10-08-cell12.hdf5\n",
      "loading /p/lscratchh/yi10/hp3d/2021-09-24-cell19/hp3ddata_2021-09-24-cell19.hdf5\n",
      "loading /p/lscratchh/yi10/hp3d/2021-09-24-cell13/hp3ddata_2021-09-24-cell13.hdf5\n",
      "loading /p/lscratchh/yi10/hp3d/2021-10-01-cell0/hp3ddata_2021-10-01-cell0.hdf5\n",
      "loading /p/lscratchh/yi10/hp3d/2021-09-22-cell7/hp3ddata_2021-09-22-cell7.hdf5\n",
      "loading /p/lscratchh/yi10/hp3d/2021-09-24-cell8/hp3ddata_2021-09-24-cell8.hdf5\n",
      "loading /p/lscratchh/yi10/hp3d/2021-10-14-cell4/hp3ddata_2021-10-14-cell4.hdf5\n"
     ]
    },
    {
     "name": "stdout",
     "output_type": "stream",
     "text": [
      "loading /p/lscratchh/yi10/hp3d/2021-09-24-cell2/hp3ddata_2021-09-24-cell2.hdf5\n",
      "loading /p/lscratchh/yi10/hp3d/2021-09-27-cell6/hp3ddata_2021-09-27-cell6.hdf5\n",
      "loading /p/lscratchh/yi10/hp3d/2021-10-08-cell1/hp3ddata_2021-10-08-cell1.hdf5\n",
      "loading /p/lscratchh/yi10/hp3d/2021-10-04-cell25/hp3ddata_2021-10-04-cell25.hdf5\n",
      "loading /p/lscratchh/yi10/hp3d/2021-09-30-cell1/hp3ddata_2021-09-30-cell1.hdf5\n",
      "loading /p/lscratchh/yi10/hp3d/2021-09-22-cell25/hp3ddata_2021-09-22-cell25.hdf5\n",
      "loading /p/lscratchh/yi10/hp3d/2021-10-04-cell1/hp3ddata_2021-10-04-cell1.hdf5\n",
      "loading /p/lscratchh/yi10/hp3d/2021-10-04-cell17/hp3ddata_2021-10-04-cell17.hdf5\n",
      "loading /p/lscratchh/yi10/hp3d/2021-09-29-cell5/hp3ddata_2021-09-29-cell5.hdf5\n",
      "loading /p/lscratchh/yi10/hp3d/2021-10-06-cell2/hp3ddata_2021-10-06-cell2.hdf5\n",
      "loading /p/lscratchh/yi10/hp3d/2021-10-04-cell6/hp3ddata_2021-10-04-cell6.hdf5\n",
      "loading /p/lscratchh/yi10/hp3d/2021-09-29-cell8/hp3ddata_2021-09-29-cell8.hdf5\n",
      "loading /p/lscratchh/yi10/hp3d/2021-10-04-cell10/hp3ddata_2021-10-04-cell10.hdf5\n",
      "loading /p/lscratchh/yi10/hp3d/2021-09-29-cell2/hp3ddata_2021-09-29-cell2.hdf5\n",
      "loading /p/lscratchh/yi10/hp3d/2021-10-06-cell5/hp3ddata_2021-10-06-cell5.hdf5\n",
      "loading /p/lscratchh/yi10/hp3d/2021-09-30-cell6/hp3ddata_2021-09-30-cell6.hdf5\n",
      "loading /p/lscratchh/yi10/hp3d/2021-10-04-cell22/hp3ddata_2021-10-04-cell22.hdf5\n",
      "loading /p/lscratchh/yi10/hp3d/2021-10-04-cell28/hp3ddata_2021-10-04-cell28.hdf5\n",
      "loading /p/lscratchh/yi10/hp3d/2021-09-30-cell13/hp3ddata_2021-09-30-cell13.hdf5\n",
      "loading /p/lscratchh/yi10/hp3d/2021-09-27-cell1/hp3ddata_2021-09-27-cell1.hdf5\n",
      "loading /p/lscratchh/yi10/hp3d/2021-10-08-cell6/hp3ddata_2021-10-08-cell6.hdf5\n",
      "loading /p/lscratchh/yi10/hp3d/2021-10-14-cell9/hp3ddata_2021-10-14-cell9.hdf5\n",
      "loading /p/lscratchh/yi10/hp3d/2021-09-24-cell5/hp3ddata_2021-09-24-cell5.hdf5\n",
      "loading /p/lscratchh/yi10/hp3d/2021-10-14-cell3/hp3ddata_2021-10-14-cell3.hdf5\n",
      "loading /p/lscratchh/yi10/hp3d/2021-10-14-cell14/hp3ddata_2021-10-14-cell14.hdf5\n"
     ]
    }
   ],
   "source": [
    "# organize for naive macrophage cells\n",
    "\n",
    "tag=0\n",
    "l=[]\n",
    "for fpath in fpaths_naive_macr:\n",
    "    try:\n",
    "        vs=load_volume_centers_center_shifted(fpath, showplot=False)\n",
    "        l.append(vs)    \n",
    "        tag+=1\n",
    "    except:\n",
    "        pass\n",
    "\n",
    "values_for_naive_macrophage=copy.deepcopy(l)"
   ]
  },
  {
   "cell_type": "code",
   "execution_count": 30,
   "metadata": {
    "scrolled": true
   },
   "outputs": [
    {
     "name": "stdout",
     "output_type": "stream",
     "text": [
      "loading /p/lscratchh/yi10/hp3d/2021-11-04-cell7/hp3ddata_2021-11-04-cell7.hdf5\n",
      "loading /p/lscratchh/yi10/hp3d/2021-10-28-cell3/hp3ddata_2021-10-28-cell3.hdf5\n",
      "loading /p/lscratchh/yi10/hp3d/2021-11-02-cell2/hp3ddata_2021-11-02-cell2.hdf5\n",
      "loading /p/lscratchh/yi10/hp3d/2021-11-11-cell3/hp3ddata_2021-11-11-cell3.hdf5\n",
      "loading /p/lscratchh/yi10/hp3d/2021-11-11-cell9/hp3ddata_2021-11-11-cell9.hdf5\n",
      "loading /p/lscratchh/yi10/hp3d/2021-11-17-cell6/hp3ddata_2021-11-17-cell6.hdf5\n",
      "loading /p/lscratchh/yi10/hp3d/2021-11-09-cell0/hp3ddata_2021-11-09-cell0.hdf5\n",
      "loading /p/lscratchh/yi10/hp3d/2021-11-12-cell7/hp3ddata_2021-11-12-cell7.hdf5\n",
      "loading /p/lscratchh/yi10/hp3d/2021-11-10-cell4/hp3ddata_2021-11-10-cell4.hdf5\n",
      "loading /p/lscratchh/yi10/hp3d/2021-11-09-cell12/hp3ddata_2021-11-09-cell12.hdf5\n",
      "loading /p/lscratchh/yi10/hp3d/2021-11-11-cell10/hp3ddata_2021-11-11-cell10.hdf5\n",
      "loading /p/lscratchh/yi10/hp3d/2021-11-04-cell12/hp3ddata_2021-11-04-cell12.hdf5\n",
      "loading /p/lscratchh/yi10/hp3d/2021-11-05-cell0/hp3ddata_2021-11-05-cell0.hdf5\n",
      "loading /p/lscratchh/yi10/hp3d/2021-10-29-cell4/hp3ddata_2021-10-29-cell4.hdf5\n",
      "loading /p/lscratchh/yi10/hp3d/2021-11-05-cell7/hp3ddata_2021-11-05-cell7.hdf5\n",
      "loading /p/lscratchh/yi10/hp3d/2021-10-29-cell3/hp3ddata_2021-10-29-cell3.hdf5\n",
      "loading /p/lscratchh/yi10/hp3d/2021-11-12-cell0/hp3ddata_2021-11-12-cell0.hdf5\n",
      "loading /p/lscratchh/yi10/hp3d/2021-11-10-cell9/hp3ddata_2021-11-10-cell9.hdf5\n",
      "loading /p/lscratchh/yi10/hp3d/2021-11-10-cell3/hp3ddata_2021-11-10-cell3.hdf5\n",
      "loading /p/lscratchh/yi10/hp3d/2021-11-17-cell1/hp3ddata_2021-11-17-cell1.hdf5\n",
      "loading /p/lscratchh/yi10/hp3d/2021-11-11-cell4/hp3ddata_2021-11-11-cell4.hdf5\n",
      "loading /p/lscratchh/yi10/hp3d/2021-11-10-cell12/hp3ddata_2021-11-10-cell12.hdf5\n",
      "loading /p/lscratchh/yi10/hp3d/2021-11-02-cell5/hp3ddata_2021-11-02-cell5.hdf5\n",
      "loading /p/lscratchh/yi10/hp3d/2021-11-04-cell0/hp3ddata_2021-11-04-cell0.hdf5\n",
      "loading /p/lscratchh/yi10/hp3d/2021-10-28-cell4/hp3ddata_2021-10-28-cell4.hdf5\n",
      "loading /p/lscratchh/yi10/hp3d/2021-11-02-cell1/hp3ddata_2021-11-02-cell1.hdf5\n",
      "loading /p/lscratchh/yi10/hp3d/2021-10-28-cell0/hp3ddata_2021-10-28-cell0.hdf5\n",
      "loading /p/lscratchh/yi10/hp3d/2021-11-17-cell5/hp3ddata_2021-11-17-cell5.hdf5\n",
      "loading /p/lscratchh/yi10/hp3d/2021-11-11-cell0/hp3ddata_2021-11-11-cell0.hdf5\n",
      "loading /p/lscratchh/yi10/hp3d/2021-11-09-cell11/hp3ddata_2021-11-09-cell11.hdf5\n",
      "loading /p/lscratchh/yi10/hp3d/2021-11-10-cell7/hp3ddata_2021-11-10-cell7.hdf5\n",
      "loading /p/lscratchh/yi10/hp3d/2021-11-12-cell4/hp3ddata_2021-11-12-cell4.hdf5\n",
      "loading /p/lscratchh/yi10/hp3d/2021-11-09-cell9/hp3ddata_2021-11-09-cell9.hdf5\n",
      "loading /p/lscratchh/yi10/hp3d/2021-11-09-cell3/hp3ddata_2021-11-09-cell3.hdf5\n",
      "loading /p/lscratchh/yi10/hp3d/2021-11-12-cell11/hp3ddata_2021-11-12-cell11.hdf5\n",
      "loading /p/lscratchh/yi10/hp3d/2021-11-05-cell3/hp3ddata_2021-11-05-cell3.hdf5\n",
      "loading /p/lscratchh/yi10/hp3d/2021-11-04-cell11/hp3ddata_2021-11-04-cell11.hdf5\n",
      "loading /p/lscratchh/yi10/hp3d/2021-11-11-cell13/hp3ddata_2021-11-11-cell13.hdf5\n",
      "loading /p/lscratchh/yi10/hp3d/2021-11-11-cell14/hp3ddata_2021-11-11-cell14.hdf5\n",
      "loading /p/lscratchh/yi10/hp3d/2021-10-29-cell0/hp3ddata_2021-10-29-cell0.hdf5\n",
      "loading /p/lscratchh/yi10/hp3d/2021-11-05-cell4/hp3ddata_2021-11-05-cell4.hdf5\n",
      "loading /p/lscratchh/yi10/hp3d/2021-11-09-cell4/hp3ddata_2021-11-09-cell4.hdf5\n",
      "loading /p/lscratchh/yi10/hp3d/2021-11-12-cell9/hp3ddata_2021-11-12-cell9.hdf5\n",
      "loading /p/lscratchh/yi10/hp3d/2021-11-10-cell0/hp3ddata_2021-11-10-cell0.hdf5\n",
      "loading /p/lscratchh/yi10/hp3d/2021-11-12-cell3/hp3ddata_2021-11-12-cell3.hdf5\n",
      "loading /p/lscratchh/yi10/hp3d/2021-11-10-cell11/hp3ddata_2021-11-10-cell11.hdf5\n",
      "loading /p/lscratchh/yi10/hp3d/2021-11-17-cell10/hp3ddata_2021-11-17-cell10.hdf5\n",
      "loading /p/lscratchh/yi10/hp3d/2021-11-11-cell7/hp3ddata_2021-11-11-cell7.hdf5\n",
      "loading /p/lscratchh/yi10/hp3d/2021-11-17-cell8/hp3ddata_2021-11-17-cell8.hdf5\n",
      "loading /p/lscratchh/yi10/hp3d/2021-11-04-cell9/hp3ddata_2021-11-04-cell9.hdf5\n",
      "loading /p/lscratchh/yi10/hp3d/2021-11-04-cell3/hp3ddata_2021-11-04-cell3.hdf5\n",
      "loading /p/lscratchh/yi10/hp3d/2021-11-17-cell0/hp3ddata_2021-11-17-cell0.hdf5\n",
      "loading /p/lscratchh/yi10/hp3d/2021-11-10-cell13/hp3ddata_2021-11-10-cell13.hdf5\n",
      "loading /p/lscratchh/yi10/hp3d/2021-11-17-cell12/hp3ddata_2021-11-17-cell12.hdf5\n",
      "loading /p/lscratchh/yi10/hp3d/2021-11-02-cell4/hp3ddata_2021-11-02-cell4.hdf5\n",
      "loading /p/lscratchh/yi10/hp3d/2021-11-04-cell1/hp3ddata_2021-11-04-cell1.hdf5\n",
      "loading /p/lscratchh/yi10/hp3d/2021-10-29-cell2/hp3ddata_2021-10-29-cell2.hdf5\n",
      "loading /p/lscratchh/yi10/hp3d/2021-11-05-cell6/hp3ddata_2021-11-05-cell6.hdf5\n",
      "loading /p/lscratchh/yi10/hp3d/2021-11-11-cell16/hp3ddata_2021-11-11-cell16.hdf5\n",
      "loading /p/lscratchh/yi10/hp3d/2021-11-10-cell2/hp3ddata_2021-11-10-cell2.hdf5\n",
      "loading /p/lscratchh/yi10/hp3d/2021-11-10-cell8/hp3ddata_2021-11-10-cell8.hdf5\n",
      "loading /p/lscratchh/yi10/hp3d/2021-11-12-cell1/hp3ddata_2021-11-12-cell1.hdf5\n",
      "loading /p/lscratchh/yi10/hp3d/2021-11-09-cell6/hp3ddata_2021-11-09-cell6.hdf5\n",
      "loading /p/lscratchh/yi10/hp3d/2021-11-09-cell1/hp3ddata_2021-11-09-cell1.hdf5\n",
      "loading /p/lscratchh/yi10/hp3d/2021-11-09-cell13/hp3ddata_2021-11-09-cell13.hdf5\n",
      "loading /p/lscratchh/yi10/hp3d/2021-11-10-cell5/hp3ddata_2021-11-10-cell5.hdf5\n",
      "loading /p/lscratchh/yi10/hp3d/2021-11-11-cell11/hp3ddata_2021-11-11-cell11.hdf5\n",
      "loading /p/lscratchh/yi10/hp3d/2021-10-29-cell5/hp3ddata_2021-10-29-cell5.hdf5\n",
      "loading /p/lscratchh/yi10/hp3d/2021-11-05-cell1/hp3ddata_2021-11-05-cell1.hdf5\n",
      "loading /p/lscratchh/yi10/hp3d/2021-11-04-cell13/hp3ddata_2021-11-04-cell13.hdf5\n",
      "loading /p/lscratchh/yi10/hp3d/2021-10-28-cell2/hp3ddata_2021-10-28-cell2.hdf5\n",
      "loading /p/lscratchh/yi10/hp3d/2021-11-02-cell3/hp3ddata_2021-11-02-cell3.hdf5\n",
      "loading /p/lscratchh/yi10/hp3d/2021-11-11-cell8/hp3ddata_2021-11-11-cell8.hdf5\n",
      "loading /p/lscratchh/yi10/hp3d/2021-11-11-cell2/hp3ddata_2021-11-11-cell2.hdf5\n",
      "loading /p/lscratchh/yi10/hp3d/2021-11-17-cell7/hp3ddata_2021-11-17-cell7.hdf5\n",
      "loading /p/lscratchh/yi10/hp3d/2021-11-11-cell6/hp3ddata_2021-11-11-cell6.hdf5\n",
      "loading /p/lscratchh/yi10/hp3d/2021-11-17-cell11/hp3ddata_2021-11-17-cell11.hdf5\n",
      "loading /p/lscratchh/yi10/hp3d/2021-11-10-cell10/hp3ddata_2021-11-10-cell10.hdf5\n",
      "loading /p/lscratchh/yi10/hp3d/2021-11-17-cell9/hp3ddata_2021-11-17-cell9.hdf5\n",
      "loading /p/lscratchh/yi10/hp3d/2021-11-17-cell3/hp3ddata_2021-11-17-cell3.hdf5\n",
      "loading /p/lscratchh/yi10/hp3d/2021-11-04-cell8/hp3ddata_2021-11-04-cell8.hdf5\n",
      "loading /p/lscratchh/yi10/hp3d/2021-11-11-cell15/hp3ddata_2021-11-11-cell15.hdf5\n",
      "loading /p/lscratchh/yi10/hp3d/2021-11-05-cell5/hp3ddata_2021-11-05-cell5.hdf5\n",
      "loading /p/lscratchh/yi10/hp3d/2021-10-29-cell1/hp3ddata_2021-10-29-cell1.hdf5\n",
      "loading /p/lscratchh/yi10/hp3d/2021-11-09-cell5/hp3ddata_2021-11-09-cell5.hdf5\n",
      "loading /p/lscratchh/yi10/hp3d/2021-11-10-cell1/hp3ddata_2021-11-10-cell1.hdf5\n",
      "loading /p/lscratchh/yi10/hp3d/2021-11-12-cell8/hp3ddata_2021-11-12-cell8.hdf5\n",
      "loading /p/lscratchh/yi10/hp3d/2021-11-12-cell5/hp3ddata_2021-11-12-cell5.hdf5\n",
      "loading /p/lscratchh/yi10/hp3d/2021-11-10-cell6/hp3ddata_2021-11-10-cell6.hdf5\n",
      "loading /p/lscratchh/yi10/hp3d/2021-11-09-cell10/hp3ddata_2021-11-09-cell10.hdf5\n",
      "loading /p/lscratchh/yi10/hp3d/2021-11-09-cell2/hp3ddata_2021-11-09-cell2.hdf5\n",
      "loading /p/lscratchh/yi10/hp3d/2021-11-12-cell10/hp3ddata_2021-11-12-cell10.hdf5\n",
      "loading /p/lscratchh/yi10/hp3d/2021-11-09-cell8/hp3ddata_2021-11-09-cell8.hdf5\n",
      "loading /p/lscratchh/yi10/hp3d/2021-11-04-cell10/hp3ddata_2021-11-04-cell10.hdf5\n",
      "loading /p/lscratchh/yi10/hp3d/2021-11-05-cell2/hp3ddata_2021-11-05-cell2.hdf5\n",
      "loading /p/lscratchh/yi10/hp3d/2021-11-11-cell12/hp3ddata_2021-11-11-cell12.hdf5\n",
      "loading /p/lscratchh/yi10/hp3d/2021-11-02-cell0/hp3ddata_2021-11-02-cell0.hdf5\n",
      "loading /p/lscratchh/yi10/hp3d/2021-11-04-cell5/hp3ddata_2021-11-04-cell5.hdf5\n",
      "loading /p/lscratchh/yi10/hp3d/2021-10-28-cell1/hp3ddata_2021-10-28-cell1.hdf5\n",
      "loading /p/lscratchh/yi10/hp3d/2021-11-17-cell4/hp3ddata_2021-11-17-cell4.hdf5\n",
      "loading /p/lscratchh/yi10/hp3d/2021-11-11-cell1/hp3ddata_2021-11-11-cell1.hdf5\n"
     ]
    }
   ],
   "source": [
    "# organize for infected macrophage cells\n",
    "tag=0\n",
    "l=[];\n",
    "for fpath in fpaths_Lg_macr_cl:\n",
    "    try:\n",
    "        vs=load_volume_centers_center_shifted(fpath, showplot=False)\n",
    "        l.append(vs)    \n",
    "        tag+=1\n",
    "    except:\n",
    "        pass\n",
    "values_for_Lg_macrophage=copy.deepcopy(l)"
   ]
  },
  {
   "cell_type": "code",
   "execution_count": 31,
   "metadata": {},
   "outputs": [],
   "source": [
    "# simplify variables\n",
    "v1 = values_for_naive_macrophage\n",
    "v2 = values_for_Lg_macrophage"
   ]
  },
  {
   "cell_type": "code",
   "execution_count": 32,
   "metadata": {},
   "outputs": [
    {
     "data": {
      "text/plain": [
       "(131, 50, 3)"
      ]
     },
     "execution_count": 32,
     "metadata": {},
     "output_type": "execute_result"
    }
   ],
   "source": [
    "np.asarray(v1).shape"
   ]
  },
  {
   "cell_type": "code",
   "execution_count": 33,
   "metadata": {},
   "outputs": [
    {
     "data": {
      "text/plain": [
       "(101, 50, 3)"
      ]
     },
     "execution_count": 33,
     "metadata": {},
     "output_type": "execute_result"
    }
   ],
   "source": [
    "np.asarray(v2).shape"
   ]
  },
  {
   "cell_type": "markdown",
   "metadata": {},
   "source": [
    "# 6. Get mean square displacement as compared to the starting point"
   ]
  },
  {
   "cell_type": "code",
   "execution_count": 34,
   "metadata": {},
   "outputs": [],
   "source": [
    "# try to get mean square displacement\n",
    "MSD_naive = []\n",
    "MSD_infec = []\n",
    "\n",
    "MSD_naive_std = []\n",
    "MSD_infec_std = []\n",
    "\n",
    "for ti in np.arange(50):\n",
    "    MSD_naive.append(np.mean(np.asarray(v1)[:,ti,:]**2, axis=0))\n",
    "    MSD_infec.append(np.mean(np.asarray(v2)[:,ti,:]**2, axis=0))\n",
    "    MSD_naive_std.append(np.std(np.asarray(v1)[:,ti,:]**2, axis=0))\n",
    "    MSD_infec_std.append(np.std(np.asarray(v2)[:,ti,:]**2, axis=0))\n",
    "\n",
    "MSD_naive = np.asarray(MSD_naive)\n",
    "MSD_infec = np.asarray(MSD_infec)\n",
    "MSD_naive_SE = np.asarray(np.sum(MSD_naive_std, axis=1))/np.sqrt(131)\n",
    "MSD_infec_SE = np.asarray(np.sum(MSD_infec_std, axis=1))/np.sqrt(101)\n"
   ]
  },
  {
   "cell_type": "markdown",
   "metadata": {},
   "source": [
    "# Plot"
   ]
  },
  {
   "cell_type": "code",
   "execution_count": 35,
   "metadata": {},
   "outputs": [
    {
     "data": {
      "text/plain": [
       "<Figure size 288x288 with 0 Axes>"
      ]
     },
     "execution_count": 35,
     "metadata": {},
     "output_type": "execute_result"
    },
    {
     "data": {
      "text/plain": [
       "[<matplotlib.lines.Line2D at 0x2aab00b77350>]"
      ]
     },
     "execution_count": 35,
     "metadata": {},
     "output_type": "execute_result"
    },
    {
     "data": {
      "text/plain": [
       "[<matplotlib.lines.Line2D at 0x2aab00b77750>]"
      ]
     },
     "execution_count": 35,
     "metadata": {},
     "output_type": "execute_result"
    },
    {
     "data": {
      "text/plain": [
       "Text(0.5, 1.0, 'MSD - dT curve')"
      ]
     },
     "execution_count": 35,
     "metadata": {},
     "output_type": "execute_result"
    },
    {
     "data": {
      "image/png": "[encoded data removed]",
      "text/plain": [
       "<Figure size 288x288 with 1 Axes>"
      ]
     },
     "metadata": {
      "needs_background": "light"
     },
     "output_type": "display_data"
    }
   ],
   "source": [
    "plt.figure(figsize=(4, 4))\n",
    "\n",
    "msdn = np.sum(MSD_naive, axis=1); # sum over x,y,z dimensions\n",
    "msdi = np.sum(MSD_infec, axis=1); # sum over x,y,z dimensions\n",
    "\n",
    "msdn = msdn/100 # convert unit (1 pixel size is 100 nm, original unit was pixel-width square, convert to um2)\n",
    "msdi = msdi/100 \n",
    "\n",
    "\n",
    "\n",
    "plt.plot(np.arange(50)/49*26, msdn, 'k-', linewidth=3) # total time points=50, average total time course is 26 min\n",
    "plt.plot(np.arange(50)/49*26, msdi, 'r-', linewidth=3) # total time points=50, average total time course is 26 min\n",
    "\n",
    "# y1a=msdn-MSD_naive_SE\n",
    "# y1b=msdn+MSD_naive_SE\n",
    "# plt.fill_between(np.arange(50)/49*26, y1a, y1b, \n",
    "#              color='k',alpha=0.2)\n",
    "\n",
    "# y1a=msdi-MSD_infec_SE\n",
    "# y1b=msdi+MSD_infec_SE\n",
    "# plt.fill_between(np.arange(50)/49*26, y1a, y1b, \n",
    "#              color='r',alpha=0.2)\n",
    "\n",
    "plt.title('MSD - dT curve')"
   ]
  },
  {
   "cell_type": "markdown",
   "metadata": {},
   "source": [
    "# 7. get MSD per trajectory then take the average of MSD"
   ]
  },
  {
   "cell_type": "code",
   "execution_count": 44,
   "metadata": {},
   "outputs": [
    {
     "ename": "IndentationError",
     "evalue": "unindent does not match any outer indentation level (<tokenize>, line 13)",
     "output_type": "error",
     "traceback": [
      "\u001b[0;36m  File \u001b[0;32m\"<tokenize>\"\u001b[0;36m, line \u001b[0;32m13\u001b[0m\n\u001b[0;31m    return msds\u001b[0m\n\u001b[0m    ^\u001b[0m\n\u001b[0;31mIndentationError\u001b[0m\u001b[0;31m:\u001b[0m unindent does not match any outer indentation level\n"
     ]
    }
   ],
   "source": [
    "def get_MSD(traj):\n",
    "    MSD=np.arange(49)*0\n",
    "    for i0 in np.arange(49)+1:\n",
    "        traj1 = traj[:-i0, :]\n",
    "        traj2 = traj[i0:, :]\n",
    "        MSD[i0-1] = np.mean(np.sum((traj2 - traj1)**2,axis=1))/100 # divide by 100 is to convert the unit to um**2. Pixel size was 100 nm.\n",
    "    return MSD\n",
    "\n",
    "def get_indiv_MSDs_for_give_lag(traj,lag):\n",
    "        traj1 = traj[:-i0, :]\n",
    "        traj2 = traj[i0:, :]\n",
    "        msds=np.sum((traj2 - traj1)**2,axis=1)/100 # divide by 100 is to convert the unit to um**2. Pixel size was 100 nm.\n",
    "    return msds\n"
   ]
  },
  {
   "cell_type": "code",
   "execution_count": 37,
   "metadata": {
    "collapsed": true
   },
   "outputs": [
    {
     "name": "stdout",
     "output_type": "stream",
     "text": [
      "naive traj #0\n",
      "naive traj #1\n",
      "naive traj #2\n",
      "naive traj #3\n",
      "naive traj #4\n",
      "naive traj #5\n",
      "naive traj #6\n",
      "naive traj #7\n",
      "naive traj #8\n",
      "naive traj #9\n",
      "naive traj #10\n",
      "naive traj #11\n",
      "naive traj #12\n",
      "naive traj #13\n",
      "naive traj #14\n",
      "naive traj #15\n",
      "naive traj #16\n",
      "naive traj #17\n",
      "naive traj #18\n",
      "naive traj #19\n",
      "naive traj #20\n",
      "naive traj #21\n",
      "naive traj #22\n",
      "naive traj #23\n",
      "naive traj #24\n",
      "naive traj #25\n",
      "naive traj #26\n",
      "naive traj #27\n",
      "naive traj #28\n",
      "naive traj #29\n",
      "naive traj #30\n",
      "naive traj #31\n",
      "naive traj #32\n",
      "naive traj #33\n",
      "naive traj #34\n",
      "naive traj #35\n",
      "naive traj #36\n",
      "naive traj #37\n",
      "naive traj #38\n",
      "naive traj #39\n",
      "naive traj #40\n",
      "naive traj #41\n",
      "naive traj #42\n",
      "naive traj #43\n",
      "naive traj #44\n",
      "naive traj #45\n",
      "naive traj #46\n",
      "naive traj #47\n",
      "naive traj #48\n",
      "naive traj #49\n",
      "naive traj #50\n",
      "naive traj #51\n",
      "naive traj #52\n",
      "naive traj #53\n",
      "naive traj #54\n",
      "naive traj #55\n",
      "naive traj #56\n",
      "naive traj #57\n",
      "naive traj #58\n",
      "naive traj #59\n",
      "naive traj #60\n",
      "naive traj #61\n",
      "naive traj #62\n",
      "naive traj #63\n",
      "naive traj #64\n",
      "naive traj #65\n",
      "naive traj #66\n",
      "naive traj #67\n",
      "naive traj #68\n",
      "naive traj #69\n",
      "naive traj #70\n",
      "naive traj #71\n",
      "naive traj #72\n",
      "naive traj #73\n",
      "naive traj #74\n",
      "naive traj #75\n",
      "naive traj #76\n",
      "naive traj #77\n",
      "naive traj #78\n",
      "naive traj #79\n",
      "naive traj #80\n",
      "naive traj #81\n",
      "naive traj #82\n",
      "naive traj #83\n",
      "naive traj #84\n",
      "naive traj #85\n",
      "naive traj #86\n",
      "naive traj #87\n",
      "naive traj #88\n",
      "naive traj #89\n",
      "naive traj #90\n",
      "naive traj #91\n",
      "naive traj #92\n",
      "naive traj #93\n",
      "naive traj #94\n",
      "naive traj #95\n",
      "naive traj #96\n",
      "naive traj #97\n",
      "naive traj #98\n",
      "naive traj #99\n",
      "naive traj #100\n",
      "naive traj #101\n",
      "naive traj #102\n",
      "naive traj #103\n",
      "naive traj #104\n",
      "naive traj #105\n",
      "naive traj #106\n",
      "naive traj #107\n",
      "naive traj #108\n",
      "naive traj #109\n",
      "naive traj #110\n",
      "naive traj #111\n",
      "naive traj #112\n",
      "naive traj #113\n",
      "naive traj #114\n",
      "naive traj #115\n",
      "naive traj #116\n",
      "naive traj #117\n",
      "naive traj #118\n",
      "naive traj #119\n",
      "naive traj #120\n",
      "naive traj #121\n",
      "naive traj #122\n",
      "naive traj #123\n",
      "naive traj #124\n",
      "naive traj #125\n",
      "naive traj #126\n",
      "naive traj #127\n",
      "naive traj #128\n",
      "naive traj #129\n",
      "naive traj #130\n",
      "infected traj #0\n",
      "infected traj #1\n",
      "infected traj #2\n",
      "infected traj #3\n",
      "infected traj #4\n",
      "infected traj #5\n",
      "infected traj #6\n",
      "infected traj #7\n",
      "infected traj #8\n",
      "infected traj #9\n",
      "infected traj #10\n",
      "infected traj #11\n",
      "infected traj #12\n",
      "infected traj #13\n",
      "infected traj #14\n",
      "infected traj #15\n",
      "infected traj #16\n",
      "infected traj #17\n",
      "infected traj #18\n",
      "infected traj #19\n",
      "infected traj #20\n",
      "infected traj #21\n",
      "infected traj #22\n",
      "infected traj #23\n",
      "infected traj #24\n",
      "infected traj #25\n",
      "infected traj #26\n",
      "infected traj #27\n",
      "infected traj #28\n",
      "infected traj #29\n",
      "infected traj #30\n",
      "infected traj #31\n",
      "infected traj #32\n",
      "infected traj #33\n",
      "infected traj #34\n",
      "infected traj #35\n",
      "infected traj #36\n",
      "infected traj #37\n",
      "infected traj #38\n",
      "infected traj #39\n",
      "infected traj #40\n",
      "infected traj #41\n",
      "infected traj #42\n",
      "infected traj #43\n",
      "infected traj #44\n",
      "infected traj #45\n",
      "infected traj #46\n",
      "infected traj #47\n",
      "infected traj #48\n",
      "infected traj #49\n",
      "infected traj #50\n",
      "infected traj #51\n",
      "infected traj #52\n",
      "infected traj #53\n",
      "infected traj #54\n",
      "infected traj #55\n",
      "infected traj #56\n",
      "infected traj #57\n",
      "infected traj #58\n",
      "infected traj #59\n",
      "infected traj #60\n",
      "infected traj #61\n",
      "infected traj #62\n",
      "infected traj #63\n",
      "infected traj #64\n",
      "infected traj #65\n",
      "infected traj #66\n",
      "infected traj #67\n",
      "infected traj #68\n",
      "infected traj #69\n",
      "infected traj #70\n",
      "infected traj #71\n",
      "infected traj #72\n",
      "infected traj #73\n",
      "infected traj #74\n",
      "infected traj #75\n",
      "infected traj #76\n",
      "infected traj #77\n",
      "infected traj #78\n",
      "infected traj #79\n",
      "infected traj #80\n",
      "infected traj #81\n",
      "infected traj #82\n",
      "infected traj #83\n",
      "infected traj #84\n",
      "infected traj #85\n",
      "infected traj #86\n",
      "infected traj #87\n",
      "infected traj #88\n",
      "infected traj #89\n",
      "infected traj #90\n",
      "infected traj #91\n",
      "infected traj #92\n",
      "infected traj #93\n",
      "infected traj #94\n",
      "infected traj #95\n",
      "infected traj #96\n",
      "infected traj #97\n",
      "infected traj #98\n",
      "infected traj #99\n",
      "infected traj #100\n"
     ]
    }
   ],
   "source": [
    "MSDs_naive=[]\n",
    "MSDs_infec=[]\n",
    "for ti in np.arange(131):\n",
    "    print('naive traj #' +str(ti))\n",
    "    MSDs_naive.append(get_MSD(np.asarray(v1)[ti,:,:]))\n",
    "\n",
    "for ti in np.arange(101):\n",
    "    print('infected traj #' +str(ti))\n",
    "    MSDs_infec.append(get_MSD(np.asarray(v2)[ti,:,:]))\n"
   ]
  },
  {
   "cell_type": "code",
   "execution_count": 38,
   "metadata": {},
   "outputs": [],
   "source": [
    "MSDs_naive=np.asarray(MSDs_naive)\n",
    "MSDs_infec=np.asarray(MSDs_infec)\n"
   ]
  },
  {
   "cell_type": "code",
   "execution_count": 39,
   "metadata": {},
   "outputs": [
    {
     "data": {
      "text/plain": [
       "(131, 49)"
      ]
     },
     "execution_count": 39,
     "metadata": {},
     "output_type": "execute_result"
    }
   ],
   "source": [
    "MSDs_naive.shape"
   ]
  },
  {
   "cell_type": "code",
   "execution_count": 40,
   "metadata": {},
   "outputs": [
    {
     "data": {
      "text/plain": [
       "(101, 49)"
      ]
     },
     "execution_count": 40,
     "metadata": {},
     "output_type": "execute_result"
    }
   ],
   "source": [
    "MSDs_infec.shape\n"
   ]
  },
  {
   "cell_type": "code",
   "execution_count": 41,
   "metadata": {},
   "outputs": [],
   "source": [
    "t=np.arange(50)/49*26\n",
    "y1=np.zeros(50)\n",
    "y1[1:]=np.mean(MSDs_naive,axis=0)\n",
    "\n",
    "std1=np.zeros(50)\n",
    "std1[1:]=np.std(MSDs_naive,axis=0)/np.sqrt(131)\n",
    "y1a=y1-std1\n",
    "y1b=y1+std1\n",
    "\n",
    "y2=np.zeros(50)\n",
    "y2[1:]=np.mean(MSDs_infec,axis=0)\n",
    "std2=np.zeros(50)\n",
    "std2[1:]=np.std(MSDs_infec,axis=0)/np.sqrt(101)\n",
    "y2a=y2-std2\n",
    "y2b=y2+std2\n"
   ]
  },
  {
   "cell_type": "code",
   "execution_count": 42,
   "metadata": {},
   "outputs": [
    {
     "data": {
      "text/plain": [
       "<matplotlib.collections.PolyCollection at 0x2aab00bd7690>"
      ]
     },
     "execution_count": 42,
     "metadata": {},
     "output_type": "execute_result"
    },
    {
     "data": {
      "text/plain": [
       "<matplotlib.collections.PolyCollection at 0x2aab00bd7d50>"
      ]
     },
     "execution_count": 42,
     "metadata": {},
     "output_type": "execute_result"
    },
    {
     "data": {
      "text/plain": [
       "[<matplotlib.lines.Line2D at 0x2aab00be3090>]"
      ]
     },
     "execution_count": 42,
     "metadata": {},
     "output_type": "execute_result"
    },
    {
     "data": {
      "text/plain": [
       "[<matplotlib.lines.Line2D at 0x2aab00be33d0>]"
      ]
     },
     "execution_count": 42,
     "metadata": {},
     "output_type": "execute_result"
    },
    {
     "data": {
      "image/png": "[encoded data removed]",
      "text/plain": [
       "<Figure size 288x288 with 1 Axes>"
      ]
     },
     "metadata": {
      "needs_background": "light"
     },
     "output_type": "display_data"
    }
   ],
   "source": [
    "fig=plt.figure(figsize=(4,4))\n",
    "\n",
    "plt.fill_between(t, y1a, y1b, \n",
    "             color='k',alpha=0.2)\n",
    "\n",
    "plt.fill_between(t, y2a, y2b, \n",
    "             color='r',alpha=0.2)\n",
    "\n",
    "plt.plot(t, y2,'r', linewidth=3)\n",
    "plt.plot(t, y1,'k', linewidth=3)\n",
    "\n",
    "fig.savefig('MSD-dT.png',dpi=300)"
   ]
  },
  {
   "cell_type": "code",
   "execution_count": 92,
   "metadata": {},
   "outputs": [
    {
     "data": {
      "text/plain": [
       "<matplotlib.collections.PolyCollection at 0x2aab00edb7d0>"
      ]
     },
     "execution_count": 92,
     "metadata": {},
     "output_type": "execute_result"
    },
    {
     "data": {
      "text/plain": [
       "<matplotlib.collections.PolyCollection at 0x2aab00edbe90>"
      ]
     },
     "execution_count": 92,
     "metadata": {},
     "output_type": "execute_result"
    },
    {
     "data": {
      "text/plain": [
       "[<matplotlib.lines.Line2D at 0x2aab00eed290>]"
      ]
     },
     "execution_count": 92,
     "metadata": {},
     "output_type": "execute_result"
    },
    {
     "data": {
      "text/plain": [
       "[<matplotlib.lines.Line2D at 0x2aab00eed590>]"
      ]
     },
     "execution_count": 92,
     "metadata": {},
     "output_type": "execute_result"
    },
    {
     "data": {
      "image/png": "[encoded data removed]",
      "text/plain": [
       "<Figure size 288x288 with 1 Axes>"
      ]
     },
     "metadata": {
      "needs_background": "light"
     },
     "output_type": "display_data"
    }
   ],
   "source": [
    "t=np.arange(50)/49*26\n",
    "y1=np.zeros(50)\n",
    "y1[1:]=np.mean(MSDs_naive,axis=0)\n",
    "\n",
    "std1=np.zeros(50)\n",
    "std1[1:]=np.std(MSDs_naive,axis=0)\n",
    "y1a=y1-std1\n",
    "y1b=y1+std1\n",
    "\n",
    "y2=np.zeros(50)\n",
    "y2[1:]=np.mean(MSDs_infec,axis=0)\n",
    "std2=np.zeros(50)\n",
    "std2[1:]=np.std(MSDs_infec,axis=0)\n",
    "y2a=y2-std2\n",
    "y2b=y2+std2\n",
    "\n",
    "fig=plt.figure(figsize=(4,4))\n",
    "\n",
    "plt.fill_between(t, y1a, y1b, \n",
    "             color='k',alpha=0.2)\n",
    "\n",
    "plt.fill_between(t, y2a, y2b, \n",
    "             color='r',alpha=0.2)\n",
    "\n",
    "plt.plot(t, y2,'r', linewidth=3)\n",
    "plt.plot(t, y1,'k', linewidth=3)\n",
    "\n",
    "fig.savefig('MSD-dT-std-e-range.png',dpi=300)"
   ]
  }
 ],
 "metadata": {
  "kernelspec": {
   "display_name": "llsmvis",
   "language": "python",
   "name": "llsmvis"
  },
  "language_info": {
   "codemirror_mode": {
    "name": "ipython",
    "version": 3
   },
   "file_extension": ".py",
   "mimetype": "text/x-python",
   "name": "python",
   "nbconvert_exporter": "python",
   "pygments_lexer": "ipython3",
   "version": "3.7.9"
  }
 },
 "nbformat": 4,
 "nbformat_minor": 4
}
