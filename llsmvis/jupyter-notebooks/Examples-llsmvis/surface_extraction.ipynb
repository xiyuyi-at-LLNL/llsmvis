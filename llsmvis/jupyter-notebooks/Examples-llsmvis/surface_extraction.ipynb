{
 "cells": [
  {
   "cell_type": "code",
   "execution_count": 21,
   "metadata": {},
   "outputs": [],
   "source": [
    "import numpy as np\n",
    "import vtk\n",
    "from vtk.util import numpy_support\n",
    "import os"
   ]
  },
  {
   "cell_type": "code",
   "execution_count": 22,
   "metadata": {},
   "outputs": [],
   "source": [
    "#get reader to load tiff file\n",
    "reader = vtk.vtkTIFFReader()\n",
    "reader.SetFileName(r'C:\\Users\\miao1\\Data\\focused-fast-scans\\trimmed_stacks\\Trimmed_cell3_Iter_0_ch0_stack0000_3nm_0000000msec_0009286310msecAbs.tif')\n",
    "reader.Update()\n",
    "\n",
    "#extent = reader.GetDataExtent()\n",
    "#dims = [extent[1]-extent[0]+1, extent[3]-extent[2]+1, extent[5]-extent[4]+1]\n",
    "#print('dims', dims)\n",
    "\n",
    "#shape array into dims of volume (currently not used)\n",
    "#pointData = reader.GetOutput().GetPointData()\n",
    "#arrayData = pointData.GetArray(0)\n",
    "#vol = numpy_support.vtk_to_numpy(arrayData)\n",
    "#vol = vol.reshape(dims, order='F')"
   ]
  },
  {
   "cell_type": "code",
   "execution_count": 23,
   "metadata": {},
   "outputs": [
    {
     "name": "stdout",
     "output_type": "stream",
     "text": [
      "Wall time: 4 ms\n"
     ]
    }
   ],
   "source": [
    "%%time\n",
    "#use a threshold to create a binary mask\n",
    "th = 600\n",
    "thf = vtk.vtkImageThreshold()\n",
    "thf.SetInputConnection(reader.GetOutputPort())\n",
    "thf.ThresholdByLower(th)\n",
    "thf.ReplaceInOn()\n",
    "thf.SetInValue(0)  # values below th -> 0\n",
    "thf.ReplaceOutOn()\n",
    "thf.SetOutValue(1)  # values above th -> 0\n",
    "thf.Update()"
   ]
  },
  {
   "cell_type": "code",
   "execution_count": 24,
   "metadata": {},
   "outputs": [],
   "source": [
    "#smooth the mask. sub 4 voxel is likely noise\n",
    "\n",
    "c = vtk.vtkImageOpenClose3D()\n",
    "c.SetInputConnection(thf.GetOutputPort())\n",
    "c.SetOpenValue(0)\n",
    "c.SetCloseValue(1)\n",
    "c.SetKernelSize(3,3,3)\n",
    "c.Update()\n",
    "\n",
    "o = vtk.vtkImageOpenClose3D()\n",
    "o.SetInputConnection(c.GetOutputPort())\n",
    "o.SetOpenValue(1)\n",
    "o.SetCloseValue(0)\n",
    "o.SetKernelSize(3,3,3)\n",
    "o.Update()"
   ]
  },
  {
   "cell_type": "code",
   "execution_count": 25,
   "metadata": {},
   "outputs": [],
   "source": [
    "#extract surface using marching cubes\n",
    "mc = vtk.vtkDiscreteMarchingCubes()\n",
    "mc.SetInputConnection(o.GetOutputPort())\n",
    "mc.GenerateValues(1, 1, 1)\n",
    "mc.Update()"
   ]
  },
  {
   "cell_type": "code",
   "execution_count": 26,
   "metadata": {},
   "outputs": [],
   "source": [
    "writer = vtk.vtkTIFFWriter()\n",
    "writer.SetInputConnection(o.GetOutputPort())\n",
    "writer.SetFileName(\"cell_th.tif\")\n",
    "writer.Write()"
   ]
  },
  {
   "cell_type": "code",
   "execution_count": 27,
   "metadata": {},
   "outputs": [],
   "source": [
    "#We only want the largest connected component\n",
    "con = vtk.vtkPolyDataConnectivityFilter()\n",
    "con.SetInputData(mc.GetOutput())\n",
    "con.SetExtractionModeToLargestRegion()\n",
    "con.Update()"
   ]
  },
  {
   "cell_type": "code",
   "execution_count": 28,
   "metadata": {},
   "outputs": [
    {
     "name": "stdout",
     "output_type": "stream",
     "text": [
      "smoothing...\n",
      "Wall time: 161 ms\n"
     ]
    }
   ],
   "source": [
    "%%time\n",
    "#use laplacian filter to smooth surface\n",
    "s = 10\n",
    "r = 0.1\n",
    "smooth = vtk.vtkSmoothPolyDataFilter()\n",
    "\n",
    "if(s > 0):\n",
    "    print(\"smoothing...\")\n",
    "    smooth.SetNumberOfIterations(s)\n",
    "    smooth.SetInputData(con.GetOutput())\n",
    "    smooth.SetRelaxationFactor(r)\n",
    "    smooth.Update()"
   ]
  },
  {
   "cell_type": "code",
   "execution_count": 29,
   "metadata": {},
   "outputs": [
    {
     "data": {
      "text/plain": [
       "1"
      ]
     },
     "execution_count": 29,
     "metadata": {},
     "output_type": "execute_result"
    }
   ],
   "source": [
    "#save smoothed surface as stl\n",
    "writer = vtk.vtkSTLWriter()\n",
    "writer.SetInputConnection(smooth.GetOutputPort())\n",
    "writer.SetFileTypeToBinary()\n",
    "out = \"cell_{}_{}.stl\".format(th,s)\n",
    "writer.SetFileName(out)\n",
    "writer.Write()"
   ]
  },
  {
   "cell_type": "code",
   "execution_count": 30,
   "metadata": {},
   "outputs": [
    {
     "name": "stdout",
     "output_type": "stream",
     "text": [
      "surface area 57145.166582487866\n",
      "volume 1025830.9611052148\n"
     ]
    }
   ],
   "source": [
    "properties = vtk.vtkMassProperties()\n",
    "properties.SetInputConnection(smooth.GetOutputPort())\n",
    "print(\"surface area\", properties.GetSurfaceArea())\n",
    "print(\"volume\", properties.GetVolume())"
   ]
  },
  {
   "cell_type": "code",
   "execution_count": 19,
   "metadata": {},
   "outputs": [],
   "source": [
    "pca = vtk.vtkPCAAnalysisFilter()\n",
    "pca.SetInputConnection(smooth.GetOutputPort())\n",
    "pca.Update()"
   ]
  },
  {
   "cell_type": "code",
   "execution_count": 20,
   "metadata": {},
   "outputs": [
    {
     "name": "stdout",
     "output_type": "stream",
     "text": [
      "vtkPCAAnalysisFilter (00000215F535E9D0)\n",
      "  Debug: Off\n",
      "  Modified Time: 102712\n",
      "  Reference Count: 2\n",
      "  Registered Events: (none)\n",
      "  Executive: 00000215F53CCB20\n",
      "  ErrorCode: No error\n",
      "  Information: 00000215F5951A20\n",
      "  AbortExecute: Off\n",
      "  Progress: 0\n",
      "  Progress Text: (None)\n",
      "    Debug: Off\n",
      "    Modified Time: 102689\n",
      "    Reference Count: 1\n",
      "    Registered Events: (none)\n",
      "    Name: (none)\n",
      "    Data type: float\n",
      "    Size: 0\n",
      "    MaxId: -1\n",
      "    NumberOfComponents: 1\n",
      "    Information: 0000000000000000\n",
      "    Name: (none)\n",
      "    Number Of Components: 1\n",
      "    Number Of Tuples: 0\n",
      "    Size: 0\n",
      "    MaxId: -1\n",
      "    LookupTable: (none)\n",
      "\n",
      "\n"
     ]
    }
   ],
   "source": [
    "print(pca)"
   ]
  },
  {
   "cell_type": "code",
   "execution_count": null,
   "metadata": {},
   "outputs": [],
   "source": []
  }
 ],
 "metadata": {
  "kernelspec": {
   "display_name": "Python 3",
   "language": "python",
   "name": "python3"
  },
  "language_info": {
   "codemirror_mode": {
    "name": "ipython",
    "version": 3
   },
   "file_extension": ".py",
   "mimetype": "text/x-python",
   "name": "python",
   "nbconvert_exporter": "python",
   "pygments_lexer": "ipython3",
   "version": "3.8.5"
  }
 },
 "nbformat": 4,
 "nbformat_minor": 4
}
