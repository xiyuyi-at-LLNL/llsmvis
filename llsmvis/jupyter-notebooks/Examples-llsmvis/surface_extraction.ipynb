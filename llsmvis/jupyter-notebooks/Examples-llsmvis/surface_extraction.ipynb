{
 "cells": [
  {
   "cell_type": "code",
   "execution_count": 1,
   "metadata": {},
   "outputs": [],
   "source": [
    "import numpy\n",
    "import vtk\n",
    "from vtk.util import numpy_support\n",
    "import os"
   ]
  },
  {
   "cell_type": "code",
   "execution_count": 2,
   "metadata": {},
   "outputs": [
    {
     "name": "stdout",
     "output_type": "stream",
     "text": [
      "dims [259, 279, 289]\n"
     ]
    }
   ],
   "source": [
    "#get reader to load tiff file\n",
    "reader = vtk.vtkTIFFReader()\n",
    "reader.SetFileName(r'C:\\Users\\miao1\\Data\\focused-fast-scans\\trimmed_stacks\\Trimmed_cell3_Iter_0_ch0_stack0000_3nm_0000000msec_0009286310msecAbs.tif')\n",
    "reader.Update()\n",
    "\n",
    "extent = reader.GetDataExtent()\n",
    "dims = [extent[1]-extent[0]+1, extent[3]-extent[2]+1, extent[5]-extent[4]+1]\n",
    "print('dims', dims)\n",
    "\n",
    "pointData = reader.GetOutput().GetPointData()\n",
    "arrayData = pointData.GetArray(0)\n",
    "vol = numpy_support.vtk_to_numpy(arrayData)\n",
    "vol = vol.reshape(dims, order='F')"
   ]
  },
  {
   "cell_type": "code",
   "execution_count": 23,
   "metadata": {},
   "outputs": [],
   "source": [
    "#let's first generate a binary volume based on a threshold th\n",
    "\n",
    "th = 600\n",
    "threshold = vtk.vtkImageThreshold()\n",
    "threshold.SetInputConnection(reader.GetOutputPort())\n",
    "threshold.ThresholdByLower(th)\n",
    "threshold.ReplaceInOn()\n",
    "threshold.SetInValue(0)  # values below th -> 0\n",
    "threshold.ReplaceOutOn()\n",
    "threshold.SetOutValue(1)  # values above th -> 0\n",
    "threshold.Update()"
   ]
  },
  {
   "cell_type": "code",
   "execution_count": 24,
   "metadata": {},
   "outputs": [
    {
     "name": "stdout",
     "output_type": "stream",
     "text": [
      "Wall time: 475 ms\n"
     ]
    }
   ],
   "source": [
    "%%time\n",
    "mc = vtk.vtkDiscreteMarchingCubes()\n",
    "mc.SetInputConnection(threshold.GetOutputPort())\n",
    "mc.GenerateValues(1, 1, 1)\n",
    "mc.Update()"
   ]
  },
  {
   "cell_type": "code",
   "execution_count": 26,
   "metadata": {},
   "outputs": [],
   "source": [
    "#We only want the largest connected component\n",
    "connectivityFilter = vtk.vtkPolyDataConnectivityFilter()\n",
    "connectivityFilter.SetInputData(mc.GetOutput())\n",
    "connectivityFilter.SetExtractionModeToLargestRegion()\n",
    "connectivityFilter.Update()"
   ]
  },
  {
   "cell_type": "code",
   "execution_count": 42,
   "metadata": {},
   "outputs": [
    {
     "name": "stdout",
     "output_type": "stream",
     "text": [
      "smoothing...\n",
      "Wall time: 1.27 s\n"
     ]
    }
   ],
   "source": [
    "%%time\n",
    "gSmoothingSteps = 30\n",
    "filter = vtk.vtkWindowedSincPolyDataFilter()\n",
    "\n",
    "if(gSmoothingSteps > 0):\n",
    "    print(\"smoothing...\")\n",
    "    filter.SetNumberOfIterations(gSmoothingSteps)\n",
    "    filter.SetPassBand(0.1)\n",
    "    filter.SetInputData(connectivityFilter.GetOutput())\n",
    "    filter.Update()\n"
   ]
  },
  {
   "cell_type": "code",
   "execution_count": 41,
   "metadata": {},
   "outputs": [
    {
     "data": {
      "text/plain": [
       "1"
      ]
     },
     "execution_count": 41,
     "metadata": {},
     "output_type": "execute_result"
    }
   ],
   "source": [
    "writer = vtk.vtkSTLWriter()\n",
    "writer.SetInputConnection(filter.GetOutputPort())\n",
    "writer.SetFileTypeToBinary()\n",
    "writer.SetFileName(\"cell_{}.stl\".format(th))\n",
    "writer.Write()"
   ]
  },
  {
   "cell_type": "code",
   "execution_count": 44,
   "metadata": {},
   "outputs": [
    {
     "name": "stdout",
     "output_type": "stream",
     "text": [
      "surface area 110634.10165558863\n",
      "volume 940194.2268488472\n"
     ]
    }
   ],
   "source": [
    "properties = vtk.vtkMassProperties()\n",
    "properties.SetInputConnection(filter.GetOutputPort())\n",
    "print(\"surface area\", properties.GetSurfaceArea())\n",
    "print(\"volume\", properties.GetVolume())"
   ]
  },
  {
   "cell_type": "code",
   "execution_count": null,
   "metadata": {},
   "outputs": [],
   "source": []
  }
 ],
 "metadata": {
  "kernelspec": {
   "display_name": "Python 3",
   "language": "python",
   "name": "python3"
  },
  "language_info": {
   "codemirror_mode": {
    "name": "ipython",
    "version": 3
   },
   "file_extension": ".py",
   "mimetype": "text/x-python",
   "name": "python",
   "nbconvert_exporter": "python",
   "pygments_lexer": "ipython3",
   "version": "3.8.5"
  }
 },
 "nbformat": 4,
 "nbformat_minor": 4
}
