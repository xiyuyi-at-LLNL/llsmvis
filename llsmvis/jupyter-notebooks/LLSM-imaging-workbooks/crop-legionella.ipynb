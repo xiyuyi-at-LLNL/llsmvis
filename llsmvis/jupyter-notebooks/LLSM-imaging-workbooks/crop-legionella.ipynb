{
 "cells": [
  {
   "cell_type": "code",
   "execution_count": null,
   "id": "e11c0c6f",
   "metadata": {},
   "outputs": [],
   "source": [
    "import sys\n",
    "sys.path.append('/g/g92/miao1/Development/llsmvis')\n",
    "sys.path.append('/Users/yi10/Desktop/Research/Software/T-llsmvis/')\n",
    "sys.path.append('/g/g92/yi10')\n",
    "import llsmvis\n",
    "from llsmvis.extensions import hp3d\n",
    "from llsmvis.extensions.hp3d import surface_morphometrics\n",
    "import os\n",
    "from skimage import io\n",
    "import numpy as np\n",
    "import matplotlib.pyplot as plt\n",
    "import copy"
   ]
  },
  {
   "cell_type": "code",
   "execution_count": null,
   "id": "533987d8",
   "metadata": {},
   "outputs": [],
   "source": [
    "# ticket information (the output files from the interactive trimming results, see E1 for details)\n",
    "tpath='/p/lscratchh/yi10/hp3d/CroppingData'\n",
    "thead='2021-10-29-cell3'  \n",
    "tlist=hp3d.croproi3d.get_trimmed_tiff_list(tpath, thead)\n"
   ]
  },
  {
   "cell_type": "code",
   "execution_count": null,
   "id": "f1ff0f2f",
   "metadata": {},
   "outputs": [],
   "source": [
    "# h5fname='/p/lscratchh/yi10/hp3d/2021-10-29-cell3/hp3ddata_2021-10-29-cell3.hdf5'\n",
    "\n",
    "hp3ddata_path='/p/lscratchh/yi10/hp3d/'+thead\n",
    "d=hp3d.hp3ddata.HP3Ddata(fpath=hp3ddata_path,dfnamehead='hp3ddata_'+thead,initialize=False,verbose=False)\n"
   ]
  },
  {
   "cell_type": "code",
   "execution_count": null,
   "id": "82ccec49",
   "metadata": {},
   "outputs": [],
   "source": [
    "lginds=[np.nan]*50\n",
    "lgs=[0]*50\n"
   ]
  },
  {
   "cell_type": "code",
   "execution_count": null,
   "id": "cfcae3fb",
   "metadata": {},
   "outputs": [],
   "source": [
    "lgs[0]=1458\n",
    "lgs[10]=1270\n",
    "lgs[20]=1070\n",
    "lgs[30]=860\n",
    "lgs[35]=786\n",
    "lgs[45]=700\n",
    "lgs[49]=658\n",
    "lgs[1:10]=np.linspace(lgs[0],lgs[10],9)\n",
    "lgs[11:20]=np.linspace(lgs[10],lgs[20],9)\n",
    "lgs[21:30]=np.linspace(lgs[20],lgs[30],9)\n",
    "lgs[31:35]=np.linspace(lgs[30],lgs[35],4)\n",
    "lgs[36:45]=np.linspace(lgs[35],lgs[45],9)\n",
    "lgs[46:49]=np.linspace(lgs[45],lgs[49],3)\n"
   ]
  },
  {
   "cell_type": "code",
   "execution_count": null,
   "id": "1f2fe817",
   "metadata": {},
   "outputs": [],
   "source": [
    "for tind in np.arange(50):\n",
    "    hs=np.asarray(d.h5f['[G02] voxel value histogram counts/T'+str(tind)])\n",
    "    lbind=np.int(d.h5f['[D7] threshold lower bound index'][tind])\n",
    "    spind=np.int(d.h5f['[D3] threshold saddle point index'][tind])\n",
    "    ubind=np.int(d.h5f['[D5] threshold upper bound index'][tind])\n",
    "    bc=np.asarray(d.h5f['[G01] voxel value bin centers/T'+str(tind)])\n",
    "    plt.plot(bc,(hs+1)**0.01+tind*0.01)\n",
    "    lgind=np.where(bc>=lgs[tind])[0][0]\n",
    "    plt.plot(bc[lbind], (hs[lbind]+1)**0.01+tind*0.01,'ro')\n",
    "    plt.plot(bc[spind], (hs[spind]+1)**0.01+tind*0.01,'bo')\n",
    "    plt.plot(bc[ubind], (hs[ubind]+1)**0.01+tind*0.01,'go')\n",
    "    plt.plot(bc[lgind], (hs[lgind]+1)**0.01+tind*0.01,'mo')"
   ]
  },
  {
   "cell_type": "code",
   "execution_count": null,
   "id": "ac72f7e6",
   "metadata": {},
   "outputs": [],
   "source": [
    "# plot thresholds and profiles\n",
    "for tind in np.arange(50):\n",
    "    lb=d.h5f['[D6] threshold lower bound'][tind]\n",
    "    sp=d.h5f['[D2] threshold saddle point'][tind]\n",
    "    ub=d.h5f['[D4] threshold upper bound'][tind]\n",
    "\n",
    "    lbind=np.int(d.h5f['[D7] threshold lower bound index'][tind])\n",
    "    spind=np.int(d.h5f['[D3] threshold saddle point index'][tind])\n",
    "    ubind=np.int(d.h5f['[D5] threshold upper bound index'][tind])\n",
    "    bc=np.asarray(d.h5f['[G01] voxel value bin centers/T'+str(tind)])\n",
    "    lgind=np.where(bc>=lgs[tind])[0][0]\n",
    "    lg=bc[lgind]\n",
    "\n",
    "    hs=np.asarray(d.h5f['[G02] voxel value histogram counts/T'+str(tind)])\n",
    "    fpath=tlist[tind]\n",
    "    output_dir='/p/lscratchh/yi10/test'\n",
    "    k0=io.imread(fpath)\n",
    "    k=copy.deepcopy(k0)\n",
    "    k[np.where(k<lg)]=0\n",
    "    \n",
    "    # print(bc[lgind])\n",
    "    plt.figure()\n",
    "    plt.imshow(np.max(k,axis=0))\n"
   ]
  },
  {
   "cell_type": "code",
   "execution_count": null,
   "id": "8d9e8c02",
   "metadata": {},
   "outputs": [],
   "source": [
    "surface_smoothing_steps=10\n",
    "output_file = hp3d.surface_morphometrics.extract_surface(lg, fpath=fpath, \n",
    "                                                         output_dir=output_dir, \n",
    "                                                         kernel_size=3, \n",
    "                                                         save_mask=True, \n",
    "                                                         surface_smoothing_steps=surface_smoothing_steps,\n",
    "                                                        largest_connected_component=False,\n",
    "                                                        output_fname='Legionella.stl')"
   ]
  }
 ],
 "metadata": {
  "kernelspec": {
   "display_name": "llsmvis",
   "language": "python",
   "name": "llsmvis"
  },
  "language_info": {
   "codemirror_mode": {
    "name": "ipython",
    "version": 3
   },
   "file_extension": ".py",
   "mimetype": "text/x-python",
   "name": "python",
   "nbconvert_exporter": "python",
   "pygments_lexer": "ipython3",
   "version": "3.7.3"
  }
 },
 "nbformat": 4,
 "nbformat_minor": 5
}
