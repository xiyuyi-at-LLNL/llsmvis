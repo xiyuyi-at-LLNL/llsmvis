{
 "cells": [
  {
   "cell_type": "markdown",
   "metadata": {},
   "source": [
    "# Dataset \n",
    "## 2021-08-29-10x10-tiling\n",
    "\n",
    "This is collagen embedded RAW264.7 cells. (collagen + RAW264.7 cells)\n",
    "\n",
    "go to the data folder on LC\n",
    "\n",
    "`getconda\n",
    "conda activate llsmvis\n",
    "scp /g/g92/yi10/llsmvis/tools/getdsk .\n",
    "chmod u+rwx ./getdsk\n",
    "./getdsk`\n",
    "\n"
   ]
  },
  {
   "cell_type": "code",
   "execution_count": null,
   "metadata": {},
   "outputs": [],
   "source": []
  },
  {
   "cell_type": "code",
   "execution_count": 1,
   "metadata": {},
   "outputs": [],
   "source": [
    "result_folder='/p/lscratchh/yi10/llsm-data/2021-08-30-Collagen-RAW264.7-Tiling-5x5-z20.0/results_dsk'"
   ]
  },
  {
   "cell_type": "code",
   "execution_count": null,
   "metadata": {},
   "outputs": [],
   "source": [
    "import os\n",
    "from skimage import io\n",
    "from matplotlib import pyplot as plt\n",
    "import numpy as np"
   ]
  },
  {
   "cell_type": "code",
   "execution_count": null,
   "metadata": {},
   "outputs": [],
   "source": [
    "# need to write something to tile the XY tiles into a big image."
   ]
  },
  {
   "cell_type": "code",
   "execution_count": null,
   "metadata": {},
   "outputs": [],
   "source": [
    "def stitch_10x10_tiles(xymip_list):\n",
    "    tiled = [];\n",
    "    return tiled\n",
    "\n",
    "def get_paths_to_MIPs_sorted(result_folder):\n",
    "    mipsall=[]\n",
    "    for mipstr in ['MIP_channel0_XY.tif', 'MIP_channel0_XZ.tif', 'MIP_channel0_YZ.tif']:\n",
    "        mips=[]\n",
    "        tile_folders = [f for f in os.listdir(result_folder) if os.path.isfile(os.path.join(result_folder, f, mipstr)) and f.startswith('Tile')]\n",
    "        for i in np.arange(0,len(tile_folders)):\n",
    "            x=[g for g in tile_folders if g.startswith('Tile'+str(i)+'_')]\n",
    "            mips.append(os.path.join(result_folder, x[0], mipstr))\n",
    "        mipsall.append(mips)\n",
    "    return mipsall\n",
    "\n",
    "def plt_5x5_tiles_MIPxy(xyMIPs_paths):\n",
    "    plt.figure(figsize=(15,15))\n",
    "    for xind in np.arange(0,5):\n",
    "        for yind in np.arange(0,5):\n",
    "            ind = yind + xind*5\n",
    "            arr = io.imread(xyMIPs_paths[0][ind])\n",
    "            plt.subplot(5,5,ind+1)\n",
    "            plt.imshow(np.flipud(arr.T))\n",
    "            plt.title('(XY mip) - Tile '+str(ind))\n",
    "            plt.axis('off')\n",
    "\n",
    "def plt_5x5_tiles_MIPs_XZ(MIPs):\n",
    "    plt.figure(figsize=(15,5))\n",
    "    for xind in np.arange(0,5):\n",
    "        for yind in np.arange(0,5):\n",
    "            ind = yind + xind*5\n",
    "            arr = io.imread(MIPs[ind])\n",
    "            plt.subplot(5,5,ind+1)\n",
    "            plt.imshow(np.flipud(arr))\n",
    "            plt.title('(XZ mip) Tile '+str(ind))\n",
    "            plt.axis('off')\n",
    "\n",
    "\n",
    "def plt_5x5_tiles_MIPs_YZ(MIPs):\n",
    "    plt.figure(figsize=(15,5))\n",
    "    for xind in np.arange(0,5):\n",
    "        for yind in np.arange(0,5):\n",
    "            ind = yind + xind*5\n",
    "            arr = io.imread(MIPs[ind])\n",
    "            plt.subplot(5,5,ind+1)\n",
    "            plt.imshow((arr))\n",
    "            plt.title('(YZ mip) Tile '+str(ind))\n",
    "            plt.axis('off')\n",
    "\n",
    "def plot_a_tile(tile_ind,MIPs_all):\n",
    "    plt.figure(figsize=(15,15))\n",
    "    arr1 = io.imread(MIPs_all[0][tile_ind])\n",
    "    arr2 = io.imread(MIPs_all[1][tile_ind])\n",
    "    arr3 = io.imread(MIPs_all[2][tile_ind])\n",
    "    plt.imshow(np.flipud(arr1.T))\n",
    "    plt.title('(XY mip) Tile '+str(tile_ind))\n",
    "    plt.axis('off')\n",
    "    \n",
    "    plt.figure(figsize=(15,5))\n",
    "    plt.subplot(2,1,1)\n",
    "    plt.imshow((arr2))\n",
    "    plt.title('(XZ mip) Tile '+str(tile_ind))\n",
    "    plt.axis('off')\n",
    "    \n",
    "    plt.subplot(2,1,2)\n",
    "    plt.imshow(np.flipud(arr3))\n",
    "    plt.title('(YZ mip) Tile '+str(tile_ind))\n",
    "    plt.axis('off')\n",
    "\n",
    "def plot_two_tile(tile_inda, tile_indb, MIPs_all):\n",
    "    plt.figure(figsize=(15,15))\n",
    "    a1 = io.imread(MIPs_all[0][tile_inda])\n",
    "    a2 = io.imread(MIPs_all[1][tile_inda])\n",
    "    a3 = io.imread(MIPs_all[2][tile_inda])\n",
    "    b1 = io.imread(MIPs_all[0][tile_indb])\n",
    "    b2 = io.imread(MIPs_all[1][tile_indb])\n",
    "    b3 = io.imread(MIPs_all[2][tile_indb])\n",
    "    plt.subplot(1,2,1)\n",
    "    plt.imshow(np.flipud(a1.T))\n",
    "    plt.title('(XY mip) Tile '+str(tile_inda))\n",
    "    plt.axis('off')\n",
    "    plt.subplot(1,2,2)\n",
    "    plt.imshow(np.flipud(b1.T))\n",
    "    plt.title('(XY mip) Tile '+str(tile_indb))\n",
    "    plt.axis('off')\n",
    "    \n",
    "    plt.figure(figsize=(15,5))\n",
    "    plt.subplot(2,1,1)\n",
    "    plt.imshow((a2))\n",
    "    plt.title('(XZ mip) Tile '+str(tile_inda))\n",
    "    plt.axis('off')\n",
    "    plt.subplot(2,1,2)\n",
    "    plt.imshow((b2))\n",
    "    plt.title('(XZ mip) Tile '+str(tile_indb))\n",
    "    plt.axis('off')\n",
    "    \n",
    "    plt.figure(figsize=(15,5))\n",
    "    plt.subplot(2,1,1)\n",
    "    plt.imshow(np.flipud(a3))\n",
    "    plt.title('(YZ mip) Tile '+str(tile_inda))\n",
    "    plt.axis('off')    \n",
    "    plt.subplot(2,1,2)\n",
    "    plt.imshow(np.flipud(b3))\n",
    "    plt.title('(YZ mip) Tile '+str(tile_indb))\n",
    "    plt.axis('off')"
   ]
  },
  {
   "cell_type": "code",
   "execution_count": null,
   "metadata": {},
   "outputs": [],
   "source": [
    "MIPs_paths=get_paths_to_MIPs_sorted(result_folder)"
   ]
  },
  {
   "cell_type": "code",
   "execution_count": null,
   "metadata": {},
   "outputs": [],
   "source": [
    "plt_5x5_tiles_MIPs_YZ(MIPs_paths[2])"
   ]
  },
  {
   "cell_type": "code",
   "execution_count": null,
   "metadata": {},
   "outputs": [],
   "source": [
    "plt_5x5_tiles_MIPs_XZ(MIPs_paths[1])"
   ]
  },
  {
   "cell_type": "code",
   "execution_count": null,
   "metadata": {},
   "outputs": [],
   "source": [
    "\n",
    "plt_5x5_tiles_MIPxy(MIPs_paths)"
   ]
  },
  {
   "cell_type": "code",
   "execution_count": null,
   "metadata": {},
   "outputs": [],
   "source": [
    "plot_a_tile(17,MIPs_paths)"
   ]
  },
  {
   "cell_type": "code",
   "execution_count": null,
   "metadata": {},
   "outputs": [],
   "source": [
    "plot_a_tile(7,8,MIPs_paths)"
   ]
  },
  {
   "cell_type": "code",
   "execution_count": null,
   "metadata": {},
   "outputs": [],
   "source": []
  },
  {
   "cell_type": "code",
   "execution_count": null,
   "metadata": {},
   "outputs": [],
   "source": []
  }
 ],
 "metadata": {
  "kernelspec": {
   "display_name": "llsmvis",
   "language": "python",
   "name": "llsmvis"
  },
  "language_info": {
   "codemirror_mode": {
    "name": "ipython",
    "version": 3
   },
   "file_extension": ".py",
   "mimetype": "text/x-python",
   "name": "python",
   "nbconvert_exporter": "python",
   "pygments_lexer": "ipython3",
   "version": "3.7.4"
  }
 },
 "nbformat": 4,
 "nbformat_minor": 4
}
