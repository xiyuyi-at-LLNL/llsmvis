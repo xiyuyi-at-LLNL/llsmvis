{
 "cells": [
  {
   "cell_type": "code",
   "execution_count": 1,
   "id": "920bc853",
   "metadata": {},
   "outputs": [],
   "source": [
    "import os"
   ]
  },
  {
   "cell_type": "code",
   "execution_count": 3,
   "id": "0f20984f",
   "metadata": {},
   "outputs": [
    {
     "data": {
      "text/plain": [
       "768"
      ]
     },
     "execution_count": 3,
     "metadata": {},
     "output_type": "execute_result"
    }
   ],
   "source": [
    "os.system('/Applications/Houdini/Current/Frameworks/Houdini.framework/Versions/Current/Resources/bin/hbatch \\\n",
    "          render.hipnc -c \\'render -V mantra1\\' -c \\'quit\\';')\n"
   ]
  },
  {
   "cell_type": "code",
   "execution_count": null,
   "id": "4e9e442f",
   "metadata": {},
   "outputs": [],
   "source": []
  }
 ],
 "metadata": {
  "kernelspec": {
   "display_name": "llsmvis",
   "language": "python",
   "name": "llsmvis"
  },
  "language_info": {
   "codemirror_mode": {
    "name": "ipython",
    "version": 3
   },
   "file_extension": ".py",
   "mimetype": "text/x-python",
   "name": "python",
   "nbconvert_exporter": "python",
   "pygments_lexer": "ipython3",
   "version": "3.7.3"
  }
 },
 "nbformat": 4,
 "nbformat_minor": 5
}
